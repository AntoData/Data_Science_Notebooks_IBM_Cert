{
 "cells": [
  {
   "cell_type": "markdown",
   "id": "34a51a0b-16d4-4677-8610-d022ca733faf",
   "metadata": {},
   "source": [
    "# Data Science Methodology"
   ]
  },
  {
   "cell_type": "markdown",
   "id": "3bc14b40-b8bf-4286-945b-f9fb2e9fcbba",
   "metadata": {},
   "source": [
    "##### A practical example\n",
    "__NOTE__: This is an exercise using some real data. Some of the data will not come from real sources but estimated by the author. This is not a real tool to make any decision. <font color='red'>Author is not responsible for the use given to this notebook. It is not a real tool, it is an example of the methodology to follow</font>.\n"
   ]
  },
  {
   "cell_type": "markdown",
   "id": "3974ba41-f491-46ce-ba0f-cd2fb937da16",
   "metadata": {},
   "source": [
    "Self-made practical example of the application of the Data Science\n",
    "Methodology explained in the course in the following course [Data Science Methodology](https://www.coursera.org/learn/data-science-methodology/)"
   ]
  },
  {
   "cell_type": "markdown",
   "id": "ff09d0e6-ddc4-4a05-95d0-13210791c7b9",
   "metadata": {},
   "source": [
    "### 1. Business Understanding"
   ]
  },
  {
   "cell_type": "markdown",
   "id": "800d17e6-32db-4656-a83b-8164397f81f2",
   "metadata": {},
   "source": [
    "__Client__: We are an IT consulting company that takes projects from around the world. However, for legal reasons we only can have teams in the following countries:\n",
    "+ United States\n",
    "+ United Kingdom\n",
    "+ France\n",
    "+ Germany\n",
    "+ India\n",
    "\n",
    "Our volume of projects increases at a very big rate. Our HR teams needs a tool to decide where to base our teams for each project. And also provide those teams with the adecuate equipment (laptop, appropiate OS, plug type...). Usually technology used in the project and budget are key elements to decide where our team will be based for a project.\n",
    "\n",
    "__Data Science Team__: We understand that the deciding factors to make this decision are main programming language used in that project and budget for salary of a developer. That determines which country the team will be baased in. Once the country is decided, the OS for their mobile devices and plugs for the laptops is decided based on the popularity of the OS in that country and the plug type."
   ]
  },
  {
   "cell_type": "markdown",
   "id": "332c40a8-389e-4206-b2b1-76166535e884",
   "metadata": {
    "tags": []
   },
   "source": [
    "### 2. Analytical approach"
   ]
  },
  {
   "cell_type": "markdown",
   "id": "d44014c5-c044-4653-8488-02681284f79d",
   "metadata": {},
   "source": [
    "__Data Science Team__: We can design an algorithm that given the following inputs:\n",
    "1. Programming language\n",
    "2. Budget for developers\n",
    "\n",
    "will select one of the 5 countries in which our teams will be based. The popularity of the programming language in that country and the average salary of a developer. The algorithm will return the country and the highest experience level of developer within that budget (Entry, Junior, Senior).\n",
    "The country will select the OS for their mobile devices based on the popularity of the OS in the country and the plug for their devices."
   ]
  },
  {
   "cell_type": "markdown",
   "id": "9d3f217c-76c7-452d-9919-e7ea1f15d95a",
   "metadata": {},
   "source": [
    "### 3. Data Requirements"
   ]
  },
  {
   "cell_type": "markdown",
   "id": "92519d92-ab49-499b-b775-0fb05318768a",
   "metadata": {},
   "source": [
    "1. For starters we need statistics about the popularity of programming languages in the United States, United Kingdom, France, Germany and India\n",
    "2. We need also statistics about the salaries of developers expert in different technologies in those countries:\n",
    "\n",
    "_Important Note_:<font color='red'> We will estimate some of the salaries when data is not found </font>. This is just an example using as much real data as possible. But it is not a real tool that should be used for these decisions\n",
    "\n",
    "3. Then, we need statistics about the preferred OS in different countries\n",
    "4. Finally, a dataset with the different plug types used in those countries"
   ]
  },
  {
   "cell_type": "markdown",
   "id": "b0167eb9-a152-4068-8204-c1939545a6df",
   "metadata": {
    "tags": []
   },
   "source": [
    "### 4. Data Collection"
   ]
  },
  {
   "cell_type": "markdown",
   "id": "7c0f20d9-6b7e-4008-b625-ccdcd7f1c918",
   "metadata": {},
   "source": [
    "1. Statistics about the popularity of programming languages in the United States, United Kingdom, France, Germany and India\n",
    "+ We will take it from [PYPL PopularitY of Programming Language](https://pypl.github.io/PYPL.html)\n",
    "2. Statistics about the salaries of developers expert in different technologies in those countries:\n",
    "+ We will take it from the site [payscale](https://www.payscale.com/)\n",
    "\n",
    "_Important Note_:<font color='red'> We will estimate some of the salaries when data is not found </font>. This is just an example using as much real data as possible. But it is not a real tool that should be used for these decisions\n",
    "\n",
    "3. Statistics about the preferred OS in different countries\n",
    "+ We can get it from the site [statscounter](https://gs.statcounter.com/os-market-share#monthly-202207-202307)\n",
    "4. Dataset with the different plug types used in those countries\n",
    "+ We can get if from the site of the [International Electrotechnical Commission](https://www.iec.ch/world-plugs)"
   ]
  },
  {
   "cell_type": "markdown",
   "id": "915ee954-d17f-45ef-b0dd-d0d5883fdb0d",
   "metadata": {},
   "source": [
    "### 5. Data Understanding"
   ]
  },
  {
   "cell_type": "markdown",
   "id": "6e956904-7614-47bc-96a9-7e0d8d1cc469",
   "metadata": {},
   "source": [
    "#### Is our data representative?\n",
    "1. Statistics about the popularity of programming languages in the United States, United Kingdom, France, Germany and India from [PYPL PopularitY of Programming Language](https://pypl.github.io/PYPL.html)\n",
    "+ This is the most trusted and quoted survey about popularity and use of programming languages around the world. This will sort our 5 possible countries in order from the one with the biggest share for a certain programming language to the one with the lowest share.\n",
    "\n",
    "2. Statistics about the salaries of developers expert in different technologies in those countries from the site [payscale](https://www.payscale.com/)\n",
    "+ Apart from a couple of positions where we had to estimate, that database offers salaries for all possible positions. We compared some in European countries like France and Germany to real job offers and those estimations matched those real salaries.\n",
    "\n",
    "_Remember_:<font color='red'> We will estimate some of the salaries when data is not found </font>. This is just an example using as much real data as possible. But it is not a real tool that should be used for these decisions\n",
    "\n",
    "3. Statistics about the preferred OS in different countries from the site [statscounter](https://gs.statcounter.com/os-market-share#monthly-202207-202307)\n",
    "+ This is the most complete database about OS use around the world with trusted statistics\n",
    "4. Dataset with the different plug types used in those countries from the site of the [International Electrotechnical Commission](https://www.iec.ch/world-plugs).\n",
    "+ This is an official organisation so the information is completely accurate"
   ]
  },
  {
   "cell_type": "markdown",
   "id": "fac20d83-e522-4804-94a6-d4c3dcecf7e8",
   "metadata": {
    "tags": []
   },
   "source": [
    "### 6. Data preparation"
   ]
  },
  {
   "cell_type": "markdown",
   "id": "94ffae5b-07e8-42bf-abb6-5187cdcf65eb",
   "metadata": {},
   "source": [
    "##### 1. Statistics about the popularity of programming languages in the United States, United Kingdom, France, Germany and India from [PYPL PopularitY of Programming Language](https://pypl.github.io/PYPL.html)"
   ]
  },
  {
   "cell_type": "code",
   "execution_count": 1,
   "id": "6789f0db-c65e-4438-8d29-7ad1c2ef8906",
   "metadata": {
    "tags": []
   },
   "outputs": [
    {
     "name": "stdout",
     "output_type": "stream",
     "text": [
      "    Country       Language  Share\n",
      "0        US         Python  30.72\n",
      "1        US           Java  13.54\n",
      "2        US     JavaScript   8.02\n",
      "3        US              R   7.55\n",
      "4        US          C/C++   5.93\n",
      "..      ...            ...    ...\n",
      "130   India            Lua   0.22\n",
      "131   India  Delphi/Pascal   0.14\n",
      "132   India          Julia   0.14\n",
      "133   India        Haskell   0.10\n",
      "134   India            Ada   0.08\n",
      "\n",
      "[135 rows x 3 columns]\n"
     ]
    }
   ],
   "source": [
    "import pandas as pd\n",
    "pypl_dataframe: pd.DataFrame = pd.read_csv(\"./PYPL.csv\")\n",
    "print(pypl_dataframe)"
   ]
  },
  {
   "cell_type": "markdown",
   "id": "5b63d97e-1c63-4725-9d1c-955ed66524ed",
   "metadata": {
    "tags": []
   },
   "source": [
    "Languages to consider:"
   ]
  },
  {
   "cell_type": "code",
   "execution_count": 2,
   "id": "c613f631-13a1-43ca-ab5e-9838409b5f39",
   "metadata": {
    "tags": []
   },
   "outputs": [
    {
     "name": "stdout",
     "output_type": "stream",
     "text": [
      "['Python', 'Java', 'JavaScript', 'R', 'C/C++', 'C#', 'Swift', 'Rust', 'TypeScript', 'Objective-C', 'Go', 'PHP', 'Matlab', 'Ruby', 'Powershell', 'Kotlin', 'VBA', 'Lua', 'Visual Basic', 'Dart', 'Scala', 'Groovy', 'Julia', 'Haskell', 'Cobol', 'Perl', 'Abap', 'Delphi/Pascal', 'Ada']\n"
     ]
    }
   ],
   "source": [
    "languages_to_select = list(pypl_dataframe[~pypl_dataframe.duplicated('Language')][\"Language\"])\n",
    "print(languages_to_select)"
   ]
  },
  {
   "cell_type": "markdown",
   "id": "72423f4c-7d60-4ef6-b58a-f3cfff4d2c7b",
   "metadata": {},
   "source": [
    "##### 2. Statistics about the salaries of developers expert in different technologies in those countries from the site [payscale](https://www.payscale.com/)"
   ]
  },
  {
   "cell_type": "code",
   "execution_count": 3,
   "id": "a1d11034-480d-4b38-8cda-93e7672d18fb",
   "metadata": {},
   "outputs": [
    {
     "name": "stdout",
     "output_type": "stream",
     "text": [
      "    Country       Language    Entry  Average    Senior\n",
      "0        US         Python  57000.0  81000.0  115000.0\n",
      "1        US           Java  57000.0  83000.0  122000.0\n",
      "2        US     JavaScript  54000.0  76048.0  108000.0\n",
      "3        US              R  52000.0  72000.0  107000.0\n",
      "4        US          C/C++  56000.0  73000.0  135000.0\n",
      "..      ...            ...      ...      ...       ...\n",
      "130   India            Lua      NaN      NaN       NaN\n",
      "131   India  Delphi/Pascal      NaN      NaN       NaN\n",
      "132   India          Julia      NaN      NaN       NaN\n",
      "133   India        Haskell      NaN      NaN       NaN\n",
      "134   India            Ada      NaN      NaN       NaN\n",
      "\n",
      "[135 rows x 5 columns]\n"
     ]
    }
   ],
   "source": [
    "salaries_dollar_dataframe: pd.DataFrame = pd.read_csv(\"salaries_dollars.csv\")\n",
    "print(salaries_dollar_dataframe)"
   ]
  },
  {
   "cell_type": "markdown",
   "id": "23e61353-be20-4efc-aac2-88449bb382b7",
   "metadata": {},
   "source": [
    " ##### 3. Statistics about the preferred OS in different countries from the site [statscounter](https://gs.statcounter.com/os-market-share#monthly-202207-202307)"
   ]
  },
  {
   "cell_type": "code",
   "execution_count": 4,
   "id": "a5510c42-0930-4e9b-b6ac-e6e44d887202",
   "metadata": {
    "tags": []
   },
   "outputs": [
    {
     "name": "stdout",
     "output_type": "stream",
     "text": [
      "    Country         OS     Type  Share\n",
      "0        US    Windows  Desktop  38.07\n",
      "1        US        OSX  Desktop  20.52\n",
      "2        US        iOS   Mobile  19.19\n",
      "3        US    Android   Mobile  14.35\n",
      "4        US  Chrome OS  Desktop   4.11\n",
      "5        UK    Windows  Desktop  30.39\n",
      "6        UK        iOS   Mobile  27.76\n",
      "7        UK    Android   Mobile  26.64\n",
      "8        UK        OSX  Desktop  11.23\n",
      "9        UK  Chrome OS  Desktop   1.96\n",
      "10   France    Android   Mobile  38.90\n",
      "11   France    Windows  Desktop  31.60\n",
      "12   France        iOS   Mobile  19.08\n",
      "13   France        OSX  Desktop   7.07\n",
      "14   France      Linux  Desktop   1.28\n",
      "15  Germany    Windows  Desktop  39.09\n",
      "16  Germany    Android   Mobile  30.40\n",
      "17  Germany        iOS   Mobile  18.79\n",
      "18  Germany        OSX  Desktop   8.15\n",
      "19  Germany      Linux  Desktop   1.49\n",
      "20    India    Android   Mobile  75.98\n",
      "21    India    Windows  Desktop  14.63\n",
      "22    India        iOS   Mobile   3.19\n",
      "23    India      Linux  Desktop   2.85\n",
      "24    India        OSX  Desktop   0.68\n"
     ]
    }
   ],
   "source": [
    "OS_share_dataframe: pd.DataFrame = pd.read_csv(\"./OS_share_countries.csv\")\n",
    "print(OS_share_dataframe)"
   ]
  },
  {
   "cell_type": "markdown",
   "id": "0b5a58ea-54c1-4179-aa7a-68694b3169a6",
   "metadata": {},
   "source": [
    "##### 4. Dataset with the different plug types used in those countries from the site of the [International Electrotechnical Commission](https://www.iec.ch/world-plugs)."
   ]
  },
  {
   "cell_type": "code",
   "execution_count": 5,
   "id": "dd772c86-f214-40cd-a476-8b45c1fe264a",
   "metadata": {
    "tags": []
   },
   "outputs": [
    {
     "name": "stdout",
     "output_type": "stream",
     "text": [
      "   Country Plug Type\n",
      "0       US         A\n",
      "1       US         B\n",
      "2       UK         G\n",
      "3   France         C\n",
      "4   France         E\n",
      "5  Germany         C\n",
      "6  Germany         F\n",
      "7    India         C\n",
      "8    India         D\n",
      "9    India         M\n"
     ]
    }
   ],
   "source": [
    "plug_types_dataset: pd.DataFrame = pd.read_csv(\"plug_types_countries.csv\")\n",
    "print(plug_types_dataset)"
   ]
  },
  {
   "cell_type": "markdown",
   "id": "09f5a726-92f8-415d-8edf-5ffd9f1a7eee",
   "metadata": {},
   "source": [
    "### 7. Modelling"
   ]
  },
  {
   "cell_type": "markdown",
   "id": "ef9c530a-f3c8-4e38-895c-24ff554abaa1",
   "metadata": {},
   "source": [
    "The model works as follows:\n",
    "1. The user provides the following parameters:\n",
    "+ Technology (programming language) desired for the project\n",
    "+ Salary budget (for a developer, in dollars)\n",
    "\n",
    "2. The desired technology will sort the countries that are candidates to hold the team from the one with the highest share of that language to the one with the lowest\n",
    "3. We iterate by country and sort the different salaries depending on the level of experience of developers\n",
    "+ Once we find the first salary that is lower than the budget, we will stop the loop and __that will be the country where the team will be based__\n",
    "\n",
    "4. The country will determine the OS.\n",
    "+ We will select the OS with the highest share for both desktop and mobile devices in that country\n",
    "\n",
    "5. Finally, the country will determine the plug typefor the laptop and devices"
   ]
  },
  {
   "cell_type": "code",
   "execution_count": 6,
   "id": "2944dec5-5a8f-4b11-8d49-1997a76cd615",
   "metadata": {},
   "outputs": [],
   "source": [
    "def team_selection_model(tech_pl: str, salary_budget: int) -> []:\n",
    "    \"\"\"\n",
    "    Returns which country a team should be based in and the OS and plug\n",
    "    types their devices should have\n",
    "    :param tech_pl: Desired programming language the project should use\n",
    "    :type tech_pl: str\n",
    "    :param salary_budget: Budget for the salary of one developer in\n",
    "    dollars\n",
    "    :return: Country where the team should be based, OS and plug type\n",
    "    their devices should have\n",
    "    \"\"\"\n",
    "\n",
    "    # For starters, we have to import the datasets with all the\n",
    "    # information\n",
    "\n",
    "    # Dataframe with the popularity of programming languages by country\n",
    "    pypl_df: pd.DataFrame = pd.read_csv(\"./PYPL.csv\")\n",
    "\n",
    "    # Dataframe with the information about average salaries by\n",
    "    # programming language in different countries depending on\n",
    "    # experience level in dollars\n",
    "    salaries_dollar_df: pd.DataFrame = pd.read_csv(\n",
    "        \"./salaries_dollars.csv\")\n",
    "\n",
    "    # Dataframe with the share of different operating systems (desktop\n",
    "    # and mobile) by country\n",
    "    os_share_df: pd.DataFrame = pd.read_csv(\n",
    "        \"OS_share_countries.csv\")\n",
    "\n",
    "    # Dataframe with the information about the plug types used in\n",
    "    # different countries\n",
    "    plug_types_df: pd.DataFrame = pd.read_csv(\n",
    "        \"./plug_types_countries.csv\")\n",
    "\n",
    "    # First, we filter the dataframe with the information about the\n",
    "    # popularity of a programming language in a certain country\n",
    "    # by the programming language, sort it by the field share (share\n",
    "    # of developers that use that language in that country) and\n",
    "    # convert the result to a list\n",
    "    candidate_countries_sorted: [str] = list(pypl_df[(\n",
    "            pypl_df[\"Language\"] == tech_pl)].sort_values(\n",
    "        by=\"Share\", ascending=False)[\"Country\"])\n",
    "    if len(candidate_countries_sorted) == 0:\n",
    "        raise ValueError(\"The programming language {0} is not in our list\".\n",
    "                         format(tech_pl))\n",
    "    print(\"We will check the countries in the following order: {0}\".\n",
    "          format(candidate_countries_sorted))\n",
    "\n",
    "    # We iterate by country in order of popularity of the desired\n",
    "    # language in that country\n",
    "    team_country: str = \"\"\n",
    "    developer_experience_level: str = \"\"\n",
    "    for country in candidate_countries_sorted:\n",
    "        # We get the salaries of a developer using that programming\n",
    "        # language in that country with all 3 levels of experience\n",
    "        salaries_country_pl: pd.DataFrame = salaries_dollar_df[\n",
    "            (salaries_dollar_df[\"Country\"] == country) &\n",
    "            (salaries_dollar_df[\"Language\"] == tech_pl)]\n",
    "\n",
    "        # Now we create a list with the different levels of experience\n",
    "        # in order from most expensive to cheapest\n",
    "        experience_levels: [str] = [\"Senior\", \"Average\", \"Entry\"]\n",
    "        # And we use them to get the salary for a developer with that\n",
    "        # level of experience that uses the programming language\n",
    "        # given by the user in the country in this iteration\n",
    "        for exp_level in experience_levels:\n",
    "            it_salary: float = salaries_country_pl[exp_level].iloc[0]\n",
    "            # As we are in order from most country with the most number\n",
    "            # of developers that use that programming language and\n",
    "            # from more experienced and therefore more expensive\n",
    "            # developer to less, once we find the first combination of\n",
    "            # country and developer experience that is cheaper than\n",
    "            # our budget, that should be the country where our team\n",
    "            # should be based in and the level of experience of the\n",
    "            # developer\n",
    "            if salary_budget > it_salary:\n",
    "                team_country = country\n",
    "                developer_experience_level = exp_level\n",
    "                print(\"We found the solution: \")\n",
    "                print(\"- The country where the team should be based is: {0}\".\n",
    "                      format(team_country))\n",
    "                print(\"- The level of the developer should be {0}\".format(\n",
    "                    developer_experience_level))\n",
    "                break\n",
    "        else:\n",
    "            continue\n",
    "        break\n",
    "\n",
    "    if developer_experience_level == \"\":\n",
    "        raise ValueError(\"Budget of {0} is not enough to hire a {1} developer \"\n",
    "                         \"in any country\".format(salary_budget, tech_pl))\n",
    "\n",
    "    # At this point we select the OS for desktop and mobile devices that\n",
    "    # are most popular in the country we selected\n",
    "    types_of_devices: [str] = [\"Desktop\", \"Mobile\"]\n",
    "    os_devices: [str] = []\n",
    "    for type_device in types_of_devices:\n",
    "        suggested_os: str = os_share_df[\n",
    "            (os_share_df[\"Country\"] == team_country) &\n",
    "            (os_share_df[\"Type\"] == type_device)].sort_values(\n",
    "            by=\"Share\", ascending=False)[\"OS\"].iloc[0]\n",
    "        os_devices.append(suggested_os)\n",
    "        print(\"- The suggested OS for their {0} devices is {1}\".format(\n",
    "            type_device, suggested_os))\n",
    "\n",
    "    # Finally, we will use the country to select the plug those devices\n",
    "    # should have\n",
    "    plug_types: [str] = list(plug_types_df[(plug_types_df[\"Country\"] ==\n",
    "                                            team_country)][\"Plug Type\"])\n",
    "    print(\"- Plug types should be one of this list: {0}\".format(plug_types))\n",
    "    return team_country, developer_experience_level, os_devices, plug_types"
   ]
  },
  {
   "cell_type": "markdown",
   "id": "23a21d64-b1ed-478e-8131-29d6395e5193",
   "metadata": {},
   "source": [
    "### 8. Evaluation"
   ]
  },
  {
   "cell_type": "markdown",
   "id": "b23023f7-82ce-44d6-ad0e-156d0f3a14e9",
   "metadata": {},
   "source": [
    "##### We are going to look into the datasets and pick 3 test cases to check the information returned is correct"
   ]
  },
  {
   "cell_type": "markdown",
   "id": "027a0030-5b38-42fd-ba57-dde0ac5ad3b4",
   "metadata": {},
   "source": [
    "1. If select __Rust__ as _programming language_ and give a _budget_ of __$30000__, the results should be:\n",
    "+ Country: United Kindgom\n",
    "+ Experience Level: Entry\n",
    "+ OS: Desktop -> Windows, Mobile -> iOS\n",
    "+ Plug types: G"
   ]
  },
  {
   "cell_type": "code",
   "execution_count": 7,
   "id": "4950a000-4ca7-4657-9d6f-453290de5f5a",
   "metadata": {
    "tags": []
   },
   "outputs": [
    {
     "name": "stdout",
     "output_type": "stream",
     "text": [
      "We will check the countries in the following order: ['UK', 'Germany', 'France', 'US', 'India']\n",
      "We found the solution: \n",
      "- The country where the team should be based is: UK\n",
      "- The level of the developer should be Entry\n",
      "- The suggested OS for their Desktop devices is Windows\n",
      "- The suggested OS for their Mobile devices is iOS\n",
      "- Plug types should be one of this list: ['G']\n"
     ]
    },
    {
     "data": {
      "text/plain": [
       "('UK', 'Entry', ['Windows', 'iOS'], ['G'])"
      ]
     },
     "execution_count": 7,
     "metadata": {},
     "output_type": "execute_result"
    }
   ],
   "source": [
    "team_selection_model(\"Rust\", 30000)"
   ]
  },
  {
   "cell_type": "markdown",
   "id": "d09912f3-8206-44a9-af25-6083a5931e77",
   "metadata": {},
   "source": [
    "2. If I select __Swift__ as _programming language_ and give a _budget_ of __$50000__ the results should be:\n",
    "+ Country: France\n",
    "+ Experience Level: Average\n",
    "+ OS: Desktop -> Windows, Mobile -> Android\n",
    "+ Plug types: C, E"
   ]
  },
  {
   "cell_type": "code",
   "execution_count": 8,
   "id": "76c77e10-89fb-4bdf-b8bf-951879d16417",
   "metadata": {
    "tags": []
   },
   "outputs": [
    {
     "name": "stdout",
     "output_type": "stream",
     "text": [
      "We will check the countries in the following order: ['US', 'France', 'UK', 'Germany', 'India']\n",
      "We found the solution: \n",
      "- The country where the team should be based is: France\n",
      "- The level of the developer should be Average\n",
      "- The suggested OS for their Desktop devices is Windows\n",
      "- The suggested OS for their Mobile devices is Android\n",
      "- Plug types should be one of this list: ['C', 'E']\n"
     ]
    },
    {
     "data": {
      "text/plain": [
       "('France', 'Average', ['Windows', 'Android'], ['C', 'E'])"
      ]
     },
     "execution_count": 8,
     "metadata": {},
     "output_type": "execute_result"
    }
   ],
   "source": [
    "team_selection_model(\"Swift\", 50000)"
   ]
  },
  {
   "cell_type": "markdown",
   "id": "38caeb69-feae-43eb-a1f2-364980bb499e",
   "metadata": {},
   "source": [
    "3. If I select __C#__ as _programming language_ and give a _budget_ of __$28000__ the results should be:\n",
    "+ Country: India\n",
    "+ Experience Level: Senior\n",
    "+ OS: Desktop -> Windows, Mobile -> Android\n",
    "+ Plug types: C, D, M"
   ]
  },
  {
   "cell_type": "code",
   "execution_count": 9,
   "id": "5ff08e93-20ad-43f4-8804-a85597c77df6",
   "metadata": {
    "tags": []
   },
   "outputs": [
    {
     "name": "stdout",
     "output_type": "stream",
     "text": [
      "We will check the countries in the following order: ['UK', 'France', 'India', 'US', 'Germany']\n",
      "We found the solution: \n",
      "- The country where the team should be based is: India\n",
      "- The level of the developer should be Senior\n",
      "- The suggested OS for their Desktop devices is Windows\n",
      "- The suggested OS for their Mobile devices is Android\n",
      "- Plug types should be one of this list: ['C', 'D', 'M']\n"
     ]
    },
    {
     "data": {
      "text/plain": [
       "('India', 'Senior', ['Windows', 'Android'], ['C', 'D', 'M'])"
      ]
     },
     "execution_count": 9,
     "metadata": {},
     "output_type": "execute_result"
    }
   ],
   "source": [
    "team_selection_model(\"C#\", 28000)"
   ]
  },
  {
   "cell_type": "markdown",
   "id": "be45425f-5649-4060-a524-c1dabd06fdfc",
   "metadata": {},
   "source": [
    "### 9. Deployment"
   ]
  },
  {
   "cell_type": "markdown",
   "id": "9e4ac14a-1a10-4983-90e6-2ef308035c16",
   "metadata": {},
   "source": [
    "This will be deployed as a notebook where we will ask the HR specialist to provide a desired programming language for the team and a budget for the salary of a developer in dollars.\n",
    "The notebook will be placed in a server where the HR team will have access to it:\n",
    "Let't pretend this is that notebook in the server. We will add a couple of presentation features"
   ]
  },
  {
   "cell_type": "code",
   "execution_count": 10,
   "id": "60a4bfa4-9107-4b06-9361-12721ac97922",
   "metadata": {
    "tags": []
   },
   "outputs": [
    {
     "name": "stdin",
     "output_type": "stream",
     "text": [
      "Which programming language or technology is the project going to be developed in?  Python\n",
      "What is the intended salary for a single developer in dollars?  25000\n"
     ]
    }
   ],
   "source": [
    "desired_programming_language: str = \\\n",
    "    input(\"Which programming language or technology is the project \"\n",
    "          \"going to be developed in? \")\n",
    "budget_developer_salary: int = \\\n",
    "    int(input(\"What is the intended salary for a single developer in \"\n",
    "              \"dollars? \"))"
   ]
  },
  {
   "cell_type": "code",
   "execution_count": 11,
   "id": "7bd2f5aa-8973-4ab3-bf51-7bf325e2d914",
   "metadata": {
    "tags": []
   },
   "outputs": [
    {
     "name": "stdout",
     "output_type": "stream",
     "text": [
      "We will check the countries in the following order: ['France', 'US', 'Germany', 'UK', 'India']\n",
      "We found the solution: \n",
      "- The country where the team should be based is: India\n",
      "- The level of the developer should be Senior\n",
      "- The suggested OS for their Desktop devices is Windows\n",
      "- The suggested OS for their Mobile devices is Android\n",
      "- Plug types should be one of this list: ['C', 'D', 'M']\n"
     ]
    }
   ],
   "source": [
    "choosen_country, selected_experience_level, suggested_os, needed_plug_types \\\n",
    "    = team_selection_model(\n",
    "    desired_programming_language, budget_developer_salary)"
   ]
  },
  {
   "cell_type": "code",
   "execution_count": 12,
   "id": "a7573684-b44d-4798-9f1c-4df2c9b1f503",
   "metadata": {
    "tags": []
   },
   "outputs": [],
   "source": [
    "countries_flags: dict = {\n",
    "    \"US\": \"https://upload.wikimedia.org/wikipedia/commons/a/a9/\"\n",
    "          \"Flag_of_the_United_States_%28DoS_ECA_Color_Standard%29.svg\",\n",
    "    \"UK\": \"https://upload.wikimedia.org/wikipedia/commons/a/a5/\"\n",
    "          \"Flag_of_the_United_Kingdom_%281-2%29.svg\",\n",
    "    \"France\": \"https://upload.wikimedia.org/wikipedia/en/c/c3/\"\n",
    "              \"Flag_of_France.svg\",\n",
    "    \"Germany\": \"https://upload.wikimedia.org/wikipedia/en/b/ba/\"\n",
    "               \"Flag_of_Germany.svg\",\n",
    "    \"India\": \"https://upload.wikimedia.org/wikipedia/en/4/41/\"\n",
    "             \"Flag_of_India.svg\"\n",
    "}\n",
    "desktop_operating_system_icons: dict = {\n",
    "    \"Windows\": \"https://upload.wikimedia.org/wikipedia/commons/e/e2/\"\n",
    "               \"Windows_logo_and_wordmark_-_2021.svg\",\n",
    "    \"OSX\": \"https://upload.wikimedia.org/wikipedia/commons/e/e2/\"\n",
    "           \"Windows_logo_and_wordmark_-_2021.svg\",\n",
    "    \"Linux\": \"https://upload.wikimedia.org/wikipedia/commons/3/35/Tux.svg\",\n",
    "    \"Chrome OS\": \"https://upload.wikimedia.org/wikipedia/commons/e/e1/\"\n",
    "                 \"Google_Chrome_icon_%28February_2022%29.svg\"}\n",
    "mobile_operating_system_icons: dict = {\n",
    "    \"Android\": \"https://upload.wikimedia.org/wikipedia/commons/6/64/\"\n",
    "               \"Android_logo_2019_%28stacked%29.svg\",\n",
    "    \"iOS\": \"https://upload.wikimedia.org/wikipedia/commons/6/63/\"\n",
    "           \"IOS_wordmark_%282017%29.svg\"}\n",
    "plug_type_icons: dict = {\n",
    "    \"A\": \"https://www.iec.ch/themes/custom/iec/images/world-plugs/types/\"\n",
    "         \"A/A-button.png\",\n",
    "    \"B\": \"https://www.iec.ch/themes/custom/iec/images/world-plugs/types/\"\n",
    "         \"B/B-button.png\",\n",
    "    \"C\": \"https://www.iec.ch/themes/custom/iec/images/world-plugs/types/\"\n",
    "         \"C/C-button.png\",\n",
    "    \"D\": \"https://www.iec.ch/themes/custom/iec/images/world-plugs/types/\"\n",
    "         \"D/D-button.png\",\n",
    "    \"E\": \"https://www.iec.ch/themes/custom/iec/images/world-plugs/types/\"\n",
    "         \"E/E-button.png\",\n",
    "    \"F\": \"https://www.iec.ch/themes/custom/iec/images/world-plugs/types/\"\n",
    "         \"F/F-button.png\",\n",
    "    \"G\": \"https://www.iec.ch/themes/custom/iec/images/world-plugs/types/\"\n",
    "         \"G/G-button.png\",\n",
    "    \"H\": \"https://www.iec.ch/themes/custom/iec/images/world-plugs/types/\"\n",
    "         \"H/H-button.png\",\n",
    "    \"I\": \"https://www.iec.ch/themes/custom/iec/images/world-plugs/types/\"\n",
    "         \"I/I-button.png\",\n",
    "    \"J\": \"https://www.iec.ch/themes/custom/iec/images/world-plugs/types/\"\n",
    "         \"J/J-button.png\",\n",
    "    \"K\": \"https://www.iec.ch/themes/custom/iec/images/world-plugs/types/\"\n",
    "         \"K/K-button.png\",\n",
    "    \"L\": \"https://www.iec.ch/themes/custom/iec/images/world-plugs/types/\"\n",
    "         \"L/L-button.png\",\n",
    "    \"M\": \"https://www.iec.ch/themes/custom/iec/images/world-plugs/types/\"\n",
    "         \"M/M-button.png\",\n",
    "    \"N\": \"https://www.iec.ch/themes/custom/iec/images/world-plugs/types/\"\n",
    "         \"N/N-button.png\",\n",
    "    \"O\": \"https://www.iec.ch/themes/custom/iec/images/world-plugs/types/\"\n",
    "         \"O/O-button.png\"\n",
    "}"
   ]
  },
  {
   "cell_type": "code",
   "execution_count": 13,
   "id": "b7764e1d-c4b5-4367-8c7f-a1c31acec8ed",
   "metadata": {},
   "outputs": [],
   "source": [
    "from IPython.display import Markdown as md\n",
    "from IPython.display import Image, display"
   ]
  },
  {
   "cell_type": "code",
   "execution_count": 14,
   "id": "f575a582-9467-4535-89b5-a65614e12b96",
   "metadata": {
    "tags": []
   },
   "outputs": [
    {
     "data": {
      "text/markdown": [
       "#### The team should be based in __India__"
      ],
      "text/plain": [
       "<IPython.core.display.Markdown object>"
      ]
     },
     "execution_count": 14,
     "metadata": {},
     "output_type": "execute_result"
    }
   ],
   "source": [
    "md(\"#### The team should be based in __{0}__\".format(choosen_country))"
   ]
  },
  {
   "cell_type": "code",
   "execution_count": 15,
   "id": "285d45eb-a53c-414c-bbc3-b8a5c5842726",
   "metadata": {
    "tags": []
   },
   "outputs": [
    {
     "data": {
      "text/html": [
       "<img src=\"https://upload.wikimedia.org/wikipedia/en/4/41/Flag_of_India.svg\" width=\"100\" height=\"50\"/>"
      ],
      "text/plain": [
       "<IPython.core.display.Image object>"
      ]
     },
     "execution_count": 15,
     "metadata": {},
     "output_type": "execute_result"
    }
   ],
   "source": [
    "Image(url=countries_flags[choosen_country],  width=100, height=50)"
   ]
  },
  {
   "cell_type": "code",
   "execution_count": 16,
   "id": "5a9ba573-545a-4435-8d61-0bf49628406a",
   "metadata": {
    "tags": []
   },
   "outputs": [
    {
     "data": {
      "text/markdown": [
       "#### Desired experience of developers: __Senior__"
      ],
      "text/plain": [
       "<IPython.core.display.Markdown object>"
      ]
     },
     "execution_count": 16,
     "metadata": {},
     "output_type": "execute_result"
    }
   ],
   "source": [
    "md(\"#### Desired experience of developers: __{0}__\".format(\n",
    "    selected_experience_level))"
   ]
  },
  {
   "cell_type": "code",
   "execution_count": 17,
   "id": "e93d7a16-4ffc-426e-9e5e-864db8b49e17",
   "metadata": {
    "tags": []
   },
   "outputs": [
    {
     "data": {
      "text/markdown": [
       "#### Recommended operating system for desktop devices: __Windows__"
      ],
      "text/plain": [
       "<IPython.core.display.Markdown object>"
      ]
     },
     "execution_count": 17,
     "metadata": {},
     "output_type": "execute_result"
    }
   ],
   "source": [
    "md(\"#### Recommended operating system for desktop devices: __{0}__\".format(\n",
    "    suggested_os[0]))"
   ]
  },
  {
   "cell_type": "code",
   "execution_count": 18,
   "id": "625435c3-dcc7-46f9-ba1a-946ae60cbac2",
   "metadata": {
    "tags": []
   },
   "outputs": [
    {
     "data": {
      "text/html": [
       "<img src=\"https://upload.wikimedia.org/wikipedia/commons/e/e2/Windows_logo_and_wordmark_-_2021.svg\" width=\"200\" height=\"100\"/>"
      ],
      "text/plain": [
       "<IPython.core.display.Image object>"
      ]
     },
     "execution_count": 18,
     "metadata": {},
     "output_type": "execute_result"
    }
   ],
   "source": [
    "Image(url=desktop_operating_system_icons[suggested_os[0]],  width=200, height=100)"
   ]
  },
  {
   "cell_type": "code",
   "execution_count": 19,
   "id": "12af34b2-bb41-4825-9efc-7324c61c08ba",
   "metadata": {
    "tags": []
   },
   "outputs": [
    {
     "data": {
      "text/markdown": [
       "#### Recommended operating system for mobile devices: __Android__"
      ],
      "text/plain": [
       "<IPython.core.display.Markdown object>"
      ]
     },
     "execution_count": 19,
     "metadata": {},
     "output_type": "execute_result"
    }
   ],
   "source": [
    "md(\"#### Recommended operating system for mobile devices: __{0}__\".format(\n",
    "    suggested_os[1]))"
   ]
  },
  {
   "cell_type": "code",
   "execution_count": 20,
   "id": "7d67c20a-761c-41d6-9dfc-c2e8819f2889",
   "metadata": {
    "tags": []
   },
   "outputs": [
    {
     "data": {
      "text/html": [
       "<img src=\"https://upload.wikimedia.org/wikipedia/commons/6/64/Android_logo_2019_%28stacked%29.svg\" width=\"200\" height=\"100\"/>"
      ],
      "text/plain": [
       "<IPython.core.display.Image object>"
      ]
     },
     "execution_count": 20,
     "metadata": {},
     "output_type": "execute_result"
    }
   ],
   "source": [
    "Image(url=mobile_operating_system_icons[suggested_os[1]],  width=200, height=100)"
   ]
  },
  {
   "cell_type": "markdown",
   "id": "7e7d23cd-6066-4951-941f-16b95888db5d",
   "metadata": {
    "tags": []
   },
   "source": [
    "#### Plug type should be one of the following:"
   ]
  },
  {
   "cell_type": "code",
   "execution_count": 21,
   "id": "fe5ec676-a521-40e4-a1fa-65f28ac83d20",
   "metadata": {
    "tags": []
   },
   "outputs": [
    {
     "data": {
      "text/markdown": [
       "#### - __C__"
      ],
      "text/plain": [
       "<IPython.core.display.Markdown object>"
      ]
     },
     "metadata": {},
     "output_type": "display_data"
    },
    {
     "data": {
      "text/html": [
       "<img src=\"https://www.iec.ch/themes/custom/iec/images/world-plugs/types/C/C-button.png\" width=\"50\" height=\"50\"/>"
      ],
      "text/plain": [
       "<IPython.core.display.Image object>"
      ]
     },
     "metadata": {},
     "output_type": "display_data"
    },
    {
     "data": {
      "text/markdown": [
       "#### - __D__"
      ],
      "text/plain": [
       "<IPython.core.display.Markdown object>"
      ]
     },
     "metadata": {},
     "output_type": "display_data"
    },
    {
     "data": {
      "text/html": [
       "<img src=\"https://www.iec.ch/themes/custom/iec/images/world-plugs/types/D/D-button.png\" width=\"50\" height=\"50\"/>"
      ],
      "text/plain": [
       "<IPython.core.display.Image object>"
      ]
     },
     "metadata": {},
     "output_type": "display_data"
    },
    {
     "data": {
      "text/markdown": [
       "#### - __M__"
      ],
      "text/plain": [
       "<IPython.core.display.Markdown object>"
      ]
     },
     "metadata": {},
     "output_type": "display_data"
    },
    {
     "data": {
      "text/html": [
       "<img src=\"https://www.iec.ch/themes/custom/iec/images/world-plugs/types/M/M-button.png\" width=\"50\" height=\"50\"/>"
      ],
      "text/plain": [
       "<IPython.core.display.Image object>"
      ]
     },
     "metadata": {},
     "output_type": "display_data"
    }
   ],
   "source": [
    "for plug_type in needed_plug_types:\n",
    "    display(md(\"#### - __{0}__\".format(plug_type)))\n",
    "    display(Image(url=plug_type_icons[plug_type],  width=50, height=50))"
   ]
  },
  {
   "cell_type": "markdown",
   "id": "f85774c5-ef36-4aba-abfc-d86345861f9e",
   "metadata": {},
   "source": [
    "### 10. Feedback"
   ]
  },
  {
   "cell_type": "markdown",
   "id": "3f91ee09-ec6d-47b0-9bdf-8f6b67adcab3",
   "metadata": {},
   "source": [
    "__Client__; Model is correct and application is useful. However, data has to be updated manually. We need to automate the process to get periodic updates automatically. Also, we need more information about salaries for developers with skills in other technologies"
   ]
  },
  {
   "cell_type": "code",
   "execution_count": null,
   "id": "63edd9fd-42d2-4d40-9d46-af8d5d2e6c4a",
   "metadata": {},
   "outputs": [],
   "source": []
  }
 ],
 "metadata": {
  "kernelspec": {
   "display_name": "Python 3 (ipykernel)",
   "language": "python",
   "name": "python3"
  },
  "language_info": {
   "codemirror_mode": {
    "name": "ipython",
    "version": 3
   },
   "file_extension": ".py",
   "mimetype": "text/x-python",
   "name": "python",
   "nbconvert_exporter": "python",
   "pygments_lexer": "ipython3",
   "version": "3.11.4"
  }
 },
 "nbformat": 4,
 "nbformat_minor": 5
}
