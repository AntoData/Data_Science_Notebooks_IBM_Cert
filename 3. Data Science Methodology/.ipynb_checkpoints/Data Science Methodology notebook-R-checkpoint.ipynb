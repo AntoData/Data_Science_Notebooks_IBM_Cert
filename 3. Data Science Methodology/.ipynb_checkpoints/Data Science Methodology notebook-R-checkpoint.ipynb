{
 "cells": [
  {
   "cell_type": "markdown",
   "id": "34a51a0b-16d4-4677-8610-d022ca733faf",
   "metadata": {},
   "source": [
    "# Data Science Methodology"
   ]
  },
  {
   "cell_type": "markdown",
   "id": "3bc14b40-b8bf-4286-945b-f9fb2e9fcbba",
   "metadata": {},
   "source": [
    "##### A practical example\n",
    "__NOTE__: This is an exercise using some real data. Some of the data will not come from real sources but estimated by the author. This is not a real tool to make any decision. <font color='red'>Author is not responsible for the use given to this notebook. It is not a real tool, it is an example of the methodology to follow</font>.\n"
   ]
  },
  {
   "cell_type": "markdown",
   "id": "3974ba41-f491-46ce-ba0f-cd2fb937da16",
   "metadata": {},
   "source": [
    "Self-made practical example of the application of the Data Science\n",
    "Methodology explained in the course in the following course [Data Science Methodology](https://www.coursera.org/learn/data-science-methodology/)"
   ]
  },
  {
   "cell_type": "markdown",
   "id": "ff09d0e6-ddc4-4a05-95d0-13210791c7b9",
   "metadata": {},
   "source": [
    "### 1. Business Understanding"
   ]
  },
  {
   "cell_type": "markdown",
   "id": "800d17e6-32db-4656-a83b-8164397f81f2",
   "metadata": {},
   "source": [
    "__Client__: We are an IT consulting company that takes projects from around the world. However, for legal reasons we only can have teams in the following countries:\n",
    "+ United States\n",
    "+ United Kingdom\n",
    "+ France\n",
    "+ Germany\n",
    "+ India\n",
    "\n",
    "Our volume of projects increases at a very big rate. Our HR teams needs a tool to decide where to base our teams for each project. And also provide those teams with the adecuate equipment (laptop, appropiate OS, plug type...). Usually technology used in the project and budget are key elements to decide where our team will be based for a project.\n",
    "\n",
    "__Data Science Team__: We understand that the deciding factors to make this decision are main programming language used in that project and budget for salary of a developer. That determines which country the team will be baased in. Once the country is decided, the OS for their mobile devices and plugs for the laptops is decided based on the popularity of the OS in that country and the plug type."
   ]
  },
  {
   "cell_type": "markdown",
   "id": "332c40a8-389e-4206-b2b1-76166535e884",
   "metadata": {
    "tags": []
   },
   "source": [
    "### 2. Analytical approach"
   ]
  },
  {
   "cell_type": "markdown",
   "id": "d44014c5-c044-4653-8488-02681284f79d",
   "metadata": {},
   "source": [
    "__Data Science Team__: We can design an algorithm that given the following inputs:\n",
    "1. Programming language\n",
    "2. Budget for developers\n",
    "\n",
    "will select one of the 5 countries in which our teams will be based. The popularity of the programming language in that country and the average salary of a developer. The algorithm will return the country and the highest experience level of developer within that budget (Entry, Junior, Senior).\n",
    "The country will select the OS for their mobile devices based on the popularity of the OS in the country and the plug for their devices."
   ]
  },
  {
   "cell_type": "markdown",
   "id": "9d3f217c-76c7-452d-9919-e7ea1f15d95a",
   "metadata": {},
   "source": [
    "### 3. Data Requirements"
   ]
  },
  {
   "cell_type": "markdown",
   "id": "92519d92-ab49-499b-b775-0fb05318768a",
   "metadata": {},
   "source": [
    "1. For starters we need statistics about the popularity of programming languages in the United States, United Kingdom, France, Germany and India\n",
    "2. We need also statistics about the salaries of developers expert in different technologies in those countries:\n",
    "\n",
    "_Important Note_:<font color='red'> We will estimate some of the salaries when data is not found </font>. This is just an example using as much real data as possible. But it is not a real tool that should be used for these decisions\n",
    "\n",
    "3. Then, we need statistics about the preferred OS in different countries\n",
    "4. Finally, a dataset with the different plug types used in those countries"
   ]
  },
  {
   "cell_type": "markdown",
   "id": "b0167eb9-a152-4068-8204-c1939545a6df",
   "metadata": {
    "tags": []
   },
   "source": [
    "### 4. Data Collection"
   ]
  },
  {
   "cell_type": "markdown",
   "id": "7c0f20d9-6b7e-4008-b625-ccdcd7f1c918",
   "metadata": {},
   "source": [
    "1. Statistics about the popularity of programming languages in the United States, United Kingdom, France, Germany and India\n",
    "+ We will take it from [PYPL PopularitY of Programming Language](https://pypl.github.io/PYPL.html)\n",
    "2. Statistics about the salaries of developers expert in different technologies in those countries:\n",
    "+ We will take it from the site [payscale](https://www.payscale.com/)\n",
    "\n",
    "_Important Note_:<font color='red'> We will estimate some of the salaries when data is not found </font>. This is just an example using as much real data as possible. But it is not a real tool that should be used for these decisions\n",
    "\n",
    "3. Statistics about the preferred OS in different countries\n",
    "+ We can get it from the site [statscounter](https://gs.statcounter.com/os-market-share#monthly-202207-202307)\n",
    "4. Dataset with the different plug types used in those countries\n",
    "+ We can get if from the site of the [International Electrotechnical Commission](https://www.iec.ch/world-plugs)"
   ]
  },
  {
   "cell_type": "markdown",
   "id": "915ee954-d17f-45ef-b0dd-d0d5883fdb0d",
   "metadata": {},
   "source": [
    "### 5. Data Understanding"
   ]
  },
  {
   "cell_type": "markdown",
   "id": "6e956904-7614-47bc-96a9-7e0d8d1cc469",
   "metadata": {},
   "source": [
    "#### Is our data representative?\n",
    "1. Statistics about the popularity of programming languages in the United States, United Kingdom, France, Germany and India from [PYPL PopularitY of Programming Language](https://pypl.github.io/PYPL.html)\n",
    "+ This is the most trusted and quoted survey about popularity and use of programming languages around the world. This will sort our 5 possible countries in order from the one with the biggest share for a certain programming language to the one with the lowest share.\n",
    "\n",
    "2. Statistics about the salaries of developers expert in different technologies in those countries from the site [payscale](https://www.payscale.com/)\n",
    "+ Apart from a couple of positions where we had to estimate, that database offers salaries for all possible positions. We compared some in European countries like France and Germany to real job offers and those estimations matched those real salaries.\n",
    "\n",
    "_Remember_:<font color='red'> We will estimate some of the salaries when data is not found </font>. This is just an example using as much real data as possible. But it is not a real tool that should be used for these decisions\n",
    "\n",
    "3. Statistics about the preferred OS in different countries from the site [statscounter](https://gs.statcounter.com/os-market-share#monthly-202207-202307)\n",
    "+ This is the most complete database about OS use around the world with trusted statistics\n",
    "4. Dataset with the different plug types used in those countries from the site of the [International Electrotechnical Commission](https://www.iec.ch/world-plugs).\n",
    "+ This is an official organisation so the information is completely accurate"
   ]
  },
  {
   "cell_type": "markdown",
   "id": "fac20d83-e522-4804-94a6-d4c3dcecf7e8",
   "metadata": {
    "tags": []
   },
   "source": [
    "### 6. Data preparation"
   ]
  },
  {
   "cell_type": "markdown",
   "id": "94ffae5b-07e8-42bf-abb6-5187cdcf65eb",
   "metadata": {},
   "source": [
    "##### 1. Statistics about the popularity of programming languages in the United States, United Kingdom, France, Germany and India from [PYPL PopularitY of Programming Language](https://pypl.github.io/PYPL.html)"
   ]
  },
  {
   "cell_type": "code",
   "execution_count": 1,
   "id": "6789f0db-c65e-4438-8d29-7ad1c2ef8906",
   "metadata": {
    "tags": []
   },
   "outputs": [
    {
     "name": "stdout",
     "output_type": "stream",
     "text": [
      "    Country      Language Share\n",
      "1        US        Python 30.72\n",
      "2        US          Java 13.54\n",
      "3        US    JavaScript  8.02\n",
      "4        US             R  7.55\n",
      "5        US         C/C++  5.93\n",
      "6        US            C#  5.26\n",
      "7        US         Swift  4.77\n",
      "8        US          Rust  3.19\n",
      "9        US    TypeScript  2.92\n",
      "10       US   Objective-C  2.85\n",
      "11       US            Go  2.27\n",
      "12       US           PHP  1.99\n",
      "13       US        Matlab  1.87\n",
      "14       US          Ruby  1.36\n",
      "15       US    Powershell  1.20\n",
      "16       US        Kotlin  1.00\n",
      "17       US           VBA  0.84\n",
      "18       US           Lua  0.71\n",
      "19       US  Visual Basic  0.66\n",
      "20       US          Dart  0.63\n",
      "21       US         Scala  0.58\n",
      "22       US        Groovy  0.49\n",
      "23       US         Julia  0.32\n",
      "24       US       Haskell  0.30\n",
      "25       US         Cobol  0.28\n",
      "26       US          Perl  0.25\n",
      "27       US          Abap  0.23\n",
      "28       US Delphi/Pascal  0.20\n",
      "29       US           Ada  0.06\n",
      "30       UK        Python 28.28\n",
      "31       UK          Java 10.39\n",
      "32       UK            C#  7.42\n",
      "33       UK    JavaScript  6.17\n",
      "34       UK             R  6.04\n",
      "35       UK          Rust  4.17\n",
      "36       UK         C/C++  3.79\n",
      "37       UK           PHP  2.84\n",
      "38       UK   Objective-C  2.82\n",
      "39       UK            Go  2.69\n",
      "40       UK         Swift  2.53\n",
      "41       UK        Matlab  2.40\n",
      "42       UK           VBA  2.03\n",
      "43       UK         Julia  1.97\n",
      "44       UK    TypeScript  1.89\n",
      "45       UK    Powershell  1.73\n",
      "46       UK          Perl  1.69\n",
      "47       UK           Lua  1.61\n",
      "48       UK         Scala  1.60\n",
      "49       UK  Visual Basic  1.44\n",
      "50       UK        Kotlin  1.41\n",
      "51       UK          Ruby  1.40\n",
      "52       UK          Dart  1.27\n",
      "53       UK        Groovy  1.03\n",
      "54       UK       Haskell  0.82\n",
      "55       UK         Cobol  0.58\n",
      "56   France        Python 31.01\n",
      "57   France          Java  8.55\n",
      "58   France            C#  7.27\n",
      "59   France           PHP  5.40\n",
      "60   France    JavaScript  5.17\n",
      "61   France             R  4.94\n",
      "62   France          Rust  3.42\n",
      "63   France         Swift  3.17\n",
      "64   France         Scala  3.04\n",
      "65   France            Go  2.89\n",
      "66   France        Matlab  2.69\n",
      "67   France          Dart  2.58\n",
      "68   France         Cobol  2.40\n",
      "69   France        Kotlin  2.38\n",
      "70   France         C/C++  2.23\n",
      "71   France   Objective-C  2.12\n",
      "72   France           Lua  2.08\n",
      "73   France    TypeScript  1.88\n",
      "74   France          Ruby  1.81\n",
      "75   France         Julia  1.56\n",
      "76   France           VBA  1.35\n",
      "77   France    Powershell  1.03\n",
      "78   France          Perl  1.03\n",
      "79   France  Visual Basic  0.00\n",
      "80  Germany        Python 30.38\n",
      "81  Germany          Java 11.92\n",
      "82  Germany    JavaScript  5.80\n",
      "83  Germany            C#  4.99\n",
      "84  Germany         C/C++  4.60\n",
      "85  Germany             R  4.02\n",
      "86  Germany           PHP  3.69\n",
      "87  Germany          Rust  3.59\n",
      "88  Germany    TypeScript  3.20\n",
      "89  Germany   Objective-C  2.70\n",
      "90  Germany         Swift  2.41\n",
      "91  Germany    Powershell  2.32\n",
      "92  Germany        Matlab  2.15\n",
      "93  Germany            Go  1.57\n",
      "94  Germany          Abap  1.54\n",
      "95  Germany           VBA  1.51\n",
      "96  Germany        Groovy  1.49\n",
      "97  Germany          Ruby  1.49\n",
      "98  Germany        Kotlin  1.45\n",
      "99  Germany          Dart  1.43\n",
      "100 Germany          Perl  1.21\n",
      "101 Germany           Lua  1.20\n",
      "102 Germany  Visual Basic  1.10\n",
      "103 Germany Delphi/Pascal  1.00\n",
      "104 Germany         Julia  0.88\n",
      "105 Germany       Haskell  0.81\n",
      "106 Germany         Cobol  0.78\n",
      "107 Germany         Scala  0.78\n",
      "108   India        Python 26.70\n",
      "109   India          Java 22.72\n",
      "110   India    JavaScript 12.61\n",
      "111   India         C/C++  7.69\n",
      "112   India            C#  7.09\n",
      "113   India           PHP  5.43\n",
      "114   India    TypeScript  2.84\n",
      "115   India             R  2.02\n",
      "116   India        Kotlin  1.45\n",
      "117   India            Go  1.43\n",
      "118   India         Swift  1.31\n",
      "119   India          Abap  1.02\n",
      "120   India        Matlab  0.98\n",
      "121   India          Dart  0.97\n",
      "122   India          Ruby  0.88\n",
      "123   India   Objective-C  0.73\n",
      "124   India           VBA  0.66\n",
      "125   India         Scala  0.65\n",
      "126   India    Powershell  0.49\n",
      "127   India          Rust  0.45\n",
      "128   India        Groovy  0.45\n",
      "129   India         Cobol  0.39\n",
      "130   India          Perl  0.38\n",
      "131   India           Lua  0.22\n",
      "132   India Delphi/Pascal  0.14\n",
      "133   India         Julia  0.14\n",
      "134   India       Haskell  0.10\n",
      "135   India           Ada  0.08\n"
     ]
    }
   ],
   "source": [
    "pypl_dataframe <- read.csv(\"./PYPL.csv\", header=TRUE, stringsAsFactors=FALSE)\n",
    "print(pypl_dataframe)"
   ]
  },
  {
   "cell_type": "markdown",
   "id": "5b63d97e-1c63-4725-9d1c-955ed66524ed",
   "metadata": {
    "tags": []
   },
   "source": [
    "Languages to consider:"
   ]
  },
  {
   "cell_type": "code",
   "execution_count": 2,
   "id": "c613f631-13a1-43ca-ab5e-9838409b5f39",
   "metadata": {
    "tags": []
   },
   "outputs": [
    {
     "name": "stdout",
     "output_type": "stream",
     "text": [
      " [1] \"Python\"        \"Java\"          \"JavaScript\"    \"R\"            \n",
      " [5] \"C/C++\"         \"C#\"            \"Swift\"         \"Rust\"         \n",
      " [9] \"TypeScript\"    \"Objective-C\"   \"Go\"            \"PHP\"          \n",
      "[13] \"Matlab\"        \"Ruby\"          \"Powershell\"    \"Kotlin\"       \n",
      "[17] \"VBA\"           \"Lua\"           \"Visual Basic\"  \"Dart\"         \n",
      "[21] \"Scala\"         \"Groovy\"        \"Julia\"         \"Haskell\"      \n",
      "[25] \"Cobol\"         \"Perl\"          \"Abap\"          \"Delphi/Pascal\"\n",
      "[29] \"Ada\"          \n"
     ]
    }
   ],
   "source": [
    "languages_to_select <- unique(pypl_dataframe$Language)\n",
    "print(languages_to_select)"
   ]
  },
  {
   "cell_type": "markdown",
   "id": "72423f4c-7d60-4ef6-b58a-f3cfff4d2c7b",
   "metadata": {},
   "source": [
    "##### 2. Statistics about the salaries of developers expert in different technologies in those countries from the site [payscale](https://www.payscale.com/)"
   ]
  },
  {
   "cell_type": "code",
   "execution_count": 3,
   "id": "a1d11034-480d-4b38-8cda-93e7672d18fb",
   "metadata": {},
   "outputs": [
    {
     "name": "stdout",
     "output_type": "stream",
     "text": [
      "    Country      Language  Entry Average Senior\n",
      "1        US        Python  57000   81000 115000\n",
      "2        US          Java  57000   83000 122000\n",
      "3        US    JavaScript  54000   76048 108000\n",
      "4        US             R  52000   72000 107000\n",
      "5        US         C/C++  56000   73000 135000\n",
      "6        US            C#  50000   79000 120000\n",
      "7        US         Swift  82000  115000 154000\n",
      "8        US          Rust 102000  137000 168000\n",
      "9        US    TypeScript  87000  127628 172000\n",
      "10       US   Objective-C  57000   68789 136000\n",
      "11       US            Go  56000   80787 147000\n",
      "12       US           PHP  41000   68000 100000\n",
      "13       US        Matlab     NA      NA     NA\n",
      "14       US          Ruby     NA      NA     NA\n",
      "15       US    Powershell     NA      NA     NA\n",
      "16       US        Kotlin     NA      NA     NA\n",
      "17       US           VBA     NA      NA     NA\n",
      "18       US           Lua     NA      NA     NA\n",
      "19       US  Visual Basic     NA      NA     NA\n",
      "20       US          Dart     NA      NA     NA\n",
      "21       US         Scala     NA      NA     NA\n",
      "22       US        Groovy     NA      NA     NA\n",
      "23       US         Julia     NA      NA     NA\n",
      "24       US       Haskell     NA      NA     NA\n",
      "25       US         Cobol     NA      NA     NA\n",
      "26       US          Perl     NA      NA     NA\n",
      "27       US          Abap     NA      NA     NA\n",
      "28       US Delphi/Pascal     NA      NA     NA\n",
      "29       US           Ada     NA      NA     NA\n",
      "30       UK        Python  28014   40748  71310\n",
      "31       UK          Java  35655   52209  77677\n",
      "32       UK            C#  30561   45842  66216\n",
      "33       UK    JavaScript  28014   39932  61123\n",
      "34       UK             R  30000   35655  48389\n",
      "35       UK          Rust  29000   35018  49000\n",
      "36       UK         C/C++  30561   45842  66216\n",
      "37       UK           PHP  28014   39475  61123\n",
      "38       UK   Objective-C  31834   49662  86591\n",
      "39       UK            Go  36928   53450  76403\n",
      "40       UK         Swift  31834   49589  91684\n",
      "41       UK        Matlab  31834   44335  76403\n",
      "42       UK           VBA     NA      NA     NA\n",
      "43       UK         Julia     NA      NA     NA\n",
      "44       UK    TypeScript     NA      NA     NA\n",
      "45       UK    Powershell     NA      NA     NA\n",
      "46       UK          Perl     NA      NA     NA\n",
      "47       UK           Lua     NA      NA     NA\n",
      "48       UK         Scala     NA      NA     NA\n",
      "49       UK  Visual Basic     NA      NA     NA\n",
      "50       UK        Kotlin     NA      NA     NA\n",
      "51       UK          Ruby     NA      NA     NA\n",
      "52       UK          Dart     NA      NA     NA\n",
      "53       UK        Groovy     NA      NA     NA\n",
      "54       UK       Haskell     NA      NA     NA\n",
      "55       UK         Cobol     NA      NA     NA\n",
      "56   France        Python  28317   42476  59903\n",
      "57   France          Java  33763   41387  60992\n",
      "58   France            C#  37031   41387  46833\n",
      "59   France           PHP  35941   43566  67527\n",
      "60   France    JavaScript  23961   44655  52279\n",
      "61   France             R  29298   58596  90726\n",
      "62   France          Rust  32021   61536  94102\n",
      "63   France         Swift  33763   49011  75151\n",
      "64   France         Scala  43566   44655  46833\n",
      "65   France            Go  32674   41387  51190\n",
      "66   France        Matlab  34852   43566  50100\n",
      "67   France          Dart  32674   35700  51190\n",
      "68   France         Cobol     NA      NA     NA\n",
      "69   France        Kotlin     NA      NA     NA\n",
      "70   France         C/C++     NA      NA     NA\n",
      "71   France   Objective-C     NA      NA     NA\n",
      "72   France           Lua     NA      NA     NA\n",
      "73   France    TypeScript     NA      NA     NA\n",
      "74   France          Ruby     NA      NA     NA\n",
      "75   France         Julia     NA      NA     NA\n",
      "76   France           VBA     NA      NA     NA\n",
      "77   France    Powershell     NA      NA     NA\n",
      "78   France          Perl     NA      NA     NA\n",
      "79   France  Visual Basic     NA      NA     NA\n",
      "80  Germany        Python  41387   54457  71883\n",
      "81  Germany          Java  41387   55546  71883\n",
      "82  Germany    JavaScript  42476   54457  71883\n",
      "83  Germany            C#  32674   54457  82775\n",
      "84  Germany         C/C++  43566   55546  88221\n",
      "85  Germany             R  43566   49011  55546\n",
      "86  Germany           PHP  33763   53368  68616\n",
      "87  Germany          Rust  52279   59903  67527\n",
      "88  Germany    TypeScript  39209   54457  76240\n",
      "89  Germany   Objective-C  43566   60992  87132\n",
      "90  Germany         Swift  47922   62081  80597\n",
      "91  Germany    Powershell  43566   51190  76240\n",
      "92  Germany        Matlab     NA      NA     NA\n",
      "93  Germany            Go     NA      NA     NA\n",
      "94  Germany          Abap     NA      NA     NA\n",
      "95  Germany           VBA     NA      NA     NA\n",
      "96  Germany        Groovy     NA      NA     NA\n",
      "97  Germany          Ruby     NA      NA     NA\n",
      "98  Germany        Kotlin     NA      NA     NA\n",
      "99  Germany          Dart     NA      NA     NA\n",
      "100 Germany          Perl     NA      NA     NA\n",
      "101 Germany           Lua     NA      NA     NA\n",
      "102 Germany  Visual Basic     NA      NA     NA\n",
      "103 Germany Delphi/Pascal     NA      NA     NA\n",
      "104 Germany         Julia     NA      NA     NA\n",
      "105 Germany       Haskell     NA      NA     NA\n",
      "106 Germany         Cobol     NA      NA     NA\n",
      "107 Germany         Scala     NA      NA     NA\n",
      "108   India        Python   3114    7323  24050\n",
      "109   India          Java   2777    6120  12025\n",
      "110   India    JavaScript   3607    8141  24050\n",
      "111   India         C/C++   1238    8417  24050\n",
      "112   India            C#   1984    5122  24050\n",
      "113   India           PHP   1503    3679   8610\n",
      "114   India    TypeScript   2801    6145  12025\n",
      "115   India             R   4124   10426  24050\n",
      "116   India        Kotlin   4196   10750  12025\n",
      "117   India            Go   5531   12025  36076\n",
      "118   India         Swift   2934    7058  24050\n",
      "119   India          Abap   3595    7419  12025\n",
      "120   India        Matlab     NA      NA     NA\n",
      "121   India          Dart     NA      NA     NA\n",
      "122   India          Ruby     NA      NA     NA\n",
      "123   India   Objective-C     NA      NA     NA\n",
      "124   India           VBA     NA      NA     NA\n",
      "125   India         Scala     NA      NA     NA\n",
      "126   India    Powershell     NA      NA     NA\n",
      "127   India          Rust     NA      NA     NA\n",
      "128   India        Groovy     NA      NA     NA\n",
      "129   India         Cobol     NA      NA     NA\n",
      "130   India          Perl     NA      NA     NA\n",
      "131   India           Lua     NA      NA     NA\n",
      "132   India Delphi/Pascal     NA      NA     NA\n",
      "133   India         Julia     NA      NA     NA\n",
      "134   India       Haskell     NA      NA     NA\n",
      "135   India           Ada     NA      NA     NA\n"
     ]
    }
   ],
   "source": [
    "salaries_dollar_dataframe <- read.csv(\"salaries_dollars.csv\")\n",
    "print(salaries_dollar_dataframe)"
   ]
  },
  {
   "cell_type": "markdown",
   "id": "23e61353-be20-4efc-aac2-88449bb382b7",
   "metadata": {},
   "source": [
    " ##### 3. Statistics about the preferred OS in different countries from the site [statscounter](https://gs.statcounter.com/os-market-share#monthly-202207-202307)"
   ]
  },
  {
   "cell_type": "code",
   "execution_count": 4,
   "id": "a5510c42-0930-4e9b-b6ac-e6e44d887202",
   "metadata": {
    "tags": []
   },
   "outputs": [
    {
     "name": "stdout",
     "output_type": "stream",
     "text": [
      "   Country        OS    Type Share\n",
      "1       US   Windows Desktop 38.07\n",
      "2       US       OSX Desktop 20.52\n",
      "3       US       iOS  Mobile 19.19\n",
      "4       US   Android  Mobile 14.35\n",
      "5       US Chrome OS Desktop  4.11\n",
      "6       UK   Windows Desktop 30.39\n",
      "7       UK       iOS  Mobile 27.76\n",
      "8       UK   Android  Mobile 26.64\n",
      "9       UK       OSX Desktop 11.23\n",
      "10      UK Chrome OS Desktop  1.96\n",
      "11  France   Android  Mobile 38.90\n",
      "12  France   Windows Desktop 31.60\n",
      "13  France       iOS  Mobile 19.08\n",
      "14  France       OSX Desktop  7.07\n",
      "15  France     Linux Desktop  1.28\n",
      "16 Germany   Windows Desktop 39.09\n",
      "17 Germany   Android  Mobile 30.40\n",
      "18 Germany       iOS  Mobile 18.79\n",
      "19 Germany       OSX Desktop  8.15\n",
      "20 Germany     Linux Desktop  1.49\n",
      "21   India   Android  Mobile 75.98\n",
      "22   India   Windows Desktop 14.63\n",
      "23   India       iOS  Mobile  3.19\n",
      "24   India     Linux Desktop  2.85\n",
      "25   India       OSX Desktop  0.68\n"
     ]
    }
   ],
   "source": [
    "OS_share_dataframe <- read.csv(\"./OS_share_countries.csv\")\n",
    "print(OS_share_dataframe)"
   ]
  },
  {
   "cell_type": "markdown",
   "id": "0b5a58ea-54c1-4179-aa7a-68694b3169a6",
   "metadata": {},
   "source": [
    "##### 4. Dataset with the different plug types used in those countries from the site of the [International Electrotechnical Commission](https://www.iec.ch/world-plugs)."
   ]
  },
  {
   "cell_type": "code",
   "execution_count": 5,
   "id": "dd772c86-f214-40cd-a476-8b45c1fe264a",
   "metadata": {
    "tags": []
   },
   "outputs": [
    {
     "name": "stdout",
     "output_type": "stream",
     "text": [
      "   Country Plug.Type\n",
      "1       US         A\n",
      "2       US         B\n",
      "3       UK         G\n",
      "4   France         C\n",
      "5   France         E\n",
      "6  Germany         C\n",
      "7  Germany         F\n",
      "8    India         C\n",
      "9    India         D\n",
      "10   India         M\n"
     ]
    }
   ],
   "source": [
    "plug_types_dataset <- read.csv(\"plug_types_countries.csv\")\n",
    "print(plug_types_dataset)"
   ]
  },
  {
   "cell_type": "markdown",
   "id": "09f5a726-92f8-415d-8edf-5ffd9f1a7eee",
   "metadata": {},
   "source": [
    "### 7. Modelling"
   ]
  },
  {
   "cell_type": "markdown",
   "id": "ef9c530a-f3c8-4e38-895c-24ff554abaa1",
   "metadata": {},
   "source": [
    "The model works as follows:\n",
    "1. The user provides the following parameters:\n",
    "+ Technology (programming language) desired for the project\n",
    "+ Salary budget (for a developer, in dollars)\n",
    "\n",
    "2. The desired technology will sort the countries that are candidates to hold the team from the one with the highest share of that language to the one with the lowest\n",
    "3. We iterate by country and sort the different salaries depending on the level of experience of developers\n",
    "+ Once we find the first salary that is lower than the budget, we will stop the loop and __that will be the country where the team will be based__\n",
    "\n",
    "4. The country will determine the OS.\n",
    "+ We will select the OS with the highest share for both desktop and mobile devices in that country\n",
    "\n",
    "5. Finally, the country will determine the plug typefor the laptop and devices"
   ]
  },
  {
   "cell_type": "code",
   "execution_count": 46,
   "id": "2944dec5-5a8f-4b11-8d49-1997a76cd615",
   "metadata": {},
   "outputs": [],
   "source": [
    "team_selection_model <- function(tech_pl, salary_budget){\n",
    "    # Returns which country a team should be based in and the OS and plug types their devices should have\n",
    "    # tech_pl: A string with the desired programming language the project should use\n",
    "    # salary_budget: An interger with the budget to hire a developer in dollars\n",
    "    \n",
    "    # For starters, we have to import the datasets with all the\n",
    "    # information\n",
    "    \n",
    "    # Dataframe with the popularity of programming languages by country\n",
    "    pypl_df <- read.csv(\"./PYPL.csv\", header=TRUE, stringsAsFactors=FALSE)\n",
    "    \n",
    "    # Dataframe with the information about average salaries by\n",
    "    # programming language in different countries depending on\n",
    "    # experience level in dollars\n",
    "    salaries_dollar_df <- read.csv(\"./salaries_dollars.csv\", header=TRUE, stringsAsFactors=FALSE)\n",
    "    \n",
    "    # Dataframe with the share of different operating systems (desktop and mobile) by country\n",
    "    os_share_df <- read.csv(\"OS_share_countries.csv\", header=TRUE, stringsAsFactors=FALSE)\n",
    "    \n",
    "    # Dataframe with the information about the plug types used in\n",
    "    # different countries\n",
    "    plug_types_df <- read.csv(\"./plug_types_countries.csv\", header=TRUE, stringsAsFactors=FALSE)\n",
    "    \n",
    "    # First, we filter the dataframe with the information about the\n",
    "    # popularity of a programming language in a certain country\n",
    "    # by the programming language, sort it by the field share (share\n",
    "    # of developers that use that language in that country) and\n",
    "    # convert the result to a list\n",
    "    countries_use_language <- pypl_df[pypl_df$Language == tech_pl, ]\n",
    "    countries_use_language <- (countries_use_language[order(countries_use_language$Share, decreasing=TRUE),])\n",
    "    \n",
    "    if(length(countries_use_language)==0){\n",
    "        print(paste0(\"The programming language %s is not in our list\", tech_pl))\n",
    "        stop(\"The programming language is not in our list\")\n",
    "    }\n",
    "    \n",
    "    print(\"We will check the countries in the following order:\")\n",
    "    print(countries_use_language$Country)\n",
    "    \n",
    "    # We iterate by country in order of popularity of the desired\n",
    "    # language in that country\n",
    "    team_country <- \"\"\n",
    "    developer_experience_level <- \"\"\n",
    "    found <- FALSE\n",
    "    for(country in countries_use_language$Country){\n",
    "        # We get the salaries of a developer using that programming\n",
    "        # language in that country with all 3 levels of experience\n",
    "        if(found){\n",
    "            break\n",
    "        }\n",
    "        salaries_country_pl <- salaries_dollar_df[\n",
    "            (salaries_dollar_df[\"Country\"] == country & salaries_dollar_df[\"Language\"] == tech_pl), ]\n",
    "        \n",
    "        # Now we create a list with the different levels of experience in order from most expensive to cheapest\n",
    "        experience_levels <- c(\"Senior\", \"Average\", \"Entry\")\n",
    "        \n",
    "        # And we use them to get the salary for a developer with that level of experience that uses the programming language\n",
    "        # given by the user in the country in this iteration\n",
    "        for(exp_level in experience_levels){\n",
    "            it_salary <- salaries_country_pl[1, exp_level]\n",
    "            if(as.integer(it_salary) < as.integer(salary_budget)){\n",
    "                team_country <- country\n",
    "                developer_experience_level <- exp_level\n",
    "                found <- TRUE\n",
    "                print(\"We found the solution: \")\n",
    "                print(paste0(\"- The country where the team should be based is: \", team_country))\n",
    "                print(paste0(\"- The level of the developer should be \", developer_experience_level))\n",
    "                break\n",
    "            } \n",
    "        }\n",
    "    }\n",
    "    if(developer_experience_level == \"\"){\n",
    "        stop(\"Budget is not enough to hire a developer in any country with the selected technology\")\n",
    "    }\n",
    "    \n",
    "    # At this point we select the OS for desktop and mobile devices that \n",
    "    # are most popular in the country we selected\n",
    "    types_of_devices <- c(\"Desktop\", \"Mobile\")\n",
    "    os_devices <- c()\n",
    "    for(type_device in types_of_devices){\n",
    "        suggested_os_df <- os_share_df[(os_share_df[\"Country\"] == team_country & os_share_df[\"Type\"] == type_device),]\n",
    "        suggested_os_df <- suggested_os_df[order(suggested_os_df$Share, decreasing=TRUE), ]\n",
    "        suggested_os <- suggested_os_df[1, 2]\n",
    "        os_devices <- append(os_devices, suggested_os)\n",
    "        cat(\"- The suggested OS for\", type_device, \"devices is\", suggested_os,\"\\n\",sep=\" \")\n",
    "    }\n",
    "    \n",
    "    # Finally, we will use the country to select the plug those devices should have\n",
    "    plug_types <- plug_types_df[(plug_types_df[\"Country\"] == team_country), ]\n",
    "    plug_types <- plug_types$Plug.Type\n",
    "    \n",
    "    cat(\"- Plug types should be one of this list: \", plug_types, \"\\n\",sep=\" \")\n",
    "    \n",
    "    return(c(team_country, developer_experience_level, os_devices, plug_types))\n",
    "}"
   ]
  },
  {
   "cell_type": "code",
   "execution_count": 36,
   "id": "22bb8175-8f0d-4ef4-8b0c-f96f93a75263",
   "metadata": {
    "tags": []
   },
   "outputs": [
    {
     "name": "stdout",
     "output_type": "stream",
     "text": [
      "[1] \"We will check the countries in the following order:\"\n",
      "[1] \"France\"  \"US\"      \"Germany\" \"UK\"      \"India\"  \n",
      "[1] \"We found the solution: \"\n",
      "[1] \"- The country where the team should be based is: France\"\n",
      "[1] \"- The level of the developer should be Entry\"\n",
      "- The suggested OS for Desktop devices is Windows \n",
      "- The suggested OS for Mobile devices is Android \n",
      "- Plug types should be one of this list:  C E \n"
     ]
    },
    {
     "data": {
      "text/html": [
       "<style>\n",
       ".list-inline {list-style: none; margin:0; padding: 0}\n",
       ".list-inline>li {display: inline-block}\n",
       ".list-inline>li:not(:last-child)::after {content: \"\\00b7\"; padding: 0 .5ex}\n",
       "</style>\n",
       "<ol class=list-inline><li>'France'</li><li>'Entry'</li><li>'Windows'</li><li>'Android'</li><li>'C'</li><li>'E'</li></ol>\n"
      ],
      "text/latex": [
       "\\begin{enumerate*}\n",
       "\\item 'France'\n",
       "\\item 'Entry'\n",
       "\\item 'Windows'\n",
       "\\item 'Android'\n",
       "\\item 'C'\n",
       "\\item 'E'\n",
       "\\end{enumerate*}\n"
      ],
      "text/markdown": [
       "1. 'France'\n",
       "2. 'Entry'\n",
       "3. 'Windows'\n",
       "4. 'Android'\n",
       "5. 'C'\n",
       "6. 'E'\n",
       "\n",
       "\n"
      ],
      "text/plain": [
       "[1] \"France\"  \"Entry\"   \"Windows\" \"Android\" \"C\"       \"E\"      "
      ]
     },
     "metadata": {},
     "output_type": "display_data"
    }
   ],
   "source": [
    "team_selection_model(\"Python\", 30000)"
   ]
  },
  {
   "cell_type": "markdown",
   "id": "23a21d64-b1ed-478e-8131-29d6395e5193",
   "metadata": {},
   "source": [
    "### 8. Evaluation"
   ]
  },
  {
   "cell_type": "markdown",
   "id": "b23023f7-82ce-44d6-ad0e-156d0f3a14e9",
   "metadata": {},
   "source": [
    "##### We are going to look into the datasets and pick 3 test cases to check the information returned is correct"
   ]
  },
  {
   "cell_type": "markdown",
   "id": "027a0030-5b38-42fd-ba57-dde0ac5ad3b4",
   "metadata": {},
   "source": [
    "1. If select __Rust__ as _programming language_ and give a _budget_ of __$30000__, the results should be:\n",
    "+ Country: United Kindgom\n",
    "+ Experience Level: Entry\n",
    "+ OS: Desktop -> Windows, Mobile -> iOS\n",
    "+ Plug types: G"
   ]
  },
  {
   "cell_type": "code",
   "execution_count": 37,
   "id": "4950a000-4ca7-4657-9d6f-453290de5f5a",
   "metadata": {
    "tags": []
   },
   "outputs": [
    {
     "name": "stdout",
     "output_type": "stream",
     "text": [
      "[1] \"We will check the countries in the following order:\"\n",
      "[1] \"UK\"      \"Germany\" \"France\"  \"US\"      \"India\"  \n",
      "[1] \"We found the solution: \"\n",
      "[1] \"- The country where the team should be based is: UK\"\n",
      "[1] \"- The level of the developer should be Entry\"\n",
      "- The suggested OS for Desktop devices is Windows \n",
      "- The suggested OS for Mobile devices is iOS \n",
      "- Plug types should be one of this list:  G \n"
     ]
    },
    {
     "data": {
      "text/html": [
       "<style>\n",
       ".list-inline {list-style: none; margin:0; padding: 0}\n",
       ".list-inline>li {display: inline-block}\n",
       ".list-inline>li:not(:last-child)::after {content: \"\\00b7\"; padding: 0 .5ex}\n",
       "</style>\n",
       "<ol class=list-inline><li>'UK'</li><li>'Entry'</li><li>'Windows'</li><li>'iOS'</li><li>'G'</li></ol>\n"
      ],
      "text/latex": [
       "\\begin{enumerate*}\n",
       "\\item 'UK'\n",
       "\\item 'Entry'\n",
       "\\item 'Windows'\n",
       "\\item 'iOS'\n",
       "\\item 'G'\n",
       "\\end{enumerate*}\n"
      ],
      "text/markdown": [
       "1. 'UK'\n",
       "2. 'Entry'\n",
       "3. 'Windows'\n",
       "4. 'iOS'\n",
       "5. 'G'\n",
       "\n",
       "\n"
      ],
      "text/plain": [
       "[1] \"UK\"      \"Entry\"   \"Windows\" \"iOS\"     \"G\"      "
      ]
     },
     "metadata": {},
     "output_type": "display_data"
    }
   ],
   "source": [
    "team_selection_model(\"Rust\", 30000)"
   ]
  },
  {
   "cell_type": "markdown",
   "id": "d09912f3-8206-44a9-af25-6083a5931e77",
   "metadata": {},
   "source": [
    "2. If I select __Swift__ as _programming language_ and give a _budget_ of __$50000__ the results should be:\n",
    "+ Country: France\n",
    "+ Experience Level: Average\n",
    "+ OS: Desktop -> Windows, Mobile -> Android\n",
    "+ Plug types: C, E"
   ]
  },
  {
   "cell_type": "code",
   "execution_count": 38,
   "id": "76c77e10-89fb-4bdf-b8bf-951879d16417",
   "metadata": {
    "tags": []
   },
   "outputs": [
    {
     "name": "stdout",
     "output_type": "stream",
     "text": [
      "[1] \"We will check the countries in the following order:\"\n",
      "[1] \"US\"      \"France\"  \"UK\"      \"Germany\" \"India\"  \n",
      "[1] \"We found the solution: \"\n",
      "[1] \"- The country where the team should be based is: France\"\n",
      "[1] \"- The level of the developer should be Average\"\n",
      "- The suggested OS for Desktop devices is Windows \n",
      "- The suggested OS for Mobile devices is Android \n",
      "- Plug types should be one of this list:  C E \n"
     ]
    },
    {
     "data": {
      "text/html": [
       "<style>\n",
       ".list-inline {list-style: none; margin:0; padding: 0}\n",
       ".list-inline>li {display: inline-block}\n",
       ".list-inline>li:not(:last-child)::after {content: \"\\00b7\"; padding: 0 .5ex}\n",
       "</style>\n",
       "<ol class=list-inline><li>'France'</li><li>'Average'</li><li>'Windows'</li><li>'Android'</li><li>'C'</li><li>'E'</li></ol>\n"
      ],
      "text/latex": [
       "\\begin{enumerate*}\n",
       "\\item 'France'\n",
       "\\item 'Average'\n",
       "\\item 'Windows'\n",
       "\\item 'Android'\n",
       "\\item 'C'\n",
       "\\item 'E'\n",
       "\\end{enumerate*}\n"
      ],
      "text/markdown": [
       "1. 'France'\n",
       "2. 'Average'\n",
       "3. 'Windows'\n",
       "4. 'Android'\n",
       "5. 'C'\n",
       "6. 'E'\n",
       "\n",
       "\n"
      ],
      "text/plain": [
       "[1] \"France\"  \"Average\" \"Windows\" \"Android\" \"C\"       \"E\"      "
      ]
     },
     "metadata": {},
     "output_type": "display_data"
    }
   ],
   "source": [
    "team_selection_model(\"Swift\", 50000)"
   ]
  },
  {
   "cell_type": "markdown",
   "id": "38caeb69-feae-43eb-a1f2-364980bb499e",
   "metadata": {},
   "source": [
    "3. If I select __C#__ as _programming language_ and give a _budget_ of __$28000__ the results should be:\n",
    "+ Country: India\n",
    "+ Experience Level: Senior\n",
    "+ OS: Desktop -> Windows, Mobile -> Android\n",
    "+ Plug types: C, D, M"
   ]
  },
  {
   "cell_type": "code",
   "execution_count": 39,
   "id": "5ff08e93-20ad-43f4-8804-a85597c77df6",
   "metadata": {
    "tags": []
   },
   "outputs": [
    {
     "name": "stdout",
     "output_type": "stream",
     "text": [
      "[1] \"We will check the countries in the following order:\"\n",
      "[1] \"UK\"      \"France\"  \"India\"   \"US\"      \"Germany\"\n",
      "[1] \"We found the solution: \"\n",
      "[1] \"- The country where the team should be based is: India\"\n",
      "[1] \"- The level of the developer should be Senior\"\n",
      "- The suggested OS for Desktop devices is Windows \n",
      "- The suggested OS for Mobile devices is Android \n",
      "- Plug types should be one of this list:  C D M \n"
     ]
    },
    {
     "data": {
      "text/html": [
       "<style>\n",
       ".list-inline {list-style: none; margin:0; padding: 0}\n",
       ".list-inline>li {display: inline-block}\n",
       ".list-inline>li:not(:last-child)::after {content: \"\\00b7\"; padding: 0 .5ex}\n",
       "</style>\n",
       "<ol class=list-inline><li>'India'</li><li>'Senior'</li><li>'Windows'</li><li>'Android'</li><li>'C'</li><li>'D'</li><li>'M'</li></ol>\n"
      ],
      "text/latex": [
       "\\begin{enumerate*}\n",
       "\\item 'India'\n",
       "\\item 'Senior'\n",
       "\\item 'Windows'\n",
       "\\item 'Android'\n",
       "\\item 'C'\n",
       "\\item 'D'\n",
       "\\item 'M'\n",
       "\\end{enumerate*}\n"
      ],
      "text/markdown": [
       "1. 'India'\n",
       "2. 'Senior'\n",
       "3. 'Windows'\n",
       "4. 'Android'\n",
       "5. 'C'\n",
       "6. 'D'\n",
       "7. 'M'\n",
       "\n",
       "\n"
      ],
      "text/plain": [
       "[1] \"India\"   \"Senior\"  \"Windows\" \"Android\" \"C\"       \"D\"       \"M\"      "
      ]
     },
     "metadata": {},
     "output_type": "display_data"
    }
   ],
   "source": [
    "team_selection_model(\"C#\", 28000)"
   ]
  },
  {
   "cell_type": "markdown",
   "id": "be45425f-5649-4060-a524-c1dabd06fdfc",
   "metadata": {},
   "source": [
    "### 9. Deployment"
   ]
  },
  {
   "cell_type": "markdown",
   "id": "9e4ac14a-1a10-4983-90e6-2ef308035c16",
   "metadata": {},
   "source": [
    "This will be deployed as a notebook where we will ask the HR specialist to provide a desired programming language for the team and a budget for the salary of a developer in dollars.\n",
    "The notebook will be placed in a server where the HR team will have access to it:\n",
    "Let't pretend this is that notebook in the server. We will add a couple of presentation features"
   ]
  },
  {
   "cell_type": "code",
   "execution_count": 47,
   "id": "60a4bfa4-9107-4b06-9361-12721ac97922",
   "metadata": {
    "tags": []
   },
   "outputs": [
    {
     "name": "stdin",
     "output_type": "stream",
     "text": [
      "Which programming language or technology is the project going to be developed in? Python\n",
      "What is the intended salary for a single developer in dollars? 30000\n"
     ]
    }
   ],
   "source": [
    "desired_programming_language <- readline(prompt=\"Which programming language or technology is the project going to be developed in?\")\n",
    "budget_developer_salary <- as.integer(readline(prompt=\"What is the intended salary for a single developer in dollars?\"))"
   ]
  },
  {
   "cell_type": "code",
   "execution_count": 73,
   "id": "7bd2f5aa-8973-4ab3-bf51-7bf325e2d914",
   "metadata": {
    "tags": []
   },
   "outputs": [
    {
     "name": "stdout",
     "output_type": "stream",
     "text": [
      "[1] \"We will check the countries in the following order:\"\n",
      "[1] \"France\"  \"US\"      \"Germany\" \"UK\"      \"India\"  \n",
      "[1] \"We found the solution: \"\n",
      "[1] \"- The country where the team should be based is: France\"\n",
      "[1] \"- The level of the developer should be Entry\"\n",
      "- The suggested OS for Desktop devices is Windows \n",
      "- The suggested OS for Mobile devices is Android \n",
      "- Plug types should be one of this list:  C E \n"
     ]
    }
   ],
   "source": [
    "result <-  team_selection_model(desired_programming_language, budget_developer_salary)\n",
    "choosen_country <- result[1] \n",
    "selected_experience_level <- result[2]\n",
    "suggested_desktop_os <- result[3]\n",
    "suggested_mobile_os <- result[4]\n",
    "plug_types_needed <- c()\n",
    "for(i in 5:(length(result))){\n",
    "    plug_type <- result[i]\n",
    "    plug_types_needed <- c(plug_types_needed, plug_type)\n",
    "}"
   ]
  },
  {
   "cell_type": "code",
   "execution_count": 56,
   "id": "f98ef398-311b-44cb-b9ab-2a6d81357be4",
   "metadata": {
    "tags": []
   },
   "outputs": [],
   "source": [
    "library(imager)"
   ]
  },
  {
   "cell_type": "code",
   "execution_count": 58,
   "id": "a7573684-b44d-4798-9f1c-4df2c9b1f503",
   "metadata": {
    "tags": []
   },
   "outputs": [],
   "source": [
    "countries_flags <- c(\"US\" = \"https://cdn.countryflags.com/thumbs/united-states-of-america/flag-400.png\",\n",
    "                    \"UK\" = \"https://cdn.countryflags.com/thumbs/united-kingdom/flag-400.png\",\n",
    "                    \"France\" = \"https://cdn.countryflags.com/thumbs/france/flag-400.png\",\n",
    "                    \"Germany\" = \"https://cdn.countryflags.com/thumbs/germany/flag-400.png\",\n",
    "                    \"India\" = \"https://cdn.countryflags.com/thumbs/india/flag-400.png\")\n",
    "\n",
    "desktop_operating_system_icons <- c(\"Windows\" = \"https://www.iconarchive.com/download/i58702/dakirby309/windows-8-metro/Folders-OS-Windows-8-Metro.256.png\",\n",
    "                                   \"OSX\" = \"https://www.iconarchive.com/download/i60265/mat-u/camill/Drive-macos.256.png\",\n",
    "                                   \"Linux\" = \"https://www.iconarchive.com/download/i45763/tatice/operating-systems/Linux.256.png\",\n",
    "                                   \"Chrome OS\" = \"https://www.iconarchive.com/download/i44717/morcha/browsers/Chrome.256.png\")\n",
    "\n",
    "mobile_operating_system_icons <- c(\"Android\" = \"https://www.iconarchive.com/download/i54020/danleech/simple/android.512.png\",\n",
    "                                  \"iOS\" = \"https://www.iconarchive.com/download/i150039/simpleicons-team/simple/ios.512.png\")\n",
    "\n",
    "plug_type_icons <- c(\"A\" = \"https://www.iec.ch/themes/custom/iec/images/world-plugs/types/A/A-button.png\",\n",
    "    \"B\" = \"https://www.iec.ch/themes/custom/iec/images/world-plugs/types/B/B-button.png\",\n",
    "    \"C\" = \"https://www.iec.ch/themes/custom/iec/images/world-plugs/types/C/C-button.png\",\n",
    "    \"D\" = \"https://www.iec.ch/themes/custom/iec/images/world-plugs/types/D/D-button.png\",\n",
    "    \"E\" = \"https://www.iec.ch/themes/custom/iec/images/world-plugs/types/E/E-button.png\",\n",
    "    \"F\" = \"https://www.iec.ch/themes/custom/iec/images/world-plugs/types/F/F-button.png\",\n",
    "    \"G\" = \"https://www.iec.ch/themes/custom/iec/images/world-plugs/types/G/G-button.png\",\n",
    "    \"H\" = \"https://www.iec.ch/themes/custom/iec/images/world-plugs/types/H/H-button.png\",\n",
    "    \"I\" = \"https://www.iec.ch/themes/custom/iec/images/world-plugs/types/I/I-button.png\",\n",
    "    \"J\" = \"https://www.iec.ch/themes/custom/iec/images/world-plugs/types/J/J-button.png\",\n",
    "    \"K\" = \"https://www.iec.ch/themes/custom/iec/images/world-plugs/types/K/K-button.png\",\n",
    "    \"L\" = \"https://www.iec.ch/themes/custom/iec/images/world-plugs/types/L/L-button.png\",\n",
    "    \"M\" = \"https://www.iec.ch/themes/custom/iec/images/world-plugs/types/M/M-button.png\",\n",
    "    \"N\" = \"https://www.iec.ch/themes/custom/iec/images/world-plugs/types/N/N-button.png\",\n",
    "    \"O\" = \"https://www.iec.ch/themes/custom/iec/images/world-plugs/types/O/O-button.png\")"
   ]
  },
  {
   "cell_type": "code",
   "execution_count": 59,
   "id": "b7764e1d-c4b5-4367-8c7f-a1c31acec8ed",
   "metadata": {},
   "outputs": [
    {
     "data": {
      "text/html": [
       "'The team should be based in France'"
      ],
      "text/latex": [
       "'The team should be based in France'"
      ],
      "text/markdown": [
       "'The team should be based in France'"
      ],
      "text/plain": [
       "[1] \"The team should be based in France\""
      ]
     },
     "metadata": {},
     "output_type": "display_data"
    }
   ],
   "source": [
    "IRdisplay::display(paste0(\"The team should be based in \", choosen_country))"
   ]
  },
  {
   "cell_type": "code",
   "execution_count": 60,
   "id": "285d45eb-a53c-414c-bbc3-b8a5c5842726",
   "metadata": {
    "tags": []
   },
   "outputs": [
    {
     "data": {
      "image/png": "[encoded data removed]",
      "text/plain": [
       "Plot with title \"\""
      ]
     },
     "metadata": {
      "image/png": {
       "height": 420,
       "width": 420
      }
     },
     "output_type": "display_data"
    }
   ],
   "source": [
    "country_flag <- load.image(countries_flags[choosen_country])\n",
    "plot(country_flag)"
   ]
  },
  {
   "cell_type": "code",
   "execution_count": 61,
   "id": "5a9ba573-545a-4435-8d61-0bf49628406a",
   "metadata": {
    "tags": []
   },
   "outputs": [
    {
     "data": {
      "text/html": [
       "'Desired experience of developers: Entry'"
      ],
      "text/latex": [
       "'Desired experience of developers: Entry'"
      ],
      "text/markdown": [
       "'Desired experience of developers: Entry'"
      ],
      "text/plain": [
       "[1] \"Desired experience of developers: Entry\""
      ]
     },
     "metadata": {},
     "output_type": "display_data"
    }
   ],
   "source": [
    "IRdisplay::display(paste0(\"Desired experience of developers: \", selected_experience_level))"
   ]
  },
  {
   "cell_type": "code",
   "execution_count": 63,
   "id": "e93d7a16-4ffc-426e-9e5e-864db8b49e17",
   "metadata": {
    "tags": []
   },
   "outputs": [
    {
     "data": {
      "text/html": [
       "'Recommended operating system for desktop devices: Windows'"
      ],
      "text/latex": [
       "'Recommended operating system for desktop devices: Windows'"
      ],
      "text/markdown": [
       "'Recommended operating system for desktop devices: Windows'"
      ],
      "text/plain": [
       "[1] \"Recommended operating system for desktop devices: Windows\""
      ]
     },
     "metadata": {},
     "output_type": "display_data"
    }
   ],
   "source": [
    "IRdisplay::display(paste0(\"Recommended operating system for desktop devices: \", suggested_desktop_os))"
   ]
  },
  {
   "cell_type": "code",
   "execution_count": 69,
   "id": "625435c3-dcc7-46f9-ba1a-946ae60cbac2",
   "metadata": {
    "tags": []
   },
   "outputs": [
    {
     "data": {
      "image/png": "[encoded data removed]",
      "text/plain": [
       "Plot with title \"\""
      ]
     },
     "metadata": {
      "image/png": {
       "height": 420,
       "width": 420
      }
     },
     "output_type": "display_data"
    }
   ],
   "source": [
    "desktop_OS <- load.image(desktop_operating_system_icons[suggested_desktop_os])\n",
    "plot(desktop_OS)"
   ]
  },
  {
   "cell_type": "code",
   "execution_count": 66,
   "id": "12af34b2-bb41-4825-9efc-7324c61c08ba",
   "metadata": {
    "tags": []
   },
   "outputs": [
    {
     "data": {
      "text/html": [
       "'Recommended operating system for mobile devices: Android'"
      ],
      "text/latex": [
       "'Recommended operating system for mobile devices: Android'"
      ],
      "text/markdown": [
       "'Recommended operating system for mobile devices: Android'"
      ],
      "text/plain": [
       "[1] \"Recommended operating system for mobile devices: Android\""
      ]
     },
     "metadata": {},
     "output_type": "display_data"
    }
   ],
   "source": [
    "IRdisplay::display(paste0(\"Recommended operating system for mobile devices: \", suggested_mobile_os))"
   ]
  },
  {
   "cell_type": "code",
   "execution_count": 70,
   "id": "7d67c20a-761c-41d6-9dfc-c2e8819f2889",
   "metadata": {
    "tags": []
   },
   "outputs": [
    {
     "data": {
      "image/png": "[encoded data removed]",
      "text/plain": [
       "Plot with title \"\""
      ]
     },
     "metadata": {
      "image/png": {
       "height": 420,
       "width": 420
      }
     },
     "output_type": "display_data"
    }
   ],
   "source": [
    "mobile_OS <- load.image(mobile_operating_system_icons[suggested_mobile_os])\n",
    "plot(mobile_OS)"
   ]
  },
  {
   "cell_type": "markdown",
   "id": "7e7d23cd-6066-4951-941f-16b95888db5d",
   "metadata": {
    "tags": []
   },
   "source": [
    "#### Plug type should be one of the following:"
   ]
  },
  {
   "cell_type": "code",
   "execution_count": 75,
   "id": "fe5ec676-a521-40e4-a1fa-65f28ac83d20",
   "metadata": {
    "tags": []
   },
   "outputs": [
    {
     "data": {
      "text/html": [
       "'- C'"
      ],
      "text/latex": [
       "'- C'"
      ],
      "text/markdown": [
       "'- C'"
      ],
      "text/plain": [
       "[1] \"- C\""
      ]
     },
     "metadata": {},
     "output_type": "display_data"
    },
    {
     "data": {
      "text/html": [
       "'- E'"
      ],
      "text/latex": [
       "'- E'"
      ],
      "text/markdown": [
       "'- E'"
      ],
      "text/plain": [
       "[1] \"- E\""
      ]
     },
     "metadata": {},
     "output_type": "display_data"
    },
    {
     "data": {
      "image/png": "[encoded data removed]",
      "text/plain": [
       "Plot with title \"\""
      ]
     },
     "metadata": {
      "image/png": {
       "height": 420,
       "width": 420
      }
     },
     "output_type": "display_data"
    },
    {
     "data": {
      "image/png": "[encoded data removed]",
      "text/plain": [
       "Plot with title \"\""
      ]
     },
     "metadata": {
      "image/png": {
       "height": 420,
       "width": 420
      }
     },
     "output_type": "display_data"
    }
   ],
   "source": [
    "for(plug_type in plug_types_needed){\n",
    "    IRdisplay::display(paste0(\"- \", plug_type))\n",
    "    plug_type_image <- load.image(plug_type_icons[plug_type])\n",
    "    plot(plug_type_image)\n",
    "}"
   ]
  },
  {
   "cell_type": "markdown",
   "id": "f85774c5-ef36-4aba-abfc-d86345861f9e",
   "metadata": {},
   "source": [
    "### 10. Feedback"
   ]
  },
  {
   "cell_type": "markdown",
   "id": "3f91ee09-ec6d-47b0-9bdf-8f6b67adcab3",
   "metadata": {},
   "source": [
    "__Client__; Model is correct and application is useful. However, data has to be updated manually. We need to automate the process to get periodic updates automatically. Also, we need more information about salaries for developers with skills in other technologies"
   ]
  }
 ],
 "metadata": {
  "kernelspec": {
   "display_name": "R",
   "language": "R",
   "name": "ir"
  },
  "language_info": {
   "codemirror_mode": "r",
   "file_extension": ".r",
   "mimetype": "text/x-r-source",
   "name": "R",
   "pygments_lexer": "r",
   "version": "4.3.1"
  }
 },
 "nbformat": 4,
 "nbformat_minor": 5
}
