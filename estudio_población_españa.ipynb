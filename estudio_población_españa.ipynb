{
 "cells": [
  {
   "cell_type": "markdown",
   "id": "01cc145f-f887-447b-8ca5-563496a19b67",
   "metadata": {},
   "source": [
    "# Ejemplo con información extraída del INE sobre evolución de la población"
   ]
  },
  {
   "cell_type": "markdown",
   "id": "ca8efbdf-03bf-4e7e-aa73-687703e28ef1",
   "metadata": {},
   "source": [
    "Datos extraídos del __Instituto Nacional de Estadística__ : [INE](https://www.ine.es/)"
   ]
  },
  {
   "cell_type": "markdown",
   "id": "d561b637-96f9-40ab-972e-377880e5e244",
   "metadata": {
    "tags": []
   },
   "source": [
    "![logoINE](http://localhost:8888/files/Documents/Python%20Scripts/logoINE.gif?_xsrf=2%7C70ecda57%7C3d43952d16045c41e05dcaf0f9039344%7C1689617336)"
   ]
  },
  {
   "cell_type": "markdown",
   "id": "ef3b6efc-b788-4070-902a-9b2882de6d87",
   "metadata": {},
   "source": [
    "Primero importamos los paquetes de Python que necesitamos"
   ]
  },
  {
   "cell_type": "code",
   "execution_count": 1,
   "id": "66021a6f-8a79-4e72-8aa3-d3d83c247e36",
   "metadata": {
    "tags": []
   },
   "outputs": [],
   "source": [
    "import pandas as pd\n",
    "import numpy as np\n",
    "import matplotlib.pyplot as plt\n",
    "from sklearn.linear_model import LinearRegression\n",
    "import copy"
   ]
  },
  {
   "cell_type": "markdown",
   "id": "03793224-3463-48c6-a4e4-bdfe0eceb2e3",
   "metadata": {},
   "source": [
    "Ahora importamos el cvs que contiene la información"
   ]
  },
  {
   "cell_type": "code",
   "execution_count": 2,
   "id": "25f2eecf-ce3e-4b7e-b299-de4cd87b30b3",
   "metadata": {
    "tags": []
   },
   "outputs": [],
   "source": [
    "df_population_spain_evolution: pd.DataFrame = pd.read_csv(\"pob_provincias.csv\")"
   ]
  },
  {
   "cell_type": "markdown",
   "id": "0aa7481e-4106-4cc5-b625-532dbb249b91",
   "metadata": {},
   "source": [
    "Imprimimos el dataframe para comprobar la información importada"
   ]
  },
  {
   "cell_type": "code",
   "execution_count": 3,
   "id": "ace3c4de-4055-42cb-ae04-b80d76abf4ee",
   "metadata": {
    "tags": []
   },
   "outputs": [
    {
     "name": "stdout",
     "output_type": "stream",
     "text": [
      "                          Año        2021        2020        2019        2018  \\\n",
      "0                       Total  47.385.107  47.450.795  47.026.208  46.722.980   \n",
      "1                 02 Albacete     386.464     388.270     388.167     388.786   \n",
      "2         03 Alicante/Alacant   1.881.762   1.879.888   1.858.683   1.838.819   \n",
      "3                  04 Almería     731.792     727.945     716.820     709.340   \n",
      "4              01 Araba/Álava     333.626     333.940     331.549     328.868   \n",
      "5                 33 Asturias   1.011.792   1.018.784   1.022.800   1.028.244   \n",
      "6                    05 Ávila     158.421     157.664     157.640     158.498   \n",
      "7                  06 Badajoz     669.943     672.137     673.559     676.376   \n",
      "8                  07 Balears   1.173.008   1.171.543   1.149.460   1.128.908   \n",
      "9                08 Barcelona   5.714.730   5.743.402   5.664.579   5.609.350   \n",
      "10                 48 Bizkaia   1.154.334   1.159.443   1.152.651   1.149.628   \n",
      "11                  09 Burgos     356.055     357.650     356.958     357.070   \n",
      "12                 10 Cáceres     389.558     391.850     394.151     396.487   \n",
      "13                   11 Cádiz   1.245.960   1.244.049   1.240.155   1.238.714   \n",
      "14               39 Cantabria     584.507     582.905     581.078     580.229   \n",
      "15      12 Castellón/Castelló     587.064     585.590     579.962     576.898   \n",
      "16             13 Ciudad Real     492.591     495.045     495.761     499.100   \n",
      "17                 14 Córdoba     776.789     781.451     782.979     785.240   \n",
      "18                  15 Coruña   1.120.134   1.121.815   1.119.596   1.119.351   \n",
      "19                  16 Cuenca     195.516     196.139     196.329     197.222   \n",
      "20                20 Gipuzkoa     726.033     727.121     723.576     720.592   \n",
      "21                  17 Girona     786.596     781.788     771.044     761.947   \n",
      "22                 18 Granada     921.338     919.168     914.678     912.075   \n",
      "23             19 Guadalajara     265.588     261.995     257.762     254.308   \n",
      "24                  21 Huelva     525.835     524.278     521.870     519.932   \n",
      "25                  22 Huesca     224.264     222.687     220.461     219.345   \n",
      "26                    23 Jaén     627.190     631.381     633.564     638.099   \n",
      "27                    24 León     451.706     456.439     460.001     463.746   \n",
      "28                  25 Lleida     439.727     438.517     434.930     432.866   \n",
      "29                    27 Lugo     326.013     327.946     329.587     331.327   \n",
      "30                  28 Madrid   6.751.251   6.779.888   6.663.394   6.578.079   \n",
      "31                  29 Málaga   1.695.651   1.685.920   1.661.785   1.641.121   \n",
      "32                  30 Murcia   1.518.486   1.511.251   1.493.898   1.478.509   \n",
      "33                 31 Navarra     661.537     661.197     654.214     647.554   \n",
      "34                 32 Ourense     305.223     306.650     307.651     309.293   \n",
      "35                34 Palencia     159.123     160.321     160.980     162.035   \n",
      "36                  35 Palmas   1.128.539   1.131.065   1.120.406   1.109.175   \n",
      "37              36 Pontevedra     944.275     945.408     942.665     941.772   \n",
      "38                   26 Rioja     319.796     319.914     316.798     315.675   \n",
      "39               37 Salamanca     327.338     329.245     330.119     331.473   \n",
      "40  38 Santa Cruz de Tenerife   1.044.405   1.044.887   1.032.983   1.018.510   \n",
      "41                 40 Segovia     153.663     153.478     153.129     153.342   \n",
      "42                 41 Sevilla   1.947.852   1.950.219   1.942.389   1.939.887   \n",
      "43                   42 Soria      88.747      88.884      88.636      88.600   \n",
      "44               43 Tarragona     822.309     816.772     804.664     795.902   \n",
      "45                  44 Teruel     134.545     134.176     134.137     134.572   \n",
      "46                  45 Toledo     709.403     703.772     694.844     687.391   \n",
      "47       46 Valencia/València   2.589.312   2.591.875   2.565.124   2.547.986   \n",
      "48              47 Valladolid     519.361     520.649     519.546     519.851   \n",
      "49                  49 Zamora     168.725     170.588     172.539     174.549   \n",
      "50                50 Zaragoza     967.452     972.528     964.693     954.811   \n",
      "51                   51 Ceuta      83.517      84.202      84.777      85.144   \n",
      "52                 52 Melilla      86.261      87.076      86.487      86.384   \n",
      "\n",
      "          2017        2016        2015        2014        2013  ...  \\\n",
      "0   46.572.132  46.557.008  46.624.382  46.771.341  47.129.783  ...   \n",
      "1      390.032     392.118     394.580     396.987     400.007  ...   \n",
      "2    1.825.332   1.836.459   1.855.047   1.868.438   1.945.642  ...   \n",
      "3      706.672     704.297     701.211     701.688     699.329  ...   \n",
      "4      326.574     324.126     323.648     321.932     321.417  ...   \n",
      "5    1.034.960   1.042.608   1.051.229   1.061.756   1.068.165  ...   \n",
      "6      160.700     162.514     164.925     167.015     168.825  ...   \n",
      "7      679.884     684.113     686.730     690.929     693.729  ...   \n",
      "8    1.115.999   1.107.220   1.104.479   1.103.442   1.111.674  ...   \n",
      "9    5.576.037   5.542.680   5.523.922   5.523.784   5.540.925  ...   \n",
      "10   1.148.302   1.147.576   1.148.775   1.151.905   1.156.447  ...   \n",
      "11     358.171     360.995     364.002     366.900     371.248  ...   \n",
      "12     400.036     403.665     406.267     408.703     410.275  ...   \n",
      "13   1.239.435   1.239.889   1.240.284   1.240.175   1.238.492  ...   \n",
      "14     580.295     582.206     585.179     588.656     591.888  ...   \n",
      "15     575.470     579.245     582.327     587.508     601.699  ...   \n",
      "16     502.578     506.888     513.713     519.613     524.962  ...   \n",
      "17     788.219     791.610     795.611     799.402     802.422  ...   \n",
      "18   1.120.294   1.122.799   1.127.196   1.132.735   1.138.161  ...   \n",
      "19     198.718     201.071     203.841     207.449     211.899  ...   \n",
      "20     719.282     717.832     716.834     715.148     713.818  ...   \n",
      "21     755.716     753.576     753.054     756.156     761.632  ...   \n",
      "22     912.938     915.392     917.297     919.455     919.319  ...   \n",
      "23     253.310     252.882     253.686     255.426     257.723  ...   \n",
      "24     518.930     519.596     520.017     519.229     520.668  ...   \n",
      "25     219.702     221.079     222.909     224.909     226.329  ...   \n",
      "26     643.484     648.250     654.170     659.033     664.916  ...   \n",
      "27     468.316     473.604     479.395     484.694     489.752  ...   \n",
      "28     432.384     434.041     436.029     438.001     440.915  ...   \n",
      "29     333.634     336.527     339.386     342.748     346.005  ...   \n",
      "30   6.507.184   6.466.996   6.436.996   6.454.440   6.495.551  ...   \n",
      "31   1.630.615   1.629.298   1.628.973   1.621.968   1.652.999  ...   \n",
      "32   1.470.273   1.464.847   1.467.288   1.466.818   1.472.049  ...   \n",
      "33     643.234     640.647     640.476     640.790     644.477  ...   \n",
      "34     311.680     314.853     318.391     322.293     326.724  ...   \n",
      "35     163.390     164.644     166.035     167.609     168.955  ...   \n",
      "36   1.100.480   1.097.800   1.098.406   1.100.027   1.103.850  ...   \n",
      "37     942.731     944.346     947.374     950.919     955.050  ...   \n",
      "38     315.381     315.794     317.053     319.002     322.027  ...   \n",
      "39     333.603     335.985     339.395     342.459     345.548  ...   \n",
      "40   1.007.641   1.004.124   1.001.900   1.004.788   1.014.829  ...   \n",
      "41     154.184     155.652     157.570     159.303     161.702  ...   \n",
      "42   1.939.527   1.939.775   1.941.480   1.941.355   1.942.155  ...   \n",
      "43      88.903      90.040      91.006      92.221      93.291  ...   \n",
      "44     791.693     792.299     795.101     800.962     810.178  ...   \n",
      "45     135.562     136.977     138.932     140.365     142.183  ...   \n",
      "46     686.841     688.672     693.371     699.136     706.407  ...   \n",
      "47   2.540.707   2.544.264   2.543.315   2.548.898   2.566.474  ...   \n",
      "48     521.130     523.679     526.288     529.157     532.284  ...   \n",
      "49     177.404     180.406     183.436     185.432     188.270  ...   \n",
      "50     953.486     950.507     956.006     960.111     978.638  ...   \n",
      "51      84.959      84.519      84.263      84.963      84.180  ...   \n",
      "52      86.120      86.026      85.584      84.509      83.679  ...   \n",
      "\n",
      "          2005        2004        2003        2002        2001        2000  \\\n",
      "0   44.108.530  43.197.684  42.717.064  41.837.894  41.116.842  40.499.791   \n",
      "1      384.640     379.448     376.556     371.787     367.283     363.263   \n",
      "2    1.732.389   1.657.040   1.632.349   1.557.968   1.490.265   1.445.144   \n",
      "3      612.315     580.077     565.310     546.498     533.168     518.229   \n",
      "4      299.957     295.905     294.360     291.860     288.793     286.497   \n",
      "5    1.076.635   1.073.761   1.075.381   1.073.971   1.075.329   1.076.567   \n",
      "6      167.032     166.108     165.480     165.138     163.885     164.991   \n",
      "7      671.299     663.896     663.142     662.808     664.251     661.874   \n",
      "8      983.131     955.045     947.361     916.968     878.627     845.630   \n",
      "9    5.226.354   5.117.885   5.052.666   4.906.117   4.804.606   4.736.277   \n",
      "10   1.136.181   1.132.861   1.133.428   1.133.444   1.132.616   1.132.729   \n",
      "11     361.021     356.437     355.205     352.723     349.810     347.240   \n",
      "12     412.580     411.390     410.762     410.242     409.130     407.546   \n",
      "13   1.180.817   1.164.374   1.155.724   1.140.793   1.131.346   1.125.105   \n",
      "14     562.309     554.784     549.690     542.275     537.606     531.159   \n",
      "15     543.432     527.345     518.239     501.237     485.173     474.385   \n",
      "16     500.060     492.914     487.670     484.338     478.581     476.633   \n",
      "17     784.376     779.870     775.944     771.131     769.625     769.237   \n",
      "18   1.126.707   1.121.344   1.120.814   1.111.886   1.108.002   1.108.419   \n",
      "19     207.974     204.546     202.982     201.614     201.526     201.053   \n",
      "20     688.708     686.513     684.416     682.977     680.069     679.370   \n",
      "21     664.506     636.198     619.692     598.112     579.650     565.599   \n",
      "22     860.898     841.687     828.107     818.959     812.637     809.004   \n",
      "23     203.737     193.913     185.474     177.761     171.532     165.347   \n",
      "24     483.792     476.707     472.446     464.934     461.730     458.998   \n",
      "25     215.864     212.901     211.286     208.963     205.955     205.430   \n",
      "26     660.284     654.458     651.565     647.387     645.781     645.711   \n",
      "27     495.902     492.720     495.998     496.655     499.517     502.155   \n",
      "28     399.439     385.092     377.639     371.055     365.023     361.590   \n",
      "29     357.625     358.452     360.512     361.782     364.125     365.619   \n",
      "30   5.964.143   5.804.829   5.718.942   5.527.152   5.372.433   5.205.408   \n",
      "31   1.453.409   1.397.925   1.374.890   1.330.010   1.302.240   1.278.851   \n",
      "32   1.335.792   1.294.694   1.269.230   1.226.993   1.190.378   1.149.328   \n",
      "33     593.472     584.734     578.210     569.628     556.263     543.757   \n",
      "34     339.555     340.258     342.213     343.768     344.623     345.241   \n",
      "35     173.471     173.990     175.047     176.125     177.345     178.316   \n",
      "36   1.011.928     987.128     979.606     951.037     924.558     897.595   \n",
      "37     938.311     930.931     927.555     919.934     916.176     912.621   \n",
      "38     301.084     293.553     287.390     281.614     270.400     264.178   \n",
      "39     352.414     350.984     348.271     347.120     350.209     349.733   \n",
      "40     956.352     928.412     915.262     892.718     856.808     818.681   \n",
      "41     155.517     152.640     150.701     149.286     147.028     146.613   \n",
      "42   1.813.908   1.792.420   1.782.862   1.758.720   1.747.441   1.734.917   \n",
      "43      92.773      91.652      90.954      91.487      91.314      90.911   \n",
      "44     704.907     674.144     654.149     631.156     612.086     598.533   \n",
      "45     141.091     139.333     138.686     137.342     136.233     136.473   \n",
      "46     598.256     578.060     563.099     546.538     536.131     527.965   \n",
      "47   2.416.628   2.358.919   2.320.297   2.267.503   2.227.170   2.201.200   \n",
      "48     514.674     510.863     506.302     501.157     497.961     495.690   \n",
      "49     198.045     198.524     199.688     200.678     202.356     203.469   \n",
      "50     912.072     897.350     880.118     871.209     857.565     848.006   \n",
      "51      75.276      74.654      74.931      76.152      75.694      75.241   \n",
      "52      65.488      68.016      68.463      69.184      68.789      66.263   \n",
      "\n",
      "          1999        1998 1997        1996  \n",
      "0   40.202.160  39.852.651       39.669.394  \n",
      "1      361.021     358.597          359.010  \n",
      "2    1.410.946   1.388.933        1.379.762  \n",
      "3      512.843     505.448          501.761  \n",
      "4      285.748     284.595          281.821  \n",
      "5    1.084.314   1.081.834        1.087.885  \n",
      "6      166.259     167.132          169.342  \n",
      "7      664.625     663.803          656.848  \n",
      "8      821.820     796.483          760.379  \n",
      "9    4.706.325   4.666.271        4.628.277  \n",
      "10   1.137.418   1.137.594        1.140.026  \n",
      "11     347.218     346.355          350.074  \n",
      "12     408.949     405.616          413.396  \n",
      "13   1.119.802   1.107.484        1.105.762  \n",
      "14     528.478     527.137          527.437  \n",
      "15     467.895     461.712          456.727  \n",
      "16     479.087     479.474          478.672  \n",
      "17     768.676     767.175          761.401  \n",
      "18   1.108.980   1.106.325        1.110.302  \n",
      "19     200.963     199.086          201.712  \n",
      "20     677.275     676.439          676.208  \n",
      "21     553.348     543.191          530.631  \n",
      "22     813.061     801.177          808.053  \n",
      "23     161.669     159.331          157.255  \n",
      "24     457.507     453.958          454.735  \n",
      "25     205.429     204.956          206.916  \n",
      "26     649.662     645.792          648.551  \n",
      "27     506.511     506.365          517.191  \n",
      "28     359.361     357.903          356.456  \n",
      "29     366.934     367.751          370.303  \n",
      "30   5.145.325   5.091.336        5.022.289  \n",
      "31   1.258.084   1.240.580        1.249.290  \n",
      "32   1.131.128   1.115.068        1.097.249  \n",
      "33     538.009     530.819          520.574  \n",
      "34     345.620     344.170          346.913  \n",
      "35     179.465     179.623          180.571  \n",
      "36     872.669     849.863          834.085  \n",
      "37     908.803     906.298          915.104  \n",
      "38     265.178     263.644          264.941  \n",
      "39     351.128     349.550          353.020  \n",
      "40     800.020     780.152          772.449  \n",
      "41     146.985     146.755          147.770  \n",
      "42   1.725.482   1.714.845        1.705.320  \n",
      "43      91.252      91.593           92.848  \n",
      "44     588.499     580.245          574.676  \n",
      "45     136.849     136.840          138.211  \n",
      "46     523.459     519.664          515.880  \n",
      "47   2.187.633   2.172.796        2.172.840  \n",
      "48     494.594     492.029          490.205  \n",
      "49     204.650     205.201          207.475  \n",
      "50     844.571     841.438          842.419  \n",
      "51      73.704      72.117           68.796  \n",
      "52      56.929      60.108           59.576  \n",
      "\n",
      "[53 rows x 27 columns]\n"
     ]
    }
   ],
   "source": [
    "print(df_population_spain_evolution)"
   ]
  },
  {
   "cell_type": "markdown",
   "id": "8f08629e-5f42-439f-80da-225c5e905def",
   "metadata": {
    "tags": []
   },
   "source": [
    "###### Filtramos el dataframe para quedarnos con la serie de población en Sevilla"
   ]
  },
  {
   "cell_type": "markdown",
   "id": "d8d5f3e1-c008-4542-9cc2-1bd3b04b0e10",
   "metadata": {},
   "source": [
    "### Realizamos transformaciones en el dataframe para poder usarlo\n",
    "1. Hacemos que Año sea el indice del dataframe\n",
    "2. Trasponemos la matriz\n",
    "3. Reseteamos el índice"
   ]
  },
  {
   "cell_type": "code",
   "execution_count": 4,
   "id": "4bba5ee2-fec2-44de-bb9a-8577f21356e0",
   "metadata": {
    "tags": []
   },
   "outputs": [],
   "source": [
    "df_population_spain_evolution = df_population_spain_evolution.set_index(\"Año\")\n",
    "df_population_spain_evolution = df_population_spain_evolution.transpose()\n",
    "df_population_spain_evolution = df_population_spain_evolution.reset_index(names=[\"Año\"])"
   ]
  },
  {
   "cell_type": "markdown",
   "id": "fdab46a9-4ab1-4925-a11c-843bf85aeb8f",
   "metadata": {},
   "source": [
    "4. Ahora iteramos sobre el data frame para\n",
    "+ Eliminar todos los \".\" de las cifras de población\n",
    "- Rellenar todos los valores vacíos con *NA*\n",
    "* Convertir todos los valores numéricos a integer (sustituyendo *NA* por **0**)"
   ]
  },
  {
   "cell_type": "code",
   "execution_count": 5,
   "id": "0a06a668-4eaf-4a4c-8fb5-3a0e48ac5576",
   "metadata": {
    "tags": []
   },
   "outputs": [
    {
     "name": "stderr",
     "output_type": "stream",
     "text": [
      "C:\\Users\\ingov\\AppData\\Local\\Temp\\ipykernel_13712\\2481303716.py:3: FutureWarning: The default value of regex will change from True to False in a future version. In addition, single character regular expressions will *not* be treated as literal strings when regex=True.\n",
      "  df_population_spain_evolution[column].str.replace(\".\", \"\")\n"
     ]
    }
   ],
   "source": [
    "for column in df_population_spain_evolution:\n",
    "    df_population_spain_evolution[column] = \\\n",
    "        df_population_spain_evolution[column].str.replace(\".\", \"\")\n",
    "    df_population_spain_evolution[column] = \\\n",
    "        df_population_spain_evolution[column].fillna(0)\n",
    "    df_population_spain_evolution[column] = \\\n",
    "        df_population_spain_evolution[column].replace(r'^\\s*$', np.nan,\n",
    "                                                      regex=True)\n",
    "    df_population_spain_evolution[column] = \\\n",
    "        df_population_spain_evolution[column].fillna(0).astype(int)"
   ]
  },
  {
   "cell_type": "code",
   "execution_count": 6,
   "id": "73d417ab-602f-4596-ba1e-f58e43ee2e94",
   "metadata": {
    "tags": []
   },
   "outputs": [
    {
     "name": "stdout",
     "output_type": "stream",
     "text": [
      "Año   Año  41 Sevilla\n",
      "0    2021     1947852\n",
      "1    2020     1950219\n",
      "2    2019     1942389\n",
      "3    2018     1939887\n",
      "4    2017     1939527\n",
      "5    2016     1939775\n",
      "6    2015     1941480\n",
      "7    2014     1941355\n",
      "8    2013     1942155\n",
      "9    2012     1938974\n",
      "10   2011     1928962\n",
      "11   2010     1917097\n",
      "12   2009     1900224\n",
      "13   2008     1875462\n",
      "14   2007     1849268\n",
      "15   2006     1835077\n",
      "16   2005     1813908\n",
      "17   2004     1792420\n",
      "18   2003     1782862\n",
      "19   2002     1758720\n",
      "20   2001     1747441\n",
      "21   2000     1734917\n",
      "22   1999     1725482\n",
      "23   1998     1714845\n",
      "24   1997           0\n",
      "25   1996     1705320\n"
     ]
    }
   ],
   "source": [
    "df_population_seville_evolution: pd.DataFrame = \\\n",
    "    df_population_spain_evolution[[\"Año\", \"41 Sevilla\"]]\n",
    "print(df_population_seville_evolution)"
   ]
  },
  {
   "cell_type": "markdown",
   "id": "cc9d181f-8f0c-462e-8e6c-e23544153eef",
   "metadata": {},
   "source": [
    "###### Filtramos el dataframe para quedarnos con la serie de población en Málaga"
   ]
  },
  {
   "cell_type": "code",
   "execution_count": 7,
   "id": "58d3e42b-8364-422b-834b-173a36c3cff7",
   "metadata": {
    "tags": []
   },
   "outputs": [
    {
     "name": "stdout",
     "output_type": "stream",
     "text": [
      "Año   Año  29 Málaga\n",
      "0    2021    1695651\n",
      "1    2020    1685920\n",
      "2    2019    1661785\n",
      "3    2018    1641121\n",
      "4    2017    1630615\n",
      "5    2016    1629298\n",
      "6    2015    1628973\n",
      "7    2014    1621968\n",
      "8    2013    1652999\n",
      "9    2012    1641098\n",
      "10   2011    1625827\n",
      "11   2010    1609557\n",
      "12   2009    1593068\n",
      "13   2008    1563261\n",
      "14   2007    1517523\n",
      "15   2006    1491287\n",
      "16   2005    1453409\n",
      "17   2004    1397925\n",
      "18   2003    1374890\n",
      "19   2002    1330010\n",
      "20   2001    1302240\n",
      "21   2000    1278851\n",
      "22   1999    1258084\n",
      "23   1998    1240580\n",
      "24   1997          0\n",
      "25   1996    1249290\n"
     ]
    }
   ],
   "source": [
    "df_population_malaga_evolution: pd.DataFrame = \\\n",
    "    df_population_spain_evolution[[\"Año\", \"29 Málaga\"]]\n",
    "print(df_population_malaga_evolution)"
   ]
  },
  {
   "cell_type": "markdown",
   "id": "a70b3de2-918a-4ffb-a0fe-8e68e11ce137",
   "metadata": {},
   "source": [
    "###### Extraemos la serie de años del dataframe que usaremos como eje x en el gráfico de barras"
   ]
  },
  {
   "cell_type": "code",
   "execution_count": 8,
   "id": "f70c3b1d-fed3-4972-9c3f-d138fc32838f",
   "metadata": {
    "tags": []
   },
   "outputs": [
    {
     "name": "stdout",
     "output_type": "stream",
     "text": [
      "[1996, 1997, 1998, 1999, 2000, 2001, 2002, 2003, 2004, 2005, 2006, 2007, 2008, 2009, 2010, 2011, 2012, 2013, 2014, 2015, 2016, 2017, 2018, 2019, 2020, 2021]\n"
     ]
    }
   ],
   "source": [
    "years_list: list = list(df_population_spain_evolution[\"Año\"].to_list())[::-1]\n",
    "print(years_list)"
   ]
  },
  {
   "cell_type": "markdown",
   "id": "e9183c79-e492-4caf-9348-46229608ba10",
   "metadata": {},
   "source": [
    "#### Ahora tenemos que transformar los datos para poder usarlos cómodamente para construir el gráfico"
   ]
  },
  {
   "cell_type": "markdown",
   "id": "e3670c6f-cb01-4a72-93d3-ca664184dda7",
   "metadata": {},
   "source": [
    "###### Primero extraemos la serie de población de Sevilla y la transformamos en una lista con orden cronológico de menos a más reciente"
   ]
  },
  {
   "cell_type": "code",
   "execution_count": 9,
   "id": "b19a15bb-c9ba-4dc8-81c7-03b17a5f9a58",
   "metadata": {
    "tags": []
   },
   "outputs": [
    {
     "name": "stdout",
     "output_type": "stream",
     "text": [
      "[1705320, 0, 1714845, 1725482, 1734917, 1747441, 1758720, 1782862, 1792420, 1813908, 1835077, 1849268, 1875462, 1900224, 1917097, 1928962, 1938974, 1942155, 1941355, 1941480, 1939775, 1939527, 1939887, 1942389, 1950219, 1947852]\n"
     ]
    }
   ],
   "source": [
    "seville_population_list: list = \\\n",
    "    list(df_population_seville_evolution[\"41 Sevilla\"].to_list())[::-1]\n",
    "print(seville_population_list)"
   ]
  },
  {
   "cell_type": "markdown",
   "id": "b9595252-c004-47e6-9a9a-5b0dc489b8b0",
   "metadata": {},
   "source": [
    "###### Hacemos lo mismo para la población de Málaga"
   ]
  },
  {
   "cell_type": "code",
   "execution_count": 10,
   "id": "6ed4e286-4830-46d7-9281-600a2d1d4cc4",
   "metadata": {
    "tags": []
   },
   "outputs": [
    {
     "name": "stdout",
     "output_type": "stream",
     "text": [
      "[1249290, 0, 1240580, 1258084, 1278851, 1302240, 1330010, 1374890, 1397925, 1453409, 1491287, 1517523, 1563261, 1593068, 1609557, 1625827, 1641098, 1652999, 1621968, 1628973, 1629298, 1630615, 1641121, 1661785, 1685920, 1695651]\n"
     ]
    }
   ],
   "source": [
    "malaga_population_list: list = \\\n",
    "    list(df_population_malaga_evolution[\"29 Málaga\"].to_list())[::-1]\n",
    "print(malaga_population_list)"
   ]
  },
  {
   "cell_type": "markdown",
   "id": "fe97f6f9-0def-427b-87af-70600c516514",
   "metadata": {},
   "source": [
    "###### Ahora construimos un diccionario de manera que podemos iterar sobre los diferentes grupos de datos de manera cómoda:\n",
    "###### key: [población, color_barra]"
   ]
  },
  {
   "cell_type": "code",
   "execution_count": 11,
   "id": "fffdf214-c9a3-4aa5-b675-9b264a94e4e5",
   "metadata": {
    "tags": []
   },
   "outputs": [],
   "source": [
    "bar_information: dict = {\"Sevilla\": [seville_population_list, \"#D73333\"],\n",
    "                         \"Málaga\": [malaga_population_list, \"#336CD7\"]}"
   ]
  },
  {
   "cell_type": "markdown",
   "id": "f7a05cc2-d43e-4e17-8895-1e0ea16257fb",
   "metadata": {},
   "source": [
    "###### Hacemos una serie de transformaciones para poder colocar los diferentes grupos de barras"
   ]
  },
  {
   "cell_type": "code",
   "execution_count": 12,
   "id": "dc5ba015-393a-4d53-b75d-423091e5fd1c",
   "metadata": {
    "tags": []
   },
   "outputs": [],
   "source": [
    "x = np.arange(len(years_list))\n",
    "width: float = 0.5\n",
    "i: int = 0"
   ]
  },
  {
   "cell_type": "markdown",
   "id": "a4bba237-d07a-4546-811d-c0877a14abe3",
   "metadata": {},
   "source": [
    "##### Construimos el objeto subplot inicial sobre el que añadiremos las barras"
   ]
  },
  {
   "cell_type": "code",
   "execution_count": 13,
   "id": "9ffdfb21-fab2-4242-9b5d-96b9fabccaf5",
   "metadata": {
    "tags": []
   },
   "outputs": [
    {
     "data": {
      "image/png": "[encoded data removed]",
      "text/plain": [
       "<Figure size 640x480 with 1 Axes>"
      ]
     },
     "metadata": {},
     "output_type": "display_data"
    }
   ],
   "source": [
    "fig, ax = plt.subplots(layout='constrained')\n",
    "\n",
    "# Iteramos sobre el objeto que contiene la información que queremos representar\n",
    "for city, info in bar_information.items():\n",
    "    offset = width * i\n",
    "    # Añadimos uno a uno los grupos/series de barras (cada ciudad)\n",
    "    rects = ax.bar(x + offset, info[0], width, label=city, color=info[1])\n",
    "    #ax.bar_label(rects, padding=3)\n",
    "    i += 1\n",
    "ax.set_ylabel('Población en millones')\n",
    "ax.set_title('Año')\n",
    "ax.set_xticks(x + width/2, years_list)\n",
    "ax.legend(loc='upper left', ncols=2)\n",
    "\n",
    "plt.show()"
   ]
  },
  {
   "cell_type": "markdown",
   "id": "e06ada36-dfad-4dea-91e1-407a609235fb",
   "metadata": {},
   "source": [
    "## Evolución de la población en Sevilla y Málaga"
   ]
  },
  {
   "cell_type": "markdown",
   "id": "cbc71c63-975f-4769-afd2-f497ab5401a8",
   "metadata": {},
   "source": [
    "### ¿En qué año Sevilla tuvo la población más alta de la serie? (1996-2021)"
   ]
  },
  {
   "cell_type": "code",
   "execution_count": 14,
   "id": "4695175c-24d1-4148-bab6-b69d9f8914a0",
   "metadata": {
    "tags": []
   },
   "outputs": [
    {
     "name": "stdout",
     "output_type": "stream",
     "text": [
      "Población: 1950219\n",
      "Año: 2020\n"
     ]
    }
   ],
   "source": [
    "max_population_seville: float = max(df_population_seville_evolution[\"41 Sevilla\"])\n",
    "max_population_seville_year: int = \\\n",
    "    df_population_seville_evolution[\n",
    "        (df_population_seville_evolution[\"41 Sevilla\"] ==\n",
    "         max_population_seville)][\"Año\"].iloc[0]\n",
    "print(\"Población: {0}\".format(max_population_seville))\n",
    "print(\"Año: {0}\".format(max_population_seville_year))"
   ]
  },
  {
   "cell_type": "markdown",
   "id": "393b6118-1d40-43dd-a8fb-25772358484d",
   "metadata": {},
   "source": [
    "### ¿En qué años hubo la mayor diferencia de población en Sevilla?"
   ]
  },
  {
   "cell_type": "code",
   "execution_count": 15,
   "id": "92ad3a93-8f5b-42ea-8a57-ac4832f99d7e",
   "metadata": {
    "tags": []
   },
   "outputs": [],
   "source": [
    "seville_population_differences: dict = {}\n",
    "for i in range(0, len(df_population_seville_evolution)-1):\n",
    "    # print(df_population_seville_evolution.loc[i])\n",
    "    # print(df_population_seville_evolution.loc[i+1])\n",
    "    pop_recent_year: int = df_population_seville_evolution.loc[i][\"41 Sevilla\"]\n",
    "    pop_older_year: int = df_population_seville_evolution.loc[i+1][\"41 Sevilla\"]\n",
    "    if pop_older_year == 0 or pop_recent_year == 0:\n",
    "        pass\n",
    "    else:\n",
    "        recent_year: int = df_population_seville_evolution.loc[i][\"Año\"]\n",
    "        older_year: int = df_population_seville_evolution.loc[i+1][\"Año\"]\n",
    "        anual_difference: int = pop_recent_year - pop_older_year\n",
    "        seville_population_differences[anual_difference] = (recent_year, older_year)"
   ]
  },
  {
   "cell_type": "code",
   "execution_count": 16,
   "id": "f98c2d7f-282a-4ca2-b2ad-2cf34f8147f5",
   "metadata": {
    "tags": []
   },
   "outputs": [
    {
     "name": "stdout",
     "output_type": "stream",
     "text": [
      "{-2367: (2021, 2020), 7830: (2020, 2019), 2502: (2019, 2018), 360: (2018, 2017), -248: (2017, 2016), -1705: (2016, 2015), 125: (2015, 2014), -800: (2014, 2013), 3181: (2013, 2012), 10012: (2012, 2011), 11865: (2011, 2010), 16873: (2010, 2009), 24762: (2009, 2008), 26194: (2008, 2007), 14191: (2007, 2006), 21169: (2006, 2005), 21488: (2005, 2004), 9558: (2004, 2003), 24142: (2003, 2002), 11279: (2002, 2001), 12524: (2001, 2000), 9435: (2000, 1999), 10637: (1999, 1998)}\n"
     ]
    }
   ],
   "source": [
    "print(seville_population_differences)"
   ]
  },
  {
   "cell_type": "markdown",
   "id": "0a44fc96-bfc0-4d4e-82d0-9e5328d1ee83",
   "metadata": {
    "tags": []
   },
   "source": [
    "#### Mayor **crecimiento**"
   ]
  },
  {
   "cell_type": "code",
   "execution_count": 17,
   "id": "cc4e2201-5d3e-4cda-a57c-af3a89fcc4b5",
   "metadata": {
    "tags": []
   },
   "outputs": [],
   "source": [
    "max_addition = max(seville_population_differences.keys())"
   ]
  },
  {
   "cell_type": "code",
   "execution_count": 18,
   "id": "6407a186-d7a8-4d1a-9c4a-e0b41f305050",
   "metadata": {
    "tags": []
   },
   "outputs": [
    {
     "name": "stdout",
     "output_type": "stream",
     "text": [
      "El mayor crecimiento se dio entre (2008, 2007)\n",
      "La población creció en 26194 habitantes\n"
     ]
    }
   ],
   "source": [
    "print(\"El mayor crecimiento se dio entre {0}\".format(seville_population_differences[max_addition]))\n",
    "print(\"La población creció en {0} habitantes\".format(max_addition))"
   ]
  },
  {
   "cell_type": "markdown",
   "id": "3acb5e16-427f-4bf0-898c-2b7d3886f1b2",
   "metadata": {
    "tags": []
   },
   "source": [
    " #### Mayor **caída**"
   ]
  },
  {
   "cell_type": "code",
   "execution_count": 19,
   "id": "7aebfac8-f0ea-4198-8698-ff7cddd58487",
   "metadata": {
    "tags": []
   },
   "outputs": [],
   "source": [
    "max_substraction = min(seville_population_differences.keys())"
   ]
  },
  {
   "cell_type": "code",
   "execution_count": 20,
   "id": "65568002-5c34-4807-a91a-dec71570248e",
   "metadata": {
    "tags": []
   },
   "outputs": [
    {
     "name": "stdout",
     "output_type": "stream",
     "text": [
      "La mayor caída se dio entre (2021, 2020)\n",
      "La población disminuyó en -2367 habitantes\n"
     ]
    }
   ],
   "source": [
    "print(\"La mayor caída se dio entre {0}\".format(seville_population_differences[max_substraction]))\n",
    "print(\"La población disminuyó en {0} habitantes\".format(max_substraction))"
   ]
  },
  {
   "cell_type": "markdown",
   "id": "7e33af54-cd34-4025-bab5-8b8d7f5192f7",
   "metadata": {},
   "source": [
    "|Rango Años|Variación|\n",
    "|----------|---------|\n",
    "|2020-2021|-2367 habitantes|\n",
    "|2007-2008|26194 habitantes|"
   ]
  },
  {
   "cell_type": "code",
   "execution_count": 21,
   "id": "f6f7bfc6-7a86-4faa-9135-4a8c86b1e680",
   "metadata": {
    "tags": []
   },
   "outputs": [
    {
     "name": "stdout",
     "output_type": "stream",
     "text": [
      "[1999, 2000, 2001, 2002, 2003, 2004, 2005, 2006, 2007, 2008, 2009, 2010, 2011, 2012, 2013, 2014, 2015, 2016, 2017, 2018, 2019, 2020, 2021]\n"
     ]
    }
   ],
   "source": [
    "year_variation: [] = [x[0] for x in seville_population_differences.values()][::-1]\n",
    "print(year_variation)"
   ]
  },
  {
   "cell_type": "code",
   "execution_count": 22,
   "id": "77313aa6-c527-4ed0-86a4-8177c8ddaafb",
   "metadata": {
    "tags": []
   },
   "outputs": [],
   "source": [
    "population_variation: [] = list(seville_population_differences.keys())[::-1]"
   ]
  },
  {
   "cell_type": "code",
   "execution_count": 23,
   "id": "d35c8cdb-5bdb-43c9-abd9-49e5e28985fd",
   "metadata": {
    "tags": []
   },
   "outputs": [
    {
     "name": "stdout",
     "output_type": "stream",
     "text": [
      "[10637, 9435, 12524, 11279, 24142, 9558, 21488, 21169, 14191, 26194, 24762, 16873, 11865, 10012, 3181, -800, 125, -1705, -248, 360, 2502, 7830, -2367]\n"
     ]
    }
   ],
   "source": [
    "print(population_variation)"
   ]
  },
  {
   "cell_type": "code",
   "execution_count": 24,
   "id": "a988ec03-d2e9-48e4-bfdd-6fade264eae4",
   "metadata": {
    "tags": []
   },
   "outputs": [
    {
     "data": {
      "image/png": "[encoded data removed]",
      "text/plain": [
       "<Figure size 640x480 with 1 Axes>"
      ]
     },
     "metadata": {},
     "output_type": "display_data"
    }
   ],
   "source": [
    "plt.scatter(year_variation, population_variation, s=2, marker='^', c='red')\n",
    "plt.axvline(x = 2008, color = 'b', label = 'Inicio Crisis')\n",
    "plt.axvline(x = 2020, color = 'Purple', label = 'Covid')\n",
    "plt.axhline(y = 0, color = 'Black', linestyle = '-', label = \"0\")\n",
    "plt.legend(bbox_to_anchor = (1.0, 1), loc = 'best')\n",
    "plt.ylabel('Variación en número de personas')\n",
    "plt.xlabel(\"Año\")\n",
    "plt.title(\"Variación de la población\")\n",
    "plt.show()"
   ]
  },
  {
   "cell_type": "markdown",
   "id": "2023459e-d00e-495c-9b4d-61ebb84de130",
   "metadata": {},
   "source": [
    "#### Variación de la población en Sevilla"
   ]
  },
  {
   "cell_type": "markdown",
   "id": "403c7bed-7463-4fbe-bd43-aafc14c35a4c",
   "metadata": {},
   "source": [
    "### ¿En qué provincia bajó más la población entre 2020 y 2021 (COVID)?"
   ]
  },
  {
   "cell_type": "markdown",
   "id": "a8932d90-e39f-4a35-b5bb-97a9f2a58aff",
   "metadata": {},
   "source": [
    "Lo primero será obtener la población en cada provincia entre 2020 y 2021 (en 2020 fue cuando empezó la pandemia provocada por el Covid)"
   ]
  },
  {
   "cell_type": "code",
   "execution_count": 25,
   "id": "82f15684-787b-43aa-991a-93ceac0b5c0a",
   "metadata": {
    "tags": []
   },
   "outputs": [],
   "source": [
    "df_population_spain_covid = df_population_spain_evolution[df_population_spain_evolution[\"Año\"].isin([2020, 2021])]"
   ]
  },
  {
   "cell_type": "code",
   "execution_count": 26,
   "id": "8b780d80-dd71-4173-a5cb-c2b57ec9f6e0",
   "metadata": {
    "tags": []
   },
   "outputs": [
    {
     "name": "stdout",
     "output_type": "stream",
     "text": [
      "Año   Año     Total  02 Albacete  03 Alicante/Alacant  04 Almería  \\\n",
      "0    2021  47385107       386464              1881762      731792   \n",
      "1    2020  47450795       388270              1879888      727945   \n",
      "\n",
      "Año  01 Araba/Álava  33 Asturias  05 Ávila  06 Badajoz  07 Balears  ...  \\\n",
      "0            333626      1011792    158421      669943     1173008  ...   \n",
      "1            333940      1018784    157664      672137     1171543  ...   \n",
      "\n",
      "Año  42 Soria  43 Tarragona  44 Teruel  45 Toledo  46 Valencia/València  \\\n",
      "0       88747        822309     134545     709403               2589312   \n",
      "1       88884        816772     134176     703772               2591875   \n",
      "\n",
      "Año  47 Valladolid  49 Zamora  50 Zaragoza  51 Ceuta  52 Melilla  \n",
      "0           519361     168725       967452     83517       86261  \n",
      "1           520649     170588       972528     84202       87076  \n",
      "\n",
      "[2 rows x 54 columns]\n"
     ]
    }
   ],
   "source": [
    "print(df_population_spain_covid)"
   ]
  },
  {
   "cell_type": "markdown",
   "id": "9191f529-4d4a-414f-ab35-a6c0e8056e07",
   "metadata": {},
   "source": [
    "Ahora vamos a realizar cierta manipulación de datos y creación de estructuras. Lo primero vamos a obtener sólo una lista con los nombres de todas las provincias españolas que serán las columnas de un dataframe que iremos rellenando con la variación de la población entre 2020 y 2021"
   ]
  },
  {
   "cell_type": "code",
   "execution_count": 27,
   "id": "3998b171-fc7f-4aa4-adc1-cb7fb5a42e24",
   "metadata": {
    "tags": []
   },
   "outputs": [
    {
     "name": "stdout",
     "output_type": "stream",
     "text": [
      "['02 Albacete', '03 Alicante/Alacant', '04 Almería', '01 Araba/Álava', '33 Asturias', '05 Ávila', '06 Badajoz', '07 Balears', '08 Barcelona', '48 Bizkaia', '09 Burgos', '10 Cáceres', '11 Cádiz', '39 Cantabria', '12 Castellón/Castelló', '13 Ciudad Real', '14 Córdoba', '15 Coruña', '16 Cuenca', '20 Gipuzkoa', '17 Girona', '18 Granada', '19 Guadalajara', '21 Huelva', '22 Huesca', '23 Jaén', '24 León', '25 Lleida', '27 Lugo', '28 Madrid', '29 Málaga', '30 Murcia', '31 Navarra', '32 Ourense', '34 Palencia', '35 Palmas', '36 Pontevedra', '26 Rioja', '37 Salamanca', '38 Santa Cruz de Tenerife', '40 Segovia', '41 Sevilla', '42 Soria', '43 Tarragona', '44 Teruel', '45 Toledo', '46 Valencia/València', '47 Valladolid', '49 Zamora', '50 Zaragoza', '51 Ceuta', '52 Melilla']\n"
     ]
    }
   ],
   "source": [
    "provinces = list(df_population_spain_covid.columns)\n",
    "del provinces[0]\n",
    "del provinces[0]\n",
    "print(provinces)"
   ]
  },
  {
   "cell_type": "markdown",
   "id": "5d1c2a04-a8fb-4db2-9a4d-3e602e70a525",
   "metadata": {},
   "source": [
    "Creamos un dataframe vacío cuyas columnas son cada una de las provincias del Estado. Iremos rellenando cada columna con la diferencia de la población entre 2020 y 2021 en la correspondiente provincia"
   ]
  },
  {
   "cell_type": "code",
   "execution_count": 28,
   "id": "091836c4-d18d-4a85-b85e-d29dcc39bd26",
   "metadata": {
    "tags": []
   },
   "outputs": [
    {
     "name": "stdout",
     "output_type": "stream",
     "text": [
      "Empty DataFrame\n",
      "Columns: [02 Albacete, 03 Alicante/Alacant, 04 Almería, 01 Araba/Álava, 33 Asturias, 05 Ávila, 06 Badajoz, 07 Balears, 08 Barcelona, 48 Bizkaia, 09 Burgos, 10 Cáceres, 11 Cádiz, 39 Cantabria, 12 Castellón/Castelló, 13 Ciudad Real, 14 Córdoba, 15 Coruña, 16 Cuenca, 20 Gipuzkoa, 17 Girona, 18 Granada, 19 Guadalajara, 21 Huelva, 22 Huesca, 23 Jaén, 24 León, 25 Lleida, 27 Lugo, 28 Madrid, 29 Málaga, 30 Murcia, 31 Navarra, 32 Ourense, 34 Palencia, 35 Palmas, 36 Pontevedra, 26 Rioja, 37 Salamanca, 38 Santa Cruz de Tenerife, 40 Segovia, 41 Sevilla, 42 Soria, 43 Tarragona, 44 Teruel, 45 Toledo, 46 Valencia/València, 47 Valladolid, 49 Zamora, 50 Zaragoza, 51 Ceuta, 52 Melilla]\n",
      "Index: []\n",
      "\n",
      "[0 rows x 52 columns]\n"
     ]
    }
   ],
   "source": [
    "df_population_diff = pd.DataFrame(columns = provinces)\n",
    "print(df_population_diff)"
   ]
  },
  {
   "cell_type": "markdown",
   "id": "8ab87250-0507-4519-8300-b97db9e28748",
   "metadata": {},
   "source": [
    "Ahora recorreremos el dataframe que tiene la población en cada provincia en 2020 y 2021 provincia por provincia (row será cada provincia) y calculamos la diferencia entre la población en 2021 y 2020 y usamos esa variable para darle valor a la correspondiente columna del dataframe que habíamos creado en los pasos anteriores vacío"
   ]
  },
  {
   "cell_type": "code",
   "execution_count": 29,
   "id": "34e932a3-d027-4055-82a9-84a469a6b4d6",
   "metadata": {
    "tags": []
   },
   "outputs": [
    {
     "name": "stdout",
     "output_type": "stream",
     "text": [
      "Año\n",
      "Total\n",
      "02 Albacete\n",
      "03 Alicante/Alacant\n",
      "04 Almería\n",
      "01 Araba/Álava\n",
      "33 Asturias\n",
      "05 Ávila\n",
      "06 Badajoz\n",
      "07 Balears\n",
      "08 Barcelona\n",
      "48 Bizkaia\n",
      "09 Burgos\n",
      "10 Cáceres\n",
      "11 Cádiz\n",
      "39 Cantabria\n",
      "12 Castellón/Castelló\n",
      "13 Ciudad Real\n",
      "14 Córdoba\n",
      "15 Coruña\n",
      "16 Cuenca\n",
      "20 Gipuzkoa\n",
      "17 Girona\n",
      "18 Granada\n",
      "19 Guadalajara\n",
      "21 Huelva\n",
      "22 Huesca\n",
      "23 Jaén\n",
      "24 León\n",
      "25 Lleida\n",
      "27 Lugo\n",
      "28 Madrid\n",
      "29 Málaga\n",
      "30 Murcia\n",
      "31 Navarra\n",
      "32 Ourense\n",
      "34 Palencia\n",
      "35 Palmas\n",
      "36 Pontevedra\n",
      "26 Rioja\n",
      "37 Salamanca\n",
      "38 Santa Cruz de Tenerife\n",
      "40 Segovia\n",
      "41 Sevilla\n",
      "42 Soria\n",
      "43 Tarragona\n",
      "44 Teruel\n",
      "45 Toledo\n",
      "46 Valencia/València\n",
      "47 Valladolid\n",
      "49 Zamora\n",
      "50 Zaragoza\n",
      "51 Ceuta\n",
      "52 Melilla\n"
     ]
    }
   ],
   "source": [
    "for row in df_population_spain_covid:\n",
    "    print(row)\n",
    "    if row == \"Año\" or row == \"Total\":\n",
    "        continue\n",
    "    diff_pop = df_population_spain_covid[row].iloc[0] - df_population_spain_covid[row].iloc[1]\n",
    "    df_population_diff[row] = pd.Series([diff_pop])"
   ]
  },
  {
   "cell_type": "code",
   "execution_count": 30,
   "id": "581c1ae2-d10c-46d6-b8cc-559bdbbe78e5",
   "metadata": {
    "tags": []
   },
   "outputs": [
    {
     "name": "stdout",
     "output_type": "stream",
     "text": [
      "   02 Albacete  03 Alicante/Alacant  04 Almería  01 Araba/Álava  33 Asturias  \\\n",
      "0        -1806                 1874        3847            -314        -6992   \n",
      "\n",
      "   05 Ávila  06 Badajoz  07 Balears  08 Barcelona  48 Bizkaia  ...  42 Soria  \\\n",
      "0       757       -2194        1465        -28672       -5109  ...      -137   \n",
      "\n",
      "   43 Tarragona  44 Teruel  45 Toledo  46 Valencia/València  47 Valladolid  \\\n",
      "0          5537        369       5631                 -2563          -1288   \n",
      "\n",
      "   49 Zamora  50 Zaragoza  51 Ceuta  52 Melilla  \n",
      "0      -1863        -5076      -685        -815  \n",
      "\n",
      "[1 rows x 52 columns]\n"
     ]
    }
   ],
   "source": [
    "print(df_population_diff)"
   ]
  },
  {
   "cell_type": "markdown",
   "id": "37a0481f-e4fe-4610-b3d8-a3dc8938c241",
   "metadata": {},
   "source": [
    "Ahora solo tenemos que buscar el valor mínimo"
   ]
  },
  {
   "cell_type": "code",
   "execution_count": 31,
   "id": "cea2e770-9cdc-489e-a47d-9149258294f7",
   "metadata": {
    "tags": []
   },
   "outputs": [],
   "source": [
    "# In a dataframe, we can use .min with axis=1 is applied to rows\n",
    "min_population_difference = df_population_diff.min(axis=1).loc[0]"
   ]
  },
  {
   "cell_type": "code",
   "execution_count": 32,
   "id": "5b5bcf4f-1a32-4ade-948a-d636e6dc2bed",
   "metadata": {
    "tags": []
   },
   "outputs": [],
   "source": [
    "# idxmin returns the id of the column/row with the lowest value (again axis=1 applies this to the column)\n",
    "province_min_population_difference = df_population_diff.idxmin(axis=1).loc[0]"
   ]
  },
  {
   "cell_type": "code",
   "execution_count": 33,
   "id": "fb3584ca-fbf6-4c40-9825-67d43edbe643",
   "metadata": {
    "tags": []
   },
   "outputs": [
    {
     "name": "stdout",
     "output_type": "stream",
     "text": [
      "La provincia donde más bajó la población fue 08 Barcelona con 28672 personas menos\n"
     ]
    }
   ],
   "source": [
    "print(\"La provincia donde más bajó la población fue {0} con {1} personas menos\".format(province_min_population_difference, abs(min_population_difference)))"
   ]
  },
  {
   "cell_type": "markdown",
   "id": "3f711538-48a5-411c-a4a8-2e289b1ca7b6",
   "metadata": {},
   "source": [
    "##### En términos absolutos la provincia donde más menguó la población durante la pandemia del covid fue Barcelona donde la población bajó en 28672"
   ]
  },
  {
   "cell_type": "markdown",
   "id": "b2b2d9f4-42e4-471c-810f-4074a80b8d6c",
   "metadata": {},
   "source": [
    "### Pero, ¿y en términos porcentuales?"
   ]
  },
  {
   "cell_type": "markdown",
   "id": "3795297c-f3a9-4272-b93f-cd1ebe19eabd",
   "metadata": {},
   "source": [
    "Primero definimos una función para calcular porcentajes fácilmente"
   ]
  },
  {
   "cell_type": "code",
   "execution_count": 34,
   "id": "3bd537c7-ac5b-4d13-a616-0036a6f6a342",
   "metadata": {
    "tags": []
   },
   "outputs": [],
   "source": [
    "def percentage(part: float, whole: float) -> float:\n",
    "    \"\"\"\n",
    "    Given a subset of a quantity returns what percent that subset\n",
    "    represents\n",
    "    :param part: Subset, smaller quantity\n",
    "    :param whole: Total\n",
    "    :return: Percentage that subset represents to whole\n",
    "    :rtype: float\n",
    "    \"\"\"\n",
    "    \n",
    "    return 100 * float(part)/float(whole)"
   ]
  },
  {
   "cell_type": "code",
   "execution_count": 35,
   "id": "9f5755ae-3565-454d-8f50-96e24b343b72",
   "metadata": {
    "tags": []
   },
   "outputs": [
    {
     "name": "stdout",
     "output_type": "stream",
     "text": [
      "Empty DataFrame\n",
      "Columns: [02 Albacete, 03 Alicante/Alacant, 04 Almería, 01 Araba/Álava, 33 Asturias, 05 Ávila, 06 Badajoz, 07 Balears, 08 Barcelona, 48 Bizkaia, 09 Burgos, 10 Cáceres, 11 Cádiz, 39 Cantabria, 12 Castellón/Castelló, 13 Ciudad Real, 14 Córdoba, 15 Coruña, 16 Cuenca, 20 Gipuzkoa, 17 Girona, 18 Granada, 19 Guadalajara, 21 Huelva, 22 Huesca, 23 Jaén, 24 León, 25 Lleida, 27 Lugo, 28 Madrid, 29 Málaga, 30 Murcia, 31 Navarra, 32 Ourense, 34 Palencia, 35 Palmas, 36 Pontevedra, 26 Rioja, 37 Salamanca, 38 Santa Cruz de Tenerife, 40 Segovia, 41 Sevilla, 42 Soria, 43 Tarragona, 44 Teruel, 45 Toledo, 46 Valencia/València, 47 Valladolid, 49 Zamora, 50 Zaragoza, 51 Ceuta, 52 Melilla]\n",
      "Index: []\n",
      "\n",
      "[0 rows x 52 columns]\n"
     ]
    }
   ],
   "source": [
    "# Now we have to create another empty dataframe to contain the relation province-growth percentage\n",
    "df_growth_percentage_covid_spain = pd.DataFrame(columns = provinces)\n",
    "print(df_growth_percentage_covid_spain)"
   ]
  },
  {
   "cell_type": "code",
   "execution_count": 36,
   "id": "604bd999-172f-4f82-a07c-62569fea19e5",
   "metadata": {
    "tags": []
   },
   "outputs": [
    {
     "name": "stdout",
     "output_type": "stream",
     "text": [
      "For province 02 Albacete growth was -1806 of a total of 388270 which means -0.46514023746362065%\n",
      "For province 03 Alicante/Alacant growth was 1874 of a total of 1879888 which means 0.09968678985131028%\n",
      "For province 04 Almería growth was 3847 of a total of 727945 which means 0.5284739918537802%\n",
      "For province 01 Araba/Álava growth was -314 of a total of 333940 which means -0.09402886746122058%\n",
      "For province 33 Asturias growth was -6992 of a total of 1018784 which means -0.6863083833275748%\n",
      "For province 05 Ávila growth was 757 of a total of 157664 which means 0.4801349705703268%\n",
      "For province 06 Badajoz growth was -2194 of a total of 672137 which means -0.3264215479879846%\n",
      "For province 07 Balears growth was 1465 of a total of 1171543 which means 0.12504876048083596%\n",
      "For province 08 Barcelona growth was -28672 of a total of 5743402 which means -0.499216318133399%\n",
      "For province 48 Bizkaia growth was -5109 of a total of 1159443 which means -0.44064261891270207%\n",
      "For province 09 Burgos growth was -1595 of a total of 357650 which means -0.44596672724730885%\n",
      "For province 10 Cáceres growth was -2292 of a total of 391850 which means -0.5849176980987623%\n",
      "For province 11 Cádiz growth was 1911 of a total of 1244049 which means 0.15361131273768155%\n",
      "For province 39 Cantabria growth was 1602 of a total of 582905 which means 0.27483037544711403%\n",
      "For province 12 Castellón/Castelló growth was 1474 of a total of 585590 which means 0.2517119486330026%\n",
      "For province 13 Ciudad Real growth was -2454 of a total of 495045 which means -0.49571251098384994%\n",
      "For province 14 Córdoba growth was -4662 of a total of 781451 which means -0.5965825112515052%\n",
      "For province 15 Coruña growth was -1681 of a total of 1121815 which means -0.14984645418362208%\n",
      "For province 16 Cuenca growth was -623 of a total of 196139 which means -0.3176318835111834%\n",
      "For province 20 Gipuzkoa growth was -1088 of a total of 727121 which means -0.14963121681260752%\n",
      "For province 17 Girona growth was 4808 of a total of 781788 which means 0.615000486065276%\n",
      "For province 18 Granada growth was 2170 of a total of 919168 which means 0.23608306642528895%\n",
      "For province 19 Guadalajara growth was 3593 of a total of 261995 which means 1.3714002175614037%\n",
      "For province 21 Huelva growth was 1557 of a total of 524278 which means 0.2969798465699495%\n",
      "For province 22 Huesca growth was 1577 of a total of 222687 which means 0.7081688648192306%\n",
      "For province 23 Jaén growth was -4191 of a total of 631381 which means -0.663783040667996%\n",
      "For province 24 León growth was -4733 of a total of 456439 which means -1.036940314039773%\n",
      "For province 25 Lleida growth was 1210 of a total of 438517 which means 0.27593000955493174%\n",
      "For province 27 Lugo growth was -1933 of a total of 327946 which means -0.5894263079897301%\n",
      "For province 28 Madrid growth was -28637 of a total of 6779888 which means -0.4223816086637419%\n",
      "For province 29 Málaga growth was 9731 of a total of 1685920 which means 0.5771922748410363%\n",
      "For province 30 Murcia growth was 7235 of a total of 1511251 which means 0.47874244582799286%\n",
      "For province 31 Navarra growth was 340 of a total of 661197 which means 0.05142189090392122%\n",
      "For province 32 Ourense growth was -1427 of a total of 306650 which means -0.4653513777922713%\n",
      "For province 34 Palencia growth was -1198 of a total of 160321 which means -0.7472508280262723%\n",
      "For province 35 Palmas growth was -2526 of a total of 1131065 which means -0.22332934004677008%\n",
      "For province 36 Pontevedra growth was -1133 of a total of 945408 which means -0.11984243839696723%\n",
      "For province 26 Rioja growth was -118 of a total of 319914 which means -0.03688491282032046%\n",
      "For province 37 Salamanca growth was -1907 of a total of 329245 which means -0.5792039362784552%\n",
      "For province 38 Santa Cruz de Tenerife growth was -482 of a total of 1044887 which means -0.046129390068016925%\n",
      "For province 40 Segovia growth was 185 of a total of 153478 which means 0.12053844850727792%\n",
      "For province 41 Sevilla growth was -2367 of a total of 1950219 which means -0.12137098448943426%\n",
      "For province 42 Soria growth was -137 of a total of 88884 which means -0.15413347734125377%\n",
      "For province 43 Tarragona growth was 5537 of a total of 816772 which means 0.6779125631143085%\n",
      "For province 44 Teruel growth was 369 of a total of 134176 which means 0.2750119246362986%\n",
      "For province 45 Toledo growth was 5631 of a total of 703772 which means 0.8001170833735926%\n",
      "For province 46 Valencia/València growth was -2563 of a total of 2591875 which means -0.09888594164456234%\n",
      "For province 47 Valladolid growth was -1288 of a total of 520649 which means -0.24738355398742723%\n",
      "For province 49 Zamora growth was -1863 of a total of 170588 which means -1.0921049546275237%\n",
      "For province 50 Zaragoza growth was -5076 of a total of 972528 which means -0.5219386999654508%\n",
      "For province 51 Ceuta growth was -685 of a total of 84202 which means -0.8135198688867248%\n",
      "For province 52 Melilla growth was -815 of a total of 87076 which means -0.9359639854839451%\n"
     ]
    }
   ],
   "source": [
    "# Now we go through the dataframe we created previously that contains only the difference in population between years 2021 and 2020 and apply\n",
    "# the function percentage to get what percentage that figure if compared to the overal population in 2020\n",
    "for row in df_population_diff:\n",
    "    part = df_population_diff[row].iloc[0]\n",
    "    whole = df_population_spain_covid[row].iloc[1]\n",
    "    percentage_growth = percentage(part, whole)\n",
    "    print(\"For province {0} growth was {1} of a total of {2} which means {3}%\".format(row, part, whole, percentage_growth))\n",
    "    df_growth_percentage_covid_spain[row] = pd.Series([percentage_growth])"
   ]
  },
  {
   "cell_type": "code",
   "execution_count": 37,
   "id": "34869a08-e18f-4288-8365-93482043ad32",
   "metadata": {
    "tags": []
   },
   "outputs": [
    {
     "name": "stdout",
     "output_type": "stream",
     "text": [
      "   02 Albacete  03 Alicante/Alacant  04 Almería  01 Araba/Álava  33 Asturias  \\\n",
      "0     -0.46514             0.099687    0.528474       -0.094029    -0.686308   \n",
      "\n",
      "   05 Ávila  06 Badajoz  07 Balears  08 Barcelona  48 Bizkaia  ...  42 Soria  \\\n",
      "0  0.480135   -0.326422    0.125049     -0.499216   -0.440643  ... -0.154133   \n",
      "\n",
      "   43 Tarragona  44 Teruel  45 Toledo  46 Valencia/València  47 Valladolid  \\\n",
      "0      0.677913   0.275012   0.800117             -0.098886      -0.247384   \n",
      "\n",
      "   49 Zamora  50 Zaragoza  51 Ceuta  52 Melilla  \n",
      "0  -1.092105    -0.521939  -0.81352   -0.935964  \n",
      "\n",
      "[1 rows x 52 columns]\n"
     ]
    }
   ],
   "source": [
    "print(df_growth_percentage_covid_spain)"
   ]
  },
  {
   "cell_type": "code",
   "execution_count": 38,
   "id": "4211884f-c0fe-49cb-a3aa-91482dd82b50",
   "metadata": {
    "tags": []
   },
   "outputs": [],
   "source": [
    "# Now we only have to apply the same functions as we did in the previous problem to get the min\n",
    "min_growth_percentage = df_growth_percentage_covid_spain.min(axis=1).loc[0]"
   ]
  },
  {
   "cell_type": "code",
   "execution_count": 39,
   "id": "279e6be0-8dd8-40db-a418-481cd0896a6a",
   "metadata": {
    "tags": []
   },
   "outputs": [],
   "source": [
    "min_growth_province = df_growth_percentage_covid_spain.idxmin(axis=1).loc[0]"
   ]
  },
  {
   "cell_type": "code",
   "execution_count": 40,
   "id": "6accb6e1-36dc-4771-9871-a462738282c7",
   "metadata": {
    "tags": []
   },
   "outputs": [
    {
     "name": "stdout",
     "output_type": "stream",
     "text": [
      "La provincia donde en proporción la población dismimuyó más en 2021 fue 49 Zamora donde disminuyó un 1.0921049546275237%\n"
     ]
    }
   ],
   "source": [
    "print(\"La provincia donde en proporción la población dismimuyó más en 2021 fue {0} donde disminuyó un {1}%\".format(min_growth_province, abs(min_growth_percentage)))"
   ]
  },
  {
   "cell_type": "markdown",
   "id": "d0189b6c-4e57-45f6-8a3c-834c6a168f42",
   "metadata": {},
   "source": [
    "#### La provincia donde en proporción más disminuyó la población en 2021 por tanto fue Zamora con un 1.09% menos de población en 2021 que en 2020"
   ]
  },
  {
   "cell_type": "markdown",
   "id": "99801d41-ca07-400e-854a-30dc6ce5ff7d",
   "metadata": {},
   "source": [
    "## Representación gráfica de la población actual (2021) por provincias"
   ]
  },
  {
   "cell_type": "code",
   "execution_count": 41,
   "id": "de215667-8f21-4bf6-b08b-7f0b57c5e920",
   "metadata": {
    "tags": []
   },
   "outputs": [],
   "source": [
    "df_population_spain_2021_provinces = df_population_spain_evolution[df_population_spain_evolution[\"Año\"] == 2021]"
   ]
  },
  {
   "cell_type": "code",
   "execution_count": 42,
   "id": "c0a05c5e-d5b2-4482-a2f0-be449d223f36",
   "metadata": {
    "tags": []
   },
   "outputs": [
    {
     "name": "stdout",
     "output_type": "stream",
     "text": [
      "Año   Año     Total  02 Albacete  03 Alicante/Alacant  04 Almería  \\\n",
      "0    2021  47385107       386464              1881762      731792   \n",
      "\n",
      "Año  01 Araba/Álava  33 Asturias  05 Ávila  06 Badajoz  07 Balears  ...  \\\n",
      "0            333626      1011792    158421      669943     1173008  ...   \n",
      "\n",
      "Año  42 Soria  43 Tarragona  44 Teruel  45 Toledo  46 Valencia/València  \\\n",
      "0       88747        822309     134545     709403               2589312   \n",
      "\n",
      "Año  47 Valladolid  49 Zamora  50 Zaragoza  51 Ceuta  52 Melilla  \n",
      "0           519361     168725       967452     83517       86261  \n",
      "\n",
      "[1 rows x 54 columns]\n"
     ]
    }
   ],
   "source": [
    "print(df_population_spain_2021_provinces)"
   ]
  },
  {
   "cell_type": "code",
   "execution_count": 43,
   "id": "364afe4d-de0e-4038-ba38-95e7da02a035",
   "metadata": {
    "tags": []
   },
   "outputs": [
    {
     "name": "stderr",
     "output_type": "stream",
     "text": [
      "C:\\Users\\ingov\\AppData\\Local\\Temp\\ipykernel_13712\\3211679342.py:1: SettingWithCopyWarning: \n",
      "A value is trying to be set on a copy of a slice from a DataFrame\n",
      "\n",
      "See the caveats in the documentation: https://pandas.pydata.org/pandas-docs/stable/user_guide/indexing.html#returning-a-view-versus-a-copy\n",
      "  df_population_spain_2021_provinces.drop([\"Año\", \"Total\"], axis=1, inplace=True)\n"
     ]
    }
   ],
   "source": [
    "df_population_spain_2021_provinces.drop([\"Año\", \"Total\"], axis=1, inplace=True)"
   ]
  },
  {
   "cell_type": "code",
   "execution_count": 44,
   "id": "23d47b49-2011-48f3-b3b2-2252f87210d2",
   "metadata": {
    "tags": []
   },
   "outputs": [],
   "source": [
    "population_provinces_2021_list = list(df_population_spain_2021_provinces.iloc[0])"
   ]
  },
  {
   "cell_type": "code",
   "execution_count": 45,
   "id": "d3666f0f-329c-42b0-b17b-b5cc29c0ab6b",
   "metadata": {
    "tags": []
   },
   "outputs": [
    {
     "name": "stdout",
     "output_type": "stream",
     "text": [
      "['02', '03', '04', '01', '33', '05', '06', '07', '08', '48', '09', '10', '11', '39', '12', '13', '14', '15', '16', '20', '17', '18', '19', '21', '22', '23', '24', '25', '27', '28', '29', '30', '31', '32', '34', '35', '36', '26', '37', '38', '40', '41', '42', '43', '44', '45', '46', '47', '49', '50', '51', '52']\n"
     ]
    }
   ],
   "source": [
    "provinces_names = list(df_population_spain_2021_provinces.columns)\n",
    "import re\n",
    "zip_codes = [re.sub(\"[^0-9]\", \"\", x) for x in provinces_names]\n",
    "print(zip_codes)"
   ]
  },
  {
   "cell_type": "code",
   "execution_count": 46,
   "id": "520fb6a4-8f49-4a4f-b73e-19991ab5beca",
   "metadata": {
    "tags": []
   },
   "outputs": [
    {
     "data": {
      "text/plain": [
       "<matplotlib.legend.Legend at 0x1ee03830b10>"
      ]
     },
     "execution_count": 46,
     "metadata": {},
     "output_type": "execute_result"
    },
    {
     "data": {
      "image/png": "[encoded data removed]",
      "text/plain": [
       "<Figure size 640x480 with 1 Axes>"
      ]
     },
     "metadata": {},
     "output_type": "display_data"
    }
   ],
   "source": [
    "fig, ax = plt.subplots()\n",
    "ax.pie(population_provinces_2021_list, labels=zip_codes)\n",
    "ax.set_title(\"Población por provincias\")\n",
    "ax.legend(labels=provinces_names, bbox_to_anchor=(1.2,0), loc=\"lower right\", \n",
    "                          bbox_transform=plt.gcf().transFigure)"
   ]
  },
  {
   "cell_type": "markdown",
   "id": "b298eda0-4e7e-4efc-a4ad-055bb69bd457",
   "metadata": {},
   "source": [
    "#### Gráfico que representa la proporción de la población en las distintas provincias españolas"
   ]
  },
  {
   "cell_type": "markdown",
   "id": "36bc736c-3d14-41b2-bde2-98de26b9a8f7",
   "metadata": {
    "tags": []
   },
   "source": [
    " "
   ]
  },
  {
   "cell_type": "markdown",
   "id": "8328c980-2e8d-4c5b-880b-998af867f8ab",
   "metadata": {},
   "source": [
    "### Predicción de la población en la provincia de Sevilla: ¿Es el incremento lineal?"
   ]
  },
  {
   "cell_type": "markdown",
   "id": "4f068029-7802-43b6-ad80-2526cef02a62",
   "metadata": {},
   "source": [
    "Lo primero será manipular los datos para obtener un array de valores para \"x\" y para ¨y\" válidos para el modelo de regresión lineal"
   ]
  },
  {
   "cell_type": "code",
   "execution_count": 47,
   "id": "3e87d4e2-853f-4b5f-8fbc-61a7cd9658f8",
   "metadata": {
    "tags": []
   },
   "outputs": [
    {
     "name": "stdout",
     "output_type": "stream",
     "text": [
      "[1705320, 1714845, 1725482, 1734917, 1747441, 1758720, 1782862, 1792420, 1813908, 1835077, 1849268, 1875462, 1900224, 1917097, 1928962, 1938974, 1942155, 1941355, 1941480, 1939775, 1939527, 1939887, 1942389, 1950219, 1947852]\n"
     ]
    }
   ],
   "source": [
    "seville_population_list_regression = copy.deepcopy(seville_population_list)\n",
    "del seville_population_list_regression[1]\n",
    "print(seville_population_list_regression)"
   ]
  },
  {
   "cell_type": "code",
   "execution_count": 48,
   "id": "3fcc69e4-3e9f-408a-8a32-2874dd5fe56c",
   "metadata": {
    "tags": []
   },
   "outputs": [
    {
     "name": "stdout",
     "output_type": "stream",
     "text": [
      "[1996, 1998, 1999, 2000, 2001, 2002, 2003, 2004, 2005, 2006, 2007, 2008, 2009, 2010, 2011, 2012, 2013, 2014, 2015, 2016, 2017, 2018, 2019, 2020, 2021]\n"
     ]
    }
   ],
   "source": [
    "years_list_regression = copy.deepcopy(years_list)\n",
    "del years_list_regression[1]\n",
    "print(years_list_regression)"
   ]
  },
  {
   "cell_type": "markdown",
   "id": "1d407ee5-8f0f-40bb-a1ac-1933fbbe1a63",
   "metadata": {
    "tags": []
   },
   "source": [
    "Ya tenemos los valores correctos para los ejes \"x\" (el año) e \"y\" (la población). Ahora los transformamos a los formatos correctos\n",
    "X necesita que realicemos la operación de convertirlo en array de numpy y luego hacerle reshape para que sea una matrix de una columna y cuantas filas sean (el metodo \"fit\" de LinearRegression lo necesita). También convertimos \"y\" a un array de numpy"
   ]
  },
  {
   "cell_type": "code",
   "execution_count": 49,
   "id": "79192ce6-a38e-44ed-abe8-f61f8c35c7f9",
   "metadata": {
    "tags": []
   },
   "outputs": [],
   "source": [
    "x = np.array(years_list_regression).reshape((-1, 1))"
   ]
  },
  {
   "cell_type": "code",
   "execution_count": 50,
   "id": "e1107910-243e-427d-83f7-b474de7f5df1",
   "metadata": {
    "tags": []
   },
   "outputs": [],
   "source": [
    "y = np.array(seville_population_list_regression)"
   ]
  },
  {
   "cell_type": "markdown",
   "id": "a6d3ab82-358b-4188-b155-2ebca8874ba7",
   "metadata": {},
   "source": [
    "Ya tenemos los datos de la muestra en el formato, por lo tanto creamos el modelo. Para ello llamamos a LinearRegression y ejecutamos su método fit\n",
    "que nos devolverá el objeto del modelo"
   ]
  },
  {
   "cell_type": "code",
   "execution_count": 51,
   "id": "aea8bb42-62db-402f-99d2-44215e10f320",
   "metadata": {
    "tags": []
   },
   "outputs": [],
   "source": [
    "model = LinearRegression().fit(x, y)"
   ]
  },
  {
   "cell_type": "markdown",
   "id": "ad42b572-46ba-4ec6-994f-ef7292a7ee4b",
   "metadata": {
    "tags": []
   },
   "source": [
    "Podemos obtener ahora el coeficiente de determinación (R2)"
   ]
  },
  {
   "cell_type": "code",
   "execution_count": 52,
   "id": "9470ca57-4f07-44c8-8d8e-181c8b792e37",
   "metadata": {
    "tags": []
   },
   "outputs": [],
   "source": [
    "r_sq = model.score(x, y)"
   ]
  },
  {
   "cell_type": "code",
   "execution_count": 53,
   "id": "b300031c-f949-4689-8388-dce5a5866e1b",
   "metadata": {
    "tags": []
   },
   "outputs": [
    {
     "name": "stdout",
     "output_type": "stream",
     "text": [
      "0.9034196126035285\n"
     ]
    }
   ],
   "source": [
    "print(r_sq)"
   ]
  },
  {
   "cell_type": "markdown",
   "id": "65bcb3e4-4d79-4b86-ba11-c29de2ca4c20",
   "metadata": {},
   "source": [
    "Al ser 0.9 pero no estar por encima, podemos decir que es bueno pero no excelente"
   ]
  },
  {
   "cell_type": "markdown",
   "id": "77282070-957c-487e-8486-668806437e6a",
   "metadata": {},
   "source": [
    "Ahora usamos de nuevo los datos de \"x\" (los años) para predecir cual debería ser la población si la relación entre tiempo y población fuese lineal. Añadiremos algunos años más para obtener predicciones para años futuros"
   ]
  },
  {
   "cell_type": "code",
   "execution_count": 54,
   "id": "de85b265-ca5a-4069-b19c-9bc1795b01e3",
   "metadata": {
    "tags": []
   },
   "outputs": [
    {
     "name": "stdout",
     "output_type": "stream",
     "text": [
      "[1996 1998 1999 2000 2001 2002 2003 2004 2005 2006 2007 2008 2009 2010\n",
      " 2011 2012 2013 2014 2015 2016 2017 2018 2019 2020 2021 2022 2023 2024\n",
      " 2025 2026 2027 2028 2029 2030]\n"
     ]
    }
   ],
   "source": [
    "x_pred = np.append(x, [e for e in range(2022, 2031)])\n",
    "print(x_pred)\n",
    "x_pred = x_pred.reshape((-1, 1))"
   ]
  },
  {
   "cell_type": "code",
   "execution_count": 55,
   "id": "10e81934-a24d-4a39-bc64-4743e0ff6f0f",
   "metadata": {
    "tags": []
   },
   "outputs": [],
   "source": [
    "y_pred = model.predict(x_pred)"
   ]
  },
  {
   "cell_type": "code",
   "execution_count": 56,
   "id": "b14646c6-9fd1-4a4c-8317-7fa54ba2dac0",
   "metadata": {
    "tags": []
   },
   "outputs": [
    {
     "name": "stdout",
     "output_type": "stream",
     "text": [
      "[1711602.18427726 1734537.76077768 1746005.54902789 1757473.33727811\n",
      " 1768941.12552832 1780408.91377853 1791876.70202874 1803344.49027895\n",
      " 1814812.27852916 1826280.06677937 1837747.85502958 1849215.64327979\n",
      " 1860683.43153001 1872151.21978022 1883619.00803043 1895086.79628064\n",
      " 1906554.58453085 1918022.37278106 1929490.16103128 1940957.94928149\n",
      " 1952425.7375317  1963893.52578191 1975361.31403212 1986829.10228233\n",
      " 1998296.89053254 2009764.67878275 2021232.46703297 2032700.25528318\n",
      " 2044168.04353339 2055635.8317836  2067103.62003381 2078571.40828402\n",
      " 2090039.19653424 2101506.98478444]\n"
     ]
    }
   ],
   "source": [
    "print(y_pred)"
   ]
  },
  {
   "cell_type": "markdown",
   "id": "5a37ec08-c46e-4c76-a1fa-c009161b928a",
   "metadata": {},
   "source": [
    "Finalmente representamos la población real como nube de puntos y la estimación lineal en función lineal"
   ]
  },
  {
   "cell_type": "code",
   "execution_count": 57,
   "id": "d8950803-e4de-492a-9606-4c0bade6518c",
   "metadata": {
    "tags": []
   },
   "outputs": [
    {
     "data": {
      "image/png": "[encoded data removed]",
      "text/plain": [
       "<Figure size 400x300 with 1 Axes>"
      ]
     },
     "metadata": {},
     "output_type": "display_data"
    }
   ],
   "source": [
    "plt.figure(figsize=(4, 3))\n",
    "ax = plt.axes()\n",
    "ax.scatter(x, y, color = \"cyan\")\n",
    "ax.plot(x_pred, y_pred, color = \"orange\")\n",
    "ax.set_xlabel('Año')\n",
    "ax.set_ylabel('Población en millones')\n",
    "ax.set_title(\"Predicciones lineales de población en la provincia de Sevilla\")\n",
    "\n",
    "ax.axis('tight')\n",
    "\n",
    "plt.show()"
   ]
  }
 ],
 "metadata": {
  "kernelspec": {
   "display_name": "Python 3 (ipykernel)",
   "language": "python",
   "name": "python3"
  },
  "language_info": {
   "codemirror_mode": {
    "name": "ipython",
    "version": 3
   },
   "file_extension": ".py",
   "mimetype": "text/x-python",
   "name": "python",
   "nbconvert_exporter": "python",
   "pygments_lexer": "ipython3",
   "version": "3.11.3"
  }
 },
 "nbformat": 4,
 "nbformat_minor": 5
}
