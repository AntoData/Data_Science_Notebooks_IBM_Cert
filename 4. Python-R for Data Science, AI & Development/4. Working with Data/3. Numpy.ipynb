{
 "cells": [
  {
   "cell_type": "markdown",
   "id": "809a7bd2-b776-439b-bb8d-5c818c17c6ba",
   "metadata": {},
   "source": [
    "## Numpy\n",
    "\n",
    "__Numpy__ is a library provides support for large, multi-dimensional arrays and matrices, along with a large collection of high-level mathematical functions to operate on these arrays\n",
    "\n",
    "pip3 install numpy\n",
    "\n",
    "We need to import the library before using it"
   ]
  },
  {
   "cell_type": "markdown",
   "id": "b0672b76-41fd-4ff1-93c3-715010e72870",
   "metadata": {},
   "source": [
    "#### 1-D arrays\n",
    "\n",
    "- numpy.array([value1, value2, ...])\n",
    "  - All elements are of the same type\n",
    "  - The type of the array will be numpy.ndarray\n",
    "  - Type of the data:  var.dtype\n",
    "  - Size of the array (number of elements): var.size\n",
    "  - Number of array dimensions: var.ndim\n",
    "  - Shape: var.shape"
   ]
  },
  {
   "cell_type": "code",
   "execution_count": 1,
   "id": "fa51f48f-ae6a-4567-93af-a9aa5fb47213",
   "metadata": {},
   "outputs": [
    {
     "name": "stdout",
     "output_type": "stream",
     "text": [
      "[ 1  3 -2  2  5 -3 -5]\n",
      "Type: <class 'numpy.ndarray'>\n",
      "Element type: int32\n",
      "Size (num of el): 7\n",
      "ndim (num of dimensions): 1\n",
      "shape: (7,)\n"
     ]
    }
   ],
   "source": [
    "import numpy as np\n",
    "\n",
    "np_array = np.array([1, 3, -2, 2, 5, -3, -5])\n",
    "print(np_array)\n",
    "print(\"Type: {}\".format(type(np_array)))\n",
    "print(\"Element type: {}\".format(np_array.dtype))\n",
    "print(\"Size (num of el): {}\".format(np_array.size))\n",
    "print(\"ndim (num of dimensions): {}\".format(np_array.ndim))\n",
    "print(\"shape: {0}\".format(np_array.shape))"
   ]
  },
  {
   "cell_type": "markdown",
   "id": "8764e36a-e743-4f55-9f14-b22d2805aa32",
   "metadata": {},
   "source": [
    "#### Indexing and slicing\n",
    "\n",
    "- var_array[i]: To get element in position i\n",
    "- var_array[m:n]: Element from position n to m-1\n",
    "- var_array[m:n] = value1, value2, ... : To assign values to that slice of the array\n",
    "- var_array[[list of positions]] = value1, value2, ...: Same as above but applied to the positions in the list"
   ]
  },
  {
   "cell_type": "code",
   "execution_count": 2,
   "id": "c3b19c9d-8b12-4952-ab88-622b75d6b72f",
   "metadata": {},
   "outputs": [
    {
     "name": "stdout",
     "output_type": "stream",
     "text": [
      "3\n"
     ]
    }
   ],
   "source": [
    "# var_array[i]\n",
    "print(np_array[1])"
   ]
  },
  {
   "cell_type": "code",
   "execution_count": 3,
   "id": "348bd53f-29dd-488c-acb4-3502969132d0",
   "metadata": {},
   "outputs": [
    {
     "name": "stdout",
     "output_type": "stream",
     "text": [
      "[-2  2  5 -3]\n"
     ]
    }
   ],
   "source": [
    "# var_array[m: n]\n",
    "print(np_array[2:6])"
   ]
  },
  {
   "cell_type": "code",
   "execution_count": 4,
   "id": "afbc278c-475e-4eb7-b274-7fa755cd7476",
   "metadata": {},
   "outputs": [
    {
     "name": "stdout",
     "output_type": "stream",
     "text": [
      "[ 1  3  5  4  3  2 -5]\n"
     ]
    }
   ],
   "source": [
    "# var_array[m: n] = value1, value2, value3\n",
    "np_array[2:6] = 5, 4, 3, 2\n",
    "print(np_array)"
   ]
  },
  {
   "cell_type": "code",
   "execution_count": 5,
   "id": "ac2d4945-3b8a-4314-b025-1a17cdd86e90",
   "metadata": {},
   "outputs": [
    {
     "name": "stdout",
     "output_type": "stream",
     "text": [
      "[ 1 -2  5 -4  3 -6 -5]\n"
     ]
    }
   ],
   "source": [
    "# var_array[list of positions] = value1, value2, ...\n",
    "np_array[[1,3,5]] = -2, -4, -6\n",
    "print(np_array)"
   ]
  },
  {
   "cell_type": "code",
   "execution_count": 6,
   "id": "11125a58-83b0-40a0-a439-f3181f2f84af",
   "metadata": {},
   "outputs": [
    {
     "name": "stdout",
     "output_type": "stream",
     "text": [
      "[ 1 -2  5 -4  3 -6 -5]\n"
     ]
    }
   ],
   "source": [
    "print(np_array)"
   ]
  },
  {
   "cell_type": "markdown",
   "id": "0d2bf4c6-7f30-4ca6-873d-16cbef428411",
   "metadata": {},
   "source": [
    "#### Basic operations\n",
    "\n",
    "- Addition:\n",
    "  - z = u + v\n",
    "  - numpy.add(u, v)"
   ]
  },
  {
   "cell_type": "code",
   "execution_count": 7,
   "id": "dbe62509-4677-41e1-9b26-1034fa58641f",
   "metadata": {},
   "outputs": [
    {
     "name": "stdout",
     "output_type": "stream",
     "text": [
      "[2 2 2]\n"
     ]
    }
   ],
   "source": [
    "u = np.array([0, 1, 2])\n",
    "v = np.array([2, 1, 0])\n",
    "z = u + v\n",
    "print(z)"
   ]
  },
  {
   "cell_type": "code",
   "execution_count": 8,
   "id": "cb7845e6-7fa7-4d64-9d8f-561c06384d2a",
   "metadata": {},
   "outputs": [
    {
     "name": "stdout",
     "output_type": "stream",
     "text": [
      "[2 2 2]\n"
     ]
    }
   ],
   "source": [
    "u1 = np.array([0, 1, 2])\n",
    "v1 = np.array([2, 1, 0])\n",
    "z1 = np.add(u1, v1)\n",
    "print(z1)"
   ]
  },
  {
   "cell_type": "markdown",
   "id": "46719390-a471-4e46-92b0-2e2cb4f2eac7",
   "metadata": {},
   "source": [
    "- Addition of a constant:\n",
    "  - z = u + n"
   ]
  },
  {
   "cell_type": "code",
   "execution_count": 9,
   "id": "4091ed2a-1181-4d50-bb92-d6257c772e5e",
   "metadata": {},
   "outputs": [
    {
     "name": "stdout",
     "output_type": "stream",
     "text": [
      "[4 5 6]\n"
     ]
    }
   ],
   "source": [
    "u = np.array([0, 1, 2])\n",
    "z = u + 4\n",
    "print(z)"
   ]
  },
  {
   "cell_type": "markdown",
   "id": "76fb2bc5-cbc7-458e-bb7f-c0331abcefa4",
   "metadata": {},
   "source": [
    "- Subtraction:\n",
    "  - z = u - v\n",
    "  - numpy.subtract(u, v)"
   ]
  },
  {
   "cell_type": "code",
   "execution_count": 10,
   "id": "73602dd4-de23-4b2e-a8e5-e2362590d82f",
   "metadata": {},
   "outputs": [
    {
     "name": "stdout",
     "output_type": "stream",
     "text": [
      "[-2  0  2]\n"
     ]
    }
   ],
   "source": [
    "u = np.array([0, 1, 2])\n",
    "v = np.array([2, 1, 0])\n",
    "z = u - v\n",
    "print(z)"
   ]
  },
  {
   "cell_type": "code",
   "execution_count": 11,
   "id": "6f56d273-62a3-42cb-9529-d02a388ca64d",
   "metadata": {},
   "outputs": [
    {
     "name": "stdout",
     "output_type": "stream",
     "text": [
      "[-2  0  2]\n"
     ]
    }
   ],
   "source": [
    "u1 = np.array([0, 1, 2])\n",
    "v1 = np.array([2, 1, 0])\n",
    "z1 = np.subtract(u1, v1)\n",
    "print(z1)"
   ]
  },
  {
   "cell_type": "markdown",
   "id": "c7f640b9-c216-4bb5-8bef-90073d323c3e",
   "metadata": {},
   "source": [
    "- Multiplication (by scalar):\n",
    "  - z = u * n"
   ]
  },
  {
   "cell_type": "code",
   "execution_count": 12,
   "id": "f495b900-1c5e-4229-a90e-345cc0481cf2",
   "metadata": {},
   "outputs": [
    {
     "name": "stdout",
     "output_type": "stream",
     "text": [
      "[0 2 4]\n"
     ]
    }
   ],
   "source": [
    "u = np.array([0, 1, 2])\n",
    "z = u * 2\n",
    "print(z)"
   ]
  },
  {
   "cell_type": "markdown",
   "id": "9103df86-3733-46d8-9b2d-c8170fa4a4e0",
   "metadata": {},
   "source": [
    "- Product of two arrays:\n",
    "  - z = u * v\n",
    "  - z = numpy.multiply(u, v)"
   ]
  },
  {
   "cell_type": "code",
   "execution_count": 13,
   "id": "9e381b59-2dda-4dbb-9128-f5e9ff983fcd",
   "metadata": {},
   "outputs": [
    {
     "name": "stdout",
     "output_type": "stream",
     "text": [
      "[0 1 0]\n"
     ]
    }
   ],
   "source": [
    "u = np.array([0, 1, 2])\n",
    "v = np.array([2, 1, 0])\n",
    "z = u * v\n",
    "print(z)"
   ]
  },
  {
   "cell_type": "code",
   "execution_count": 14,
   "id": "51af125f-ad42-4082-8b12-ecf6a88527f9",
   "metadata": {},
   "outputs": [
    {
     "name": "stdout",
     "output_type": "stream",
     "text": [
      "[0 1 0]\n"
     ]
    }
   ],
   "source": [
    "u1 = np.array([0, 1, 2])\n",
    "v1 = np.array([2, 1, 0])\n",
    "z1 = np.multiply(u1, v1)\n",
    "print(z1)"
   ]
  },
  {
   "cell_type": "markdown",
   "id": "4bfe498c-2406-4635-9a3d-e974a18da94b",
   "metadata": {},
   "source": [
    "- Dot product:\n",
    "  - z = numpy.__dot__(u, v)"
   ]
  },
  {
   "cell_type": "code",
   "execution_count": 15,
   "id": "466c3a44-b48e-4130-8789-2efcfa2c4187",
   "metadata": {},
   "outputs": [
    {
     "name": "stdout",
     "output_type": "stream",
     "text": [
      "1\n"
     ]
    }
   ],
   "source": [
    "u = np.array([0, 1, 2])\n",
    "v = np.array([2, 1, 0])\n",
    "z = np.dot(u, v)\n",
    "print(z)"
   ]
  },
  {
   "cell_type": "markdown",
   "id": "4efdd7d5-eeb8-463c-ab0f-e723d453ddde",
   "metadata": {},
   "source": [
    "- Division of two arrays:\n",
    "  - z = u / v\n",
    "  - z = numpy.divide(u, v)"
   ]
  },
  {
   "cell_type": "code",
   "execution_count": 16,
   "id": "5bf407e6-6a40-404d-af83-e3e1967674fc",
   "metadata": {},
   "outputs": [
    {
     "name": "stdout",
     "output_type": "stream",
     "text": [
      "[0.33333333 1.         3.        ]\n"
     ]
    }
   ],
   "source": [
    "u = np.array([1, 2, 3])\n",
    "v = np.array([3, 2, 1])\n",
    "z = u / v\n",
    "print(z)"
   ]
  },
  {
   "cell_type": "code",
   "execution_count": 17,
   "id": "0921105e-b5a7-4c07-897d-d4ee5e81687c",
   "metadata": {},
   "outputs": [
    {
     "name": "stdout",
     "output_type": "stream",
     "text": [
      "[0.33333333 1.         3.        ]\n"
     ]
    }
   ],
   "source": [
    "u = np.array([1, 2, 3])\n",
    "v = np.array([3, 2, 1])\n",
    "z = np.divide(u, v)\n",
    "print(z)"
   ]
  },
  {
   "cell_type": "markdown",
   "id": "950b24a1-5fd0-4970-8746-c315fbefbe95",
   "metadata": {},
   "source": [
    "#### Universal functions\n",
    "\n",
    "- Mean: u.__mean__()\n",
    "- Min value: u.__min__()\n",
    "- Max value: u.__max__()\n",
    "- Standard Deviation: u.__std__()"
   ]
  },
  {
   "cell_type": "code",
   "execution_count": 18,
   "id": "161fe6c9-bb86-48c1-aa61-58dd0b92b6de",
   "metadata": {},
   "outputs": [
    {
     "name": "stdout",
     "output_type": "stream",
     "text": [
      "Mean of array u: 2.0\n",
      "Min value in array u: 1\n",
      "Max value in array u: 3\n",
      "Std of array u: 0.816496580927726\n"
     ]
    }
   ],
   "source": [
    "u_mean = u.mean()\n",
    "print(\"Mean of array u: {0}\".format(u_mean))\n",
    "\n",
    "u_min = u.min()\n",
    "print(\"Min value in array u: {0}\".format(u_min))\n",
    "\n",
    "u_max = u.max()\n",
    "print(\"Max value in array u: {0}\".format(u_max))\n",
    "\n",
    "u_std = u.std()\n",
    "print(\"Std of array u: {0}\".format(u_std))"
   ]
  },
  {
   "cell_type": "markdown",
   "id": "6ba415ed-24ed-4786-b295-7d37f5145249",
   "metadata": {},
   "source": [
    "#### Utils\n",
    "\n",
    "- linspace: Returns evenly spaced number over an internal: numpy.__linspace__(start, end, n_elements)\n",
    "- numpy.__pi__\n",
    "- numpy.__sin__(x)"
   ]
  },
  {
   "cell_type": "code",
   "execution_count": 22,
   "id": "a0233452-69a8-49b9-abef-60f506ae4de3",
   "metadata": {},
   "outputs": [
    {
     "name": "stdout",
     "output_type": "stream",
     "text": [
      "[ 5. 10. 15. 20. 25.]\n"
     ]
    }
   ],
   "source": [
    "evenly_spaced = np.linspace(5,25, 5)\n",
    "print(evenly_spaced)"
   ]
  },
  {
   "cell_type": "code",
   "execution_count": null,
   "id": "ce193289-ddfc-434a-9a93-7cb03216fdc3",
   "metadata": {},
   "outputs": [],
   "source": []
  },
  {
   "cell_type": "markdown",
   "id": "98b17559-2af6-43bf-b678-9201229439b5",
   "metadata": {},
   "source": [
    "#### 2-D arrays (matrices)\n",
    "\n",
    "- Creation: var_mat = numpy.__array__([row1, row2, row3, ...]): Rows are arrays\n",
    "- Indexing: var_mat[__i__][__j__]: i -> row and j -> col\n",
    "- Indexing alt.: var_mat[__i, j__]\n",
    "- Slicing: var_mat[x, m:n]\n",
    "- Multiplication: numpy.dot(var_mat1, var_mat2)\n",
    "- Transpose matrix: var_mat.__T__"
   ]
  },
  {
   "cell_type": "code",
   "execution_count": 26,
   "id": "4f41bc12-b999-48e9-9f30-4e754b509784",
   "metadata": {},
   "outputs": [
    {
     "name": "stdout",
     "output_type": "stream",
     "text": [
      "[[0 1 2]\n",
      " [3 4 5]\n",
      " [6 7 8]]\n"
     ]
    }
   ],
   "source": [
    "### Creation\n",
    "\n",
    "var_row1 = np.array([0, 1, 2])\n",
    "var_row2 = np.array([3, 4, 5])\n",
    "var_row3 = np.array([6, 7, 8])\n",
    "\n",
    "mat_var = np.array([var_row1, var_row2, var_row3])\n",
    "print(mat_var)"
   ]
  },
  {
   "cell_type": "code",
   "execution_count": 27,
   "id": "89be632b-0d5b-4153-8aba-75a16f6c5fd1",
   "metadata": {},
   "outputs": [
    {
     "name": "stdout",
     "output_type": "stream",
     "text": [
      "0\n",
      "1\n"
     ]
    }
   ],
   "source": [
    "### Indexing\n",
    "\n",
    "print(mat_var[0][0])\n",
    "print(mat_var[0, 1])"
   ]
  },
  {
   "cell_type": "code",
   "execution_count": 29,
   "id": "a0d8dbd9-3601-416e-bcf6-fbe0c1b12e49",
   "metadata": {},
   "outputs": [
    {
     "name": "stdout",
     "output_type": "stream",
     "text": [
      "[[0 1]\n",
      " [3 4]]\n"
     ]
    }
   ],
   "source": [
    "### Slicing\n",
    "\n",
    "print(mat_var[0:2, 0:2])"
   ]
  },
  {
   "cell_type": "code",
   "execution_count": 30,
   "id": "60a5fbb5-c5db-4df9-8c3f-a315b1af684b",
   "metadata": {},
   "outputs": [
    {
     "name": "stdout",
     "output_type": "stream",
     "text": [
      "[[ 1  2  1]\n",
      " [ 4  8  4]\n",
      " [ 7 14  7]]\n"
     ]
    }
   ],
   "source": [
    "### Dot product\n",
    "\n",
    "var_row12 = np.array([0, 1, 0])\n",
    "var_row22 = np.array([1, 0, 1])\n",
    "var_row32 = np.array([0, 1, 0])\n",
    "\n",
    "mat_var2 = np.array([var_row12, var_row22, var_row32])\n",
    "\n",
    "mat_res = np.dot(mat_var, mat_var2)\n",
    "print(mat_res)"
   ]
  },
  {
   "cell_type": "code",
   "execution_count": 31,
   "id": "b30c0d98-9e51-4d70-85ca-f877c65dc943",
   "metadata": {},
   "outputs": [
    {
     "name": "stdout",
     "output_type": "stream",
     "text": [
      "[[0 3 6]\n",
      " [1 4 7]\n",
      " [2 5 8]]\n"
     ]
    }
   ],
   "source": [
    "### Transpose matrix\n",
    "\n",
    "print(mat_var.T)"
   ]
  },
  {
   "cell_type": "code",
   "execution_count": null,
   "id": "e245039f-9806-4def-97cc-e5001ccc956c",
   "metadata": {},
   "outputs": [],
   "source": []
  },
  {
   "cell_type": "markdown",
   "id": "6187721c-bf6f-4306-a88a-c086392152c7",
   "metadata": {},
   "source": [
    "#### Plotting Mathematical Functions\n",
    "\n",
    "import __matplotlib.pyplot__ as plt\n",
    "\n",
    "In Jupyter we can say:\n",
    "\n",
    "% __matplotlib__ inline\n",
    "\n",
    "plt.plot(x, y) where x and y are vectors"
   ]
  },
  {
   "cell_type": "code",
   "execution_count": 33,
   "id": "6e71a808-053d-4197-9c4f-a313ab7c4a87",
   "metadata": {},
   "outputs": [],
   "source": [
    "import matplotlib.pyplot as plt\n",
    "\n",
    "\n",
    "%matplotlib inline"
   ]
  },
  {
   "cell_type": "code",
   "execution_count": 34,
   "id": "0848c5fd-4a3b-4e12-83a7-d80bac49fba9",
   "metadata": {},
   "outputs": [
    {
     "data": {
      "text/plain": [
       "[<matplotlib.lines.Line2D at 0x1e3cefbf5f0>]"
      ]
     },
     "execution_count": 34,
     "metadata": {},
     "output_type": "execute_result"
    },
    {
     "data": {
      "image/png": "[encoded data removed]",
      "text/plain": [
       "<Figure size 640x480 with 1 Axes>"
      ]
     },
     "metadata": {},
     "output_type": "display_data"
    }
   ],
   "source": [
    "x_axis = np.array([0, 1, 2])\n",
    "y_axis = np.array([2, 4, 6])\n",
    "plt.plot(x_axis, y_axis)"
   ]
  },
  {
   "cell_type": "code",
   "execution_count": null,
   "id": "5d0f923f-0895-45d0-bc43-4ba24752c190",
   "metadata": {},
   "outputs": [],
   "source": []
  }
 ],
 "metadata": {
  "kernelspec": {
   "display_name": "Python 3 (ipykernel)",
   "language": "python",
   "name": "python3"
  },
  "language_info": {
   "codemirror_mode": {
    "name": "ipython",
    "version": 3
   },
   "file_extension": ".py",
   "mimetype": "text/x-python",
   "name": "python",
   "nbconvert_exporter": "python",
   "pygments_lexer": "ipython3",
   "version": "3.12.0"
  }
 },
 "nbformat": 4,
 "nbformat_minor": 5
}
