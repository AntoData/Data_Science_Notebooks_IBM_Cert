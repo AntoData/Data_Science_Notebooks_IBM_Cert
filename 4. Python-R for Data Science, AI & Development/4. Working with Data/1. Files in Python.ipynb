{
 "cells": [
  {
   "cell_type": "markdown",
   "id": "3b8ad0b7-4426-44ff-bebd-87a4ecaaffd8",
   "metadata": {},
   "source": [
    "# Files in Python"
   ]
  },
  {
   "cell_type": "markdown",
   "id": "42c33549-e856-4fa0-9784-d0e5371e18d0",
   "metadata": {},
   "source": [
    "### Reading Files With Open"
   ]
  },
  {
   "cell_type": "markdown",
   "id": "78ab04b8-94ea-4f01-a3c8-b0346422d5bf",
   "metadata": {},
   "source": [
    "#### File names"
   ]
  },
  {
   "cell_type": "markdown",
   "id": "4173b3a8-e9f7-414e-bf7d-a2ab3c3ae22e",
   "metadata": {},
   "source": [
    "Before we explain how to open and work with files in Python. We need to state several issues that will affect our ability to work with them.\n",
    "\n",
    "__File names and path are different depending on the Operating System__\n",
    "\n",
    "| Windows | vs | Linux |\n",
    "| --- | --- | --- |\n",
    "| __Uses \\\\___: For instance c:\\path\\file | | __Uses /__: For instance c:/path/file |\n",
    "| As \\\\ is a special character, it has to be written \\\\\\ | | No need to convert the symbol |\n",
    "| Names are __not case sensitive__ | | Names are __case sensitive__ |\n",
    "| Python can convert Linux to Windows format | | |\n",
    "| __Line End__: RF or LF \\r\\n | | __Line End__: CF \\n |\n",
    "| __Portability:__ This problem is solved by Python |"
   ]
  },
  {
   "cell_type": "markdown",
   "id": "1b5bd2a9-7425-4259-8959-d054df832953",
   "metadata": {},
   "source": [
    "When we are working with __files in Python we use handles or streams__ to communicate with the files.\n",
    "- Operations are done in the stream -> The Operating System will handle the change in the real file\n",
    "- 1ª we need to connect the file to the stream -> __open__\n",
    "- Finally, disconnect the file from stream, so changes and saved -> __close__"
   ]
  },
  {
   "cell_type": "markdown",
   "id": "f7c25282-a7a9-428f-9e41-758ac343c59a",
   "metadata": {},
   "source": [
    "### Opening modes\n",
    "\n",
    "- __Read__ mode: Only to read the file. Exception if trying to write the file when in this mode\n",
    "    - UnsupportedOperation:\n",
    "        - OSError\n",
    "        - ValueError\n",
    "- __Write__ mode: Only to write the file. Exception if trying to read the file\n",
    "    - UnsupportedOperation\n",
    "- __Update__ mode: Write and read"
   ]
  },
  {
   "cell_type": "markdown",
   "id": "565ad9a4-a5f9-433a-ab19-11e0fc08d47b",
   "metadata": {},
   "source": [
    "### Types of Streams\n",
    "\n",
    "| __Text__ | vs | __Binary__ |\n",
    "| --- | --- | --- |\n",
    "| Structure __in lines__ | | Sequence of __bytes__ of any value |\n",
    "| Typographical characters arranged in lines | | Reads and write relate to portions of data of any size |\n",
    "| Read __line by line__ or __character by character__ | | Read __byte by byte__ block by block |"
   ]
  },
  {
   "cell_type": "markdown",
   "id": "f2d413ac-e257-479c-b4af-bc68061bcb22",
   "metadata": {},
   "source": [
    "### Function open\n",
    "To open a file we use the following function:\n",
    "\n",
    "__open__(file_path, mode = \"r\", encoding = None)\n",
    "\n",
    "Returns a stream connected to the file or __FileNotFoundError__ if the file was not found\n",
    "\n",
    "#### Modes:\n",
    "\n",
    "| __Mode__ | File creation | Update | __Text__ | __Binary__ |\n",
    "| --- | --- | --- | --- | --- |\n",
    "| __Read__: __r__ | File has to exist | N/A  | __rt__ or __r__ | __rb__ |\n",
    "| __Write__: __w__ | File does not have to exist | it will be truncated to 0 | __wt__ or __w__ | __wb__ |\n",
    "| __Append__: __a__ | File does not have to exist | writes at the end of the file | __at__ or __a__ | __ab__ |\n",
    "| __Read plus__: __r+__ -> Read and update | file has to exist | data is appended at the end of the file | __r+t__ or __r+__ | __r+b__ |\n",
    "| __Write plus__: __w+__ -> Write and update | file does not have to exist | it will be truncated to 0 | __w+t__ or __w+__ | __w+b__ |"
   ]
  },
  {
   "cell_type": "code",
   "execution_count": 1,
   "id": "d1abef95-4084-4029-85af-b1e43e79eccf",
   "metadata": {
    "tags": []
   },
   "outputs": [
    {
     "name": "stdout",
     "output_type": "stream",
     "text": [
      "<class '_io.TextIOWrapper'>\n",
      "<_io.TextIOWrapper name='example.txt' mode='r' encoding='cp1252'>\n"
     ]
    }
   ],
   "source": [
    "file_example = open(\"example.txt\", mode = \"r\")\n",
    "print(type(file_example))\n",
    "print(file_example)"
   ]
  },
  {
   "cell_type": "markdown",
   "id": "a5c3cce8-9c0f-4738-851e-cfc1ef5a0f2d",
   "metadata": {},
   "source": [
    "### Function close\n",
    "To close a file we use the following function:\n",
    "\n",
    "file.__close__()\n",
    "\n",
    "This will commit the changes we have made in the file, we have to close the streams to files once we are no longer going to use it"
   ]
  },
  {
   "cell_type": "markdown",
   "id": "8d3b4a0d-1c39-484a-9389-febd8c0880c7",
   "metadata": {},
   "source": [
    "### Attributes of the stream:\n",
    "\n",
    "- file.__name__: Name of the file\n",
    "- file.__mode__: Mode in which the file was opened\n",
    "- file.__closed__: If file was closed"
   ]
  },
  {
   "cell_type": "code",
   "execution_count": 2,
   "id": "f1b58df0-2187-42b4-84a5-9e7e0d2f37b4",
   "metadata": {
    "tags": []
   },
   "outputs": [
    {
     "name": "stdout",
     "output_type": "stream",
     "text": [
      "example.txt\n",
      "r\n",
      "False\n"
     ]
    }
   ],
   "source": [
    "print(file_example.name)\n",
    "print(file_example.mode)\n",
    "print(file_example.closed)"
   ]
  },
  {
   "cell_type": "markdown",
   "id": "d3bb527d-2c51-45cb-9cd8-2e802c9bbd24",
   "metadata": {},
   "source": [
    "### Reading from the stream\n",
    "\n",
    "- file.__read(__n__)__ -> n is the number of characters to read"
   ]
  },
  {
   "cell_type": "code",
   "execution_count": 3,
   "id": "356c0d60-7fb4-422f-af71-b6de46559c54",
   "metadata": {
    "tags": []
   },
   "outputs": [
    {
     "name": "stdout",
     "output_type": "stream",
     "text": [
      "Hello Python!!!!\n",
      "This is a tex\n"
     ]
    }
   ],
   "source": [
    "print(file_example.read(30)) # We read more than a line, we continue to other lines"
   ]
  },
  {
   "cell_type": "markdown",
   "id": "582d66e5-0785-4d1c-9b4e-a3d614e982a7",
   "metadata": {},
   "source": [
    "- file.__read()__ -> Reads the rest of the file (whole file if executed first)"
   ]
  },
  {
   "cell_type": "code",
   "execution_count": 4,
   "id": "1162661d-4752-4f0e-bafb-9fbb7bbb5db7",
   "metadata": {
    "tags": []
   },
   "outputs": [
    {
     "name": "stdout",
     "output_type": "stream",
     "text": [
      "t file\n",
      "The information is organized in lines\n"
     ]
    }
   ],
   "source": [
    "print(file_example.read())"
   ]
  },
  {
   "cell_type": "markdown",
   "id": "c9c50045-1a1a-4b58-80fa-51cfc7f03c4f",
   "metadata": {
    "tags": []
   },
   "source": [
    "- file.__readline__(n) -> n max number of characters we will read in a line"
   ]
  },
  {
   "cell_type": "code",
   "execution_count": 5,
   "id": "6dbd672c-5dbd-4f8d-9d92-b8f66a67267e",
   "metadata": {
    "tags": []
   },
   "outputs": [
    {
     "name": "stdout",
     "output_type": "stream",
     "text": [
      "Hello Python!!!!\n",
      "\n",
      "This is a \n"
     ]
    }
   ],
   "source": [
    "file_example.close()\n",
    "\n",
    "file_example = open(\"example.txt\", mode = \"r\")\n",
    "\n",
    "print(file_example.readline(1000)) # As you can see we read only the line. We don´t keep reading other lines\n",
    "print(file_example.readline(10))"
   ]
  },
  {
   "cell_type": "markdown",
   "id": "1f8482fb-7122-4826-ac6b-526918c683dc",
   "metadata": {},
   "source": [
    "- file.__readlines()__; Returns an array where each line is an element of the array"
   ]
  },
  {
   "cell_type": "code",
   "execution_count": 6,
   "id": "70d1e4e1-bb5a-43b8-95c9-2e1f52242c58",
   "metadata": {},
   "outputs": [
    {
     "name": "stdout",
     "output_type": "stream",
     "text": [
      "['text file\\n', 'The information is organized in lines']\n",
      "The information is organized in lines\n"
     ]
    }
   ],
   "source": [
    "lines: [str] = file_example.readlines()\n",
    "print(lines)\n",
    "print(lines[1])"
   ]
  },
  {
   "cell_type": "markdown",
   "id": "0c6b767e-f92b-4adc-9595-8525d366848a",
   "metadata": {},
   "source": [
    "- __Iteration line by line__: for __line__ in file: "
   ]
  },
  {
   "cell_type": "code",
   "execution_count": 7,
   "id": "ac020f08-8402-485a-806f-6df3783ce339",
   "metadata": {
    "tags": []
   },
   "outputs": [
    {
     "name": "stdout",
     "output_type": "stream",
     "text": [
      "Hello Python!!!!\n",
      "\n",
      "This is a text file\n",
      "\n",
      "The information is organized in lines\n"
     ]
    }
   ],
   "source": [
    "file_example.close()\n",
    "\n",
    "file_example = open(\"example.txt\", mode = \"r\")\n",
    "\n",
    "for line in file_example:\n",
    "    print(line)"
   ]
  },
  {
   "cell_type": "markdown",
   "id": "55193865-0de0-43a3-8cde-60fd982b78f6",
   "metadata": {},
   "source": [
    "- file.__tell__() -> Returns the position of the pointer in bytes"
   ]
  },
  {
   "cell_type": "code",
   "execution_count": 8,
   "id": "22f2ecb2-fc85-4605-b53c-2b85a08709db",
   "metadata": {
    "tags": []
   },
   "outputs": [
    {
     "name": "stdout",
     "output_type": "stream",
     "text": [
      "Current position of the pointer: 76\n",
      "Current position of the pointer after opening: 0\n"
     ]
    }
   ],
   "source": [
    "file_example.read(4)\n",
    "print(\"Current position of the pointer: {0}\".format(file_example.tell()))\n",
    "\n",
    "file_example.close()\n",
    "\n",
    "file_example = open(\"example.txt\", mode = \"r\")\n",
    "\n",
    "print(\"Current position of the pointer after opening: {0}\".format(file_example.tell()))"
   ]
  },
  {
   "cell_type": "markdown",
   "id": "b0c6654d-8c43-4141-9ab8-9f105c70bfa9",
   "metadata": {},
   "source": [
    "- file.__seek__(offset, from) -> Changes the position by 'offset' bytes with respect to 'from'. From can take the value of 0,1,2 corresponding to beginning, relative to current position and end"
   ]
  },
  {
   "cell_type": "code",
   "execution_count": 9,
   "id": "0079b590-80df-4f5c-a606-251e28ea1fab",
   "metadata": {
    "tags": []
   },
   "outputs": [
    {
     "name": "stdout",
     "output_type": "stream",
     "text": [
      "H\n",
      "l\n"
     ]
    }
   ],
   "source": [
    "# Resetting the pointer\n",
    "file_example.seek(0,0)\n",
    "\n",
    "# Read the first character\n",
    "print(file_example.read(1))\n",
    "\n",
    "# Setting the pointer two byte later\n",
    "file_example.seek(2)\n",
    "\n",
    "# Read third character\n",
    "print(file_example.read(1))  # The pointer was in the following character"
   ]
  },
  {
   "cell_type": "markdown",
   "id": "c9e3a6ac-a702-41a2-9ffc-593f6c2424c5",
   "metadata": {},
   "source": [
    "- file.__truncate()__: It will remove all the data after the pointer"
   ]
  },
  {
   "cell_type": "code",
   "execution_count": 10,
   "id": "748e7931-d383-46aa-af81-5184830f095a",
   "metadata": {
    "tags": []
   },
   "outputs": [
    {
     "name": "stdout",
     "output_type": "stream",
     "text": [
      "3\n",
      "Can't update file in read mode: truncate\n",
      "Hello Python!!!!\n",
      "\n",
      "This is a text file\n",
      "\n",
      "The information is organized in lines\n"
     ]
    }
   ],
   "source": [
    "import io\n",
    "\n",
    "print(file_example.tell())\n",
    "try:\n",
    "    file_example.truncate()\n",
    "except io.UnsupportedOperation as e:\n",
    "    print(\"Can't update file in read mode: {0}\".format(e))\n",
    "\n",
    "file_example.seek(0,0)\n",
    "\n",
    "for line in file_example:\n",
    "    print(line)\n",
    "    \n",
    "file_example.close()"
   ]
  },
  {
   "cell_type": "markdown",
   "id": "2c0156d1-c098-475a-b6d3-4bd809d92e55",
   "metadata": {},
   "source": [
    "### with open\n",
    "\n",
    "There is a way to make sure the file is closed once we finish the execution of a piece of code\n",
    "\n",
    "__with__ open(file_name, mode = mod) __as__ file:\n",
    "\n",
    "    code...\n",
    "    \n",
    "Once we leave the portion called \"code\", the file is closed"
   ]
  },
  {
   "cell_type": "code",
   "execution_count": 11,
   "id": "06445381-170c-4a69-a078-59988a52c1a2",
   "metadata": {
    "tags": []
   },
   "outputs": [
    {
     "name": "stdout",
     "output_type": "stream",
     "text": [
      "Hello Pyth\n",
      "ValueError: I/O operation on closed file.\n"
     ]
    }
   ],
   "source": [
    "with open(\"example.txt\", mode = \"r\") as file_example:\n",
    "    print(file_example.read(10))\n",
    "   \n",
    "try:\n",
    "    file_example.read()\n",
    "except NameError as e:\n",
    "    print(\"Stream variable is no longer available: {0}\".format(e))\n",
    "except ValueError as e:\n",
    "    print(\"ValueError: {0}\".format(e))"
   ]
  },
  {
   "cell_type": "markdown",
   "id": "c5516b4e-2b2a-4f0a-825f-05233231c499",
   "metadata": {},
   "source": [
    "### errno library and exceptions\n",
    "\n",
    "__errno__ is a library that provides some __exceptions to handle files__\n",
    "\n",
    "- errno.__EACCES__: Permission denied\n",
    "- errno.__EBADF__: Bad file number (for example operate with un opened stream)\n",
    "- errno.__EEXIST__: File exists\n",
    "- errno.__EFBIG__: File is too big\n",
    "- errno.__EISDIR__: It is a directory\n",
    "- errno.__EMFILE__: Too many opened files\n",
    "- errno.__ENOENT__: No such file or directory\n",
    "- errno.__ENOSPC__: No space left on device"
   ]
  },
  {
   "cell_type": "code",
   "execution_count": 12,
   "id": "836d80af-a817-435d-b7cd-170827e65192",
   "metadata": {
    "tags": []
   },
   "outputs": [
    {
     "name": "stdout",
     "output_type": "stream",
     "text": [
      "Permission denied: [Errno 13] Permission denied: '.'\n"
     ]
    }
   ],
   "source": [
    "import errno\n",
    "\n",
    "try:\n",
    "    file = open(\".\", mode = \"r\")\n",
    "except IOError as e:\n",
    "    if e.errno == errno.EACCES:\n",
    "        print(\"Permission denied: {0}\".format(e))\n",
    "    if e.errno == errno.EISDIR:\n",
    "        print(\"We are trying to open a folder: {0}\".format(e))\n",
    "    if e.errno == errno.ENOSPC:\n",
    "        print(\"No more space in disk: {0}\".format(e))"
   ]
  },
  {
   "cell_type": "markdown",
   "id": "d43ec48c-5f01-451d-b20e-b6c75e3de18d",
   "metadata": {},
   "source": [
    "### Another example of a structure to deal with files"
   ]
  },
  {
   "cell_type": "code",
   "execution_count": 13,
   "id": "c3320411-d7ee-45ad-939e-4d445098f313",
   "metadata": {
    "tags": []
   },
   "outputs": [],
   "source": [
    "try:\n",
    "    file_example = open(\"example.txt\", mode = \"r\")\n",
    "    # Operations\n",
    "except IOError as e:\n",
    "    if e.errno == errno.EACCES:\n",
    "        print(\"Permision denied: {0}\".format(e))\n",
    "    if e.errno == errno.EISDIR:\n",
    "        print(\"We are trying to open a folder: {0}\".format(e))\n",
    "    if e.errno == errno.ENOSPC:\n",
    "        print(\"No more space in disk: {0}\".format(e))\n",
    "else:\n",
    "    # Operations where we need the file to be opened\n",
    "    pass\n",
    "finally:\n",
    "    file_example.close()"
   ]
  },
  {
   "cell_type": "markdown",
   "id": "0e01ea18-c2c5-4487-88eb-cdec871013a6",
   "metadata": {},
   "source": [
    "### Writing Files With Write\n",
    "\n",
    "### Function write\n",
    "To write a file we use the following function:\n",
    "\n",
    "file.__write__(\"line to write\")\n",
    "\n",
    "Remember __we have to open the stream before using one of the following modes__ explained above:\n",
    "- w\n",
    "- a\n",
    "- r+\n",
    "- w+"
   ]
  },
  {
   "cell_type": "markdown",
   "id": "1a490a1c-eb82-4e5f-a28d-da6d96b38ca0",
   "metadata": {},
   "source": [
    "##### Mode w: Creates the file, it will truncate the file to 0"
   ]
  },
  {
   "cell_type": "code",
   "execution_count": 20,
   "id": "5e9a8a5d-72e3-49be-957c-5c65fb93fcdb",
   "metadata": {
    "tags": []
   },
   "outputs": [],
   "source": [
    "import datetime\n",
    "\n",
    "file_name: str = \"./file_example_{0}.txt\".format(int(datetime.datetime.now().timestamp()))\n",
    "\n",
    "file_write = open(file_name, mode = \"w\")\n",
    "\n",
    "# File is created and now we can use write\n",
    "file_write.write(\"File was created\")\n",
    "file_write.close()"
   ]
  },
  {
   "cell_type": "markdown",
   "id": "af442059-9787-40a1-a414-01c4b318dd6f",
   "metadata": {},
   "source": [
    "If we use __write__ again, it will truncate the file to 0 first and then add the line. So we will lose the first line written"
   ]
  },
  {
   "cell_type": "code",
   "execution_count": 21,
   "id": "b516360c-1c40-4a7d-b9c4-0fe0737a7945",
   "metadata": {
    "tags": []
   },
   "outputs": [],
   "source": [
    "file_write = open(file_name, mode = \"w\")\n",
    "file_write.write(\"First line was replaced by this\")\n",
    "file_write.close()"
   ]
  },
  {
   "cell_type": "markdown",
   "id": "4f8d380a-e833-4624-a6c1-5042ae2df432",
   "metadata": {},
   "source": [
    "##### Mode a: Creates the file, it will append new lines at the end of the file (file is never truncated)"
   ]
  },
  {
   "cell_type": "code",
   "execution_count": 22,
   "id": "99c92736-4a3d-41ab-9e19-589690411968",
   "metadata": {
    "tags": []
   },
   "outputs": [],
   "source": [
    "file_name: str = \"./file_example_{0}.txt\".format(int(datetime.datetime.now().timestamp()))\n",
    "\n",
    "file_append = open(file_name, mode = \"a\")\n",
    "\n",
    "# File is created and now we can use write\n",
    "file_append.write(\"File was created\\n\")\n",
    "file_append.close()"
   ]
  },
  {
   "cell_type": "markdown",
   "id": "7453c328-1f98-4023-8630-8f918809b002",
   "metadata": {},
   "source": [
    "If we use __write__ again, it will append the new line at the end of the file"
   ]
  },
  {
   "cell_type": "code",
   "execution_count": 23,
   "id": "35883a4b-3a95-4ad3-b539-2369ac8e2b8f",
   "metadata": {
    "tags": []
   },
   "outputs": [],
   "source": [
    "file_append = open(file_name, mode = \"a\")\n",
    "\n",
    "# File is created and now we can use write\n",
    "file_append.write(\"New line is added\\n\")\n",
    "file_append.close()"
   ]
  },
  {
   "cell_type": "markdown",
   "id": "21237994-8be6-44f3-9f62-9fde754ec219",
   "metadata": {},
   "source": [
    "##### Mode r+: File has to exist, it will append new lines at the end of the file (file is never truncated)"
   ]
  },
  {
   "cell_type": "code",
   "execution_count": 24,
   "id": "9888733b-7025-4589-a9d2-72a99e771920",
   "metadata": {
    "tags": []
   },
   "outputs": [
    {
     "name": "stdout",
     "output_type": "stream",
     "text": [
      "In mode a, file has to exist: [Errno 2] No such file or directory: './file_example_1699299137.txt'\n"
     ]
    }
   ],
   "source": [
    "file_name_append: str = \"./file_example_{0}.txt\".format(int(datetime.datetime.now().timestamp()))\n",
    "try:\n",
    "    file_read_plus = open(file_name_append, mode = \"r+\")\n",
    "except FileNotFoundError as e:\n",
    "    print(\"In mode a, file has to exist: {0}\".format(e))"
   ]
  },
  {
   "cell_type": "markdown",
   "id": "0406a86d-c4fc-46b6-8d62-ec570b60a8b6",
   "metadata": {},
   "source": [
    "But we add lines at the end of the file"
   ]
  },
  {
   "cell_type": "code",
   "execution_count": 35,
   "id": "5f485179-56ac-4288-8dfe-a4364d7e88e9",
   "metadata": {
    "tags": []
   },
   "outputs": [],
   "source": [
    "file_read_plus = open(\"example_r+.txt\", mode = \"r+\")\n",
    "file_read_plus.write(\"First line\\n\")\n",
    "file_read_plus.write(\"Second line\\n\")\n",
    "file_read_plus.close()\n",
    "\n",
    "# The line is added at the end of the file"
   ]
  },
  {
   "cell_type": "markdown",
   "id": "cab46ecf-85a8-46fa-bba1-b07b29dfe22c",
   "metadata": {},
   "source": [
    "However, if we open again the file we start from the beginning"
   ]
  },
  {
   "cell_type": "code",
   "execution_count": 36,
   "id": "cf557abb-3db6-497b-ac0e-407cf6dc5926",
   "metadata": {
    "tags": []
   },
   "outputs": [],
   "source": [
    "file_read_plus = open(\"example_r+.txt\", mode = \"r+\")\n",
    "file_read_plus.write(\"Replace first line\\n\")\n",
    "file_read_plus.write(\"Replace second line\\n\")\n",
    "file_read_plus.close()\n",
    "\n",
    "# The line is added at the end of the file"
   ]
  },
  {
   "cell_type": "markdown",
   "id": "91a509d3-f622-4b29-b4e2-f104c25662c0",
   "metadata": {},
   "source": [
    "We can also read the file"
   ]
  },
  {
   "cell_type": "code",
   "execution_count": 37,
   "id": "39e827f4-7c20-4196-8f8c-204ba82bccbb",
   "metadata": {
    "tags": []
   },
   "outputs": [
    {
     "name": "stdout",
     "output_type": "stream",
     "text": [
      "Replace first line\n",
      "\n",
      "Replace second line\n",
      "\n",
      "\n",
      "\n"
     ]
    }
   ],
   "source": [
    "with open(\"example_r+.txt\", mode = \"r+\") as file_read_plus:\n",
    "    for line in file_read_plus:\n",
    "        print(line)"
   ]
  },
  {
   "cell_type": "markdown",
   "id": "0c52988c-c785-4b26-a6a9-198527cf9e8d",
   "metadata": {},
   "source": [
    "##### Mode w+: File does not have to exist, it will truncate the file"
   ]
  },
  {
   "cell_type": "code",
   "execution_count": 38,
   "id": "12cb79fd-960f-43c3-b6ad-97c6631583b1",
   "metadata": {
    "tags": []
   },
   "outputs": [],
   "source": [
    "file_name_write_plus: str = \"./file_example_{0}.txt\".format(int(datetime.datetime.now().timestamp()))\n",
    "\n",
    "file_write_plus = open(file_name_write_plus, mode = \"w+\")  # File does not have to exist\n",
    "file_write_plus.write(\"First line file\\n\")\n",
    "file_write_plus.write(\"Second line file\\n\")\n",
    "file_write_plus.close()"
   ]
  },
  {
   "cell_type": "markdown",
   "id": "8d19369b-d9fc-4296-b3d8-c4eba8121022",
   "metadata": {},
   "source": [
    "File is truncated if we open it again in that mode"
   ]
  },
  {
   "cell_type": "code",
   "execution_count": 40,
   "id": "346a204f-0022-41fd-8606-b98699813a1f",
   "metadata": {
    "tags": []
   },
   "outputs": [],
   "source": [
    "file_write_plus = open(file_name_write_plus, mode = \"w+\")\n",
    "file_write_plus.close()"
   ]
  },
  {
   "cell_type": "markdown",
   "id": "b938eb64-75f3-4ae1-8b65-23851806c5f1",
   "metadata": {},
   "source": [
    "We can also read the file"
   ]
  },
  {
   "cell_type": "code",
   "execution_count": 47,
   "id": "f06be763-962b-45fd-8dc4-5738a6e415e5",
   "metadata": {
    "tags": []
   },
   "outputs": [
    {
     "name": "stdout",
     "output_type": "stream",
     "text": [
      "First line file\n",
      "\n",
      "Second line file\n",
      "\n"
     ]
    }
   ],
   "source": [
    "file_write_plus = open(file_name_write_plus, mode = \"w+\")  # File does not have to exist\n",
    "file_write_plus.write(\"First line file\\n\")\n",
    "file_write_plus.write(\"Second line file\\n\")\n",
    "file_write_plus.seek(0,0)  # We need to reset the pointer to print the file\n",
    "for line in file_write_plus:\n",
    "    print(line)"
   ]
  },
  {
   "cell_type": "code",
   "execution_count": null,
   "id": "2abf8a9c-eb0f-4c6e-9e30-f8809b62e7bc",
   "metadata": {},
   "outputs": [],
   "source": []
  }
 ],
 "metadata": {
  "kernelspec": {
   "display_name": "Python 3 (ipykernel)",
   "language": "python",
   "name": "python3"
  },
  "language_info": {
   "codemirror_mode": {
    "name": "ipython",
    "version": 3
   },
   "file_extension": ".py",
   "mimetype": "text/x-python",
   "name": "python",
   "nbconvert_exporter": "python",
   "pygments_lexer": "ipython3",
   "version": "3.11.3"
  }
 },
 "nbformat": 4,
 "nbformat_minor": 5
}
