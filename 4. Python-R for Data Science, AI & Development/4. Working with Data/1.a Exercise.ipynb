{
 "cells": [
  {
   "cell_type": "markdown",
   "id": "03691dd1-e4b0-4f93-8157-6d53a77f65e9",
   "metadata": {},
   "source": [
    "#### Exercise 1:\n",
    "\n",
    "We have this file where words after a period are not capitalized. Copy and correct that file in just one iteration, then without closing the file and creating a new stream test that the book has correctly copied and fixed.\n",
    "\n",
    "__File name__: file_exercise1.txt"
   ]
  },
  {
   "cell_type": "code",
   "execution_count": 2,
   "id": "1fc695c1-1277-4e55-9b41-f68d58ad62d3",
   "metadata": {
    "tags": []
   },
   "outputs": [
    {
     "name": "stdout",
     "output_type": "stream",
     "text": [
      "End of file: string index out of range\n",
      "It befell in the days of Uther Pendragon, when he was king of all England, and so reigned, that there was a mighty duke in Cornwall that held war against him long time\n",
      "Tested successfully\n",
      " And the duke was called the duke of Tintagil\n",
      "Tested successfully\n",
      " \n",
      "\n",
      "Tested successfully\n",
      "And so by means King Uther sent for this duke, charging him to bring his wife with him, for she was called a fair lady, and a passing wise, and her name was called Igraine\n",
      "Tested successfully\n",
      " So when the duke and his wife were come unto the king, by the means of great lords they were accorded both: the king liked and loved this lady well, and he made them great cheer out of measure, and desired to have lain by her\n",
      "Tested successfully\n",
      " But she was a passing good woman, and would not assent unto the king\n",
      "Tested successfully\n",
      " \n",
      "\n",
      "Tested successfully\n",
      "And then she told the duke her husband, and said, I suppose that we were sent for that I should be dishonoured; wherefore, husband, I counsel you, that we depart from hence suddenly, that we may ride all night unto our own castle\n",
      "Tested successfully\n",
      " \n",
      "\n",
      "Tested successfully\n",
      "And in like wise as she said so they departed, that neither the king nor none of his council were ware of their departing\n",
      "Tested successfully\n",
      " Aall so soon as King Uther knew of their departing so suddenly, he was wonderly wroth\n",
      "Tested successfully\n",
      " Then he called to him his privy council, and told them of the sudden departing of the duke and his wife\n",
      "Tested successfully\n"
     ]
    }
   ],
   "source": [
    "import datetime\n",
    "\n",
    "# We first create a generator of names for our files\n",
    "file_name: str = \"./file_example_{0}.txt\".format(int(datetime.datetime.now().timestamp()))\n",
    "\n",
    "# This array will control if we could open the original file and the file who will contain the copy of the file capitalized\n",
    "opened_files: [bool] = [False, False]\n",
    "try:\n",
    "    # We create the file that will contain the capitalized copy, we need mode w+\n",
    "    # In mode w+, the file does not have to exist (so it will be created) and the file can be read \n",
    "    # so we can test that the copy is correct without closing the file\n",
    "    file_copy = open(file_name, mode = \"w+\")\n",
    "    opened_files[0] = True\n",
    "    # We open the original file in mode r (so it is protected against being written)\n",
    "    file_original = open(\"file_exercise1.txt\", mode = \"r\")\n",
    "    opened_files[1] = True\n",
    "    # We iterate through the lines of the original file\n",
    "    for line in file_original:\n",
    "        # We split all the sentences (sentences are separated by .), we have to capitalize the word after .\n",
    "        sentences: [str] = line.split(\".\")\n",
    "        # We go through all the sentences in this line\n",
    "        for count, sentence in enumerate(sentences):\n",
    "            # If the first character is a blank space, we have to capitalize the following character\n",
    "            if sentence[0] == \" \":\n",
    "                capital_letter: str = sentence[1].upper()\n",
    "                # If count == 0, it means it is the first sentence in the line, so no blank space after . is needed\n",
    "                if count == 0:\n",
    "                    capitalized_sentence: str = capital_letter + sentence[2:]\n",
    "                else:\n",
    "                    # Otherwise, we need a blank space after . is needed\n",
    "                    capitalized_sentence: str = \". \" + capital_letter + sentence[2:]\n",
    "            else:\n",
    "                # Otherwise, we capitalize the first character\n",
    "                capital_letter: str = sentence[0].upper()\n",
    "                if count == 0:\n",
    "                    capitalized_sentence: str = capital_letter + sentence[1:]\n",
    "                else:\n",
    "                    capitalized_sentence: str = \". \" + capital_letter + sentence[1:]\n",
    "            # Now we write the capitalized sentence to the copy file\n",
    "            file_copy.write(capitalized_sentence)\n",
    "except IndexError as e:\n",
    "    # We raise an IndexError when we get to the end of the file, so the line's length is 0\n",
    "    print(\"End of file: {0}\".format(e))\n",
    "except FileNotFoundError as e:\n",
    "    print(\"One of the files was not found, could not be found\")\n",
    "else:\n",
    "    print(\"No exceptions, did we get to the end of file\")\n",
    "finally:\n",
    "    if opened_files[1]:\n",
    "        file_original.close()\n",
    "    file_copy.seek(0, 0)\n",
    "    for line in file_copy:\n",
    "        sentences: [str] = line.split(\".\")\n",
    "        try:\n",
    "            for sentence in sentences:\n",
    "                print(sentence)\n",
    "                if sentence[0] == \" \":\n",
    "                    original_letter: str = sentence[1]\n",
    "                    capital_letter: str = sentence[1].upper()\n",
    "                else:\n",
    "                    capital_letter: str = sentence[0].upper()\n",
    "                    original_letter: str = sentence[0]\n",
    "                if capital_letter != original_letter:\n",
    "                    raise ValueError(\"Sentence was not capitalized\")\n",
    "                else:\n",
    "                    print(\"Tested successfully\")\n",
    "        except IndexError as e:\n",
    "            print(\"End of File while checking: {0}\".format(e))\n",
    "    if opened_files[0]:\n",
    "        file_copy.close()"
   ]
  },
  {
   "cell_type": "markdown",
   "id": "324a7cbc-5283-43ed-a847-6a7f75af2695",
   "metadata": {},
   "source": [
    "#### Exercise 2:\n",
    "\n",
    "Same as above but in this case, we can't create a new file. We have to modify the current file\n",
    "\n",
    "__File name__: file_exercise1.txt -> Execute the function below to copy it"
   ]
  },
  {
   "cell_type": "code",
   "execution_count": 5,
   "id": "beca5117-3596-4efd-b82d-16aa0808cb88",
   "metadata": {},
   "outputs": [
    {
     "data": {
      "text/plain": [
       "'./file_example_1699987468.txt'"
      ]
     },
     "execution_count": 5,
     "metadata": {},
     "output_type": "execute_result"
    }
   ],
   "source": [
    "import shutil\n",
    "\n",
    "file_to_work_with: str = \"./file_example_{0}.txt\".format(int(datetime.datetime.now().timestamp()))\n",
    "\n",
    "shutil.copyfile(\"file_exercise1.txt\", file_to_work_with)"
   ]
  },
  {
   "cell_type": "code",
   "execution_count": 6,
   "id": "a4657dc0-5df5-466f-b2ec-9103b29caad2",
   "metadata": {
    "tags": []
   },
   "outputs": [
    {
     "name": "stdout",
     "output_type": "stream",
     "text": [
      "End of file: string index out of range\n",
      "It befell in the days of Uther Pendragon, when he was king of all England, and so reigned, that there was a mighty duke in Cornwall that held war against him long time. And the duke was called the duke of Tintagil. \n",
      "And so by means King Uther sent for this duke, charging him to bring his wife with him, for she was called a fair lady, and a passing wise, and her name was called Igraine. So when the duke and his wife were come unto the king, by the means of great lords they were accorded both: the king liked and loved this lady well, and he made them great cheer out of measure, and desired to have lain by her. But she was a passing good woman, and would not assent unto the king. \n",
      "And then she told the duke her husband, and said, I suppose that we were sent for that I should be dishonoured; wherefore, husband, I counsel you, that we depart from hence suddenly, that we may ride all night unto our own castle. \n",
      "And in like wise as she said so they departed, that neither the king nor none of his council were ware of their departing. Aall so soon as King Uther knew of their departing so suddenly, he was wonderly wroth. Then he called to him his privy council, and told them of the sudden departing of the duke and his wife\n"
     ]
    }
   ],
   "source": [
    "with open(file_to_work_with, mode=\"r+\") as file_var:\n",
    "    try:\n",
    "    # We create the file that will contain the capitalized copy, we need mode w+\n",
    "    # In mode w+, the file does not have to exist (so it will be created) and the file can be read \n",
    "    # so we can test that the copy is correct without closing the file\n",
    "        capitalized_text: str = \"\"\n",
    "        line = file_var.readline()\n",
    "        pos_to_go_back: int = 0\n",
    "        while line:\n",
    "            # We split all the sentences (sentences are separated by .), we have to capitalize the word after .\n",
    "            sentences: [str] = line.split(\".\")\n",
    "            # We go through all the sentences in this line\n",
    "            for count, sentence in enumerate(sentences):\n",
    "                # If the first character is a blank space, we have to capitalize the following character\n",
    "                if sentence[0] == \" \":\n",
    "                    capital_letter: str = sentence[1].upper()\n",
    "                    # If count == 0, it means it is the first sentence in the line, so no blank space after . is needed\n",
    "                    if count == 0:\n",
    "                        capitalized_sentence: str = capital_letter + sentence[2:]\n",
    "                    else:\n",
    "                        # Otherwise, we need a blank space after . is needed\n",
    "                        capitalized_sentence: str = \". \" + capital_letter + sentence[2:]\n",
    "                else:\n",
    "                    # Otherwise, we capitalize the first character\n",
    "                    capital_letter: str = sentence[0].upper()\n",
    "                    if count == 0:\n",
    "                        capitalized_sentence: str = capital_letter + sentence[1:]\n",
    "                    else:\n",
    "                        capitalized_sentence: str = \". \" + capital_letter + sentence[1:]\n",
    "                # Now we add the capitalized sentence to the variable that has our text capitalized\n",
    "                capitalized_text += capitalized_sentence\n",
    "            line = file_var.readline()\n",
    "    except IndexError as e:\n",
    "        # We raise an IndexError when we get to the end of the file, so the line's length is 0\n",
    "        print(\"End of file: {0}\".format(e))\n",
    "    except FileNotFoundError as e:\n",
    "        print(\"One of the files was not found, could not be found\")\n",
    "    else:\n",
    "        print(\"No exceptions, did we get to the end of file\")\n",
    "    print(capitalized_text)\n",
    "    # We set the pointer to the beginning\n",
    "    file_var.seek(0, 0)\n",
    "    # We write the new text (plus the last period)\n",
    "    file_var.write(capitalized_text + \".\")\n",
    "    # We truncate the rest (so the rest of the file is clean)\n",
    "    file_var.truncate()"
   ]
  },
  {
   "cell_type": "markdown",
   "id": "5f68f04d-9242-4826-946f-6be04fa8bc3d",
   "metadata": {},
   "source": [
    "#### Exercise 3:\n",
    "\n",
    "Replace the word four by five in the file. You need to do this in the file itself (can't create a new one)\n",
    "\n",
    "__File name__: file_exercise3.txt -> Execute the function below to copy it"
   ]
  },
  {
   "cell_type": "code",
   "execution_count": 4,
   "id": "4f7c0ed1-b79f-43bb-895a-1bd74250704b",
   "metadata": {
    "tags": []
   },
   "outputs": [
    {
     "data": {
      "text/plain": [
       "'./file_example_1699826409.txt'"
      ]
     },
     "execution_count": 4,
     "metadata": {},
     "output_type": "execute_result"
    }
   ],
   "source": [
    "import shutil\n",
    "\n",
    "file_to_work_with: str = \"./file_example_{0}.txt\".format(int(datetime.datetime.now().timestamp()))\n",
    "\n",
    "shutil.copyfile(\"file_exercise3.txt\", file_to_work_with)"
   ]
  },
  {
   "cell_type": "code",
   "execution_count": 5,
   "id": "c4f0cc5a-2c2d-4db1-9971-2fca6abef976",
   "metadata": {
    "tags": []
   },
   "outputs": [],
   "source": [
    "with open(file_to_work_with, mode=\"r+\") as file_var:\n",
    "    # We read the first line\n",
    "    line = file_var.readline()\n",
    "    # We will save the position to go back\n",
    "    # after reading a line\n",
    "    pos_to_go_back: int = 0\n",
    "    # While we have lines in the file\n",
    "    while line:\n",
    "        # If the line says four\n",
    "        if \"four\" in line.lower():\n",
    "            # We set the pointer to the beginning of the line\n",
    "            file_var.seek(pos_to_go_back)\n",
    "            # We write five which will overwrite the\n",
    "            # previous line\n",
    "            file_var.write(\"Five\")\n",
    "        # We save the pointer position for the\n",
    "        # next iteration\n",
    "        pos_to_go_back = file_var.tell()\n",
    "        # We read a new line\n",
    "        line = file_var.readline()"
   ]
  },
  {
   "cell_type": "markdown",
   "id": "2a0ca338-a990-480d-8236-5a57ac71a4db",
   "metadata": {},
   "source": [
    "#### Exercise 4:\n",
    "\n",
    "You are a spy that has received a file that will contain instructions on how to get to our secret headquarters. The file will contain regular text until we get the word betwixt. After that word the instructions will start until the end of the file. You need to extract those instructions, remove them from the original file and then send them to a new file"
   ]
  },
  {
   "cell_type": "code",
   "execution_count": 41,
   "id": "65b6bcbf-3d1e-48db-a63c-ea4eea629db3",
   "metadata": {
    "tags": []
   },
   "outputs": [
    {
     "data": {
      "text/plain": [
       "'./file_example_1699990099.txt'"
      ]
     },
     "execution_count": 41,
     "metadata": {},
     "output_type": "execute_result"
    }
   ],
   "source": [
    "import shutil\n",
    "\n",
    "file_to_work_with: str = \"./file_example_{0}.txt\".format(int(datetime.datetime.now().timestamp()))\n",
    "\n",
    "shutil.copyfile(\"file_exercise4.txt\", file_to_work_with)"
   ]
  },
  {
   "cell_type": "code",
   "execution_count": 43,
   "id": "e4b58085-5f6d-4896-b057-cd2434ae2995",
   "metadata": {
    "tags": []
   },
   "outputs": [
    {
     "name": "stdout",
     "output_type": "stream",
     "text": [
      "File with instructions: ./file_example_1699990363.txt\n"
     ]
    }
   ],
   "source": [
    "# We create the variables that will contain the instructions\n",
    "# and the position to go back to in the file where \n",
    "# the instructions started and we have to truncate the file\n",
    "text: str = \"\"\n",
    "pos: int = 0\n",
    "# We open the original file\n",
    "with open(file_to_work_with, mode = \"r+\") as file_var:\n",
    "    # We set the flag to activate once we have found the\n",
    "    # keyword\n",
    "    found: bool = False\n",
    "    # We go line by line\n",
    "    for line in file_var:\n",
    "        # If we have already found the word, we add the whole line\n",
    "        # to the text that will contain the instruction\n",
    "        if found:\n",
    "            text += line\n",
    "        # If the secret word is contained in this line\n",
    "        if \"betwixt\" in line:\n",
    "            # Flag is true\n",
    "            found = True\n",
    "            # We find the index of the letter\n",
    "            index: int = line.find(\"betwixt\")\n",
    "            # We add the position of the word to\n",
    "            # the position in the pointer\n",
    "            pos += index\n",
    "            # We only get the text that contains the instructions\n",
    "            # in this line\n",
    "            text = line[index + len(\"betwixt\"):]\n",
    "        else:\n",
    "            # If the word is not in the line\n",
    "            if not found:\n",
    "                # and we have not found the word\n",
    "                # We add the whole line to the positions\n",
    "                pos += len(line)\n",
    "    # We set the pointer back to where the secret word was found\n",
    "    file_var.seek(pos, 0)\n",
    "    # We truncate the file before the secret word was found\n",
    "    file_var.truncate()\n",
    "\n",
    "# New file name\n",
    "file_instruction: str = \"./file_example_{0}.txt\".format(int(datetime.datetime.now().timestamp()))\n",
    "print(\"File with instructions: {0}\".format(file_instruction))\n",
    "# We create the new file and write the instructions\n",
    "with open(file_instruction, mode = \"w\") as file_var:\n",
    "    file_var.write(text)"
   ]
  },
  {
   "cell_type": "code",
   "execution_count": null,
   "id": "cf3398db-77a6-4a9c-b46a-d4b2842dec5c",
   "metadata": {},
   "outputs": [],
   "source": []
  }
 ],
 "metadata": {
  "kernelspec": {
   "display_name": "Python 3 (ipykernel)",
   "language": "python",
   "name": "python3"
  },
  "language_info": {
   "codemirror_mode": {
    "name": "ipython",
    "version": 3
   },
   "file_extension": ".py",
   "mimetype": "text/x-python",
   "name": "python",
   "nbconvert_exporter": "python",
   "pygments_lexer": "ipython3",
   "version": "3.11.3"
  }
 },
 "nbformat": 4,
 "nbformat_minor": 5
}
