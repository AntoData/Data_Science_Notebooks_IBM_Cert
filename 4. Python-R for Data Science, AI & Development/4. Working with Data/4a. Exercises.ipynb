{
 "cells": [
  {
   "cell_type": "markdown",
   "id": "de879137-c937-4bf7-9ede-b94cd136d936",
   "metadata": {},
   "source": [
    "### APIs and webscraping"
   ]
  },
  {
   "cell_type": "markdown",
   "id": "36fb9ddb-26d1-4de8-b348-6fcb56236b86",
   "metadata": {},
   "source": [
    "- __Exercise 1__: Let's use REST API httpbin to get our user agent (User-Agent request header is a characteristic string that lets servers and network peers identify the application, operating system, vendor, and/or version of the requesting user agent)"
   ]
  },
  {
   "cell_type": "markdown",
   "id": "c62c3903-89e5-492e-bc92-6f3f4e2e223f",
   "metadata": {},
   "source": [
    "1. Go to __[https://httpbin.org/](https://httpbin.org/)__\n",
    "2. Expand section Request Inspection\n",
    "3. Expand section User agent\n",
    "4. There, we are told we need to perform a get request to URL: __[https://httpbin.org/user-agent](https://httpbin.org/user-agent)__"
   ]
  },
  {
   "cell_type": "code",
   "execution_count": 1,
   "id": "9d97c94f-e336-4dd0-a3de-e2aa7cb6584f",
   "metadata": {},
   "outputs": [
    {
     "name": "stdout",
     "output_type": "stream",
     "text": [
      "{'user-agent': 'python-requests/2.31.0'}\n"
     ]
    }
   ],
   "source": [
    "# We import requests\n",
    "import requests\n",
    "import json\n",
    "\n",
    "# We perform a get request to that URL (with no parameters)\n",
    "response: requests.Response = requests.get(\"https://httpbin.org/user-agent\")\n",
    "\n",
    "# We get the response status to see if everything went well\n",
    "if response.status_code in [200, 201]:\n",
    "    # We extract the response\n",
    "    json_response: str = response.text\n",
    "    # We convert it to dict\n",
    "    dict_response: dict = json.loads(json_response)\n",
    "    print(dict_response)\n",
    "else:\n",
    "    raise requests.RequestException(\"Status code not OK\")"
   ]
  },
  {
   "cell_type": "markdown",
   "id": "fcd27349-f0de-4699-aad6-523fee1c1d4b",
   "metadata": {},
   "source": [
    "- __Exercise 2__: Let's use REST API [https://reqres.in/](https://reqres.in/) to delete a user"
   ]
  },
  {
   "cell_type": "markdown",
   "id": "42b1ed96-c6c9-49a6-974c-ace56bb14bd1",
   "metadata": {},
   "source": [
    "1. Go to __[https://reqres.in/](https://reqres.in/)__\n",
    "2. Scroll till the instructions to delete users are given\n",
    "3. Perform a delete request to that URL"
   ]
  },
  {
   "cell_type": "code",
   "execution_count": 9,
   "id": "7e483342-19b7-464a-80ac-c942766b000a",
   "metadata": {},
   "outputs": [
    {
     "name": "stdout",
     "output_type": "stream",
     "text": [
      "Success\n"
     ]
    }
   ],
   "source": [
    "# The URL of a user is https://reqres.in/api/users/<_id_>, let's delete user 11 for instance\n",
    "url: str = \"https://reqres.in/api/users/11\"\n",
    "\n",
    "# Let's execute the request\n",
    "response: requests.Response = requests.delete(url)\n",
    "\n",
    "# Let's check status code\n",
    "if response.status_code in [200, 201, 204]:\n",
    "    # Status code = 204 means correct but no extra information\n",
    "    print(\"Success\")\n",
    "else:\n",
    "    print(response.status_code)"
   ]
  },
  {
   "cell_type": "markdown",
   "id": "02dfe086-8469-4aca-a555-91a104f24499",
   "metadata": {},
   "source": [
    "- __Exercise 3__: Let's build an application using the same REST API to update one of its users. We will ask using the prompt the user_id to update, the new name and the new job"
   ]
  },
  {
   "cell_type": "markdown",
   "id": "ad1ae6a6-e664-4d31-b955-860138a920ef",
   "metadata": {},
   "source": [
    "1. Go to https://reqres.in/\n",
    "2. Scroll till the instructions to update users are given\n",
    "3. Perform a put request to that URL with the data needed (instead of a Patch request)"
   ]
  },
  {
   "cell_type": "code",
   "execution_count": 17,
   "id": "356b532b-032a-491b-9558-c600eeec9248",
   "metadata": {},
   "outputs": [
    {
     "name": "stdin",
     "output_type": "stream",
     "text": [
      "Which user do you want to update? Provide their ID:  3\n",
      "What's the new name of this user?  Morphine Love Dion\n",
      "What's the new job of this user?  Lip sync assassin\n"
     ]
    },
    {
     "name": "stdout",
     "output_type": "stream",
     "text": [
      "{'name': 'Morphine Love Dion', 'job': 'Lip sync assassin', 'updatedAt': '2024-03-29T18:32:46.972Z'}\n"
     ]
    }
   ],
   "source": [
    "# We create a variable that will contain the base URL we have to perform our request to\n",
    "url: str = \"https://reqres.in/api/users/\"\n",
    "\n",
    "# We ask which user we want to update and their new name and new job\n",
    "user_id: str = input(\"Which user do you want to update? Provide their ID: \")\n",
    "new_name: str = input(\"What's the new name of this user? \")\n",
    "new_job: str = input(\"What's the new job of this user? \")\n",
    "\n",
    "# We use the new name and new job to create the payload the request will receive\n",
    "update_data: dict = {\"name\": new_name, \"job\": new_job}\n",
    "# We convert it to JSON format\n",
    "update_data: str = json.dumps(update_data)\n",
    "\n",
    "# We perform the PUT request to the base URL plus the ID given by the user\n",
    "response: requests.Response = requests.put(url = url + user_id, headers = {\"Content-Type\": \"application/json\"}, data = update_data)\n",
    "# If the request went well, we display its response in JSON file\n",
    "if response.status_code in [200, 201, 204]:\n",
    "    print(response.json())\n",
    "else:\n",
    "    # Otherwise, something went wrong and we display the corresponding status code\n",
    "    print(requests.status_code)"
   ]
  },
  {
   "cell_type": "markdown",
   "id": "31042d13-1600-4c2f-ba79-f46baab0fd82",
   "metadata": {},
   "source": [
    "- __Exercise 4__: Let's build now a similar application to create new users"
   ]
  },
  {
   "cell_type": "markdown",
   "id": "d7ec90cf-656d-4b17-875d-b30916c4dd2b",
   "metadata": {},
   "source": [
    "1. Go to __[https://reqres.in/](https://reqres.in/)__\n",
    "2. Scroll till the instructions to create users are given\n",
    "3. Perform a POST request to that URL providing the correct payload for parameter data"
   ]
  },
  {
   "cell_type": "code",
   "execution_count": 27,
   "id": "0c3c3d2d-05be-4984-8bb5-9103adb388aa",
   "metadata": {},
   "outputs": [
    {
     "name": "stdin",
     "output_type": "stream",
     "text": [
      "What's the new name of this user?  Morphine Love Dion\n",
      "What's the new job of this user?  Lip sync assassin\n"
     ]
    },
    {
     "name": "stdout",
     "output_type": "stream",
     "text": [
      "{'name': 'Morphine Love Dion', 'job': 'Lip sync assassin', 'id': '41', 'createdAt': '2024-03-29T18:46:32.259Z'}\n"
     ]
    }
   ],
   "source": [
    "# We create a variable to the endpoint URL\n",
    "url: str = \"https://reqres.in/api/users/\"\n",
    "\n",
    "# We ask the name and the job of this new user\n",
    "user_name: str = input(\"What's the new name of this user? \")\n",
    "user_job: str = input(\"What's the new job of this user? \")\n",
    "\n",
    "# We use the new name and new job to create the payload the request will receive\n",
    "user_data: dict = {\"name\": user_name, \"job\": user_job}\n",
    "user_data: str = json.dumps(user_data)\n",
    "\n",
    "# We perform a POST request to the endpoint providing the payload user_data in the parameter data\n",
    "response: requests.Response = requests.post(url = url, headers = {\"Content-Type\": \"application/json\"}, data = user_data)\n",
    "\n",
    "# If the request went well, we display its response in JSON format\n",
    "if response.status_code in [200, 201]:\n",
    "    print(response.json())\n",
    "else:\n",
    "    # Otherwise, we display the status code\n",
    "    print(response.status_code)"
   ]
  },
  {
   "cell_type": "markdown",
   "id": "d2d33497-95f0-4852-85f3-fbc379433062",
   "metadata": {},
   "source": [
    "- __Exercise 5__: Let's design a piece of code that given an item, returns the prices of the different offers for that item in Amazon.com and work out the average price"
   ]
  },
  {
   "cell_type": "code",
   "execution_count": 38,
   "id": "1dafb10d-335f-4ce2-968d-dc9645c5581b",
   "metadata": {},
   "outputs": [],
   "source": [
    "# We need to import BeautifulSoup\n",
    "import numpy as np\n",
    "from bs4 import BeautifulSoup"
   ]
  },
  {
   "cell_type": "code",
   "execution_count": 51,
   "id": "7afa5b2d-21e6-46c2-af6d-dcd33d6adb72",
   "metadata": {
    "scrolled": true
   },
   "outputs": [
    {
     "name": "stdin",
     "output_type": "stream",
     "text": [
      "Which item do you want to research? medieval books\n"
     ]
    }
   ],
   "source": [
    "# We build the base URL\n",
    "url: str = \"https://www.amazon.es/s?k=\"\n",
    "\n",
    "# We ask which item we want to search for\n",
    "item_to_search: str = input(\"Which item do you want to research?\")\n",
    "\n",
    "# We replace blank spaces by the symbol + (URLs do this)\n",
    "item_url: str = item_to_search.replace(\" \", \"+\")\n",
    "\n",
    "# We perform the GET request to that URL, but we need to add the header \"User-Agent\":\"Defined\" for the request to work\n",
    "response: requests.Response = requests.get(url + item_url, headers={\"User-Agent\":\"Defined\"})"
   ]
  },
  {
   "cell_type": "code",
   "execution_count": 52,
   "id": "ef7e725c-183c-40be-a717-c5f6424ec006",
   "metadata": {},
   "outputs": [
    {
     "name": "stdout",
     "output_type": "stream",
     "text": [
      "[ 20.89  15.26  18.99  26.45  13.19  13.19  28.4   29.9   13.31  20.79\n",
      "  23.97  12.46   8.77  24.06  26.1   27.62  15.99  19.95   8.76  19.49\n",
      "  23.97  24.5   18.95  19.95  15.75   8.35  11.93  12.45  20.95  19.17\n",
      "  16.26  13.75   6.71   8.76  11.99  65.8   99.    19.5   11.5   10.75\n",
      "  42.66  13.05  14.1   13.82  19.75  19.25   1.19  12.46  14.37  16.29\n",
      "   8.38  27.52  37.15 111.67 144.35  21.09  12.46  11.39  16.27  35.25\n",
      "  26.95  14.37  18.    23.75  25.    20.79]\n"
     ]
    }
   ],
   "source": [
    "# We parse the HTML\n",
    "parsed_html = BeautifulSoup(response.text, 'html5lib')\n",
    "\n",
    "# All the prices are in a span whose class is called 'a-price'\n",
    "a_prices = parsed_html.find_all(\"span\", {\"class\": \"a-price\"})\n",
    "\n",
    "# We create a np array to contain all the prices\n",
    "# We have to get the span and the navigable text in every element\n",
    "# We have to turn the price with current into float\n",
    "amazon_prices: np.array = np.array([float(a_price.span.string.strip(\"\\xa0€\").replace(\",\",\".\")) for a_price in a_prices])\n",
    "\n",
    "print(amazon_prices)"
   ]
  },
  {
   "cell_type": "code",
   "execution_count": 53,
   "id": "13749d27-2416-44d2-8590-e25de02d5f3c",
   "metadata": {},
   "outputs": [
    {
     "name": "stdout",
     "output_type": "stream",
     "text": [
      "Average price: 23.467575757575755\n"
     ]
    }
   ],
   "source": [
    "print(\"Average price: {0}\".format(amazon_prices.mean()))"
   ]
  },
  {
   "cell_type": "markdown",
   "id": "b966cfc6-ab1b-450e-a257-12b2dd50e1b3",
   "metadata": {},
   "source": [
    "- __Exercise 6__: Let's put all the new released curated by allmusic's editor in a dataframe"
   ]
  },
  {
   "cell_type": "code",
   "execution_count": 60,
   "id": "b023d0f4-3981-4664-9194-e9c447ee0a50",
   "metadata": {},
   "outputs": [],
   "source": [
    "base_url: str = \"https://en.wikipedia.org/wiki/\"\n",
    "\n",
    "response: requests.Response = requests.get(base_url + \"France\")\n",
    "\n",
    "parsed_html = BeautifulSoup(response.text, 'html5')\n",
    "\n",
    "population_elements = parsed_html.find_all(string = \"Population\")\n",
    "\n",
    "for next_sib in population_elements[0].next_siblings:\n",
    "    print(next_sib)"
   ]
  },
  {
   "cell_type": "code",
   "execution_count": null,
   "id": "98b07687-197b-4b38-99ae-56a047619d5f",
   "metadata": {},
   "outputs": [],
   "source": []
  }
 ],
 "metadata": {
  "kernelspec": {
   "display_name": "Python 3 (ipykernel)",
   "language": "python",
   "name": "python3"
  },
  "language_info": {
   "codemirror_mode": {
    "name": "ipython",
    "version": 3
   },
   "file_extension": ".py",
   "mimetype": "text/x-python",
   "name": "python",
   "nbconvert_exporter": "python",
   "pygments_lexer": "ipython3",
   "version": "3.11.3"
  }
 },
 "nbformat": 4,
 "nbformat_minor": 5
}
