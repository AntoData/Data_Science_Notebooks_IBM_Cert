{
 "cells": [
  {
   "cell_type": "markdown",
   "id": "efedb027-8408-4114-ada7-2a2a06658609",
   "metadata": {},
   "source": [
    "# Classes and Objects\n",
    "\n",
    "__Python__ is an _Object Oriented Programming Language_ (OOP). This is a programming paradigm where we define entities called __classes__.\n",
    "The classes can be considered like _new custom-made types_. When we define a class, we define its _members_:\n",
    "- which __data__ it will contain -> __attributes__: These are the variables that a new instance of that class will contain\n",
    "- which __operations__ it will perform -> __methods__: These are the functions the class will provide\n",
    "\n",
    "An _instance_ of a class is called __object__. An object is just a variable whose type is a custom class that has been initialized.\n",
    "\n",
    "<pre>\n",
    "<font color=\"#fc0362\"><b>class</b></font> class_name:\n",
    "    ....\n",
    "    \n",
    "    <font color=\"#df03fc\">def</font> method_name(<font color=\"#fc0362\">self</font>, ...):\n",
    "        code of this method...\n",
    "        ...\n",
    "</pre>\n",
    "\n",
    "So a basic class is defined like above"
   ]
  },
  {
   "cell_type": "code",
   "execution_count": 1,
   "id": "d9db32fb-4920-487c-8dac-e87c484c42b7",
   "metadata": {
    "tags": []
   },
   "outputs": [],
   "source": [
    "class SimpleClass:\n",
    "    def print_n(self, n):\n",
    "        print(\"{0}\".format(n))"
   ]
  },
  {
   "cell_type": "markdown",
   "id": "757bd3d7-a747-4e2e-afaf-65ef252a39bb",
   "metadata": {},
   "source": [
    "This was a very basic example. It did not contain attributes as we did not overwrite its constructor\n",
    "- __Constructor__: It is a reserved method that builds the instance of the class. We use it to initialize the attributes of the class. This method is called __ init __\n",
    "\n",
    "<pre>\n",
    "<font color=\"#fc0362\"><b>class</b></font> class_name:\n",
    "    ....\n",
    "    \n",
    "    <font color=\"#df03fc\">def</font> <font color=\"#3368FF\">__ init __</font>(<font color=\"#fc0362\">self</font>, value1, value2, ...):\n",
    "        <font color=\"#fc0362\">self</font>.attribute1 = value1\n",
    "        <font color=\"#fc0362\">self</font>.attribute2 = value2\n",
    "        ...\n",
    "\n",
    "    <font color=\"#df03fc\">def</font> method_name(<font color=\"#fc0362\">self</font>, ...):\n",
    "        code of this method...\n",
    "        ...\n",
    "</pre>"
   ]
  },
  {
   "cell_type": "code",
   "execution_count": 2,
   "id": "f78fac99-2868-4f76-b594-590688f855ea",
   "metadata": {
    "tags": []
   },
   "outputs": [],
   "source": [
    "import datetime\n",
    "import random\n",
    "\n",
    "class Patient:\n",
    "    \"\"\"\n",
    "    Represents a patient of a health clinic. It contains the attributes\n",
    "\n",
    "    p_id: Random and unique identification number\n",
    "    :type p_id: int\n",
    "    :param name: Patient's name\n",
    "    :type name: str\n",
    "    :param surname: Patient's surname\n",
    "    :type surname: str\n",
    "    :param height: Patient's height in metres\n",
    "    :type height: float\n",
    "    :param weight: Patient's weight in kgs\n",
    "    :type weight: float\n",
    "    :param birthdate: Patient's birthdate\n",
    "    :type birthdate: datetime\n",
    "    \"\"\"\n",
    "\n",
    "    def __init__(self, name: str, surname: str, height: float,\n",
    "                 weight: float, birthdate: datetime.datetime):\n",
    "        \"\"\"\n",
    "        Constructor of the class, receives the following input\n",
    "        parameters that will initialize a number of attributes of\n",
    "        this class. Observe that attributes are declared like this:\n",
    "        self.attribute_name = .... inside the constructor\n",
    "\n",
    "        :param name: Patient's name\n",
    "        :type name: str\n",
    "        :param surname: Patient's surname\n",
    "        :type surname: str\n",
    "        :param height: Patient's height in metres\n",
    "        :type height: float\n",
    "        :param weight: Patient's weight in kgs\n",
    "        :type weight: float\n",
    "        :param birthdate: Patient's birthdate\n",
    "        :type birthdate: datetime\n",
    "        \"\"\"\n",
    "\n",
    "        self.p_id: int = random.randint(0, 10**6)  # See how this was\n",
    "        # not an input parameter of the constructor but it is\n",
    "        # nonetheless an attribute of the class\n",
    "        self.name: str = name\n",
    "        self.surname: str = surname\n",
    "        self.height: float = height\n",
    "        self.weight: float = weight\n",
    "        self.birthdate: datetime.datetime = birthdate\n",
    "        # Constructors don't return anything, never have a clause return\n",
    "\n",
    "    def get_body_surface_area(self) -> float:\n",
    "        \"\"\"\n",
    "        Return the measurement known as body surface area\n",
    "        \n",
    "        :return: Body surface area\n",
    "        :rtype: float\n",
    "        \"\"\"\n",
    "        # Self is passed as a parameter, so we have access to the\n",
    "        # members of the class (attributes and other methods)\n",
    "        body_surface_area: float = 1 / 6 *(self.weight * self.height) * 0.5\n",
    "        # We get the attributes of this instance using the word self\n",
    "        return body_surface_area\n",
    "\n",
    "    def get_patient_age_in_date(self, comp_date: datetime.datetime) -> int:\n",
    "        \"\"\"\n",
    "        Returns how many years old the patient was or will be in a\n",
    "        certain date (past or present)\n",
    "\n",
    "        :param comp_date: Date we will compare to our patient's\n",
    "        birthdate to see how old he was at that time\n",
    "        :type comp_date: datetime.datetime\n",
    "        :return: Difference between comp_date and birthdate in years\n",
    "        :rtype: int\n",
    "        \"\"\"\n",
    "\n",
    "        # Methods can receive other input parameters besides self\n",
    "        # And of course we can use them in the scope of the method\n",
    "        difference: datetime.timedelta = comp_date - self.birthdate\n",
    "        return difference.days // 365\n",
    "\n",
    "    def get_patient_age(self):\n",
    "        \"\"\"\n",
    "        Returns how old years old our patient is\n",
    "\n",
    "        :return: Difference between current instant and birthdate\n",
    "        in years\n",
    "        :rtype: int\n",
    "        \"\"\"\n",
    "\n",
    "        current_instant: datetime = datetime.datetime.now()\n",
    "        # We can also call to other methods using self\n",
    "        return self.get_patient_age_in_date(current_instant)"
   ]
  },
  {
   "cell_type": "markdown",
   "id": "3723a5e8-af72-45c5-b026-ea683451fdb7",
   "metadata": {},
   "source": [
    "__Object__: To create an instance of a class, we call the name of the class\n",
    "- If the __constructor__ was overwritten, we have to provide the same arguments that are input parameters in the method __ init __"
   ]
  },
  {
   "cell_type": "code",
   "execution_count": 3,
   "id": "9d824222-45a6-439e-85c7-7953756d88a4",
   "metadata": {
    "tags": []
   },
   "outputs": [],
   "source": [
    "patient1: Patient = Patient(\"James\", \"OHara\", 1.81, 83,\n",
    "                   datetime.datetime(year=1988, month=5, day=10))"
   ]
  },
  {
   "cell_type": "markdown",
   "id": "4094301e-7cb9-4736-99f9-130a9b725fa1",
   "metadata": {},
   "source": [
    "In the above statement, we create a new variable called patient1 of type Patient. This patient's name is James, their surname is OHara, their height is 1.81m, their weight is 83 kgs, and they were born May 10th 1988"
   ]
  },
  {
   "cell_type": "markdown",
   "id": "45c9f46d-40d9-46f4-b428-132b64d6e8a4",
   "metadata": {},
   "source": [
    "To access the members (attributes and methods) of a class, you just need to:\n",
    "\n",
    "<pre>\n",
    "object_var.<font color=\"#fc0362\">attribute</font>\n",
    "object_var.<font color=\"#fc0362\">method</font>(attribute1, ...)\n",
    "</pre>"
   ]
  },
  {
   "cell_type": "code",
   "execution_count": 4,
   "id": "d1a26a92-2d78-44dc-ba10-a9cda51c2e46",
   "metadata": {
    "tags": []
   },
   "outputs": [
    {
     "name": "stdout",
     "output_type": "stream",
     "text": [
      "Patient ID: 487945\n",
      "Name: James\n",
      "Surname: OHara\n",
      "Age: 35\n",
      "Age in 2000: 11\n",
      "Body Surface Are: 12.519166666666667\n"
     ]
    }
   ],
   "source": [
    "# Getting attributes from the object\n",
    "print(\"Patient ID: {0}\".format(patient1.p_id))\n",
    "print(\"Name: {0}\".format(patient1.name))\n",
    "print(\"Surname: {0}\".format(patient1.surname))\n",
    "\n",
    "# Calling methods from the object\n",
    "print(\"Age: {0}\".format(patient1.get_patient_age()))\n",
    "print(\"Age in 2000: {0}\".format(patient1.get_patient_age_in_date(datetime.datetime(year=2000, month=1, day=1))))\n",
    "print(\"Body Surface Are: {0}\".format(patient1.get_body_surface_area()))"
   ]
  },
  {
   "cell_type": "markdown",
   "id": "2981876c-7f55-4e40-b1d5-bfc7d260136d",
   "metadata": {},
   "source": [
    "### Class Members\n",
    "\n",
    "There are two types of members:\n",
    "\n",
    "- __Instance__ members: This only applies really to __attributes__. It means that this kind of member, this kind of attribute might have different values depending on the object. Even might have a different set of attributes and methods from one object to another:\n",
    "\n",
    "The above examples are instance attributes, we gave them value during the instantiation of the class. But we can:\n",
    "- Change their value only for them: If we change their value, it will only be applied to that instance of the class to that object\n",
    "- Create a new object whose attributes have different values"
   ]
  },
  {
   "cell_type": "code",
   "execution_count": 5,
   "id": "b8490e1a-2d47-4015-b6c5-dd67e65494d1",
   "metadata": {
    "tags": []
   },
   "outputs": [
    {
     "name": "stdout",
     "output_type": "stream",
     "text": [
      "Katya\n"
     ]
    }
   ],
   "source": [
    "patient2: Patient = Patient(\"Katya\", \"Colby\", 1.71, 63,\n",
    "                   datetime.datetime(year=1980, month=4, day=1))\n",
    "# The attributes for this instance of Patient have different values\n",
    "\n",
    "print(patient2.name)"
   ]
  },
  {
   "cell_type": "code",
   "execution_count": 6,
   "id": "704bd435-840d-4921-8464-f0180d5b0ed7",
   "metadata": {
    "tags": []
   },
   "outputs": [
    {
     "name": "stdout",
     "output_type": "stream",
     "text": [
      "John\n",
      "Katya\n"
     ]
    }
   ],
   "source": [
    "patient1.name = \"John\"\n",
    "print(patient1.name)\n",
    "print(patient2.name)\n",
    "# Updating the attribute name of patient1, only affects his instance, patient2 remains the same"
   ]
  },
  {
   "cell_type": "markdown",
   "id": "9cf925b0-8ed3-4a42-8942-40c67c09c3b2",
   "metadata": {},
   "source": [
    "Also, __instance attributes can be added at any point during the life cycle of the member__. They are usually added during initialization in __ init __ but actually can be added at any point"
   ]
  },
  {
   "cell_type": "code",
   "execution_count": 7,
   "id": "00f1ca22-c276-4158-aaf8-78be2d524f84",
   "metadata": {
    "tags": []
   },
   "outputs": [
    {
     "name": "stdout",
     "output_type": "stream",
     "text": [
      "Greece\n",
      "patient2 does not have the attribute country: 'Patient' object has no attribute 'country'\n"
     ]
    }
   ],
   "source": [
    "patient1.country = \"Greece\"\n",
    "print(patient1.country)\n",
    "\n",
    "try:\n",
    "    print(patient2.country)\n",
    "except AttributeError as e:\n",
    "    print(\"patient2 does not have the attribute country: {0}\".format(e))"
   ]
  },
  {
   "cell_type": "markdown",
   "id": "b23f1fe3-8bb8-45b2-b987-8aa5439ac52a",
   "metadata": {},
   "source": [
    "Even methods can be added to an object this way:"
   ]
  },
  {
   "cell_type": "code",
   "execution_count": 8,
   "id": "92166fa2-73c0-4cf3-8033-9be4024d10e1",
   "metadata": {
    "tags": []
   },
   "outputs": [
    {
     "name": "stdout",
     "output_type": "stream",
     "text": [
      "2\n"
     ]
    }
   ],
   "source": [
    "def method_returns_two():\n",
    "    return 2\n",
    "\n",
    "patient1.new_method = method_returns_two\n",
    "print(patient1.new_method())"
   ]
  },
  {
   "cell_type": "markdown",
   "id": "5ee451c1-0e5b-4f23-b3f3-3d46f149a305",
   "metadata": {},
   "source": [
    "- To see the __instance members__ of an __object__ we can call the default attribute __ __dict__ __ :"
   ]
  },
  {
   "cell_type": "code",
   "execution_count": 9,
   "id": "b74fc189-80a8-4782-abdf-6ff666013ca8",
   "metadata": {
    "tags": []
   },
   "outputs": [
    {
     "name": "stdout",
     "output_type": "stream",
     "text": [
      "{'p_id': 487945, 'name': 'John', 'surname': 'OHara', 'height': 1.81, 'weight': 83, 'birthdate': datetime.datetime(1988, 5, 10, 0, 0), 'country': 'Greece', 'new_method': <function method_returns_two at 0x0000029801691A80>}\n"
     ]
    }
   ],
   "source": [
    "print(patient1.__dict__)"
   ]
  },
  {
   "cell_type": "markdown",
   "id": "7f99cab2-4da6-43b3-b3ab-b685079eee35",
   "metadata": {},
   "source": [
    "- __Class__ members: These are:\n",
    "    - __Attributes__: Attributes shared by all the instances of a class. All of them share the same instance of the variable. Therefore, if it changes, changes for all of them\n",
    "    - __Methods__: Method that don't use __instance members__, nor methods, nor attributes. They only rely on __class attributes and methods__"
   ]
  },
  {
   "cell_type": "markdown",
   "id": "6310a6f3-9ccb-4363-9509-bb6ddebf163b",
   "metadata": {},
   "source": [
    "- To define a __class attribute__ you only have to declare and initialize it after the signature of the class, _not in the constructor_\n",
    "\n",
    "<pre>\n",
    "<font color=\"#fc0362\"><b>class</b></font> class_name:\n",
    "    ....\n",
    "    \n",
    "    <font color=\"#00AF15\">class_variable1</font> = value\n",
    "    \n",
    "    <font color=\"#df03fc\">def</font> <font color=\"#3368FF\">__ init __</font>(<font color=\"#fc0362\">self</font>, value1, value2, ...):\n",
    "        <font color=\"#fc0362\">self</font>.attribute1 = value1\n",
    "        <font color=\"#fc0362\">self</font>.attribute2 = value2\n",
    "        ...\n",
    "    <font color=\"#df03fc\">def</font> method_name(<font color=\"#fc0362\">self</font>, ...):\n",
    "        code of this method...\n",
    "        ...\n",
    "    \n",
    "    <font color=\"#df03fc\">def</font> method_name(<font color=\"#fc0362\">self</font>, ...):\n",
    "        code of this method...\n",
    "        ...\n",
    "</pre>"
   ]
  },
  {
   "cell_type": "code",
   "execution_count": 10,
   "id": "19943c6f-50cf-41ce-be16-588584270a0b",
   "metadata": {
    "tags": []
   },
   "outputs": [],
   "source": [
    "class Patient:\n",
    "    \"\"\"\n",
    "    Represents a patient of a health clinic. It contains the attributes\n",
    "\n",
    "    p_id: Random and unique identification number\n",
    "    :type p_id: int\n",
    "    :param name: Patient's name\n",
    "    :type name: str\n",
    "    :param surname: Patient's surname\n",
    "    :type surname: str\n",
    "    :param height: Patient's height in metres\n",
    "    :type height: float\n",
    "    :param weight: Patient's weight in kgs\n",
    "    :type weight: float\n",
    "    :param birthdate: Patient's birthdate\n",
    "    :type birthdate: datetime\n",
    "    \"\"\"\n",
    "    \n",
    "    instances: int = 0\n",
    "    \"\"\"\n",
    "    Class attribute that will count how many instances/objects of \n",
    "    this class have been created\n",
    "    \"\"\"\n",
    "\n",
    "    def __init__(self, name: str, surname: str, height: float,\n",
    "                 weight: float, birthdate: datetime.datetime):\n",
    "        \"\"\"\n",
    "        Constructor of the class, receives the following input\n",
    "        parameters that will initialize a number of attributes of\n",
    "        this class. Observe that attributes are declared like this:\n",
    "        self.attribute_name = .... inside the constructor\n",
    "\n",
    "        :param name: Patient's name\n",
    "        :type name: str\n",
    "        :param surname: Patient's surname\n",
    "        :type surname: str\n",
    "        :param height: Patient's height in metres\n",
    "        :type height: float\n",
    "        :param weight: Patient's weight in kgs\n",
    "        :type weight: float\n",
    "        :param birthdate: Patient's birthdate\n",
    "        :type birthdate: datetime\n",
    "        \"\"\"\n",
    "\n",
    "        self.p_id: int = random.randint(0, 10**6)  # See how this was\n",
    "        # not an input parameter of the constructor but it is\n",
    "        # nonetheless an attribute of the class\n",
    "        self.name: str = name\n",
    "        self.surname: str = surname\n",
    "        self.height: float = height\n",
    "        self.weight: float = weight\n",
    "        self.birthdate: datetime.datetime = birthdate\n",
    "        # Constructors don't return anything, never have a clause return\n",
    "        Patient.instances += 1\n",
    "        # As you can see inside an instance member, we need to use the\n",
    "        # name of the class to refer to the attribute\n",
    "\n",
    "    def get_body_surface_area(self) -> float:\n",
    "        \"\"\"\n",
    "        Return the measurement known as body surface area\n",
    "        \n",
    "        :return: Body surface area\n",
    "        :rtype: float\n",
    "        \"\"\"\n",
    "        # Self is passed as a parameter, so we have access to the\n",
    "        # members of the class (attributes and other methods)\n",
    "        body_surface_area: float = 1 / 6 *(self.weight * self.height) * 0.5\n",
    "        # We get the attributes of this instance using the word self\n",
    "        return body_surface_area\n",
    "\n",
    "    def get_patient_age_in_date(self, comp_date: datetime.datetime) -> int:\n",
    "        \"\"\"\n",
    "        Returns how many years old the patient was or will be in a\n",
    "        certain date (past or present)\n",
    "\n",
    "        :param comp_date: Date we will compare to our patient's\n",
    "        birthdate to see how old he was at that time\n",
    "        :type comp_date: datetime.datetime\n",
    "        :return: Difference between comp_date and birthdate in years\n",
    "        :rtype: int\n",
    "        \"\"\"\n",
    "\n",
    "        # Methods can receive other input parameters besides self\n",
    "        # And of course we can use them in the scope of the method\n",
    "        difference: datetime.timedelta = comp_date - self.birthdate\n",
    "        return difference.days // 365\n",
    "\n",
    "    def get_patient_age(self):\n",
    "        \"\"\"\n",
    "        Returns how old years old our patient is\n",
    "\n",
    "        :return: Difference between current instant and birthdate\n",
    "        in years\n",
    "        :rtype: int\n",
    "        \"\"\"\n",
    "\n",
    "        current_instant: datetime = datetime.datetime.now()\n",
    "        # We can also call to other methods using self\n",
    "        return self.get_patient_age_in_date(current_instant)"
   ]
  },
  {
   "cell_type": "markdown",
   "id": "1104d0f1-9dcd-4f28-94d3-d34239bae869",
   "metadata": {},
   "source": [
    "You __access a class attribute__ using __the name of the class__"
   ]
  },
  {
   "cell_type": "code",
   "execution_count": 11,
   "id": "9f143878-5d36-4b0d-ae88-c3fb68077644",
   "metadata": {
    "tags": []
   },
   "outputs": [],
   "source": [
    "patient1: Patient = Patient(\"James\", \"OHara\", 1.81, 83,\n",
    "                   datetime.datetime(year=1988, month=5, day=10))\n",
    "patient2: Patient = Patient(\"Katya\", \"Colby\", 1.71, 63,\n",
    "                   datetime.datetime(year=1980, month=4, day=1))"
   ]
  },
  {
   "cell_type": "code",
   "execution_count": 12,
   "id": "b83be07f-e64a-4a8e-8a6f-2252abeeafca",
   "metadata": {
    "tags": []
   },
   "outputs": [
    {
     "name": "stdout",
     "output_type": "stream",
     "text": [
      "2\n"
     ]
    }
   ],
   "source": [
    "print(Patient.instances)"
   ]
  },
  {
   "cell_type": "markdown",
   "id": "dc7771f4-a40f-4092-8035-7913ae63c6ed",
   "metadata": {
    "tags": []
   },
   "source": [
    "You can also __access class attributes using the instances__ of that class.\n",
    "However, you can __only get them__.\n",
    "You __can't set or update them using the instances__ of that class. _Python will create an instance attribute with that name instead_\n",
    "\n",
    "In that case also, you won't be allowed to get the class attribute using the instance of that class as the instance attribute will be the one called instead."
   ]
  },
  {
   "cell_type": "code",
   "execution_count": 13,
   "id": "81ff5e41-53f5-4c1a-8df1-e72302ba143f",
   "metadata": {
    "tags": []
   },
   "outputs": [
    {
     "name": "stdout",
     "output_type": "stream",
     "text": [
      "2\n",
      "2\n"
     ]
    }
   ],
   "source": [
    "print(patient1.instances)\n",
    "print(patient2.instances)"
   ]
  },
  {
   "cell_type": "code",
   "execution_count": 14,
   "id": "c8524544-b587-46a8-8039-928d3fd933ee",
   "metadata": {
    "tags": []
   },
   "outputs": [
    {
     "name": "stdout",
     "output_type": "stream",
     "text": [
      "5\n",
      "2\n"
     ]
    }
   ],
   "source": [
    "patient1.instances = 5\n",
    "print(patient1.instances)\n",
    "print(Patient.instances)"
   ]
  },
  {
   "cell_type": "markdown",
   "id": "0d7ad976-6c06-4d01-b185-7aab7be32114",
   "metadata": {},
   "source": [
    "See the example above, we created a new instance attribute with value 5 instead of updating the class attribute when using the object instead of the class"
   ]
  },
  {
   "cell_type": "markdown",
   "id": "e9d923f7-ac5f-43a0-9c11-d90c6c27bbb1",
   "metadata": {},
   "source": [
    "- To define a __class method__:\n",
    "    - You have to use the annotation __@classmethod__\n",
    "    - Then, instead of _self_, the first parameter will be __cls__ which will _give you access to all class members_\n",
    "    - As mentioned above, inside our class method __we can't access any instance member (nor variables, nor methods)__. Think about this for a second and you will realise it makes sense. These methods belong to the class, before any instance is created. Therefore, they can't use any instance member\n",
    "    \n",
    "<pre>\n",
    "<font color=\"#fc0362\"><b>class</b></font> class_name:\n",
    "    ....\n",
    "    \n",
    "    <font color=\"#00AF15\">class_variable1</font> = value\n",
    "    \n",
    "    <font color=\"#df03fc\">def</font> <font color=\"#3368FF\">__ init __</font>(<font color=\"#fc0362\">self</font>, value1, value2, ...):\n",
    "        <font color=\"#fc0362\">self</font>.attribute1 = value1\n",
    "        <font color=\"#fc0362\">self</font>.attribute2 = value2\n",
    "        ...\n",
    "    <font color=\"#df03fc\">def</font> method_name(<font color=\"#fc0362\">self</font>, ...):\n",
    "        code of this method...\n",
    "        ...\n",
    "    \n",
    "    <font color=\"#df03fc\">def</font> method_name(<font color=\"#fc0362\">self</font>, ...):\n",
    "        code of this method...\n",
    "        ...\n",
    "        \n",
    "    <font color=\"#00AF15\">@classmethod</font>\n",
    "    <font color=\"#df03fc\">def</font> method_name(<font color=\"#00AF15\">cls</font>, ...):\n",
    "        code of this method...\n",
    "        ...\n",
    "</pre>"
   ]
  },
  {
   "cell_type": "code",
   "execution_count": 15,
   "id": "b35d3559-d6bd-448f-bd35-868200c367f6",
   "metadata": {
    "tags": []
   },
   "outputs": [],
   "source": [
    "class Patient:\n",
    "    \"\"\"\n",
    "    Represents a patient of a health clinic. It contains the attributes\n",
    "\n",
    "    p_id: Random and unique identification number\n",
    "    :type p_id: int\n",
    "    :param name: Patient's name\n",
    "    :type name: str\n",
    "    :param surname: Patient's surname\n",
    "    :type surname: str\n",
    "    :param height: Patient's height in metres\n",
    "    :type height: float\n",
    "    :param weight: Patient's weight in kgs\n",
    "    :type weight: float\n",
    "    :param birthdate: Patient's birthdate\n",
    "    :type birthdate: datetime\n",
    "    \"\"\"\n",
    "\n",
    "    instances: int = 0\n",
    "    \"\"\"\n",
    "    Class attribute that will count how many instances/objects of \n",
    "    this class have been created\n",
    "    \"\"\"\n",
    "\n",
    "    def __init__(self, name: str, surname: str, height: float,\n",
    "                 weight: float, birthdate: datetime.datetime):\n",
    "        \"\"\"\n",
    "        Constructor of the class, receives the following input\n",
    "        parameters that will initialize a number of attributes of\n",
    "        this class. Observe that attributes are declared like this:\n",
    "        self.attribute_name = .... inside the constructor\n",
    "\n",
    "        :param name: Patient's name\n",
    "        :type name: str\n",
    "        :param surname: Patient's surname\n",
    "        :type surname: str\n",
    "        :param height: Patient's height in metres\n",
    "        :type height: float\n",
    "        :param weight: Patient's weight in kgs\n",
    "        :type weight: float\n",
    "        :param birthdate: Patient's birthdate\n",
    "        :type birthdate: datetime\n",
    "        \"\"\"\n",
    "\n",
    "        self.p_id: int = random.randint(0, 10 ** 6)  # See how this was\n",
    "        # not an input parameter of the constructor but it is\n",
    "        # nonetheless an attribute of the class\n",
    "        self.name: str = name\n",
    "        self.surname: str = surname\n",
    "        self.height: float = height\n",
    "        self.weight: float = weight\n",
    "        self.birthdate: datetime.datetime = birthdate\n",
    "        # Constructors don't return anything, never have a clause return\n",
    "        Patient.instances += 1\n",
    "        # As you can see inside an instance member, we need to use the\n",
    "        # name of the class to refer to the attribute\n",
    "\n",
    "    def get_body_surface_area(self) -> float:\n",
    "        \"\"\"\n",
    "        Return the measurement known as body surface area\n",
    "\n",
    "        :return: Body surface area\n",
    "        :rtype: float\n",
    "        \"\"\"\n",
    "        # Self is passed as a parameter, so we have access to the\n",
    "        # members of the class (attributes and other methods)\n",
    "        body_surface_area: float = 1 / 6 * (self.weight * self.height) * 0.5\n",
    "        # We get the attributes of this instance using the word self\n",
    "        return body_surface_area\n",
    "\n",
    "    def get_patient_age_in_date(self, comp_date: datetime.datetime) -> int:\n",
    "        \"\"\"\n",
    "        Returns how many years old the patient was or will be in a\n",
    "        certain date (past or present)\n",
    "\n",
    "        :param comp_date: Date we will compare to our patient's\n",
    "        birthdate to see how old he was at that time\n",
    "        :type comp_date: datetime.datetime\n",
    "        :return: Difference between comp_date and birthdate in years\n",
    "        :rtype: int\n",
    "        \"\"\"\n",
    "\n",
    "        # Methods can receive other input parameters besides self\n",
    "        # And of course we can use them in the scope of the method\n",
    "        difference: datetime.timedelta = comp_date - self.birthdate\n",
    "        return difference.days // 365\n",
    "\n",
    "    def get_patient_age(self):\n",
    "        \"\"\"\n",
    "        Returns how old years old our patient is\n",
    "\n",
    "        :return: Difference between current instant and birthdate\n",
    "        in years\n",
    "        :rtype: int\n",
    "        \"\"\"\n",
    "\n",
    "        current_instant: datetime = datetime.datetime.now()\n",
    "        # We can also call to other methods using self\n",
    "        return self.get_patient_age_in_date(current_instant)\n",
    "\n",
    "    @classmethod\n",
    "    def get_number_of_instances(cls) -> int:\n",
    "        \"\"\"\n",
    "        Returns the number of instances created from this class\n",
    "\n",
    "        :return: Number of instances created\n",
    "        :rtype:  int\n",
    "        \"\"\"\n",
    "        \n",
    "        return cls.instances"
   ]
  },
  {
   "cell_type": "markdown",
   "id": "6dca08c7-0459-45a9-a785-b699cccc7ce5",
   "metadata": {},
   "source": [
    "Now, we have a _class method_ called __get_number_of_instances__ whose first parameter is _cls_ and we can use it to get all the class members in our current class"
   ]
  },
  {
   "cell_type": "markdown",
   "id": "1bd63a31-8705-477a-a0d3-7924d041a616",
   "metadata": {},
   "source": [
    "Again, we __use the class to call to class methods__"
   ]
  },
  {
   "cell_type": "code",
   "execution_count": 16,
   "id": "3ccd6884-5093-4bc3-a7a4-c731f997d4a1",
   "metadata": {
    "tags": []
   },
   "outputs": [
    {
     "name": "stdout",
     "output_type": "stream",
     "text": [
      "2\n"
     ]
    }
   ],
   "source": [
    "patient1: Patient = Patient(\"James\", \"OHara\", 1.81, 83,\n",
    "                   datetime.datetime(year=1988, month=5, day=10))\n",
    "patient2: Patient = Patient(\"Katya\", \"Colby\", 1.71, 63,\n",
    "                   datetime.datetime(year=1980, month=4, day=1))\n",
    "print(Patient.get_number_of_instances())"
   ]
  },
  {
   "cell_type": "markdown",
   "id": "ff6100f0-0f5b-49fa-9934-457373b93dad",
   "metadata": {},
   "source": [
    "We can also use the instances of the class to call the method"
   ]
  },
  {
   "cell_type": "code",
   "execution_count": 17,
   "id": "e4f8e0d0-3fd6-4042-8db0-f1312f4e212d",
   "metadata": {
    "tags": []
   },
   "outputs": [
    {
     "name": "stdout",
     "output_type": "stream",
     "text": [
      "2\n"
     ]
    }
   ],
   "source": [
    "print(patient1.get_number_of_instances())"
   ]
  },
  {
   "cell_type": "markdown",
   "id": "3ec952c0-3703-47d5-b99e-9c5d4492f252",
   "metadata": {},
   "source": [
    "__NOTE__: One curious thing about __cls__ is that it can be used as a __constructor__ inside a _class method_\n",
    "\n",
    "This might be very useful, for instance we can create a default constructor that does not need parameters"
   ]
  },
  {
   "cell_type": "code",
   "execution_count": 18,
   "id": "84c6b39d-4971-4c30-9236-17b2f890f89a",
   "metadata": {
    "tags": []
   },
   "outputs": [],
   "source": [
    "class Patient:\n",
    "    \"\"\"\n",
    "    Represents a patient of a health clinic. It contains the attributes\n",
    "\n",
    "    p_id: Random and unique identification number\n",
    "    :type p_id: int\n",
    "    :param name: Patient's name\n",
    "    :type name: str\n",
    "    :param surname: Patient's surname\n",
    "    :type surname: str\n",
    "    :param height: Patient's height in metres\n",
    "    :type height: float\n",
    "    :param weight: Patient's weight in kgs\n",
    "    :type weight: float\n",
    "    :param birthdate: Patient's birthdate\n",
    "    :type birthdate: datetime\n",
    "    \"\"\"\n",
    "\n",
    "    instances: int = 0\n",
    "    \"\"\"\n",
    "    Class attribute that will count how many instances/objects of \n",
    "    this class have been created\n",
    "    \"\"\"\n",
    "\n",
    "    def __init__(self, name: str, surname: str, height: float,\n",
    "                 weight: float, birthdate: datetime.datetime):\n",
    "        \"\"\"\n",
    "        Constructor of the class, receives the following input\n",
    "        parameters that will initialize a number of attributes of\n",
    "        this class. Observe that attributes are declared like this:\n",
    "        self.attribute_name = .... inside the constructor\n",
    "\n",
    "        :param name: Patient's name\n",
    "        :type name: str\n",
    "        :param surname: Patient's surname\n",
    "        :type surname: str\n",
    "        :param height: Patient's height in metres\n",
    "        :type height: float\n",
    "        :param weight: Patient's weight in kgs\n",
    "        :type weight: float\n",
    "        :param birthdate: Patient's birthdate\n",
    "        :type birthdate: datetime\n",
    "        \"\"\"\n",
    "\n",
    "        self.p_id: int = random.randint(0, 10 ** 6)  # See how this was\n",
    "        # not an input parameter of the constructor but it is\n",
    "        # nonetheless an attribute of the class\n",
    "        self.name: str = name\n",
    "        self.surname: str = surname\n",
    "        self.height: float = height\n",
    "        self.weight: float = weight\n",
    "        self.birthdate: datetime.datetime = birthdate\n",
    "        # Constructors don't return anything, never have a clause return\n",
    "        Patient.instances += 1\n",
    "        # As you can see inside an instance member, we need to use the\n",
    "        # name of the class to refer to the attribute\n",
    "\n",
    "    def get_body_surface_area(self) -> float:\n",
    "        \"\"\"\n",
    "        Return the measurement known as body surface area\n",
    "\n",
    "        :return: Body surface area\n",
    "        :rtype: float\n",
    "        \"\"\"\n",
    "        # Self is passed as a parameter, so we have access to the\n",
    "        # members of the class (attributes and other methods)\n",
    "        body_surface_area: float = 1 / 6 * (self.weight * self.height) * 0.5\n",
    "        # We get the attributes of this instance using the word self\n",
    "        return body_surface_area\n",
    "\n",
    "    def get_patient_age_in_date(self, comp_date: datetime.datetime) -> int:\n",
    "        \"\"\"\n",
    "        Returns how many years old the patient was or will be in a\n",
    "        certain date (past or present)\n",
    "\n",
    "        :param comp_date: Date we will compare to our patient's\n",
    "        birthdate to see how old he was at that time\n",
    "        :type comp_date: datetime.datetime\n",
    "        :return: Difference between comp_date and birthdate in years\n",
    "        :rtype: int\n",
    "        \"\"\"\n",
    "\n",
    "        # Methods can receive other input parameters besides self\n",
    "        # And of course we can use them in the scope of the method\n",
    "        difference: datetime.timedelta = comp_date - self.birthdate\n",
    "        return difference.days // 365\n",
    "\n",
    "    def get_patient_age(self):\n",
    "        \"\"\"\n",
    "        Returns how old years old our patient is\n",
    "\n",
    "        :return: Difference between current instant and birthdate\n",
    "        in years\n",
    "        :rtype: int\n",
    "        \"\"\"\n",
    "\n",
    "        current_instant: datetime = datetime.datetime.now()\n",
    "        # We can also call to other methods using self\n",
    "        return self.get_patient_age_in_date(current_instant)\n",
    "\n",
    "    @classmethod\n",
    "    def get_number_of_instances(cls) -> int:\n",
    "        \"\"\"\n",
    "        Returns the number of instances created from this class\n",
    "\n",
    "        :return: Number of instances created\n",
    "        :rtype:  int\n",
    "        \"\"\"\n",
    "\n",
    "        return cls.instances\n",
    "\n",
    "    @classmethod\n",
    "    def create_new_default_patient(cls) -> 'Patient':\n",
    "        \"\"\"\n",
    "        Creates a dummy patient\n",
    "\n",
    "        :return: new object Patient\n",
    "        :rtype: Patient\n",
    "        \"\"\"\n",
    "\n",
    "        return cls(\"John\", \"Doe\", 1.70, 70, datetime.datetime.now())\n"
   ]
  },
  {
   "cell_type": "code",
   "execution_count": 19,
   "id": "525d3d73-9d65-48eb-b888-752530ff0045",
   "metadata": {
    "tags": []
   },
   "outputs": [
    {
     "name": "stdout",
     "output_type": "stream",
     "text": [
      "John\n"
     ]
    }
   ],
   "source": [
    "patient3: Patient = Patient.create_new_default_patient()\n",
    "print(patient3.name)"
   ]
  },
  {
   "cell_type": "markdown",
   "id": "3c4f955f-1f31-4400-b278-288dbe67d61e",
   "metadata": {},
   "source": [
    "As with instances of the class, we can use the object <b> __ dict __ </b> to get the members of a class.\n",
    "\n",
    "In this case __we use the name of the class__ and the object dict and all class members (both attributes and methods) are returned"
   ]
  },
  {
   "cell_type": "code",
   "execution_count": 20,
   "id": "ceff2f40-e493-49e1-8631-6a829e902e1f",
   "metadata": {
    "tags": []
   },
   "outputs": [
    {
     "name": "stdout",
     "output_type": "stream",
     "text": [
      "{'__module__': '__main__', '__annotations__': {'instances': <class 'int'>}, '__doc__': \"\\n    Represents a patient of a health clinic. It contains the attributes\\n\\n    p_id: Random and unique identification number\\n    :type p_id: int\\n    :param name: Patient's name\\n    :type name: str\\n    :param surname: Patient's surname\\n    :type surname: str\\n    :param height: Patient's height in metres\\n    :type height: float\\n    :param weight: Patient's weight in kgs\\n    :type weight: float\\n    :param birthdate: Patient's birthdate\\n    :type birthdate: datetime\\n    \", 'instances': 1, '__init__': <function Patient.__init__ at 0x0000029801693560>, 'get_body_surface_area': <function Patient.get_body_surface_area at 0x0000029801693600>, 'get_patient_age_in_date': <function Patient.get_patient_age_in_date at 0x00000298016936A0>, 'get_patient_age': <function Patient.get_patient_age at 0x0000029801693740>, 'get_number_of_instances': <classmethod(<function Patient.get_number_of_instances at 0x00000298016937E0>)>, 'create_new_default_patient': <classmethod(<function Patient.create_new_default_patient at 0x0000029801693880>)>, '__dict__': <attribute '__dict__' of 'Patient' objects>, '__weakref__': <attribute '__weakref__' of 'Patient' objects>}\n"
     ]
    }
   ],
   "source": [
    "print(Patient.__dict__)"
   ]
  },
  {
   "cell_type": "markdown",
   "id": "771c8a60-019c-40ed-80df-2f672f7a5357",
   "metadata": {},
   "source": [
    "We can also __add class members__ after the class has been declared"
   ]
  },
  {
   "cell_type": "code",
   "execution_count": 21,
   "id": "b182e13d-ede1-44ef-a595-8e3da2ceaeb2",
   "metadata": {
    "tags": []
   },
   "outputs": [],
   "source": [
    "class Patient:\n",
    "    \"\"\"\n",
    "    Represents a patient of a health clinic. It contains the attributes\n",
    "\n",
    "    p_id: Random and unique identification number\n",
    "    :type p_id: int\n",
    "    :param name: Patient's name\n",
    "    :type name: str\n",
    "    :param surname: Patient's surname\n",
    "    :type surname: str\n",
    "    :param height: Patient's height in metres\n",
    "    :type height: float\n",
    "    :param weight: Patient's weight in kgs\n",
    "    :type weight: float\n",
    "    :param birthdate: Patient's birthdate\n",
    "    :type birthdate: datetime\n",
    "    \"\"\"\n",
    "\n",
    "    instances: int = 0\n",
    "    \"\"\"\n",
    "    Class attribute that will count how many instances/objects of \n",
    "    this class have been created\n",
    "    \"\"\"\n",
    "\n",
    "    def __init__(self, name: str, surname: str, height: float,\n",
    "                 weight: float, birthdate: datetime.datetime):\n",
    "        \"\"\"\n",
    "        Constructor of the class, receives the following input\n",
    "        parameters that will initialize a number of attributes of\n",
    "        this class. Observe that attributes are declared like this:\n",
    "        self.attribute_name = .... inside the constructor\n",
    "\n",
    "        :param name: Patient's name\n",
    "        :type name: str\n",
    "        :param surname: Patient's surname\n",
    "        :type surname: str\n",
    "        :param height: Patient's height in metres\n",
    "        :type height: float\n",
    "        :param weight: Patient's weight in kgs\n",
    "        :type weight: float\n",
    "        :param birthdate: Patient's birthdate\n",
    "        :type birthdate: datetime\n",
    "        \"\"\"\n",
    "\n",
    "        self.p_id: int = random.randint(0, 10 ** 6)  # See how this was\n",
    "        # not an input parameter of the constructor but it is\n",
    "        # nonetheless an attribute of the class\n",
    "        self.name: str = name\n",
    "        self.surname: str = surname\n",
    "        self.height: float = height\n",
    "        self.weight: float = weight\n",
    "        self.birthdate: datetime.datetime = birthdate\n",
    "        # Constructors don't return anything, never have a clause return\n",
    "        Patient.instances += 1\n",
    "        # As you can see inside an instance member, we need to use the\n",
    "        # name of the class to refer to the attribute\n",
    "\n",
    "    def get_body_surface_area(self) -> float:\n",
    "        \"\"\"\n",
    "        Return the measurement known as body surface area\n",
    "\n",
    "        :return: Body surface area\n",
    "        :rtype: float\n",
    "        \"\"\"\n",
    "        # Self is passed as a parameter, so we have access to the\n",
    "        # members of the class (attributes and other methods)\n",
    "        body_surface_area: float = 1 / 6 * (self.weight * self.height) * 0.5\n",
    "        # We get the attributes of this instance using the word self\n",
    "        return body_surface_area\n",
    "\n",
    "    def get_patient_age_in_date(self, comp_date: datetime.datetime) -> int:\n",
    "        \"\"\"\n",
    "        Returns how many years old the patient was or will be in a\n",
    "        certain date (past or present)\n",
    "\n",
    "        :param comp_date: Date we will compare to our patient's\n",
    "        birthdate to see how old he was at that time\n",
    "        :type comp_date: datetime.datetime\n",
    "        :return: Difference between comp_date and birthdate in years\n",
    "        :rtype: int\n",
    "        \"\"\"\n",
    "\n",
    "        # Methods can receive other input parameters besides self\n",
    "        # And of course we can use them in the scope of the method\n",
    "        difference: datetime.timedelta = comp_date - self.birthdate\n",
    "        return difference.days // 365\n",
    "\n",
    "    def get_patient_age(self):\n",
    "        \"\"\"\n",
    "        Returns how old years old our patient is\n",
    "\n",
    "        :return: Difference between current instant and birthdate\n",
    "        in years\n",
    "        :rtype: int\n",
    "        \"\"\"\n",
    "\n",
    "        current_instant: datetime = datetime.datetime.now()\n",
    "        # We can also call to other methods using self\n",
    "        return self.get_patient_age_in_date(current_instant)\n",
    "\n",
    "    @classmethod\n",
    "    def get_number_of_instances(cls) -> int:\n",
    "        \"\"\"\n",
    "        Returns the number of instances created from this class\n",
    "\n",
    "        :return: Number of instances created\n",
    "        :rtype:  int\n",
    "        \"\"\"\n",
    "\n",
    "        return cls.instances\n",
    "\n",
    "    @classmethod\n",
    "    def create_new_default_patient(cls) -> 'Patient':\n",
    "        \"\"\"\n",
    "        Creates a dummy patient\n",
    "\n",
    "        :return: new object Patient\n",
    "        :rtype: Patient\n",
    "        \"\"\"\n",
    "\n",
    "        return cls(\"John\", \"Doe\", 1.70, 70, datetime.datetime.now())\n",
    "\n",
    "    @staticmethod\n",
    "    def return_values_default_patient() -> list:\n",
    "        \"\"\"\n",
    "        Returns a list with values we can use to create a new patient\n",
    "\n",
    "        :return:\n",
    "        \"\"\"\n",
    "        return [\"John\", \"Doe\", 1.70, 70, datetime.datetime.now()]\n",
    "\n",
    "\n",
    "# This method will become a class method of Patient\n",
    "@classmethod\n",
    "def get_instances_multiplied_by(cls, n: int) -> int:\n",
    "    \"\"\"\n",
    "    Will become a class method of class Patient and will return the\n",
    "    number of current instances of the class multiplied by n\n",
    "    :param cls: Class Patient\n",
    "    :param n: Number by which we will multiply the number of instances\n",
    "\n",
    "    :return: The number of instances of class Patient multiplied by n\n",
    "    \"\"\"\n",
    "\n",
    "    return cls.get_number_of_instances() * n"
   ]
  },
  {
   "cell_type": "code",
   "execution_count": 22,
   "id": "a808cc9b-a9b9-4160-a277-97ace7dbac41",
   "metadata": {
    "tags": []
   },
   "outputs": [
    {
     "name": "stdout",
     "output_type": "stream",
     "text": [
      "The hospital of our patients is: Class Hospital\n",
      "\n",
      "Current state of dict\n",
      "{'__module__': '__main__', '__annotations__': {'instances': <class 'int'>}, '__doc__': \"\\n    Represents a patient of a health clinic. It contains the attributes\\n\\n    p_id: Random and unique identification number\\n    :type p_id: int\\n    :param name: Patient's name\\n    :type name: str\\n    :param surname: Patient's surname\\n    :type surname: str\\n    :param height: Patient's height in metres\\n    :type height: float\\n    :param weight: Patient's weight in kgs\\n    :type weight: float\\n    :param birthdate: Patient's birthdate\\n    :type birthdate: datetime\\n    \", 'instances': 2, '__init__': <function Patient.__init__ at 0x0000029801A180E0>, 'get_body_surface_area': <function Patient.get_body_surface_area at 0x0000029801A18180>, 'get_patient_age_in_date': <function Patient.get_patient_age_in_date at 0x0000029801A18220>, 'get_patient_age': <function Patient.get_patient_age at 0x0000029801A182C0>, 'get_number_of_instances': <classmethod(<function Patient.get_number_of_instances at 0x0000029801A18360>)>, 'create_new_default_patient': <classmethod(<function Patient.create_new_default_patient at 0x0000029801A18400>)>, 'return_values_default_patient': <staticmethod(<function Patient.return_values_default_patient at 0x0000029801A184A0>)>, '__dict__': <attribute '__dict__' of 'Patient' objects>, '__weakref__': <attribute '__weakref__' of 'Patient' objects>, 'hospital': 'Class Hospital'}\n",
      "\n",
      "Number of instances multiplied by 2 using the new class method: 4\n",
      "\n",
      "Current state of dict\n",
      "{'__module__': '__main__', '__annotations__': {'instances': <class 'int'>}, '__doc__': \"\\n    Represents a patient of a health clinic. It contains the attributes\\n\\n    p_id: Random and unique identification number\\n    :type p_id: int\\n    :param name: Patient's name\\n    :type name: str\\n    :param surname: Patient's surname\\n    :type surname: str\\n    :param height: Patient's height in metres\\n    :type height: float\\n    :param weight: Patient's weight in kgs\\n    :type weight: float\\n    :param birthdate: Patient's birthdate\\n    :type birthdate: datetime\\n    \", 'instances': 2, '__init__': <function Patient.__init__ at 0x0000029801A180E0>, 'get_body_surface_area': <function Patient.get_body_surface_area at 0x0000029801A18180>, 'get_patient_age_in_date': <function Patient.get_patient_age_in_date at 0x0000029801A18220>, 'get_patient_age': <function Patient.get_patient_age at 0x0000029801A182C0>, 'get_number_of_instances': <classmethod(<function Patient.get_number_of_instances at 0x0000029801A18360>)>, 'create_new_default_patient': <classmethod(<function Patient.create_new_default_patient at 0x0000029801A18400>)>, 'return_values_default_patient': <staticmethod(<function Patient.return_values_default_patient at 0x0000029801A184A0>)>, '__dict__': <attribute '__dict__' of 'Patient' objects>, '__weakref__': <attribute '__weakref__' of 'Patient' objects>, 'hospital': 'Class Hospital', 'new_class_method': <classmethod(<function get_instances_multiplied_by at 0x0000029801A18040>)>}\n"
     ]
    }
   ],
   "source": [
    "patient1: Patient = Patient(\"James\", \"OHara\", 1.81, 83,\n",
    "                   datetime.datetime(year=1988, month=5, day=10))\n",
    "patient2: Patient = Patient(\"Katya\", \"Colby\", 1.71, 63,\n",
    "                   datetime.datetime(year=1980, month=4, day=1))\n",
    "\n",
    "Patient.hospital = \"Class Hospital\"\n",
    "print(\"The hospital of our patients is: {0}\".format(Patient.hospital))\n",
    "print(\"\")\n",
    "print(\"Current state of dict\")\n",
    "print(Patient.__dict__)\n",
    "print(\"\")\n",
    "Patient.new_class_method = get_instances_multiplied_by\n",
    "print(\"Number of instances multiplied by 2 using the new class method: {0}\".format(Patient.new_class_method(2)))\n",
    "print(\"\")\n",
    "print(\"Current state of dict\")\n",
    "print(Patient.__dict__)"
   ]
  },
  {
   "cell_type": "markdown",
   "id": "c53f1242-ad5f-48bb-a9a6-ea7cca5b309a",
   "metadata": {},
   "source": [
    "- __static methods__: These are methods that __don't use any of the attributes__ of the class, _nor instance nor class attributes_. \n",
    "    - To create a static method we just use the annotation __staticmethod__\n",
    "    - Therefore, static methods __don't have self or cls as paramaters__\n",
    "    - So we __can't access any member of the class__\n",
    "    - They are used to append functions might be useful but don't use any member of the class.\n",
    "    \n",
    "<pre>\n",
    "<font color=\"#fc0362\"><b>class</b></font> class_name:\n",
    "    ....\n",
    "    \n",
    "    <font color=\"#00AF15\">class_variable1</font> = value\n",
    "    \n",
    "    <font color=\"#df03fc\">def</font> <font color=\"#3368FF\">__ init __</font>(<font color=\"#fc0362\">self</font>, value1, value2, ...):\n",
    "        <font color=\"#fc0362\">self</font>.attribute1 = value1\n",
    "        <font color=\"#fc0362\">self</font>.attribute2 = value2\n",
    "        ...\n",
    "    <font color=\"#df03fc\">def</font> method_name(<font color=\"#fc0362\">self</font>, ...):\n",
    "        code of this method...\n",
    "        ...\n",
    "    \n",
    "    <font color=\"#df03fc\">def</font> method_name(<font color=\"#fc0362\">self</font>, ...):\n",
    "        code of this method...\n",
    "        ...\n",
    "        \n",
    "    <font color=\"#00AF15\">@classmethod</font>\n",
    "    <font color=\"#df03fc\">def</font> method_name(<font color=\"#00AF15\">cls</font>, ...):\n",
    "        code of this method...\n",
    "        ...\n",
    "        \n",
    "    <font color=\"#AF6701\">@staticmethod</font>\n",
    "    <font color=\"#df03fc\">def</font> method_name(...):\n",
    "        code of this method...\n",
    "        ...\n",
    "</pre>"
   ]
  },
  {
   "cell_type": "code",
   "execution_count": 23,
   "id": "8fd387d8-eb56-4a59-b671-fcfbe00f2281",
   "metadata": {
    "tags": []
   },
   "outputs": [],
   "source": [
    "class Patient:\n",
    "    \"\"\"\n",
    "    Represents a patient of a health clinic. It contains the attributes\n",
    "\n",
    "    p_id: Random and unique identification number\n",
    "    :type p_id: int\n",
    "    :param name: Patient's name\n",
    "    :type name: str\n",
    "    :param surname: Patient's surname\n",
    "    :type surname: str\n",
    "    :param height: Patient's height in metres\n",
    "    :type height: float\n",
    "    :param weight: Patient's weight in kgs\n",
    "    :type weight: float\n",
    "    :param birthdate: Patient's birthdate\n",
    "    :type birthdate: datetime\n",
    "    \"\"\"\n",
    "\n",
    "    instances: int = 0\n",
    "    \"\"\"\n",
    "    Class attribute that will count how many instances/objects of \n",
    "    this class have been created\n",
    "    \"\"\"\n",
    "\n",
    "    def __init__(self, name: str, surname: str, height: float,\n",
    "                 weight: float, birthdate: datetime.datetime):\n",
    "        \"\"\"\n",
    "        Constructor of the class, receives the following input\n",
    "        parameters that will initialize a number of attributes of\n",
    "        this class. Observe that attributes are declared like this:\n",
    "        self.attribute_name = .... inside the constructor\n",
    "\n",
    "        :param name: Patient's name\n",
    "        :type name: str\n",
    "        :param surname: Patient's surname\n",
    "        :type surname: str\n",
    "        :param height: Patient's height in metres\n",
    "        :type height: float\n",
    "        :param weight: Patient's weight in kgs\n",
    "        :type weight: float\n",
    "        :param birthdate: Patient's birthdate\n",
    "        :type birthdate: datetime\n",
    "        \"\"\"\n",
    "\n",
    "        self.p_id: int = random.randint(0, 10 ** 6)  # See how this was\n",
    "        # not an input parameter of the constructor but it is\n",
    "        # nonetheless an attribute of the class\n",
    "        self.name: str = name\n",
    "        self.surname: str = surname\n",
    "        self.height: float = height\n",
    "        self.weight: float = weight\n",
    "        self.birthdate: datetime.datetime = birthdate\n",
    "        # Constructors don't return anything, never have a clause return\n",
    "        Patient.instances += 1\n",
    "        # As you can see inside an instance member, we need to use the\n",
    "        # name of the class to refer to the attribute\n",
    "\n",
    "    def get_body_surface_area(self) -> float:\n",
    "        \"\"\"\n",
    "        Return the measurement known as body surface area\n",
    "\n",
    "        :return: Body surface area\n",
    "        :rtype: float\n",
    "        \"\"\"\n",
    "        # Self is passed as a parameter, so we have access to the\n",
    "        # members of the class (attributes and other methods)\n",
    "        body_surface_area: float = 1 / 6 * (self.weight * self.height) * 0.5\n",
    "        # We get the attributes of this instance using the word self\n",
    "        return body_surface_area\n",
    "\n",
    "    def get_patient_age_in_date(self, comp_date: datetime.datetime) -> int:\n",
    "        \"\"\"\n",
    "        Returns how many years old the patient was or will be in a\n",
    "        certain date (past or present)\n",
    "\n",
    "        :param comp_date: Date we will compare to our patient's\n",
    "        birthdate to see how old he was at that time\n",
    "        :type comp_date: datetime.datetime\n",
    "        :return: Difference between comp_date and birthdate in years\n",
    "        :rtype: int\n",
    "        \"\"\"\n",
    "\n",
    "        # Methods can receive other input parameters besides self\n",
    "        # And of course we can use them in the scope of the method\n",
    "        difference: datetime.timedelta = comp_date - self.birthdate\n",
    "        return difference.days // 365\n",
    "\n",
    "    def get_patient_age(self):\n",
    "        \"\"\"\n",
    "        Returns how old years old our patient is\n",
    "\n",
    "        :return: Difference between current instant and birthdate\n",
    "        in years\n",
    "        :rtype: int\n",
    "        \"\"\"\n",
    "\n",
    "        current_instant: datetime = datetime.datetime.now()\n",
    "        # We can also call to other methods using self\n",
    "        return self.get_patient_age_in_date(current_instant)\n",
    "\n",
    "    @classmethod\n",
    "    def get_number_of_instances(cls) -> int:\n",
    "        \"\"\"\n",
    "        Returns the number of instances created from this class\n",
    "\n",
    "        :return: Number of instances created\n",
    "        :rtype:  int\n",
    "        \"\"\"\n",
    "\n",
    "        return cls.instances\n",
    "\n",
    "    @classmethod\n",
    "    def create_new_default_patient(cls) -> 'Patient':\n",
    "        \"\"\"\n",
    "        Creates a dummy patient\n",
    "\n",
    "        :return: new object Patient\n",
    "        :rtype: Patient\n",
    "        \"\"\"\n",
    "\n",
    "        return cls(\"John\", \"Doe\", 1.70, 70, datetime.datetime.now())\n",
    "\n",
    "    @staticmethod\n",
    "    def return_values_default_patient() -> list:\n",
    "        \"\"\"\n",
    "        Returns a list with values we can use to create a new patient\n",
    "\n",
    "        :return:\n",
    "        \"\"\"\n",
    "        return [\"John\", \"Doe\", 1.70, 70, datetime.datetime.now()]\n"
   ]
  },
  {
   "cell_type": "markdown",
   "id": "99135148-b174-4cf9-a02b-9b9585e715ea",
   "metadata": {},
   "source": [
    "We can __only use the class to call static methods__"
   ]
  },
  {
   "cell_type": "code",
   "execution_count": 24,
   "id": "1ee0108f-c1d0-4d94-89a4-e7dac6cf52cf",
   "metadata": {
    "tags": []
   },
   "outputs": [
    {
     "name": "stdout",
     "output_type": "stream",
     "text": [
      "['John', 'Doe', 1.7, 70, datetime.datetime(2023, 10, 7, 21, 53, 25, 418030)]\n"
     ]
    }
   ],
   "source": [
    "print(Patient.return_values_default_patient())"
   ]
  },
  {
   "cell_type": "code",
   "execution_count": 25,
   "id": "5daf25c5-7797-4b26-be5f-a3d496c5a2d4",
   "metadata": {
    "tags": []
   },
   "outputs": [
    {
     "name": "stdout",
     "output_type": "stream",
     "text": [
      "['John', 'Doe', 1.7, 70, datetime.datetime(2023, 10, 7, 21, 53, 25, 425941)]\n"
     ]
    }
   ],
   "source": [
    "try:\n",
    "    print(patient1.return_values_default_patient())\n",
    "except AttributeError as e:\n",
    "    print(e)\n",
    "    print(\"As said above, the object patient1 does not have access to static members\")"
   ]
  },
  {
   "cell_type": "markdown",
   "id": "c6d23bbb-ecb9-4e6e-9bc2-2bdbe400eada",
   "metadata": {},
   "source": [
    "__static methods__ are also returned when using <b> __ dict __ in a class</b>"
   ]
  },
  {
   "cell_type": "code",
   "execution_count": 26,
   "id": "e0b6e2b7-6b72-4b4d-a325-aa795977499b",
   "metadata": {
    "tags": []
   },
   "outputs": [
    {
     "name": "stdout",
     "output_type": "stream",
     "text": [
      "{'__module__': '__main__', '__annotations__': {'instances': <class 'int'>}, '__doc__': \"\\n    Represents a patient of a health clinic. It contains the attributes\\n\\n    p_id: Random and unique identification number\\n    :type p_id: int\\n    :param name: Patient's name\\n    :type name: str\\n    :param surname: Patient's surname\\n    :type surname: str\\n    :param height: Patient's height in metres\\n    :type height: float\\n    :param weight: Patient's weight in kgs\\n    :type weight: float\\n    :param birthdate: Patient's birthdate\\n    :type birthdate: datetime\\n    \", 'instances': 0, '__init__': <function Patient.__init__ at 0x0000029801A18AE0>, 'get_body_surface_area': <function Patient.get_body_surface_area at 0x0000029801A18B80>, 'get_patient_age_in_date': <function Patient.get_patient_age_in_date at 0x0000029801A18C20>, 'get_patient_age': <function Patient.get_patient_age at 0x0000029801A18CC0>, 'get_number_of_instances': <classmethod(<function Patient.get_number_of_instances at 0x0000029801A18D60>)>, 'create_new_default_patient': <classmethod(<function Patient.create_new_default_patient at 0x0000029801A18E00>)>, 'return_values_default_patient': <staticmethod(<function Patient.return_values_default_patient at 0x0000029801A18EA0>)>, '__dict__': <attribute '__dict__' of 'Patient' objects>, '__weakref__': <attribute '__weakref__' of 'Patient' objects>}\n"
     ]
    }
   ],
   "source": [
    "print(Patient.__dict__)"
   ]
  },
  {
   "cell_type": "code",
   "execution_count": null,
   "id": "e0bbb2c0-e73e-43af-b07a-163b413f0a07",
   "metadata": {},
   "outputs": [],
   "source": []
  }
 ],
 "metadata": {
  "kernelspec": {
   "display_name": "Python 3 (ipykernel)",
   "language": "python",
   "name": "python3"
  },
  "language_info": {
   "codemirror_mode": {
    "name": "ipython",
    "version": 3
   },
   "file_extension": ".py",
   "mimetype": "text/x-python",
   "name": "python",
   "nbconvert_exporter": "python",
   "pygments_lexer": "ipython3",
   "version": "3.11.4"
  }
 },
 "nbformat": 4,
 "nbformat_minor": 5
}
