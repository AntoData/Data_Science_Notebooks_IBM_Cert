{
 "cells": [
  {
   "cell_type": "markdown",
   "id": "0165681d-d4b6-4ad1-91ed-6f594358ab1d",
   "metadata": {},
   "source": [
    "# Decorators\n",
    "\n",
    "In summary, __decorators__ are __functions that modify other functions__.\n",
    "Python allows us to define these functions that will modify the behaviour of other functions.\n",
    "\n",
    "Because of this decorators are __a design pattern__. When we see several functions\n",
    "have similar algorithms at the beginning or the end or need to do the same transformations\n",
    "in their arguments, we can create a decorator and use it to reuse code and avoid \n",
    "repetition\n",
    "\n",
    "- __Decorator__: Function that modifies the algorithm of another function\n",
    "- __Decorated function__: Function that is modified by a decorator"
   ]
  },
  {
   "cell_type": "markdown",
   "id": "79cf00c8-e0ba-48d3-a425-996a7de15ae2",
   "metadata": {},
   "source": [
    "In the following example, we defined a decorator that gets the current time before executing the decorated function, executes it and then gets the time after execution and works out the execution time:"
   ]
  },
  {
   "cell_type": "code",
   "execution_count": 1,
   "id": "32422ef1-02ab-484b-8a8b-71a6017aba1b",
   "metadata": {
    "tags": []
   },
   "outputs": [
    {
     "name": "stdout",
     "output_type": "stream",
     "text": [
      "Before execution: 2023-10-22 23:51:45.553864\n",
      "After execution: 2023-10-22 23:51:45.554851\n",
      "Execution time: 0:00:00.000987\n",
      "50.26548245743669\n"
     ]
    }
   ],
   "source": [
    "import datetime\n",
    "import math\n",
    "\n",
    "\n",
    "def simple_decorator(func):\n",
    "    \"\"\"\n",
    "    This is the new callable object that will receive the function\n",
    "    as parameter. This is used as the decorator, the annotation\n",
    "    above the function that will be decorated (modified)\n",
    "\n",
    "    :param func: Callable object\n",
    "    :return: Inner decorator that will decorate func\n",
    "    \"\"\"\n",
    "\n",
    "    def inner_wrapper(*args, **kwargs):\n",
    "        \"\"\"\n",
    "        This function receives the parameters of the decorated function\n",
    "        and here we will perform the modification of the decorated\n",
    "        function. In this case, we just get the time before and print\n",
    "        it, then execute the function, get the time after and print it\n",
    "        and work out execution time\n",
    "\n",
    "        :param args: Positional arguments of the decorated function\n",
    "        :param kwargs: Keyword arguments of the decorated function\n",
    "        :return: Result of executing the decorated function\n",
    "        \"\"\"\n",
    "\n",
    "        before: datetime = datetime.datetime.now()\n",
    "        print(\"Before execution: {0}\".format(before))\n",
    "        res = func(*args, **kwargs)\n",
    "        after: datetime = datetime.datetime.now()\n",
    "        print(\"After execution: {0}\".format(after))\n",
    "        execution_time = after - before\n",
    "        print(\"Execution time: {0}\".format(execution_time))\n",
    "        return res\n",
    "    return inner_wrapper\n",
    "\n",
    "\n",
    "@simple_decorator\n",
    "def get_area_of_sphere(radius: float) -> float:\n",
    "    \"\"\"\n",
    "    Works out the area of a sphere\n",
    "    :param radius: Radius of the sphere\n",
    "\n",
    "    :return: Area of the sphere\n",
    "    :rtype: float\n",
    "    \"\"\"\n",
    "    \n",
    "    return 4 * math.pi * (radius ** 2)\n",
    "\n",
    "\n",
    "print(get_area_of_sphere(2))"
   ]
  },
  {
   "cell_type": "markdown",
   "id": "d077bc4b-0852-46af-ba50-ffad38f24b6d",
   "metadata": {
    "tags": []
   },
   "source": [
    "We can do more operations like modifying the result of the function\n",
    "In the following example we created a decorator that reverses the result of a function that returns the divisors of a certain number so we get the number from greater to lower"
   ]
  },
  {
   "cell_type": "code",
   "execution_count": 2,
   "id": "301568c1-7677-4671-be4f-29173db14dd4",
   "metadata": {
    "tags": []
   },
   "outputs": [],
   "source": [
    "def decorator_reverse_results(func):\n",
    "    \"\"\"\n",
    "    This is the new callable object that will receive the function\n",
    "    as parameter. This is used as the decorator, the annotation\n",
    "    above the function that will be decorated (modified)\n",
    "\n",
    "    :param func: Callable object\n",
    "    :return: Inner decorator that will decorate func\n",
    "    \"\"\"\n",
    "    \n",
    "    def inner_reverse_results(*args, **kwargs):\n",
    "        \"\"\"\n",
    "        This function receives the parameters of the decorated function\n",
    "        and here we will perform the modification of the decorated\n",
    "        function. In this case, we modify the result. We reserve\n",
    "        the order of the elements in the array that is returned\n",
    "\n",
    "        :param args: Positional arguments of the decorated function\n",
    "        :param kwargs: Keyword arguments of the decorated function\n",
    "        :return: Result of executing the decorated function\n",
    "        \"\"\"\n",
    "        \n",
    "        res = func(*args, **kwargs)\n",
    "        res = res[::-1]\n",
    "        return res\n",
    "    return inner_reverse_results\n",
    "\n",
    "\n",
    "@decorator_reverse_results\n",
    "def find_divisors_number(number: int) -> [int]:\n",
    "    divisors: [int] = []\n",
    "    for i in range(1, int(number/2)+1):\n",
    "        if number % i == 0:\n",
    "            divisors.append(i)\n",
    "    return divisors"
   ]
  },
  {
   "cell_type": "code",
   "execution_count": 3,
   "id": "d19066f2-1363-438b-b6ef-088e7c03a8f7",
   "metadata": {
    "tags": []
   },
   "outputs": [
    {
     "name": "stdout",
     "output_type": "stream",
     "text": [
      "[5, 2, 1]\n"
     ]
    }
   ],
   "source": [
    "print(find_divisors_number(10))"
   ]
  },
  {
   "cell_type": "markdown",
   "id": "76face72-21ac-4101-89b0-786910319592",
   "metadata": {},
   "source": [
    "Another example, we can modify the input parameters. Imagine you use a function to work out the area of triangles. The information\n",
    "about the base and height of triangles is given in metres to that function but we need to return the result in inches so another\n",
    "provider can use this function. We can use a decorator to convert the arguments from metres to inches"
   ]
  },
  {
   "cell_type": "code",
   "execution_count": 4,
   "id": "f80ab7fa-dc95-42f8-8827-597b432dfc39",
   "metadata": {
    "tags": []
   },
   "outputs": [],
   "source": [
    "def decorator_measurements(func):\n",
    "    \"\"\"\n",
    "    This is the new callable object that will receive the function\n",
    "    as parameter. This is used as the decorator, the annotation\n",
    "    above the function that will be decorated (modified)\n",
    "\n",
    "    :param func: Callable object\n",
    "    :return: Inner decorator that will decorate func\n",
    "    \"\"\"\n",
    "\n",
    "    def inner_from_metres_to_inches(*args, **kwargs):\n",
    "        \"\"\"\n",
    "        This function receives the parameters of the decorated function\n",
    "        and here we will perform the modification of the decorated\n",
    "        function. In this case, we convert the arguments in metres to\n",
    "        inches\n",
    "\n",
    "        :param args: Positional arguments of the decorated function\n",
    "        :param kwargs: Keyword arguments of the decorated function\n",
    "        :return: Result of executing the decorated function\n",
    "        \"\"\"\n",
    "        \n",
    "        inches_conversion_rate = 39.3701\n",
    "        args_inches: [] = []\n",
    "        kwargs_inches: dict = {}\n",
    "        \n",
    "        # We get every positional argument and convert it to inches\n",
    "        for arg in args:\n",
    "            args_inches.append(arg * inches_conversion_rate)\n",
    "        # We get every keyword argument and convert it to inches\n",
    "        for key in kwargs.keys():\n",
    "            kwargs_inches[key] = kwargs[key] * inches_conversion_rate\n",
    "        \n",
    "        # We use the arguments in inches to execute the function\n",
    "        res = func(*args_inches, **kwargs_inches)\n",
    "        return res\n",
    "\n",
    "    return inner_from_metres_to_inches\n",
    "\n",
    "\n",
    "@decorator_measurements\n",
    "def get_area_of_triangle(base_metres: float, height_metres: float) -> float:\n",
    "    \"\"\"\n",
    "    Return the area of a triangle in metres (but the decorator will\n",
    "    convert it to inches)\n",
    "\n",
    "    :param base_metres: Size of the base in metres\n",
    "    :param height_metres: Height of the triangle in metres\n",
    "    :return: Area of the triangle in m2 (because\n",
    "    \"\"\"\n",
    "    return 1 / 2 * base_metres * height_metres"
   ]
  },
  {
   "cell_type": "code",
   "execution_count": 5,
   "id": "85596c22-c584-446f-af47-364f0394e162",
   "metadata": {
    "tags": []
   },
   "outputs": [
    {
     "name": "stdin",
     "output_type": "stream",
     "text": [
      "What's the size of the base in metres?  2\n",
      "What's the height in metres?  5\n"
     ]
    },
    {
     "name": "stdout",
     "output_type": "stream",
     "text": [
      "The area of the triangle is 7750.02387005 square inches\n"
     ]
    }
   ],
   "source": [
    "base_triangle_metres: float = \\\n",
    "    float(input(\"What's the size of the base in metres? \"))\n",
    "height_triangle_metres: float = \\\n",
    "    float(input(\"What's the height in metres? \"))\n",
    "\n",
    "area_inches: float = get_area_of_triangle(base_triangle_metres,\n",
    "                                          height_triangle_metres)\n",
    "print(\"The area of the triangle is {0} square inches\".format(area_inches))"
   ]
  },
  {
   "cell_type": "markdown",
   "id": "850e97f4-af97-4f73-820f-ffdbbf111e28",
   "metadata": {},
   "source": [
    "In general, we can modify the function as we see fit. In this example, the formula to work out the slope of a line can return an exception if it is a vertical line. It will return a ZeroDivisionError. In the decorator we will handle that exception and return infinite instead"
   ]
  },
  {
   "cell_type": "code",
   "execution_count": 6,
   "id": "23665f70-e83d-480e-bb83-f240aeb77895",
   "metadata": {
    "tags": []
   },
   "outputs": [],
   "source": [
    "def decorator_handles_division_by_zero(func):\n",
    "    \"\"\"\n",
    "    This is the new callable object that will receive the function\n",
    "    as parameter. This is used as the decorator, the annotation\n",
    "    above the function that will be decorated (modified)\n",
    "\n",
    "    :param func: Callable object\n",
    "    :return: Inner decorator that will decorate func\n",
    "    \"\"\"\n",
    "\n",
    "    def inner_handles_division_by_zero(*args, **kwargs):\n",
    "        \"\"\"\n",
    "        This function receives the parameters of the decorated function\n",
    "        and here we will perform the modification of the decorated\n",
    "        function. In this case, if the operation returns a\n",
    "        ZeroDivisionError we handle it and return infinite\n",
    "\n",
    "        :param args: Positional arguments of the decorated function\n",
    "        :param kwargs: Keyword arguments of the decorated function\n",
    "        :return: Result of executing the decorated function\n",
    "        \"\"\"\n",
    "\n",
    "        try:\n",
    "            res = func(*args, **kwargs)\n",
    "            return res\n",
    "        except ZeroDivisionError as e:\n",
    "            print(\"Vertical line: {0}\".format(e))\n",
    "            print(\"We will return infinite\")\n",
    "        return math.inf\n",
    "    return inner_handles_division_by_zero\n",
    "\n",
    "\n",
    "@decorator_handles_division_by_zero\n",
    "def get_slope_of_a_line(x1: int, y1: int, x2: int, y2: int):\n",
    "    return (y2 - y1) / (x2 - x1)"
   ]
  },
  {
   "cell_type": "code",
   "execution_count": 7,
   "id": "83e59c80-4bb3-4b66-be2a-701575dc8174",
   "metadata": {
    "tags": []
   },
   "outputs": [
    {
     "name": "stdout",
     "output_type": "stream",
     "text": [
      "Vertical line: division by zero\n",
      "We will return infinite\n",
      "inf\n",
      "1.0\n"
     ]
    }
   ],
   "source": [
    "print(get_slope_of_a_line(1, 1, 1, 2))\n",
    "print(get_slope_of_a_line(1, 1, 2, 2))"
   ]
  },
  {
   "cell_type": "markdown",
   "id": "6253ef57-2a7d-4b39-8687-3ad44b79aae1",
   "metadata": {},
   "source": [
    "__Decorators can take arguments also__\n",
    "\n",
    "These arguments can be applied in the namespace of the decorator and therefore used to modify the algorithm"
   ]
  },
  {
   "cell_type": "markdown",
   "id": "0c0e5064-b524-43ff-b5a2-b4b32f43d6c4",
   "metadata": {},
   "source": [
    "We will reuse the example we created where we convert the area of a triangle from metres to inches but in this case, we will provide\n",
    "the conversion rate ourselves so we can convert from metres to any other unit"
   ]
  },
  {
   "cell_type": "code",
   "execution_count": 8,
   "id": "98726b3b-1f55-4a8c-b374-f8fade9d4d9d",
   "metadata": {},
   "outputs": [],
   "source": [
    "def conversion_decorator(conversion_rate: float):\n",
    "    \"\"\"\n",
    "    Receives the parameter that can be accessed in the namespace\n",
    "    of the decorator and therefore used as an argument to modify\n",
    "    the algorithm of the decorated function. This is used as the\n",
    "    decorator, the annotation above the function that will be\n",
    "    decorated (modified)\n",
    "\n",
    "    :param conversion_rate: Rate to convert the arguments of the\n",
    "    decorated function to another unit\n",
    "\n",
    "    :return: The result of the decorated function where the arguments\n",
    "    have been converted to another unit using this conversion rate\n",
    "    \"\"\"\n",
    "\n",
    "    def function_to_convert(func):\n",
    "        \"\"\"\n",
    "        This is the new callable object that will receive the function\n",
    "        as parameter.\n",
    "\n",
    "        :param func: Callable object\n",
    "        :return: Inner decorator that will decorate func\n",
    "        \"\"\"\n",
    "\n",
    "        def inner_conversion_decorator(*args, **kwargs):\n",
    "            \"\"\"\n",
    "            This function receives the parameters of the decorated\n",
    "            function and here we will perform the modification of the\n",
    "            decorated function. In this case, we convert the arguments\n",
    "            in one unit to another unit using the parameter of the\n",
    "            decorator called conversion_rate\n",
    "\n",
    "            :param args: Positional arguments of the decorated function\n",
    "            :param kwargs: Keyword arguments of the decorated function\n",
    "            :return: Result of executing the decorated function\n",
    "            \"\"\"\n",
    "\n",
    "            converted_args: [] = []\n",
    "            converted_kwargs: dict = {}\n",
    "            # Get every positional argument and apply conversion rate\n",
    "            print(\"Positional arguments before conversion: {0}\".format(args))\n",
    "            for arg in args:\n",
    "                converted_args.append(arg * conversion_rate)\n",
    "            print(\"Positional arguments after conversion: {0}\".format(\n",
    "                converted_args))\n",
    "\n",
    "            # Get every keyword argument and apply conversion rate\n",
    "            print(\"Keyword arguments before conversion: {0}\".format(kwargs))\n",
    "            for v_key in converted_kwargs.keys():\n",
    "                converted_kwargs[v_key] = kwargs[v_key] * conversion_rate\n",
    "            print(\"Keyword arguments after conversion: {0}\".format(\n",
    "                converted_args))\n",
    "\n",
    "            res = func(*converted_args, **converted_kwargs)\n",
    "            print(\"Result of the function is: {0}\".format(res))\n",
    "            return res\n",
    "        return inner_conversion_decorator\n",
    "    return function_to_convert\n",
    "\n",
    "\n",
    "# We apply the conversion rate from metres to inches:\n",
    "# 1 metre is 39.3701 inches\n",
    "@conversion_decorator(39.3701)\n",
    "def get_area_of_triangle(base_metres: float, height_metres: float) -> float:\n",
    "    \"\"\"\n",
    "    Return the area of a triangle in metres (but the decorator will\n",
    "    convert it to inches)\n",
    "\n",
    "    :param base_metres: Size of the base in metres\n",
    "    :param height_metres: Height of the triangle in metres\n",
    "    :return: Area of the triangle in m2 (because\n",
    "    \"\"\"\n",
    "    return 1 / 2 * base_metres * height_metres"
   ]
  },
  {
   "cell_type": "code",
   "execution_count": 9,
   "id": "0e4f8c94-3b40-41a7-a1a8-ccfe9e8be03e",
   "metadata": {
    "tags": []
   },
   "outputs": [
    {
     "name": "stdin",
     "output_type": "stream",
     "text": [
      "What's the size of the base in metres?  2\n",
      "What's the height in metres?  5\n"
     ]
    },
    {
     "name": "stdout",
     "output_type": "stream",
     "text": [
      "Positional arguments before conversion: (2.0, 5.0)\n",
      "Positional arguments after conversion: [78.7402, 196.8505]\n",
      "Keyword arguments before conversion: {}\n",
      "Keyword arguments after conversion: [78.7402, 196.8505]\n",
      "Result of the function is: 7750.02387005\n",
      "The area of the triangle is 7750.02387005 square inches\n"
     ]
    }
   ],
   "source": [
    "base_triangle_metres: float = \\\n",
    "    float(input(\"What's the size of the base in metres? \"))\n",
    "height_triangle_metres: float = \\\n",
    "    float(input(\"What's the height in metres? \"))\n",
    "\n",
    "area_inches: float = get_area_of_triangle(base_triangle_metres,\n",
    "                                          height_triangle_metres)\n",
    "print(\"The area of the triangle is {0} square inches\".format(area_inches))"
   ]
  },
  {
   "cell_type": "markdown",
   "id": "2cac63ee-11a1-4129-8c11-c72b19977cd5",
   "metadata": {},
   "source": [
    "- ### Decorators can be classes too\n",
    "\n",
    "We can build classes that will act as decorators the same way that functions can.\n",
    "In the most simple case, we have to keep the following structure"
   ]
  },
  {
   "cell_type": "markdown",
   "id": "293d309a-c0f6-40a8-9320-ecead6ca54eb",
   "metadata": {},
   "source": [
    "Reusing the example with the function that works out the area of a triangle"
   ]
  },
  {
   "cell_type": "code",
   "execution_count": 10,
   "id": "967fb389-45a1-468e-8fe0-a792cf3f2bdb",
   "metadata": {
    "tags": []
   },
   "outputs": [],
   "source": [
    "class ToInchesDecoratorClass:\n",
    "    \"\"\"\n",
    "    Decorator class. This will be used as an annotation above a function\n",
    "    that will modify the algorithm of the decorated function\n",
    "    \"\"\"\n",
    "\n",
    "    def __init__(self, func):\n",
    "        \"\"\"\n",
    "        Constructor for the decorator class, receives the decorated\n",
    "        function\n",
    "\n",
    "        :param func: Decorated function\n",
    "        \"\"\"\n",
    "\n",
    "        self.func = func\n",
    "\n",
    "    def __call__(self, *args, **kwargs):\n",
    "        \"\"\"\n",
    "        Receives the arguments of the decorated function and here it is\n",
    "        where we will modify its algorithm. In this case, we convert\n",
    "        the parameters of the decorated function from metres to inches\n",
    "        so the result is in square inches\n",
    "\n",
    "        :param args: Positional arguments of the decorated function\n",
    "        :param kwargs: Keyword arguments of the decorated function\n",
    "        :return: Result of the function in inches\n",
    "        \"\"\"\n",
    "\n",
    "        inches_conversion_rate = 39.3701\n",
    "        args_inches: [] = []\n",
    "        kwargs_inches: dict = {}\n",
    "\n",
    "        # We get every positional argument and convert it to inches\n",
    "        for arg in args:\n",
    "            args_inches.append(arg * inches_conversion_rate)\n",
    "        # We get every keyword argument and convert it to inches\n",
    "        for key in kwargs.keys():\n",
    "            kwargs_inches[key] = kwargs[key] * inches_conversion_rate\n",
    "\n",
    "        # We use the arguments in inches to execute the function\n",
    "        res = self.func(*args_inches, **kwargs_inches)\n",
    "        return res\n",
    "\n",
    "\n",
    "@ToInchesDecoratorClass\n",
    "def get_area_of_triangle(base_metres: float, height_metres: float) -> float:\n",
    "    \"\"\"\n",
    "    Return the area of a triangle in metres (but the decorator will\n",
    "    convert it to inches)\n",
    "\n",
    "    :param base_metres: Size of the base in metres\n",
    "    :param height_metres: Height of the triangle in metres\n",
    "    :return: Area of the triangle in m2 (because\n",
    "    \"\"\"\n",
    "    return 1 / 2 * base_metres * height_metres"
   ]
  },
  {
   "cell_type": "code",
   "execution_count": 11,
   "id": "28076f19-1661-459b-b5f2-a0c205b20fef",
   "metadata": {
    "tags": []
   },
   "outputs": [
    {
     "name": "stdin",
     "output_type": "stream",
     "text": [
      "What's the size of the base in metres?  2\n",
      "What's the height in metres?  5\n"
     ]
    },
    {
     "name": "stdout",
     "output_type": "stream",
     "text": [
      "The area of the triangle is 7750.02387005 square inches\n"
     ]
    }
   ],
   "source": [
    "base_triangle_metres: float = \\\n",
    "    float(input(\"What's the size of the base in metres? \"))\n",
    "height_triangle_metres: float = \\\n",
    "    float(input(\"What's the height in metres? \"))\n",
    "\n",
    "area_inches: float = get_area_of_triangle(base_triangle_metres,\n",
    "                                          height_triangle_metres)\n",
    "print(\"The area of the triangle is {0} square inches\".format(area_inches))"
   ]
  },
  {
   "cell_type": "markdown",
   "id": "ee8bd67a-a968-4f1a-958b-664a8724b7ef",
   "metadata": {},
   "source": [
    "- __Class decorators can take arguments__, same way that decorated functions can take arguments"
   ]
  },
  {
   "cell_type": "code",
   "execution_count": 12,
   "id": "d5e56752-b5e5-4c8e-9f4c-75ab6f66c2ce",
   "metadata": {
    "tags": []
   },
   "outputs": [],
   "source": [
    "class ConversionDecoratorClass:\n",
    "    \"\"\"\n",
    "    Decorator class. This will be used as an annotation above a function\n",
    "    that will modify the algorithm of the decorated function\n",
    "    \"\"\"\n",
    "\n",
    "    def __init__(self, conversion_rate: float):\n",
    "        \"\"\"\n",
    "        Constructor for the decorator class, receives the argument\n",
    "        passed on to the decorator\n",
    "\n",
    "        :param conversion_rate: Argument passed on to the decorator,\n",
    "        rate by which we will turn the arguments of the decorated\n",
    "        function from one unit to another\n",
    "        \"\"\"\n",
    "\n",
    "        self.conversion_rate: float = conversion_rate\n",
    "\n",
    "    def __call__(self, func):\n",
    "        \"\"\"\n",
    "        Receives the function to decorate\n",
    "\n",
    "        :param func: Function to decorate\n",
    "        :return: inner_wrapper\n",
    "        \"\"\"\n",
    "\n",
    "        def inner_wrapper(*args, **kwargs):\n",
    "            \"\"\"\n",
    "            Receives the arguments of the decorated function and here it\n",
    "             is where we will modify its algorithm. In this case, we\n",
    "            convert the parameters of the decorated function from metres\n",
    "             to another unit using the instance attribute of this class\n",
    "             conversion_rate\n",
    "\n",
    "            :param args: Positional arguments of the decorated function\n",
    "            :param kwargs: Keyword arguments of the decorated function\n",
    "            :return: Result of the function in inches\n",
    "            \"\"\"\n",
    "\n",
    "            args_inches: [] = []\n",
    "            kwargs_inches: dict = {}\n",
    "\n",
    "            # We get every positional argument and convert it to inches\n",
    "            for arg in args:\n",
    "                args_inches.append(arg * self.conversion_rate)\n",
    "            # We get every keyword argument and convert it to inches\n",
    "            for key in kwargs.keys():\n",
    "                kwargs_inches[key] = kwargs[key] * self.conversion_rate\n",
    "\n",
    "            # We use the arguments in inches to execute the function\n",
    "            res = func(*args_inches, **kwargs_inches)\n",
    "            return res\n",
    "        return inner_wrapper\n",
    "\n",
    "\n",
    "# We apply the conversion rate from metres to inches:\n",
    "# 1 metre is 39.3701 inches\n",
    "@ConversionDecoratorClass(39.3701)\n",
    "def get_area_of_triangle(base_metres: float, height_metres: float) -> float:\n",
    "    \"\"\"\n",
    "    Return the area of a triangle in metres (but the decorator will\n",
    "    convert it to inches)\n",
    "\n",
    "    :param base_metres: Size of the base in metres\n",
    "    :param height_metres: Height of the triangle in metres\n",
    "    :return: Area of the triangle in m2 (because\n",
    "    \"\"\"\n",
    "    return 1 / 2 * base_metres * height_metres"
   ]
  },
  {
   "cell_type": "code",
   "execution_count": 13,
   "id": "503fdba2-5319-4fdb-a4a0-c979bccda77c",
   "metadata": {
    "tags": []
   },
   "outputs": [
    {
     "name": "stdin",
     "output_type": "stream",
     "text": [
      "What's the size of the base in metres?  2\n",
      "What's the height in metres?  5\n"
     ]
    },
    {
     "name": "stdout",
     "output_type": "stream",
     "text": [
      "The area of the triangle is 7750.02387005 square inches\n"
     ]
    }
   ],
   "source": [
    "base_triangle_metres: float = \\\n",
    "    float(input(\"What's the size of the base in metres? \"))\n",
    "height_triangle_metres: float = \\\n",
    "    float(input(\"What's the height in metres? \"))\n",
    "\n",
    "area_inches: float = get_area_of_triangle(base_triangle_metres,\n",
    "                                          height_triangle_metres)\n",
    "print(\"The area of the triangle is {0} square inches\".format(area_inches))"
   ]
  },
  {
   "cell_type": "markdown",
   "id": "68cde055-a544-44c4-a428-cdad67b7326f",
   "metadata": {},
   "source": [
    "- ### Decorator functions for classes\n",
    "\n",
    "Decorator function can also decorate classes. In this case, we can modify for instance how a constructor works."
   ]
  },
  {
   "cell_type": "markdown",
   "id": "9e8ac33b-cbcc-478d-80e4-8ca42b9a902e",
   "metadata": {},
   "source": [
    "Following the example above, we will convert the attributes of a class Triangle from metres to inches"
   ]
  },
  {
   "cell_type": "code",
   "execution_count": 14,
   "id": "372a325b-0035-40c8-95d3-c1be28105fd2",
   "metadata": {
    "tags": []
   },
   "outputs": [],
   "source": [
    "def to_inches_decorator(class_):\n",
    "    \"\"\"\n",
    "    Receives the class to be decorated and will be used as the \n",
    "    annotation above the class to be decorated\n",
    "    \n",
    "    :param class_: Class to be decorated\n",
    "    :return: Modified class\n",
    "    \"\"\"\n",
    "    \n",
    "    # We save the constructor of the class, so we can access it inside\n",
    "    # the function that modifies its algorithm\n",
    "    class_.__init__new__ = class_.__init__\n",
    "\n",
    "    def __decorated_init__(self, *args, **kwargs):\n",
    "        \"\"\"\n",
    "        Modifies the algorithm of the constructor. This will replace the\n",
    "        constructor of the decorated class\n",
    "        \n",
    "        :param self: Instance of the decorated class\n",
    "        :param args: Positional arguments of the constructor\n",
    "        :param kwargs: Keyword arguments of the constructor\n",
    "        :return: New instance of the decorated class after the new\n",
    "        decorated constructor has been executed\n",
    "        \"\"\"\n",
    "        \n",
    "        conversion_rate: float = 39.3701\n",
    "        converted_args: list = list(args)\n",
    "        converted_kwargs: dict = kwargs\n",
    "        \n",
    "        # We control if the arguments to convert to inches have\n",
    "        # been passed like positional or keyword arguments\n",
    "        if \"base_metres\" in kwargs.keys():\n",
    "            # If they were passed as keyword arguments we convert them\n",
    "            # to inches\n",
    "            converted_kwargs[\"base_metres\"] = kwargs[\"base_metres\"] * \\\n",
    "                                              conversion_rate\n",
    "            if \"height_metres\" in kwargs.keys():\n",
    "                converted_kwargs[\"height_metres\"] = kwargs[\"height_metres\"] * \\\n",
    "                                                  conversion_rate\n",
    "            else:\n",
    "                # In this case, base_metres have been passed as keyword\n",
    "                # argument, but not height_metres which means\n",
    "                # height_metres is positional argument with index 0\n",
    "                # and we have to convert it to inches\n",
    "                height_metres: float = converted_args.pop(0)\n",
    "                height_inches: float = height_metres * conversion_rate\n",
    "                converted_args.insert(0, height_inches)\n",
    "        else:\n",
    "            # Otherwise, both arguments to be converted to inches have\n",
    "            # been passed as positional arguments, so we have\n",
    "            # to convert both. base_metres will have index 0 now\n",
    "            base_metres: float = converted_args.pop(0)\n",
    "            base_inches: float = base_metres * conversion_rate\n",
    "            converted_args.insert(0, base_inches)\n",
    "            if \"height_metres\" in kwargs.keys():\n",
    "                converted_kwargs[\"height_metres\"] = kwargs[\"height_metres\"] * \\\n",
    "                                                  conversion_rate\n",
    "            else:\n",
    "                height_metres: float = converted_args.pop(1)\n",
    "                height_inches: float = height_metres * conversion_rate\n",
    "                converted_args.insert(1, height_inches)\n",
    "\n",
    "        return class_.__init__new__(self, *converted_args, **converted_kwargs)\n",
    "    \n",
    "    # We replace the original constructor of the class with the new\n",
    "    # constructor we created above\n",
    "    class_.__init__ = __decorated_init__\n",
    "    # We have to return the class\n",
    "    return class_\n",
    "\n",
    "@to_inches_decorator\n",
    "class Triangle:\n",
    "    def __init__(self, base_metres: float, height_metres: float, angle1: int,\n",
    "                 angle2: int, angle3: int):\n",
    "        self.base: float = base_metres\n",
    "        self.height: float = height_metres\n",
    "        self.angle1: int = angle1\n",
    "        self.angle2: int = angle2\n",
    "        self.angle3: int = angle3\n",
    "        if angle1 + angle2 + angle3 != 180:\n",
    "            raise ValueError(\"Angles of a triangle must be 180 total\")\n",
    "\n",
    "    def get_area(self):\n",
    "        return 1 / 2 * self.base * self.height"
   ]
  },
  {
   "cell_type": "markdown",
   "id": "cc5165e4-ce8e-4e37-910f-923e7882837e",
   "metadata": {},
   "source": [
    "Now, the constructor takes the parameters in metres but will return the result of the area in inches"
   ]
  },
  {
   "cell_type": "code",
   "execution_count": 15,
   "id": "b3fd1c31-fad0-4091-9228-e7e63ed0bf2c",
   "metadata": {
    "tags": []
   },
   "outputs": [
    {
     "name": "stdout",
     "output_type": "stream",
     "text": [
      "7750.02387005\n"
     ]
    }
   ],
   "source": [
    "triangle = Triangle(2, 5, 90, 30, 60)\n",
    "print(triangle.get_area())"
   ]
  },
  {
   "cell_type": "markdown",
   "id": "3d14c799-4e08-42f9-9128-073d4063cf4d",
   "metadata": {},
   "source": [
    "- ### Arguments to decorators of classes\n",
    "\n",
    "As with decorators for functions, we can add arguments to the decorators that decorate classes"
   ]
  },
  {
   "cell_type": "markdown",
   "id": "a55190ef-b133-4a66-bb7f-a89c9a3d0276",
   "metadata": {},
   "source": [
    "Following the example of the triangle, in this case instead of converting directly to inches, we will use a conversion rate to convert to another unit"
   ]
  },
  {
   "cell_type": "code",
   "execution_count": 16,
   "id": "38f5d04a-0c5d-4494-9e7c-c46a54d57d67",
   "metadata": {
    "tags": []
   },
   "outputs": [],
   "source": [
    "def unit_conversion_decorator(conversion_rate: float):\n",
    "    \"\"\"\n",
    "    Receives the argument given to the decorator and used below to\n",
    "    convert the parameters base_metres, height_metres to another\n",
    "    unit\n",
    "\n",
    "    :param conversion_rate: Conversion rate\n",
    "    :return: Decorated class\n",
    "    \"\"\"\n",
    "\n",
    "    def inner_unit_conversion_decorator(class_):\n",
    "        \"\"\"\n",
    "        Receives the class to be decorated and will be used as the\n",
    "        annotation above the class to be decorated\n",
    "\n",
    "        :param class_: Class to be decorated\n",
    "        :return: Modified class\n",
    "        \"\"\"\n",
    "\n",
    "        # We save the constructor of the class, so we can access it inside\n",
    "        # the function that modifies its algorithm\n",
    "        class_.__init__new__ = class_.__init__\n",
    "\n",
    "        def __decorated_init__(self, *args, **kwargs):\n",
    "            \"\"\"\n",
    "            Modifies the algorithm of the constructor. This will replace the\n",
    "            constructor of the decorated class\n",
    "\n",
    "            :param self: Instance of the decorated class\n",
    "            :param args: Positional arguments of the constructor\n",
    "            :param kwargs: Keyword arguments of the constructor\n",
    "            :return: New instance of the decorated class after the new\n",
    "            decorated constructor has been executed\n",
    "            \"\"\"\n",
    "\n",
    "            converted_args: list = list(args)\n",
    "            converted_kwargs: dict = kwargs\n",
    "\n",
    "            # We control if the arguments to convert to inches have\n",
    "            # been passed like positional or keyword arguments\n",
    "            if \"base_metres\" in kwargs.keys():\n",
    "                # If they were passed as keyword arguments we convert them\n",
    "                # to inches\n",
    "                converted_kwargs[\"base_metres\"] = kwargs[\"base_metres\"] * \\\n",
    "                                                  conversion_rate\n",
    "                if \"height_metres\" in kwargs.keys():\n",
    "                    converted_kwargs[\"height_metres\"] =\\\n",
    "                        kwargs[\"height_metres\"] * conversion_rate\n",
    "                else:\n",
    "                    # In this case, base_metres have been passed as keyword\n",
    "                    # argument, but not height_metres which means\n",
    "                    # height_metres is positional argument with index 0\n",
    "                    # we have to convert it to inches\n",
    "                    height_metres: float = converted_args.pop(0)\n",
    "                    height_inches: float = height_metres * conversion_rate\n",
    "                    converted_args.insert(0, height_inches)\n",
    "            else:\n",
    "                # Otherwise, both arguments to be converted to inches have\n",
    "                # been passed as positional arguments, so we have\n",
    "                # to convert both. base_metres will have index 0 now\n",
    "                base_metres: float = converted_args.pop(0)\n",
    "                base_inches: float = base_metres * conversion_rate\n",
    "                converted_args.insert(0, base_inches)\n",
    "                if \"height_metres\" in kwargs.keys():\n",
    "                    converted_kwargs[\"height_metres\"] = \\\n",
    "                        kwargs[\"height_metres\"] * conversion_rate\n",
    "                else:\n",
    "                    height_metres: float = converted_args.pop(1)\n",
    "                    height_inches: float = height_metres * conversion_rate\n",
    "                    converted_args.insert(1, height_inches)\n",
    "\n",
    "            return class_.__init__new__(self, *converted_args,\n",
    "                                        **converted_kwargs)\n",
    "\n",
    "        # We replace the original constructor of the class with the new\n",
    "        # constructor we created above\n",
    "        class_.__init__ = __decorated_init__\n",
    "        # We have to return the class\n",
    "        return class_\n",
    "    return inner_unit_conversion_decorator\n",
    "\n",
    "# We apply the conversion rate from metres to inches:\n",
    "# 1 metre is 39.3701 inches\n",
    "@unit_conversion_decorator(39.3701)\n",
    "class Triangle:\n",
    "    def __init__(self, base_metres: float, height_metres: float, angle1: int,\n",
    "                 angle2: int, angle3: int):\n",
    "        self.base: float = base_metres\n",
    "        self.height: float = height_metres\n",
    "        self.angle1: int = angle1\n",
    "        self.angle2: int = angle2\n",
    "        self.angle3: int = angle3\n",
    "        if angle1 + angle2 + angle3 != 180:\n",
    "            raise ValueError(\"Angles of a triangle must be 180 total\")\n",
    "\n",
    "    def get_area(self):\n",
    "        return 1 / 2 * self.base * self.height"
   ]
  },
  {
   "cell_type": "code",
   "execution_count": 17,
   "id": "7a0dde17-799d-45b7-9d09-44f2d3e3f659",
   "metadata": {
    "tags": []
   },
   "outputs": [
    {
     "name": "stdout",
     "output_type": "stream",
     "text": [
      "7750.02387005\n"
     ]
    }
   ],
   "source": [
    "triangle = Triangle(2, 5, 90, 30, 60)\n",
    "print(triangle.get_area())"
   ]
  }
 ],
 "metadata": {
  "kernelspec": {
   "display_name": "Python 3 (ipykernel)",
   "language": "python",
   "name": "python3"
  },
  "language_info": {
   "codemirror_mode": {
    "name": "ipython",
    "version": 3
   },
   "file_extension": ".py",
   "mimetype": "text/x-python",
   "name": "python",
   "nbconvert_exporter": "python",
   "pygments_lexer": "ipython3",
   "version": "3.11.3"
  }
 },
 "nbformat": 4,
 "nbformat_minor": 5
}
