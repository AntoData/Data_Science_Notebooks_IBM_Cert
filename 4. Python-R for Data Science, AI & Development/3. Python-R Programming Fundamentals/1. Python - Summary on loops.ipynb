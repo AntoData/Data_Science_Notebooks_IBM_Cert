{
 "cells": [
  {
   "cell_type": "markdown",
   "id": "8ce15fd5-4265-4b0a-9c68-61a93cec2d26",
   "metadata": {},
   "source": [
    "c"
   ]
  },
  {
   "cell_type": "markdown",
   "id": "5820285a-9d57-49f1-977e-842581e4f476",
   "metadata": {},
   "source": [
    "### While\n",
    "__while__ is a _loop_ that will execute the code inside until a certain __condition is false__"
   ]
  },
  {
   "cell_type": "code",
   "execution_count": 1,
   "id": "c81f3389-ea07-4625-ab04-61847f4354ac",
   "metadata": {
    "tags": []
   },
   "outputs": [
    {
     "name": "stdout",
     "output_type": "stream",
     "text": [
      "Iteration: n=1\n",
      "Iteration: n=2\n",
      "Iteration: n=3\n",
      "Iteration: n=4\n",
      "Iteration: n=5\n"
     ]
    }
   ],
   "source": [
    "i: int = 0\n",
    "while i < 5: # The condition here is \"i < 5\" which means the code inside will be executed until \"i\" is no longer less than 5\n",
    "    i += 1   # Be mindful that the condition has to change inside the loop (or after a period of time). Otherwise, infinite loop\n",
    "    print(\"Iteration: n={0}\".format(i))"
   ]
  },
  {
   "cell_type": "markdown",
   "id": "459cc323-8965-49c1-9661-51d3819c833d",
   "metadata": {},
   "source": [
    "__break__ is a keyword that stops a _loop_ and continue the execution after the loop"
   ]
  },
  {
   "cell_type": "code",
   "execution_count": 2,
   "id": "0a9bb9ba-8bd8-469a-b58f-f40108ea164b",
   "metadata": {
    "tags": []
   },
   "outputs": [
    {
     "name": "stdout",
     "output_type": "stream",
     "text": [
      "Iteration: n=1\n",
      "Iteration: n=2\n",
      "Iteration: n=3\n",
      "Iteration: n=4\n",
      "Iteration: n=5\n",
      "We found the first multiple of 13 between 100 and 200: 104\n",
      "The loop has finished because we found our number\n"
     ]
    }
   ],
   "source": [
    "i: int = 100\n",
    "while i < 200:\n",
    "    print(\"Iteration: n={0}\".format(i-99))\n",
    "    if i % 13 == 0:\n",
    "        print(\"We found the first multiple of 13 between 100 and 200: {0}\".format(i))\n",
    "        break\n",
    "    else:\n",
    "        i += 1\n",
    "print(\"The loop has finished because we found our number\")"
   ]
  },
  {
   "cell_type": "markdown",
   "id": "585d357d-537e-44ac-b9bd-80e8a314d3c3",
   "metadata": {},
   "source": [
    "If we analyze the code above, we are looking for an element between to boundaries __[100, 200]__. Our goal is to find an element in that collection that meets a condition. But we don't know which element will meet it. So we have to go through them, one by one and check if the condition. Once we found the condition, in this case we don't have to keep iterating, so we can use __break__ to stop the loop and continue the execution after the loop"
   ]
  },
  {
   "cell_type": "markdown",
   "id": "da7b01fd-4187-402b-bcea-2381a0cca314",
   "metadata": {},
   "source": [
    "__else__ can be used also with __while__ _loops_. The code in __else__ will be executed if and only if the condition in __while__ has returned __False__. Therefore, if we use __break__, the code in __else__ won't be executed"
   ]
  },
  {
   "cell_type": "code",
   "execution_count": 3,
   "id": "0d3602ff-e76b-4d70-ad13-3e3b37b280bd",
   "metadata": {
    "tags": []
   },
   "outputs": [
    {
     "name": "stdout",
     "output_type": "stream",
     "text": [
      "Iteration: n=1\n",
      "Iteration: n=2\n",
      "Iteration: n=3\n",
      "Iteration: n=4\n",
      "Iteration: n=5\n",
      "As expected break was not executed, so we execute else \n",
      "We continue the execution from here\n"
     ]
    }
   ],
   "source": [
    "i: int = 0\n",
    "\n",
    "while i < 5:\n",
    "    if i % 7 == 6:\n",
    "        print(\"How come? This is impossible\")\n",
    "        break\n",
    "    i += 1\n",
    "    print(\"Iteration: n={0}\".format(i))\n",
    "else:\n",
    "    print(\"As expected break was not executed, so we execute else \")\n",
    "\n",
    "print(\"We continue the execution from here\")"
   ]
  },
  {
   "cell_type": "markdown",
   "id": "33feab14-e72a-4e6f-a6ad-257816cd168c",
   "metadata": {},
   "source": [
    "As previously mentioned, here the _loop_ was executed until the condition returned __False__ and then we moved on to the branch __else__"
   ]
  },
  {
   "cell_type": "code",
   "execution_count": 4,
   "id": "6cab15f6-10a3-4365-87e2-bc7f6d513562",
   "metadata": {
    "tags": []
   },
   "outputs": [
    {
     "name": "stdout",
     "output_type": "stream",
     "text": [
      "Iteration: 1\n",
      "Iteration: 2\n",
      "Breaking the loop\n",
      "Executing main flow\n"
     ]
    }
   ],
   "source": [
    "i: int = 0\n",
    "\n",
    "while i < 7:\n",
    "    if (i + 5) % 3 == 1:\n",
    "        print(\"Breaking the loop\")\n",
    "        break\n",
    "    i += 1\n",
    "    print(\"Iteration: {0}\".format(i))\n",
    "else:\n",
    "    print(\"Else won't be executed\")\n",
    "\n",
    "print(\"Executing main flow\")"
   ]
  },
  {
   "cell_type": "markdown",
   "id": "dfae0b46-1c94-454b-8369-3487cceaf57f",
   "metadata": {},
   "source": [
    "### For\n",
    "__for__ is a _loop_ that will __iterate through a collection__"
   ]
  },
  {
   "cell_type": "code",
   "execution_count": 5,
   "id": "4184af47-6fc6-4bec-ad62-68950f2c7537",
   "metadata": {
    "tags": []
   },
   "outputs": [
    {
     "name": "stdout",
     "output_type": "stream",
     "text": [
      "We are travelling to Edinburgh\n",
      "We are travelling to Milan\n",
      "We are travelling to Eindhoven\n",
      "We are travelling to Piraeus\n",
      "We are travelling to Marseille\n",
      "We are travelling to Valletta\n"
     ]
    }
   ],
   "source": [
    "cities: [str] = [\"Edinburgh\", \"Milan\", \"Eindhoven\", \"Piraeus\", \"Marseille\", \"Valletta\"]\n",
    "\n",
    "for city in cities:    # The variable next to for (in this case city) will contain the element we are getting from the collection (cities)\n",
    "    print(\"We are travelling to {0}\".format(city))"
   ]
  },
  {
   "cell_type": "markdown",
   "id": "c635d59e-8ae5-4c4c-a1a5-9eb199b733ab",
   "metadata": {
    "tags": []
   },
   "source": [
    "The __elements in the list are not modified if we modify the variable__. The variable contains a copy of the element in the collection "
   ]
  },
  {
   "cell_type": "code",
   "execution_count": 6,
   "id": "09c07ab6-4a3f-4865-8cbe-f4cfa67f243d",
   "metadata": {
    "tags": []
   },
   "outputs": [
    {
     "name": "stdout",
     "output_type": "stream",
     "text": [
      "We are travelling to Edinburgh\n",
      "We are travelling to Milan\n",
      "We are travelling to Eindhoven\n",
      "We are travelling to Piraeus\n",
      "We are travelling to Marseille\n",
      "We are travelling to Valletta\n",
      "['Edinburgh', 'Milan', 'Eindhoven', 'Piraeus', 'Marseille', 'Valletta']\n"
     ]
    }
   ],
   "source": [
    "cities: [str] = [\"Edinburgh\", \"Milan\", \"Eindhoven\", \"Piraeus\", \"Marseille\", \"Valletta\"]\n",
    "\n",
    "for city in cities:    # city contains a copy of the element in list we are getting at this iteration, not the element itself\n",
    "    print(\"We are travelling to {0}\".format(city))\n",
    "    if city == \"Milan\":\n",
    "        city = \"Rome\"  # Won´t modify the list\n",
    "        \n",
    "print(cities) # List is not modified"
   ]
  },
  {
   "cell_type": "markdown",
   "id": "a5fcf037-2c80-4f74-9c35-b62b6d8c6964",
   "metadata": {},
   "source": [
    "However, __the list can be modified while we are executing the for loop__"
   ]
  },
  {
   "cell_type": "code",
   "execution_count": 7,
   "id": "54bd7ee8-babb-42e1-9f47-c31927995dd5",
   "metadata": {
    "tags": []
   },
   "outputs": [
    {
     "name": "stdout",
     "output_type": "stream",
     "text": [
      "We are travelling to Edinburgh\n",
      "We are travelling to Milan\n",
      "We are travelling to Eindhoven\n",
      "We are travelling to Piraeus\n",
      "We are travelling to Marseille\n",
      "We are travelling to Valletta\n",
      "We are travelling to Rome\n",
      "['Edinburgh', 'Milan', 'Eindhoven', 'Piraeus', 'Marseille', 'Valletta', 'Rome']\n"
     ]
    }
   ],
   "source": [
    "cities: [str] = [\"Edinburgh\", \"Milan\", \"Eindhoven\", \"Piraeus\", \"Marseille\", \"Valletta\"]\n",
    "\n",
    "for city in cities:    # We can add elements to the list\n",
    "    print(\"We are travelling to {0}\".format(city))\n",
    "    if city == \"Milan\":\n",
    "        cities.append(\"Rome\")  # This element (\"Rome\") will be appended to the end of the list, and the loop for will actually get it\n",
    "        \n",
    "print(cities) # Rome was appended at the end of the list"
   ]
  },
  {
   "cell_type": "markdown",
   "id": "1c364102-95b3-4627-af42-49ad2c24ae5d",
   "metadata": {},
   "source": [
    "However, be mindful of changes. For instance, we can __remove an element__ from the collection. However, _the loop will skip the element that follows the eliminated element_"
   ]
  },
  {
   "cell_type": "code",
   "execution_count": 8,
   "id": "4b36ccae-45a1-47dc-a83d-27ac93105af7",
   "metadata": {
    "tags": []
   },
   "outputs": [
    {
     "name": "stdout",
     "output_type": "stream",
     "text": [
      "We are travelling to Edinburgh\n",
      "We are travelling to Milan\n",
      "We are travelling to Piraeus\n",
      "We are travelling to Marseille\n",
      "We are travelling to Valletta\n",
      "['Edinburgh', 'Eindhoven', 'Piraeus', 'Marseille', 'Valletta']\n"
     ]
    }
   ],
   "source": [
    "cities: [str] = [\"Edinburgh\", \"Milan\", \"Eindhoven\", \"Piraeus\", \"Marseille\", \"Valletta\"]\n",
    "\n",
    "i: int = 0\n",
    "for city in cities:    # We can remove elements to the list\n",
    "    print(\"We are travelling to {0}\".format(city))\n",
    "    if city == \"Milan\":\n",
    "        del cities[i]  # This element will be removed. However, the following element \"Eindhoven\" will be skipped\n",
    "    i += 1\n",
    "print(cities) # Milan was removed from the list"
   ]
  },
  {
   "cell_type": "markdown",
   "id": "aa247432-33bd-4fd9-a8b8-6aab66b1f9c4",
   "metadata": {},
   "source": [
    "We can __modify__ _the elements of the list_ without problems like this:"
   ]
  },
  {
   "cell_type": "code",
   "execution_count": 9,
   "id": "203a29c9-076c-4517-ac98-18bd6034f28f",
   "metadata": {
    "tags": []
   },
   "outputs": [
    {
     "name": "stdout",
     "output_type": "stream",
     "text": [
      "We are travelling to Edinburgh\n",
      "We are travelling to Milan\n",
      "We are travelling to Eindhoven\n",
      "We are travelling to Piraeus\n",
      "We are travelling to Marseille\n",
      "We are travelling to Valletta\n",
      "['Edinburgh', 'Rome', 'Eindhoven', 'Piraeus', 'Marseille', 'Valletta']\n"
     ]
    }
   ],
   "source": [
    "cities: [str] = [\"Edinburgh\", \"Milan\", \"Eindhoven\", \"Piraeus\", \"Marseille\", \"Valletta\"]\n",
    "\n",
    "i: int = 0\n",
    "for city in cities:    # We can modify elements to the list\n",
    "    print(\"We are travelling to {0}\".format(city))\n",
    "    if city == \"Milan\":\n",
    "        cities[i] = \"Rome\" # This element will be updated. Milan will become Rome\n",
    "    i += 1\n",
    "print(cities) # Milan now is Rome"
   ]
  },
  {
   "cell_type": "markdown",
   "id": "30ef0050-a180-4e0f-badb-c55d1da9b9ff",
   "metadata": {},
   "source": [
    "__enumerate__ applied to the _collection_ will return a tuple of element, the __index__ of the element in the collection and the __element__ itself"
   ]
  },
  {
   "cell_type": "code",
   "execution_count": 10,
   "id": "bbbe5c8c-0f3f-4dcd-8c2e-39879da61bde",
   "metadata": {
    "tags": []
   },
   "outputs": [
    {
     "name": "stdout",
     "output_type": "stream",
     "text": [
      "Element index: 0\n",
      "We are travelling to Edinburgh\n",
      "Element index: 1\n",
      "We are travelling to Milan\n",
      "Element index: 2\n",
      "We are travelling to Eindhoven\n",
      "Element index: 3\n",
      "We are travelling to Piraeus\n",
      "Element index: 4\n",
      "We are travelling to Marseille\n",
      "Element index: 5\n",
      "We are travelling to Valletta\n"
     ]
    }
   ],
   "source": [
    "cities: [str] = [\"Edinburgh\", \"Milan\", \"Eindhoven\", \"Piraeus\", \"Marseille\", \"Valletta\"]\n",
    "\n",
    "\n",
    "for i, city in enumerate(cities):    # enumerate will return the index of the element in the collection and the element\n",
    "    print(\"Element index: {0}\".format(i))\n",
    "    print(\"We are travelling to {0}\".format(city))"
   ]
  },
  {
   "cell_type": "markdown",
   "id": "cf6d30aa-2638-4777-97fc-48ee1fb10e74",
   "metadata": {
    "tags": []
   },
   "source": [
    "__break__ as explained before, break will stop the loop and continue execution after it"
   ]
  },
  {
   "cell_type": "code",
   "execution_count": 11,
   "id": "5ea66884-56c9-421e-b36f-79acef69d5ab",
   "metadata": {
    "tags": []
   },
   "outputs": [
    {
     "name": "stdout",
     "output_type": "stream",
     "text": [
      "We are travelling to Edinburgh\n",
      "We are travelling to Milan\n",
      "Milan is the final destination, breaking the loop\n",
      "Back to the main branch\n"
     ]
    }
   ],
   "source": [
    "cities: [str] = [\"Edinburgh\", \"Milan\", \"Eindhoven\", \"Piraeus\", \"Marseille\", \"Valletta\"]\n",
    "\n",
    "\n",
    "for city in cities:\n",
    "    print(\"We are travelling to {0}\".format(city))\n",
    "    if city == \"Milan\":\n",
    "        print(\"Milan is the final destination, breaking the loop\")\n",
    "        break\n",
    "\n",
    "print(\"Back to the main branch\")"
   ]
  },
  {
   "cell_type": "markdown",
   "id": "db88354a-7c43-4fdb-93c1-7f3e3a5e6422",
   "metadata": {},
   "source": [
    "__else__ can be used also with __for__ _loops_. The code in __else__ will be executed if and only if we __have gone through all the elements in the collection__. Therefore, if we use __break__, the code in __else__ won't be executed"
   ]
  },
  {
   "cell_type": "code",
   "execution_count": 12,
   "id": "8d89437e-2ec3-4ece-a96a-68c920128b0f",
   "metadata": {
    "tags": []
   },
   "outputs": [
    {
     "name": "stdout",
     "output_type": "stream",
     "text": [
      "We are travelling to Edinburgh\n",
      "We are travelling to Milan\n",
      "We are travelling to Eindhoven\n",
      "We are travelling to Piraeus\n",
      "We are travelling to Marseille\n",
      "We are travelling to Valletta\n",
      "We have travelled to all the cities\n",
      "Back to the main branch\n"
     ]
    }
   ],
   "source": [
    "cities: [str] = [\"Edinburgh\", \"Milan\", \"Eindhoven\", \"Piraeus\", \"Marseille\", \"Valletta\"]\n",
    "\n",
    "\n",
    "for city in cities:\n",
    "    print(\"We are travelling to {0}\".format(city))\n",
    "    if city == \"Málaga\":\n",
    "        print(\"This won't be executed\")\n",
    "        break\n",
    "else:\n",
    "    print(\"We have travelled to all the cities\")\n",
    "\n",
    "print(\"Back to the main branch\")"
   ]
  },
  {
   "cell_type": "code",
   "execution_count": 13,
   "id": "1a087a47-0c8e-403a-95b5-b65109244510",
   "metadata": {
    "tags": []
   },
   "outputs": [
    {
     "name": "stdout",
     "output_type": "stream",
     "text": [
      "We are travelling to Edinburgh\n",
      "We are travelling to Milan\n",
      "We are travelling to Eindhoven\n",
      "We are travelling to Piraeus\n",
      "This is the last stop\n",
      "Back to the main branch\n"
     ]
    }
   ],
   "source": [
    "cities: [str] = [\"Edinburgh\", \"Milan\", \"Eindhoven\", \"Piraeus\", \"Marseille\", \"Valletta\"]\n",
    "\n",
    "\n",
    "for city in cities:\n",
    "    print(\"We are travelling to {0}\".format(city))\n",
    "    if city == \"Piraeus\":\n",
    "        print(\"This is the last stop\")\n",
    "        break\n",
    "else:\n",
    "    print(\"This won't be executed\")\n",
    "\n",
    "print(\"Back to the main branch\")"
   ]
  },
  {
   "cell_type": "markdown",
   "id": "20909eb1-8cb7-4051-8a2a-bb949f1abcc7",
   "metadata": {},
   "source": [
    "__range__ is a _function_ that returns a collection of numbers like this:\n",
    "- __range__(n): From 0 to n-1"
   ]
  },
  {
   "cell_type": "code",
   "execution_count": 14,
   "id": "36aa3068-ceb6-4bf3-83d9-d0a84de0b993",
   "metadata": {
    "tags": []
   },
   "outputs": [
    {
     "name": "stdout",
     "output_type": "stream",
     "text": [
      "0\n",
      "1\n",
      "2\n",
      "3\n",
      "4\n"
     ]
    }
   ],
   "source": [
    "for i in range(5):\n",
    "    print(i)"
   ]
  },
  {
   "cell_type": "markdown",
   "id": "c7aa2da9-7e65-46ff-9516-2b27b6cf9e67",
   "metadata": {},
   "source": [
    "- __range(n, m)__: From n to m-1:"
   ]
  },
  {
   "cell_type": "code",
   "execution_count": 15,
   "id": "6e5651f8-8d4f-4833-aa3d-d3802d1ceb38",
   "metadata": {
    "tags": []
   },
   "outputs": [
    {
     "name": "stdout",
     "output_type": "stream",
     "text": [
      "3\n",
      "4\n",
      "5\n",
      "6\n"
     ]
    }
   ],
   "source": [
    "for i in range(3, 7): # From 3 and 6\n",
    "    print(i)"
   ]
  },
  {
   "cell_type": "markdown",
   "id": "e3ef1250-e579-44ba-ac45-e0665fd0ce4f",
   "metadata": {},
   "source": [
    "- __range(n, m, step)__: From n to m-1 stepping \"step\" (n, n+step, n+2*step,...) while < m"
   ]
  },
  {
   "cell_type": "code",
   "execution_count": 16,
   "id": "c2b676f8-ecef-42c6-be82-e2926527c915",
   "metadata": {
    "tags": []
   },
   "outputs": [
    {
     "name": "stdout",
     "output_type": "stream",
     "text": [
      "Printing pairs\n",
      "0\n",
      "2\n",
      "4\n",
      "6\n",
      "8\n"
     ]
    }
   ],
   "source": [
    "print(\"Printing pairs\")\n",
    "for i in range(0, 10, 2):\n",
    "    print(i)"
   ]
  },
  {
   "cell_type": "markdown",
   "id": "b5f993de-3124-4bb3-921a-6ae31c0255d2",
   "metadata": {},
   "source": [
    "### Generators/Iterators\n",
    "Piece of specialized code __able to produce a series of values__ and to control the iteration process\n",
    "__range__ is a __generator"
   ]
  },
  {
   "cell_type": "markdown",
   "id": "1241e709-94ed-4c35-90e8-99803cc7a9fb",
   "metadata": {},
   "source": [
    "__Iterator protocol__: It's a way in which an object should behave to conform to the rules imposed by the context of the for and in statements"
   ]
  },
  {
   "cell_type": "markdown",
   "id": "b94f46bf-ec5a-4f96-95f7-646fcc980fc7",
   "metadata": {},
   "source": [
    "In other words, we code how these objects should behave in the _loop_ __for__ (using __in__)"
   ]
  },
  {
   "cell_type": "markdown",
   "id": "bfcf27e0-430b-44cb-930f-bcd69b8fc67f",
   "metadata": {},
   "source": [
    "The __class__ (we will explain this concept later) needs to implement the methods __ __iter__() __ and __ __next__() __\n",
    "- __iter__(): Has to return the object itself (in this case the member __self__ of the class, we will find out more about this later)\n",
    "- __next__(): Has to generate and return the following value in the generator\n",
    "    - When we want to finish the _loop_ we have to __raise__ the exception __StopIteration__ (we will explore exceptions later)\n",
    "\n",
    "The following is an example of a generator that given a number _n_ and a _limit_ will return all the even numbers between _n_ and _limit_"
   ]
  },
  {
   "cell_type": "code",
   "execution_count": 17,
   "id": "0723176d-44e9-4a0e-b65b-98a5e1b359fe",
   "metadata": {
    "tags": []
   },
   "outputs": [
    {
     "name": "stdout",
     "output_type": "stream",
     "text": [
      "6\n",
      "8\n",
      "10\n",
      "12\n",
      "14\n",
      "16\n",
      "18\n",
      "20\n"
     ]
    }
   ],
   "source": [
    "class EvenNumbers:\n",
    "    def __init__(self, n: int, limit: int):\n",
    "        self.n: int = n   # Number from which we will start looking for even numbers\n",
    "        self.limit: int = limit  # Limit of the search\n",
    "        \n",
    "    def __iter__(self): # It has to return the object itself (in this case, the member self of the class)\n",
    "        return self\n",
    "    \n",
    "    def __next__(self): # It has to return the following element in the generator\n",
    "        if self.n < self.limit:\n",
    "            while True: # This is a way to create an infinite loop\n",
    "                if self.n % 2 == 0:\n",
    "                    n_next: int = self.n\n",
    "                    self.n += 1\n",
    "                    return n_next # At some point, return is executed and breaks the loop\n",
    "                else:\n",
    "                    self.n += 1\n",
    "        raise StopIteration(\"Final value\") # Once we don't want to continue the loop (we reach the limit), we raise StopIteration\n",
    "        \n",
    "even_numbers: EvenNumbers = EvenNumbers(6, 20)\n",
    "\n",
    "for number in even_numbers:\n",
    "    print(number)"
   ]
  },
  {
   "cell_type": "markdown",
   "id": "50900acc-7b0b-4654-9ee2-a540971f148a",
   "metadata": {},
   "source": [
    "### List comprehension\n",
    "We can use the _loop_ __for__ to fill a collection in creation\n",
    "\n",
    "- _Simple_: We use the loop __for__ only:"
   ]
  },
  {
   "cell_type": "code",
   "execution_count": 18,
   "id": "b6533a39-6323-4058-91c6-154e7c3b0f75",
   "metadata": {
    "tags": []
   },
   "outputs": [],
   "source": [
    "even_numbers: list = [x for x in range(0, 10, 2)]"
   ]
  },
  {
   "cell_type": "markdown",
   "id": "1d89be51-e93d-4b24-8b25-e6d7c9062b0c",
   "metadata": {},
   "source": [
    "This will add all the elements that are return by the for loop to the list _even_numbers_"
   ]
  },
  {
   "cell_type": "code",
   "execution_count": 19,
   "id": "0f9fbbcb-b9cd-4f98-ab6a-08fb9c299fe5",
   "metadata": {
    "tags": []
   },
   "outputs": [
    {
     "data": {
      "text/plain": [
       "[0, 2, 4, 6, 8]"
      ]
     },
     "execution_count": 19,
     "metadata": {},
     "output_type": "execute_result"
    }
   ],
   "source": [
    "even_numbers"
   ]
  },
  {
   "cell_type": "markdown",
   "id": "9f757959-a6b8-4361-9fd7-b45413f32d13",
   "metadata": {},
   "source": [
    "- __If__ + __for__: We can combine both like this"
   ]
  },
  {
   "cell_type": "code",
   "execution_count": 20,
   "id": "6605cef9-4603-43b7-ac7f-4d3f3be4b1d4",
   "metadata": {
    "tags": []
   },
   "outputs": [],
   "source": [
    "even_numbers: list = [x if x % 2 == 0 else False for x in range(0, 10)]"
   ]
  },
  {
   "cell_type": "markdown",
   "id": "f9a5faec-2319-4266-990c-1223c333ed56",
   "metadata": {},
   "source": [
    "This will return the element returned by the for loop if the condition is met (x % 2 == 0) or False if the condition is not met"
   ]
  },
  {
   "cell_type": "code",
   "execution_count": 21,
   "id": "30006ed3-b5c6-4754-81c9-4c450c875166",
   "metadata": {
    "tags": []
   },
   "outputs": [
    {
     "data": {
      "text/plain": [
       "[0, False, 2, False, 4, False, 6, False, 8, False]"
      ]
     },
     "execution_count": 21,
     "metadata": {},
     "output_type": "execute_result"
    }
   ],
   "source": [
    "even_numbers"
   ]
  },
  {
   "cell_type": "markdown",
   "id": "b5e24fc4-830c-4861-829a-3f5cb4ec7ef2",
   "metadata": {},
   "source": [
    "- __Multidimensional__: We can use it to fill multidimensional collections"
   ]
  },
  {
   "cell_type": "code",
   "execution_count": 22,
   "id": "1dbf399f-9adf-40ef-9c7b-464f140a0eb1",
   "metadata": {
    "tags": []
   },
   "outputs": [],
   "source": [
    "matrix: list = [[i+j if (i+j) % 2 == 0 else -(i+j) for j in range(0, 3)] for i in range(0, 3)]"
   ]
  },
  {
   "cell_type": "code",
   "execution_count": 23,
   "id": "538f062c-0a4e-4428-88be-eb8f29bbfbef",
   "metadata": {
    "tags": []
   },
   "outputs": [
    {
     "data": {
      "text/plain": [
       "[[0, -1, 2], [-1, 2, -3], [2, -3, 4]]"
      ]
     },
     "execution_count": 23,
     "metadata": {},
     "output_type": "execute_result"
    }
   ],
   "source": [
    "matrix"
   ]
  },
  {
   "cell_type": "markdown",
   "id": "060d27c9-ada9-4c10-8f32-6f54f3618cad",
   "metadata": {},
   "source": [
    "This returns a matrix where each element is the sum of its indexes, but the element is negative if it is an odd number"
   ]
  }
 ],
 "metadata": {
  "kernelspec": {
   "display_name": "Python 3 (ipykernel)",
   "language": "python",
   "name": "python3"
  },
  "language_info": {
   "codemirror_mode": {
    "name": "ipython",
    "version": 3
   },
   "file_extension": ".py",
   "mimetype": "text/x-python",
   "name": "python",
   "nbconvert_exporter": "python",
   "pygments_lexer": "ipython3",
   "version": "3.11.3"
  }
 },
 "nbformat": 4,
 "nbformat_minor": 5
}
