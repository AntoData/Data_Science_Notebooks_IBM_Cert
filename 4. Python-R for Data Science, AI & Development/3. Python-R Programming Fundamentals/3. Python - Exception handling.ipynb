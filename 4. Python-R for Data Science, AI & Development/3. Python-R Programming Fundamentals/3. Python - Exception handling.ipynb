{
 "cells": [
  {
   "cell_type": "markdown",
   "id": "122db9fc-f602-40ab-9248-274fb6b98b9e",
   "metadata": {},
   "source": [
    "# Exception handling"
   ]
  },
  {
   "cell_type": "markdown",
   "id": "29cd2f51-18c0-403e-9e43-8573a4c8d915",
   "metadata": {},
   "source": [
    "An __exception__ is an _unexpected error_ that occurrs during _runtime_. So when Pyhon finds one of these situations it cannot cope with:\n",
    "- __Stops__ your program:\n",
    "- Creates a special type of object:\n",
    "\n",
    "Basically, it __raises an exception__\n",
    "\n",
    "_Raised exception_ expects something to take care of it\n",
    "- If _exception is not caught_ -> Our program will be _terminated_ and an error will be sent to our console\n",
    "- But if we _catch the exception_ properly -> Execution can resume\n",
    "\n",
    "In order to catch an exception, we have to surround the piece of code with:\n",
    "\n",
    "<pre>\n",
    "<font color=\"#fc0362\">try:</font>\n",
    "    code that can raise a exception...\n",
    "    ....\n",
    "<font color=\"#df03fc\">except:</font>\n",
    "    code to execute if there is an exception...\n",
    "    ...\n",
    "<pre>"
   ]
  },
  {
   "cell_type": "markdown",
   "id": "b2ff711d-2346-4ccc-b9b5-12721fdc381a",
   "metadata": {},
   "source": [
    "For instance, the following operations will raise an exception"
   ]
  },
  {
   "cell_type": "code",
   "execution_count": 1,
   "id": "27b2b954-2abf-4168-acae-04a2d6e7cdeb",
   "metadata": {
    "tags": []
   },
   "outputs": [
    {
     "ename": "ZeroDivisionError",
     "evalue": "division by zero",
     "output_type": "error",
     "traceback": [
      "\u001b[1;31m---------------------------------------------------------------------------\u001b[0m",
      "\u001b[1;31mZeroDivisionError\u001b[0m                         Traceback (most recent call last)",
      "Cell \u001b[1;32mIn[1], line 1\u001b[0m\n\u001b[1;32m----> 1\u001b[0m a \u001b[38;5;241m=\u001b[39m \u001b[38;5;241m1\u001b[39m \u001b[38;5;241m/\u001b[39m \u001b[38;5;241m0\u001b[39m\n",
      "\u001b[1;31mZeroDivisionError\u001b[0m: division by zero"
     ]
    }
   ],
   "source": [
    "a = 1 / 0"
   ]
  },
  {
   "cell_type": "markdown",
   "id": "86063c16-4123-4e17-bd5d-7a582bf0cd08",
   "metadata": {},
   "source": [
    "__ZeroDivisionError__ is raised because we can't divide a number by 0"
   ]
  },
  {
   "cell_type": "code",
   "execution_count": 2,
   "id": "9c23c20f-83db-4af0-b3d6-56370e1443fd",
   "metadata": {
    "tags": []
   },
   "outputs": [
    {
     "ename": "IndexError",
     "evalue": "list index out of range",
     "output_type": "error",
     "traceback": [
      "\u001b[1;31m---------------------------------------------------------------------------\u001b[0m",
      "\u001b[1;31mIndexError\u001b[0m                                Traceback (most recent call last)",
      "Cell \u001b[1;32mIn[2], line 2\u001b[0m\n\u001b[0;32m      1\u001b[0m a \u001b[38;5;241m=\u001b[39m [\u001b[38;5;241m1\u001b[39m, \u001b[38;5;241m2\u001b[39m, \u001b[38;5;241m3\u001b[39m, \u001b[38;5;241m4\u001b[39m]\n\u001b[1;32m----> 2\u001b[0m a[\u001b[38;5;241m4\u001b[39m]\n",
      "\u001b[1;31mIndexError\u001b[0m: list index out of range"
     ]
    }
   ],
   "source": [
    "a = [1, 2, 3, 4]\n",
    "a[4]"
   ]
  },
  {
   "cell_type": "markdown",
   "id": "1e837321-b97d-4617-9d8f-e92278383908",
   "metadata": {},
   "source": [
    "__IndexError__ is raised because in our array besides being length = 4, indexes only get to 3, index 4 does not exist"
   ]
  },
  {
   "cell_type": "markdown",
   "id": "25c66213-64ba-438d-9a2b-c9083c1a97ba",
   "metadata": {},
   "source": [
    "We can apply __exception handling__ to these snippets of code to control the execution:"
   ]
  },
  {
   "cell_type": "code",
   "execution_count": 3,
   "id": "fdd1d002-118c-4597-b3b1-c58263e8105f",
   "metadata": {
    "tags": []
   },
   "outputs": [
    {
     "name": "stdout",
     "output_type": "stream",
     "text": [
      "It seems like we were trying to divide by 0, but that is not possible\n"
     ]
    }
   ],
   "source": [
    "try:\n",
    "    a = 1 / 0\n",
    "except:\n",
    "    print(\"It seems like we were trying to divide by 0, but that is not possible\")"
   ]
  },
  {
   "cell_type": "code",
   "execution_count": 4,
   "id": "b75292ca-ecfc-457a-a2ad-b8c35b4c6d07",
   "metadata": {
    "tags": []
   },
   "outputs": [
    {
     "name": "stdout",
     "output_type": "stream",
     "text": [
      "It looks like our array is shorter than excepted\n"
     ]
    }
   ],
   "source": [
    "a = [1, 2, 3, 4]\n",
    "try:\n",
    "    a[4]\n",
    "except:\n",
    "    print(\"It looks like our array is shorter than excepted\")"
   ]
  },
  {
   "cell_type": "markdown",
   "id": "b1a874a8-7ce9-45a6-8c42-e937b14471dc",
   "metadata": {},
   "source": [
    "__Exceptions are organised in a tree-shaped hierarchy__: \n",
    "\n",
    "Some exceptions are parents of other more specific exceptions.\n",
    "For instance: __ArithmeticError__ is the parent exception of __ZeroDivisionError__\n",
    "We can use __ArithmeticError__ for cases in which we are trying to divide by 0 too (but it gives us less information as other errors will be caught by this exception"
   ]
  },
  {
   "cell_type": "markdown",
   "id": "0d1ef83e-e79c-4afe-8991-a953ade0d977",
   "metadata": {},
   "source": [
    "- __Catching specific exceptions__:\n",
    "\n",
    "The above examples use only the keyword __except__ which will catch any exceptions that is raised. However, this is discouraged by __PEP8__ (Python's code style guide)\n",
    "To catch specific exceptions we have to use the following syntax:\n",
    "\n",
    "<pre>\n",
    "<font color=\"#fc0362\">try:</font>\n",
    "    code that can raise a exception...\n",
    "    ....\n",
    "<font color=\"#df03fc\">except</font> ExceptionClass:\n",
    "    code to execute if there is an exception...\n",
    "    ...\n",
    "<pre>"
   ]
  },
  {
   "cell_type": "markdown",
   "id": "9c819889-756f-47ed-b734-48208837abf6",
   "metadata": {},
   "source": [
    "In all these cases, we will only catch the exception that has been declared. If any other exception is raised, it will stop the execution:"
   ]
  },
  {
   "cell_type": "code",
   "execution_count": 5,
   "id": "0fc8cb46-a9d6-42e8-ad60-28ec632b6cd6",
   "metadata": {
    "tags": []
   },
   "outputs": [
    {
     "name": "stdout",
     "output_type": "stream",
     "text": [
      "We were trying to divide by 0\n"
     ]
    }
   ],
   "source": [
    "try:\n",
    "    a = 1 / 0\n",
    "except ZeroDivisionError:\n",
    "    print(\"We were trying to divide by 0\")"
   ]
  },
  {
   "cell_type": "markdown",
   "id": "a1ae28c4-0b7b-405b-a573-21773b13f16a",
   "metadata": {},
   "source": [
    "Here the exception raised was ZeroDivisionError so the exception was caught and we could continue execution"
   ]
  },
  {
   "cell_type": "code",
   "execution_count": 6,
   "id": "c6060ae2-14e2-46d0-ade9-695d798cb974",
   "metadata": {
    "tags": []
   },
   "outputs": [
    {
     "ename": "IndexError",
     "evalue": "list index out of range",
     "output_type": "error",
     "traceback": [
      "\u001b[1;31m---------------------------------------------------------------------------\u001b[0m",
      "\u001b[1;31mIndexError\u001b[0m                                Traceback (most recent call last)",
      "Cell \u001b[1;32mIn[6], line 4\u001b[0m\n\u001b[0;32m      1\u001b[0m a \u001b[38;5;241m=\u001b[39m [\u001b[38;5;241m1\u001b[39m, \u001b[38;5;241m2\u001b[39m, \u001b[38;5;241m3\u001b[39m, \u001b[38;5;241m4\u001b[39m]\n\u001b[0;32m      3\u001b[0m \u001b[38;5;28;01mtry\u001b[39;00m:\n\u001b[1;32m----> 4\u001b[0m     a[\u001b[38;5;241m4\u001b[39m]\n\u001b[0;32m      5\u001b[0m \u001b[38;5;28;01mexcept\u001b[39;00m \u001b[38;5;167;01mZeroDivisionError\u001b[39;00m:\n\u001b[0;32m      6\u001b[0m     \u001b[38;5;28mprint\u001b[39m(\u001b[38;5;124m\"\u001b[39m\u001b[38;5;124mException was caught\u001b[39m\u001b[38;5;124m\"\u001b[39m)\n",
      "\u001b[1;31mIndexError\u001b[0m: list index out of range"
     ]
    }
   ],
   "source": [
    "a = [1, 2, 3, 4]\n",
    "\n",
    "try:\n",
    "    a[4]\n",
    "except ZeroDivisionError:\n",
    "    print(\"Exception was caught\")"
   ]
  },
  {
   "cell_type": "markdown",
   "id": "139c05e6-9b39-4de9-8201-b11676ed721b",
   "metadata": {},
   "source": [
    "However, in the example above, the exception we wanted to catch was again ZeroDivisionError but the one raised was IndexError. So the exception was raised and stopped execution"
   ]
  },
  {
   "cell_type": "markdown",
   "id": "18d1989c-c0b6-498e-8b91-b14dbe851d39",
   "metadata": {},
   "source": [
    "If we want to __combine the general exception handling with specific exception handling__ we have to do it in the following order:\n",
    "1. __Specific__ exception handling: All the branches for the different particular exceptions we want to catch have to go first. Actually Python will start trying to catch the exception __from the one in the top to the one in the bottom__"
   ]
  },
  {
   "cell_type": "code",
   "execution_count": 7,
   "id": "33a1e336-629b-4f69-9ad2-62d4cbc78b74",
   "metadata": {
    "tags": []
   },
   "outputs": [
    {
     "name": "stdout",
     "output_type": "stream",
     "text": [
      "This will always be displayed\n"
     ]
    }
   ],
   "source": [
    "try:\n",
    "    a = 1 / 0\n",
    "except ArithmeticError:\n",
    "    print(\"This will always be displayed\")\n",
    "except ZeroDivisionError:\n",
    "    print(\"We will never get to this point\")"
   ]
  },
  {
   "cell_type": "markdown",
   "id": "ddae82c4-bd7e-4541-b27f-9fc19ba9442f",
   "metadata": {},
   "source": [
    "As explained before, __ArithmeticError__ is a parent exception (therefore more generic exception) to ZeroDivisionError. As it is the first branch after the try branch, this is the one where the exception is caught."
   ]
  },
  {
   "cell_type": "markdown",
   "id": "6c41e27c-6ff8-4db9-8afa-2fbe69933beb",
   "metadata": {},
   "source": [
    "2. __General__ exception handling: It has to be __the last exception clause__.\n",
    "\n",
    "It will be only executed if the exception raised was not any of the specific ones that we declared.\n",
    "\n",
    "We can use the clause __except Exception__ also as a generic one"
   ]
  },
  {
   "cell_type": "code",
   "execution_count": 8,
   "id": "5834d15e-a9c4-4d2a-afd0-bd93a9a4ba2e",
   "metadata": {
    "tags": []
   },
   "outputs": [
    {
     "name": "stdout",
     "output_type": "stream",
     "text": [
      "We tried to divide by 0 -> This is the one we are catching\n"
     ]
    }
   ],
   "source": [
    "try:\n",
    "    a = 1 / 0\n",
    "except IndexError:\n",
    "    print(\"We are trying to catch the error raised after trying to use an index that does not exist in the array\")\n",
    "except ZeroDivisionError:\n",
    "    print(\"We tried to divide by 0 -> This is the one we are catching\")\n",
    "except:\n",
    "    print(\"Generic exception -> Never displaying this\")"
   ]
  },
  {
   "cell_type": "markdown",
   "id": "de0aaf32-d0db-4214-8e7f-1f8dfa6baeaa",
   "metadata": {},
   "source": [
    "In this example the second branch caught the exception"
   ]
  },
  {
   "cell_type": "code",
   "execution_count": 9,
   "id": "dc9f129e-4b33-4e88-bb05-f952d83616ee",
   "metadata": {
    "tags": []
   },
   "outputs": [
    {
     "name": "stdout",
     "output_type": "stream",
     "text": [
      "This was not any of the exceptions above -> This will always be displayed\n"
     ]
    }
   ],
   "source": [
    "try:\n",
    "    a = chr(10**9)\n",
    "except ZeroDivisionError:\n",
    "    print(\"We will never get to this point\")\n",
    "except ArithmeticError:\n",
    "    print(\"This will never be displayed\")\n",
    "except:\n",
    "    print(\"This was not any of the exceptions above -> This will always be displayed\")"
   ]
  },
  {
   "cell_type": "markdown",
   "id": "2d224300-7b97-4223-a617-26cfc0d6e71d",
   "metadata": {},
   "source": [
    "- __Getting the exception object__:\n",
    "\n",
    "To get the __exception__ raised __as an object__ we only have to add _as var_ (usually _as e_) at the end of the exception clause\n",
    "\n",
    "<pre>\n",
    "<font color=\"#fc0362\">try:</font>\n",
    "    code that can raise a exception...\n",
    "    ....\n",
    "<font color=\"#3383FF\">except ExceptionClass </font><font color=\"#FF7D33\">as e:</font>\n",
    "    code to execute if this exception is caught...\n",
    "    ...\n",
    "<font color=\"#df03fc\">except Exception </font><font color=\"#FF7D33\">as e:</font>\n",
    "    code to execute if there is an exception that is not one of the ones above...\n",
    "    ...\n",
    "<pre>\n",
    "\n"
   ]
  },
  {
   "cell_type": "markdown",
   "id": "9de105af-e89c-449a-bc98-42f1648ce7c5",
   "metadata": {},
   "source": [
    "The object __e__ will be of the type of the exception so _we can access the arguments/method of the class_"
   ]
  },
  {
   "cell_type": "code",
   "execution_count": 10,
   "id": "c9ad0b96-a523-452e-a8df-4317b39f1d65",
   "metadata": {
    "tags": []
   },
   "outputs": [
    {
     "name": "stdout",
     "output_type": "stream",
     "text": [
      "Exception args: ('division by zero',)\n",
      "This will always be displayed\n"
     ]
    }
   ],
   "source": [
    "try:\n",
    "    a = 1 / 0\n",
    "except ZeroDivisionError as e:\n",
    "    print(\"Exception args: {0}\".format(e.args))\n",
    "    print(\"This will always be displayed\")\n",
    "except ArithmeticError as e:\n",
    "    print(\"We will never get to this point\")\n",
    "except Exception as e:\n",
    "    print(\"This was not any of the exceptions above -> This will always be displayed\")"
   ]
  },
  {
   "cell_type": "markdown",
   "id": "56e4b05a-1db6-4a5e-95f4-8c3068a96802",
   "metadata": {},
   "source": [
    "- __else__:\n",
    "\n",
    "__else__ branch will be executed if no exception was raised.\n",
    "__else__ has to be placed after the last exception clause"
   ]
  },
  {
   "cell_type": "code",
   "execution_count": 11,
   "id": "b7b961e5-c2b0-4aad-a65d-aa6db48549f1",
   "metadata": {
    "tags": []
   },
   "outputs": [
    {
     "name": "stdout",
     "output_type": "stream",
     "text": [
      "Result: upper case\n",
      "No exception was raised -> This will always be displayed\n"
     ]
    }
   ],
   "source": [
    "upper_case: str = \"UPPER CASE\"\n",
    "\n",
    "try:\n",
    "    lower_case: str = upper_case.lower()\n",
    "except ZeroDivisionError as e:\n",
    "    print(\"ZeroDivisionError\")\n",
    "except ArithmeticError as e:\n",
    "    print(\"ArithmeticError\")\n",
    "except Exception as e:\n",
    "    print(\"General exception\")\n",
    "else:\n",
    "    print(\"Result: {0}\".format(lower_case))\n",
    "    print(\"No exception was raised -> This will always be displayed\")"
   ]
  },
  {
   "cell_type": "markdown",
   "id": "9e55acf4-5af3-49a0-af31-b62ba53916ee",
   "metadata": {},
   "source": [
    "- __finally__:\n",
    "\n",
    "__finally__ will always be executed no matter if an exception was raised or not\n",
    "\n",
    "__finally__ has to be placed at the very end of the exception branch"
   ]
  },
  {
   "cell_type": "code",
   "execution_count": 12,
   "id": "df0bc2e7-0770-4497-9c94-21ad283dd9b5",
   "metadata": {
    "tags": []
   },
   "outputs": [
    {
     "name": "stdout",
     "output_type": "stream",
     "text": [
      "Result: upper case\n",
      "No exception was raised\n",
      "Finally, we are finishing all this\n"
     ]
    }
   ],
   "source": [
    "upper_case: str = \"UPPER CASE\"\n",
    "\n",
    "try:\n",
    "    lower_case: str = upper_case.lower()\n",
    "except ZeroDivisionError as e:\n",
    "    print(\"ZeroDivisionError\")\n",
    "except ArithmeticError as e:\n",
    "    print(\"ArithmeticError\")\n",
    "except Exception as e:\n",
    "    print(\"General exception\")\n",
    "else:\n",
    "    print(\"Result: {0}\".format(lower_case))\n",
    "    print(\"No exception was raised\")\n",
    "finally:\n",
    "    print(\"Finally, we are finishing all this\")"
   ]
  },
  {
   "cell_type": "code",
   "execution_count": 13,
   "id": "d18b5865-51fd-426d-a9a9-c5da7615cb20",
   "metadata": {
    "tags": []
   },
   "outputs": [
    {
     "name": "stdout",
     "output_type": "stream",
     "text": [
      "ZeroDivisionError\n",
      "Finally, we are finishing all this\n"
     ]
    }
   ],
   "source": [
    "try:\n",
    "    a = 1 / 0\n",
    "except ZeroDivisionError as e:\n",
    "    print(\"ZeroDivisionError\")\n",
    "except ArithmeticError as e:\n",
    "    print(\"ArithmeticError\")\n",
    "except Exception as e:\n",
    "    print(\"General exception\")\n",
    "else:\n",
    "    print(\"Result: {0}\".format(a))\n",
    "    print(\"No exception was raised\")\n",
    "finally:\n",
    "    print(\"Finally, we are finishing all this\")"
   ]
  },
  {
   "cell_type": "markdown",
   "id": "6485ede7-94ac-43f2-aeb4-4c2495ccefc7",
   "metadata": {},
   "source": [
    "### Chained exceptions\n",
    "\n",
    "This happens when __while trying to handle an exception, we raised an exception__. This might happen because of two reasons:\n",
    "\n",
    "- We raised another exception in the branch -> __Implicitly__ raised exceptions -> __content__\n",
    "- We wanted to turn that exception into another type of exception -> __Explicitly__ raised exceptions -> __cause__\n",
    "\n",
    "These two parameters described above are:\n",
    "\n",
    "- e.__ context __ : Returns the __original__ exception raised -> __Implicitly__ raised exceptions\n",
    "- e.__ cause __ : Returns the message of the __original__ exception raise before it was turned into another one -> __Explicitly__ raised exceptions"
   ]
  },
  {
   "cell_type": "markdown",
   "id": "ef0f0e7f-50f0-400f-8cde-24244ed5c036",
   "metadata": {},
   "source": [
    "- __Implicitly__ chained exceptions:\n",
    "\n",
    "We raised an exception while handling another different exception:"
   ]
  },
  {
   "cell_type": "code",
   "execution_count": 14,
   "id": "e0f30415-da27-4166-b774-e44a3626b76d",
   "metadata": {
    "tags": []
   },
   "outputs": [
    {
     "name": "stdout",
     "output_type": "stream",
     "text": [
      "ZeroDivisionError was raised\n",
      "IndexError was raised\n"
     ]
    }
   ],
   "source": [
    "arr = [1, 2, 3, 4]\n",
    "\n",
    "try:\n",
    "    a = 1 / 0\n",
    "except ZeroDivisionError:\n",
    "    try:\n",
    "        print(\"ZeroDivisionError was raised\")\n",
    "        print(arr[4])\n",
    "    except IndexError:\n",
    "        print(\"IndexError was raised\")"
   ]
  },
  {
   "cell_type": "markdown",
   "id": "6634dc84-87a0-4fe3-b476-a9e5f4a3828e",
   "metadata": {},
   "source": [
    "Adding __context__ to the tree branch, we can see that context return the original exception"
   ]
  },
  {
   "cell_type": "code",
   "execution_count": 15,
   "id": "3bc9fd0b-2cb1-4ad3-917b-d1f2c30c3b47",
   "metadata": {
    "tags": []
   },
   "outputs": [
    {
     "name": "stdout",
     "output_type": "stream",
     "text": [
      "ZeroDivisionError was raised\n",
      "division by zero\n",
      "IndexError was raised\n"
     ]
    }
   ],
   "source": [
    "arr = [1, 2, 3, 4]\n",
    "\n",
    "try:\n",
    "    a = 1 / 0\n",
    "except ZeroDivisionError as e:\n",
    "    try:\n",
    "        print(\"ZeroDivisionError was raised\")\n",
    "        print(arr[4])\n",
    "    except IndexError as f:\n",
    "        print(f.__context__)\n",
    "        print(\"IndexError was raised\")"
   ]
  },
  {
   "cell_type": "markdown",
   "id": "416a4366-1576-47b3-b57b-a8979f520a44",
   "metadata": {},
   "source": [
    "- __Explicitly__ chained exceptions:\n",
    "\n",
    "We try to convert an exception of a certain type to another type of exception"
   ]
  },
  {
   "cell_type": "code",
   "execution_count": 16,
   "id": "8bb05a0a-b167-4e1d-8137-7f014377c2ab",
   "metadata": {
    "tags": []
   },
   "outputs": [
    {
     "name": "stdout",
     "output_type": "stream",
     "text": [
      "ZeroDivisionError was raised\n"
     ]
    },
    {
     "ename": "ArithmeticError",
     "evalue": "",
     "output_type": "error",
     "traceback": [
      "\u001b[1;31m---------------------------------------------------------------------------\u001b[0m",
      "\u001b[1;31mZeroDivisionError\u001b[0m                         Traceback (most recent call last)",
      "Cell \u001b[1;32mIn[16], line 2\u001b[0m\n\u001b[0;32m      1\u001b[0m \u001b[38;5;28;01mtry\u001b[39;00m:\n\u001b[1;32m----> 2\u001b[0m     a \u001b[38;5;241m=\u001b[39m \u001b[38;5;241m1\u001b[39m \u001b[38;5;241m/\u001b[39m \u001b[38;5;241m0\u001b[39m\n\u001b[0;32m      3\u001b[0m \u001b[38;5;28;01mexcept\u001b[39;00m \u001b[38;5;167;01mZeroDivisionError\u001b[39;00m \u001b[38;5;28;01mas\u001b[39;00m e:\n",
      "\u001b[1;31mZeroDivisionError\u001b[0m: division by zero",
      "\nThe above exception was the direct cause of the following exception:\n",
      "\u001b[1;31mArithmeticError\u001b[0m                           Traceback (most recent call last)",
      "Cell \u001b[1;32mIn[16], line 5\u001b[0m\n\u001b[0;32m      3\u001b[0m \u001b[38;5;28;01mexcept\u001b[39;00m \u001b[38;5;167;01mZeroDivisionError\u001b[39;00m \u001b[38;5;28;01mas\u001b[39;00m e:\n\u001b[0;32m      4\u001b[0m     \u001b[38;5;28mprint\u001b[39m(\u001b[38;5;124m\"\u001b[39m\u001b[38;5;124mZeroDivisionError was raised\u001b[39m\u001b[38;5;124m\"\u001b[39m)\n\u001b[1;32m----> 5\u001b[0m     \u001b[38;5;28;01mraise\u001b[39;00m \u001b[38;5;167;01mArithmeticError\u001b[39;00m \u001b[38;5;28;01mfrom\u001b[39;00m \u001b[38;5;21;01me\u001b[39;00m\n",
      "\u001b[1;31mArithmeticError\u001b[0m: "
     ]
    }
   ],
   "source": [
    "try:\n",
    "    a = 1 / 0\n",
    "except ZeroDivisionError as e:\n",
    "    print(\"ZeroDivisionError was raised\")\n",
    "    raise ArithmeticError from e"
   ]
  },
  {
   "cell_type": "code",
   "execution_count": 22,
   "id": "600440a5-1f31-458e-938e-d79e83f41e21",
   "metadata": {},
   "outputs": [
    {
     "name": "stdout",
     "output_type": "stream",
     "text": [
      "float division by zero\n"
     ]
    }
   ],
   "source": [
    "import math\n",
    "\n",
    "def div_pi_by(n: int):\n",
    "    try:\n",
    "        result = math.pi / n\n",
    "    except ZeroDivisionError as e:\n",
    "        raise ArithmeticError from e\n",
    "    return result    \n",
    "try:\n",
    "    result: float = div_pi_by(0)\n",
    "except ArithmeticError as f:\n",
    "    print(f.__cause__) #  Exception returned by context was the original one"
   ]
  },
  {
   "cell_type": "markdown",
   "id": "a52f2182-85d4-439b-93a0-5752d8b32d0a",
   "metadata": {},
   "source": [
    "As we can see in the example above using __context__ we can get _the original exception that was raised_"
   ]
  },
  {
   "cell_type": "markdown",
   "id": "9de9a93f-0105-47b2-95a5-51e6b1711723",
   "metadata": {},
   "source": [
    "### Traceback"
   ]
  },
  {
   "cell_type": "markdown",
   "id": "e7454912-10dc-4ca9-8b00-023d56d93d61",
   "metadata": {},
   "source": [
    "__traceback__ is a library that _helps you manage the traceback of your exceptions properly_\n",
    "\n",
    "When we save an exception as a variable that variable has an attribute called __ traceback __"
   ]
  },
  {
   "cell_type": "code",
   "execution_count": 18,
   "id": "ce70120a-eaf7-4406-889e-16ad5ede1fd2",
   "metadata": {
    "tags": []
   },
   "outputs": [
    {
     "name": "stdout",
     "output_type": "stream",
     "text": [
      "<traceback object at 0x0000028E7ED24F80>\n"
     ]
    }
   ],
   "source": [
    "try:\n",
    "    result: float = 1 / 0\n",
    "except ZeroDivisionError as e:\n",
    "    print(e.__traceback__)"
   ]
  },
  {
   "cell_type": "markdown",
   "id": "4efc6a27-4ff4-4b30-9d95-c1c8de35caac",
   "metadata": {},
   "source": [
    "To make use of that object, the library __traceback__ contains a number of methods:\n",
    "\n",
    "- __format_tb__: Saves the traceback to a list/array of string where each line is an element of the collection"
   ]
  },
  {
   "cell_type": "code",
   "execution_count": 19,
   "id": "f9b6f503-942f-47fe-a256-cd20caecf4d0",
   "metadata": {
    "tags": []
   },
   "outputs": [
    {
     "name": "stdout",
     "output_type": "stream",
     "text": [
      "  File \"C:\\Users\\ingov\\AppData\\Local\\Temp\\ipykernel_13948\\1316270266.py\", line 4, in <module>\n",
      "    result: float = 1 / 0\n",
      "                    ~~^~~\n",
      "\n"
     ]
    }
   ],
   "source": [
    "import traceback\n",
    "\n",
    "try:\n",
    "    result: float = 1 / 0\n",
    "except ZeroDivisionError as e:\n",
    "    trace_list: [str] = traceback.format_tb(e.__traceback__)\n",
    "    print(trace_list[0])"
   ]
  },
  {
   "cell_type": "markdown",
   "id": "5424af8d-6cea-4b20-aaf7-69c75a87eaae",
   "metadata": {},
   "source": [
    "- __print_tb__: It prints formatted traceback"
   ]
  },
  {
   "cell_type": "code",
   "execution_count": 20,
   "id": "a3c5da42-f2cf-4692-abf7-1ed1407ab9f8",
   "metadata": {
    "tags": []
   },
   "outputs": [
    {
     "name": "stderr",
     "output_type": "stream",
     "text": [
      "  File \"C:\\Users\\ingov\\AppData\\Local\\Temp\\ipykernel_13948\\1417289724.py\", line 4, in <module>\n",
      "    result: float = 1 / 0\n",
      "                    ~~^~~\n"
     ]
    }
   ],
   "source": [
    "import traceback\n",
    "\n",
    "try:\n",
    "    result: float = 1 / 0\n",
    "except ZeroDivisionError as e:\n",
    "    traceback.print_tb(e.__traceback__)"
   ]
  },
  {
   "cell_type": "code",
   "execution_count": null,
   "id": "299bc179-c36e-48d4-81f3-a3aa1f75ff87",
   "metadata": {},
   "outputs": [],
   "source": []
  }
 ],
 "metadata": {
  "kernelspec": {
   "display_name": "Python 3 (ipykernel)",
   "language": "python",
   "name": "python3"
  },
  "language_info": {
   "codemirror_mode": {
    "name": "ipython",
    "version": 3
   },
   "file_extension": ".py",
   "mimetype": "text/x-python",
   "name": "python",
   "nbconvert_exporter": "python",
   "pygments_lexer": "ipython3",
   "version": "3.11.3"
  }
 },
 "nbformat": 4,
 "nbformat_minor": 5
}
