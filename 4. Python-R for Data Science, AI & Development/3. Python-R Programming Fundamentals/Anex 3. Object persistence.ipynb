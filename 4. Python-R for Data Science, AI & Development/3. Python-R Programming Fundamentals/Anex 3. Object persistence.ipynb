{
 "cells": [
  {
   "cell_type": "markdown",
   "id": "85412fd3-e65d-44e7-add0-5c8c2e3a614c",
   "metadata": {},
   "source": [
    "### Object Persistence\n",
    "When we create a variable whether it is a __primitive__ type or an __object__, the variable is actually a _pointer to a memory address where the value of the variable is store_\n",
    "The process is:\n",
    "\n",
    "1. Object is created in memory\n",
    "2. Object is populated (with values, other objects...)\n",
    "3. The label is created and this label refers to an address in the computers memory"
   ]
  },
  {
   "cell_type": "markdown",
   "id": "d46cf3a9-5e44-4da1-aa3b-1371feb24086",
   "metadata": {},
   "source": [
    "- id() -> Returns an integer that identifies uniquely that variable during its lifespan (however, non-overlapping variables might have the same id)\n",
    "\n",
    "__NOTE__: In Python C this returns the memory address of the variable"
   ]
  },
  {
   "cell_type": "code",
   "execution_count": 1,
   "id": "eac92291-b473-45b4-acc0-85df3b97ecf2",
   "metadata": {
    "tags": []
   },
   "outputs": [
    {
     "data": {
      "text/plain": [
       "1710878402800"
      ]
     },
     "execution_count": 1,
     "metadata": {},
     "output_type": "execute_result"
    }
   ],
   "source": [
    "string_var: str = \"Hello\"\n",
    "id(string_var)"
   ]
  },
  {
   "cell_type": "code",
   "execution_count": 2,
   "id": "1ff511a8-c641-4be1-a474-440874451f86",
   "metadata": {
    "tags": []
   },
   "outputs": [
    {
     "data": {
      "text/plain": [
       "140721034728200"
      ]
     },
     "execution_count": 2,
     "metadata": {},
     "output_type": "execute_result"
    }
   ],
   "source": [
    "int_var: int = 0\n",
    "id(int_var)"
   ]
  },
  {
   "cell_type": "code",
   "execution_count": 6,
   "id": "7e2bb4ed-d59e-4b4d-895c-6f2a3d5df393",
   "metadata": {
    "tags": []
   },
   "outputs": [],
   "source": [
    "import datetime\n",
    "import random\n",
    "\n",
    "class Patient:\n",
    "    \"\"\"\n",
    "    Represents a patient of a health clinic. It contains the attributes\n",
    "\n",
    "    p_id: Random and unique identification number\n",
    "    :type p_id: int\n",
    "    :param name: Patient's name\n",
    "    :type name: str\n",
    "    :param surname: Patient's surname\n",
    "    :type surname: str\n",
    "    :param height: Patient's height in metres\n",
    "    :type height: float\n",
    "    :param weight: Patient's weight in kgs\n",
    "    :type weight: float\n",
    "    :param birthdate: Patient's birthdate\n",
    "    :type birthdate: datetime\n",
    "    \"\"\"\n",
    "\n",
    "    instances: int = 0\n",
    "    \"\"\"\n",
    "    Class attribute that will count how many instances/objects of \n",
    "    this class have been created\n",
    "    \"\"\"\n",
    "\n",
    "    def __init__(self, name: str, surname: str, height: float,\n",
    "                 weight: float, birthdate: datetime.datetime):\n",
    "        \"\"\"\n",
    "        Constructor of the class, receives the following input\n",
    "        parameters that will initialize a number of attributes of\n",
    "        this class. Observe that attributes are declared like this:\n",
    "        self.attribute_name = .... inside the constructor\n",
    "\n",
    "        :param name: Patient's name\n",
    "        :type name: str\n",
    "        :param surname: Patient's surname\n",
    "        :type surname: str\n",
    "        :param height: Patient's height in metres\n",
    "        :type height: float\n",
    "        :param weight: Patient's weight in kgs\n",
    "        :type weight: float\n",
    "        :param birthdate: Patient's birthdate\n",
    "        :type birthdate: datetime\n",
    "        \"\"\"\n",
    "\n",
    "        self.p_id: int = random.randint(0, 10 ** 6)  # See how this was\n",
    "        # not an input parameter of the constructor but it is\n",
    "        # nonetheless an attribute of the class\n",
    "        self.name: str = name\n",
    "        self.surname: str = surname\n",
    "        self.height: float = height\n",
    "        self.weight: float = weight\n",
    "        self.birthdate: datetime.datetime = birthdate\n",
    "        # Constructors don't return anything, never have a clause return\n",
    "        Patient.instances += 1\n",
    "        # As you can see inside an instance member, we need to use the\n",
    "        # name of the class to refer to the attribute\n",
    "\n",
    "    def get_body_surface_area(self) -> float:\n",
    "        \"\"\"\n",
    "        Return the measurement known as body surface area\n",
    "        \n",
    "        :return: Body surface area\n",
    "        :rtype: float\n",
    "        \"\"\"\n",
    "        # Self is passed as a parameter, so we have access to the\n",
    "        # members of the class (attributes and other methods)\n",
    "        body_surface_area: float = 1 / 6 * (self.weight * self.height) * 0.5\n",
    "        # We get the attributes of this instance using the word self\n",
    "        return body_surface_area\n",
    "\n",
    "    def get_patient_age_in_date(self, comp_date: datetime.datetime) -> int:\n",
    "        \"\"\"\n",
    "        Returns how many years old the patient was or will be in a\n",
    "        certain date (past or present)\n",
    "\n",
    "        :param comp_date: Date we will compare to our patient's\n",
    "        birthdate to see how old he was at that time\n",
    "        :type comp_date: datetime.datetime\n",
    "        :return: Difference between comp_date and birthdate in years\n",
    "        :rtype: int\n",
    "        \"\"\"\n",
    "\n",
    "        # Methods can receive other input parameters besides self\n",
    "        # And of course we can use them in the scope of the method\n",
    "        difference: datetime.timedelta = comp_date - self.birthdate\n",
    "        return difference.days // 365\n",
    "\n",
    "    def get_patient_age(self):\n",
    "        \"\"\"\n",
    "        Returns how old years old our patient is\n",
    "\n",
    "        :return: Difference between current instant and birthdate\n",
    "        in years\n",
    "        :rtype: int\n",
    "        \"\"\"\n",
    "\n",
    "        current_instant: datetime = datetime.datetime.now()\n",
    "        # We can also call to other methods using self\n",
    "        return self.get_patient_age_in_date(current_instant)"
   ]
  },
  {
   "cell_type": "code",
   "execution_count": 8,
   "id": "a537ff1e-dc76-4a67-8dfb-eec339da444f",
   "metadata": {
    "tags": []
   },
   "outputs": [
    {
     "data": {
      "text/plain": [
       "1710895857040"
      ]
     },
     "execution_count": 8,
     "metadata": {},
     "output_type": "execute_result"
    }
   ],
   "source": [
    "patient: Patient = Patient(\"James\", \"OHara\", 1.81, 83,\n",
    "                            datetime.datetime(year=1988, month=5, day=10))\n",
    "id(patient)"
   ]
  },
  {
   "cell_type": "markdown",
   "id": "6a7ff011-990a-4843-b04c-9ce9ec03c6c5",
   "metadata": {},
   "source": [
    "### == vs is\n",
    "\n",
    "They are different operators that are used for different things:\n",
    "\n",
    "- ==: Returns True is both object have the same attributes and those attributes have the same values\n",
    "- is: Compares if both labels refer to the same object (return the same id). If both objects point to the same memory address"
   ]
  },
  {
   "cell_type": "markdown",
   "id": "d024a286-e6f9-4aaf-9405-e703d43d7529",
   "metadata": {
    "tags": []
   },
   "source": [
    "Example 1: Both are different objects of type String with the same attributes:\n",
    "\n",
    "- ==: True\n",
    "- is: False"
   ]
  },
  {
   "cell_type": "code",
   "execution_count": 11,
   "id": "bdfd078b-438f-459c-bbf8-09de8bda9ad5",
   "metadata": {
    "tags": []
   },
   "outputs": [
    {
     "name": "stdout",
     "output_type": "stream",
     "text": [
      "string1 == string2: True\n",
      "string1 is string2: False\n"
     ]
    }
   ],
   "source": [
    "string1: str = \"Hello World\"\n",
    "string2: str = \"Hello World\"\n",
    "\n",
    "print(\"string1 == string2: {0}\".format(string1 == string2))\n",
    "print(\"string1 is string2: {0}\".format(string1 is string2))"
   ]
  },
  {
   "cell_type": "markdown",
   "id": "2b4efda5-c33f-4e1e-8d38-c84ccde64d7f",
   "metadata": {
    "tags": []
   },
   "source": [
    "Example2: Both objects point to the same memory address"
   ]
  },
  {
   "cell_type": "code",
   "execution_count": 13,
   "id": "40577829-5e46-429a-bf54-84d5d5184c8d",
   "metadata": {
    "tags": []
   },
   "outputs": [
    {
     "name": "stdout",
     "output_type": "stream",
     "text": [
      "patient1 == patient2: True\n",
      "patient1 is patient2: True\n"
     ]
    }
   ],
   "source": [
    "patient1: Patient = Patient(\"James\", \"OHara\", 1.81, 83,\n",
    "                            datetime.datetime(year=1988, month=5, day=10))\n",
    "patient2: Patient = patient1\n",
    "\n",
    "print(\"patient1 == patient2: {0}\".format(patient1 == patient2))\n",
    "print(\"patient1 is patient2: {0}\".format(patient1 is patient2))"
   ]
  },
  {
   "cell_type": "markdown",
   "id": "ee267974-018d-49ca-b977-a1ede8cd4729",
   "metadata": {},
   "source": [
    "- ### = does not copy\n",
    "\n",
    "When you use the operator __=__ to assign a variable the value of another variable, _you are not copying that value into the new variable_. What you are doing is __pointing with the new variable to the same direction as this the variable passed on to__ by the operator\n",
    "\n",
    "For example:\n",
    "\n",
    "a = 2\n",
    "\n",
    "b = a\n",
    "\n",
    "__means that now b points to the same direction as a__\n",
    "\n",
    "So:\n",
    "a == b -> True\n",
    "a is b -> True"
   ]
  },
  {
   "cell_type": "code",
   "execution_count": 1,
   "id": "a52628b1-fef6-46fd-a712-07e7ddc76fa5",
   "metadata": {
    "tags": []
   },
   "outputs": [
    {
     "name": "stdout",
     "output_type": "stream",
     "text": [
      "a == b: True\n",
      "a is b: True\n"
     ]
    }
   ],
   "source": [
    "a: int = 1\n",
    "b: int = a\n",
    "\n",
    "print(\"a == b: {0}\".format(a == b))\n",
    "print(\"a is b: {0}\".format(a is b))"
   ]
  },
  {
   "cell_type": "code",
   "execution_count": 3,
   "id": "ea3b2f65-2615-46bd-9514-eafb48420f4e",
   "metadata": {
    "tags": []
   },
   "outputs": [
    {
     "name": "stdout",
     "output_type": "stream",
     "text": [
      "n1 == n2: True\n",
      "n1 is n2: True\n"
     ]
    }
   ],
   "source": [
    "class NumberClass:\n",
    "    def __init__(self, n: int):\n",
    "        self.n: int = n\n",
    "    \n",
    "    def get_n(self) -> int:\n",
    "        return self.n\n",
    "    \n",
    "n1: NumberClass = NumberClass(1)\n",
    "n2 = n1\n",
    "\n",
    "print(\"n1 == n2: {0}\".format(n1 == n2))\n",
    "print(\"n1 is n2: {0}\".format(n1 is n2))"
   ]
  },
  {
   "cell_type": "markdown",
   "id": "b3e4e4a6-d556-4121-820f-808a1a09c8de",
   "metadata": {},
   "source": [
    "- __Primitive types vs class and arrays__:\n",
    "\n",
    "However, watch out for this: Primitives types and objects behave differently when we update their values after the situation presented above"
   ]
  },
  {
   "cell_type": "code",
   "execution_count": 20,
   "id": "67a7b890-8acc-4b58-8168-6f7ec21d4dfd",
   "metadata": {
    "tags": []
   },
   "outputs": [
    {
     "name": "stdout",
     "output_type": "stream",
     "text": [
      "b = a\n",
      "a == b: True\n",
      "a is b: True\n",
      "\n",
      "b = 2\n",
      "a == b: False\n",
      "a is b: False\n"
     ]
    }
   ],
   "source": [
    "# We start with the example above\n",
    "\n",
    "a: int = 1\n",
    "b: int = a\n",
    "print(\"b = a\")\n",
    "print(\"a == b: {0}\".format(a == b))\n",
    "print(\"a is b: {0}\".format(a is b))\n",
    "print(\"\")\n",
    "\n",
    "# However, if we update b\n",
    "\n",
    "b = 2\n",
    "print(\"b = 2\")\n",
    "print(\"a == b: {0}\".format(a == b))\n",
    "print(\"a is b: {0}\".format(a is b))\n",
    "# a and b now have different values, b points to a different memory address than b (now be is an independent variable)"
   ]
  },
  {
   "cell_type": "code",
   "execution_count": 34,
   "id": "3c9f2e90-d8a4-40f7-9890-1e1e89f4c33f",
   "metadata": {
    "tags": []
   },
   "outputs": [
    {
     "name": "stdout",
     "output_type": "stream",
     "text": [
      "n2 = n1\n",
      "\n",
      "n1.n = 1\n",
      "n2.n = 1\n",
      "n1 == n2: True\n",
      "n1 is n2: True\n",
      "\n",
      "n2.n = 2\n",
      "n1.n = 2\n",
      "n2.n = 2\n",
      "n1 == n2: True\n",
      "n1 is n2: True\n"
     ]
    }
   ],
   "source": [
    "# However for objects\n",
    "\n",
    "n1: NumberClass = NumberClass(1)\n",
    "n2: NumberClass = n1\n",
    "print(\"n2 = n1\")\n",
    "print(\"\")\n",
    "print(\"n1.n = {0}\".format(n1.n))\n",
    "print(\"n2.n = {0}\".format(n2.n))\n",
    "print(\"n1 == n2: {0}\".format(n1 == n2))\n",
    "print(\"n1 is n2: {0}\".format(n1 is n2))\n",
    "print(\"\")\n",
    "\n",
    "# If we update n2.n look what happens\n",
    "\n",
    "n2.n = 2\n",
    "print(\"n2.n = 2\")\n",
    "print(\"n1.n = {0}\".format(n1.n))\n",
    "print(\"n2.n = {0}\".format(n2.n))\n",
    "print(\"n1 == n2: {0}\".format(n1 == n2))\n",
    "print(\"n1 is n2: {0}\".format(n1 is n2))\n",
    "\n",
    "# n1 and n2 are still pointing to the same memory address so if we update n2, n1 is updated too"
   ]
  },
  {
   "cell_type": "markdown",
   "id": "f61fe0d1-941f-4f1d-9a21-ecfec36665e7",
   "metadata": {},
   "source": [
    "### Shadow copy\n",
    "\n",
    "It is a copy where the new variable is independent. However, the contents of the object point to the same address. The copy __has just one level__"
   ]
  },
  {
   "cell_type": "code",
   "execution_count": 35,
   "id": "543d0cf1-e86e-44f3-94e8-06236589ec9a",
   "metadata": {
    "tags": []
   },
   "outputs": [
    {
     "name": "stdout",
     "output_type": "stream",
     "text": [
      "var1 = var[:]\n",
      "var: [1, 2, [3, 4]]\n",
      "var1: [1, 2, [3, 4]]\n"
     ]
    }
   ],
   "source": [
    "var: [] = [1, 2, [3, 4]]\n",
    "var1: [] = var[:]\n",
    "\n",
    "print(\"var1 = var[:]\")\n",
    "print(\"var: {0}\".format(var))\n",
    "print(\"var1: {0}\".format(var1))"
   ]
  },
  {
   "cell_type": "code",
   "execution_count": 36,
   "id": "f138081e-7d57-4aeb-8b79-6f446b64023d",
   "metadata": {
    "tags": []
   },
   "outputs": [
    {
     "name": "stdout",
     "output_type": "stream",
     "text": [
      "del var1[0]\n",
      "var: [1, 2, [3, 4]]\n",
      "var1: [2, [3, 4]]\n"
     ]
    }
   ],
   "source": [
    "del var1[0]\n",
    "\n",
    "print(\"del var1[0]\")\n",
    "print(\"var: {0}\".format(var))\n",
    "print(\"var1: {0}\".format(var1))\n",
    "\n",
    "# This did not affect var"
   ]
  },
  {
   "cell_type": "code",
   "execution_count": 37,
   "id": "df08bb21-f6d1-4f6f-b918-bd058cec00d1",
   "metadata": {
    "tags": []
   },
   "outputs": [
    {
     "name": "stdout",
     "output_type": "stream",
     "text": [
      "var1[1][1] = 5\n",
      "var: [1, 2, [3, 5]]\n",
      "var1: [2, [3, 5]]\n"
     ]
    }
   ],
   "source": [
    "var1[1][1] = 5\n",
    "\n",
    "print(\"var1[1][1] = 5\")\n",
    "print(\"var: {0}\".format(var))\n",
    "print(\"var1: {0}\".format(var1))\n",
    "\n",
    "# However, if we update the array inside the array it affects both\n",
    "# This is a shallow copy, the deeper level of the variable was not copied so the array inside the array was still the same for both"
   ]
  },
  {
   "cell_type": "markdown",
   "id": "323132a0-9d52-4a10-abb3-04a17dafd6e9",
   "metadata": {},
   "source": [
    "### Deep copy\n",
    "\n",
    "The copy now is  an __independent__ object but __its contents are also independent__\n",
    "\n",
    "__import copy__\n",
    "\n",
    "copy.__deepcopy(var)__\n",
    "\n",
    "__NOTE__: We don't call the constructor of the class for the copy"
   ]
  },
  {
   "cell_type": "code",
   "execution_count": 38,
   "id": "17e4abc9-ec91-40cf-8c31-0d3970089305",
   "metadata": {
    "tags": []
   },
   "outputs": [
    {
     "name": "stdout",
     "output_type": "stream",
     "text": [
      "n2 = n1\n",
      "\n",
      "n1.n = 1\n",
      "n2.n = 1\n",
      "n1 == n2: False\n",
      "n1 is n2: False\n",
      "id(n1) = 2510171298000\n",
      "id(n2) = 2510171086032\n",
      "\n",
      "n2.n = 2\n",
      "\n",
      "n1.n = 1\n",
      "n2.n = 2\n",
      "n1 == n2: False\n",
      "n1 is n2: False\n"
     ]
    }
   ],
   "source": [
    "import copy\n",
    "\n",
    "n1: NumberClass = NumberClass(1)\n",
    "n2: NumberClass = copy.deepcopy(n1)\n",
    "print(\"n2 = n1\")\n",
    "print(\"\")\n",
    "print(\"n1.n = {0}\".format(n1.n))\n",
    "print(\"n2.n = {0}\".format(n2.n))\n",
    "print(\"n1 == n2: {0}\".format(n1 == n2))\n",
    "print(\"n1 is n2: {0}\".format(n1 is n2))\n",
    "print(\"id(n1) = {0}\".format(id(n1)))\n",
    "print(\"id(n2) = {0}\".format(id(n2)))\n",
    "# In this case, n1 and n2 have the same values but they are not the same variable.\n",
    "# n1 and n2 point to different memory addresses\n",
    "print(\"\")\n",
    "\n",
    "# If we update n2.n look what happens\n",
    "\n",
    "n2.n = 2\n",
    "print(\"n2.n = 2\")\n",
    "print(\"\")\n",
    "print(\"n1.n = {0}\".format(n1.n))\n",
    "print(\"n2.n = {0}\".format(n2.n))\n",
    "print(\"n1 == n2: {0}\".format(n1 == n2))\n",
    "print(\"n1 is n2: {0}\".format(n1 is n2))\n",
    "\n",
    "# As n1 and n2 are now independent variable, updating n2 does not affect n1"
   ]
  }
 ],
 "metadata": {
  "kernelspec": {
   "display_name": "Python 3 (ipykernel)",
   "language": "python",
   "name": "python3"
  },
  "language_info": {
   "codemirror_mode": {
    "name": "ipython",
    "version": 3
   },
   "file_extension": ".py",
   "mimetype": "text/x-python",
   "name": "python",
   "nbconvert_exporter": "python",
   "pygments_lexer": "ipython3",
   "version": "3.11.4"
  }
 },
 "nbformat": 4,
 "nbformat_minor": 5
}
