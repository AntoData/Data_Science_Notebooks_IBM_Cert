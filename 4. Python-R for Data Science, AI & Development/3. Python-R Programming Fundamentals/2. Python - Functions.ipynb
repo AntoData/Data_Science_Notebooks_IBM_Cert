{
 "cells": [
  {
   "cell_type": "markdown",
   "id": "76e34f40-51f9-43f7-911d-7484d0f5cb80",
   "metadata": {},
   "source": [
    "# Functions\n",
    "__Functions__ are one of the foundational elements in every programming language. Basically, __functions are called from any point in the code, variables or values called arguments are passed on to them and a piece of code located somewhere else is executed, the function might return a value(s).__ After that we resume the execution from the following line."
   ]
  },
  {
   "cell_type": "markdown",
   "id": "c1274a64-1950-418b-9e47-5c6139ec1b7b",
   "metadata": {},
   "source": [
    "__print()__ is an example of a function. It receives a string and executes some code (located somewhere) that displays that text in our terminal"
   ]
  },
  {
   "cell_type": "code",
   "execution_count": 1,
   "id": "ffc4db4e-b64d-431c-9735-b6478f56db1d",
   "metadata": {
    "tags": []
   },
   "outputs": [
    {
     "name": "stdout",
     "output_type": "stream",
     "text": [
      "Hello functions!!!!\n"
     ]
    }
   ],
   "source": [
    "print(\"Hello functions!!!!\")"
   ]
  },
  {
   "cell_type": "markdown",
   "id": "a76d0550-b21b-442e-be33-3b07324fa0d2",
   "metadata": {},
   "source": [
    "__abs()__ is another example of a function. It receives one argument and returns the absolute value of it"
   ]
  },
  {
   "cell_type": "code",
   "execution_count": 2,
   "id": "e6033c1a-ca3f-49d4-afc0-26d84bbf7fa2",
   "metadata": {
    "tags": []
   },
   "outputs": [
    {
     "data": {
      "text/plain": [
       "3"
      ]
     },
     "execution_count": 2,
     "metadata": {},
     "output_type": "execute_result"
    }
   ],
   "source": [
    "abs(-3)"
   ]
  },
  {
   "cell_type": "markdown",
   "id": "19ad1122-3f3b-443d-8955-be3035be1737",
   "metadata": {},
   "source": [
    "So there are two types of functions:\n",
    "- __Predefined/built-in functions__: Functions that are __already defined and provided__ by Python itself, one of its libraries or a third party library. Like the examples above\n",
    "- __Custom/User-defined functions__: These are functions that are __created and defined by developers__. The syntax is as follows:\n",
    "    - __<font color=\"#fc0362\">def</font>__: To start defining a function we have to use this keyword\n",
    "    - __Function name__: After def, we have to provide a name for the function\n",
    "    - __Argument list__: Between <font color=\"#fc5e03\">()</font> we have to provide the list of parameters the function will receive and therefore will be available in the function. This is __optional__. The () can be empty if we don't want to provide any arguments to the function\n",
    "    - __<font color=\"#fcd703\">code</font>__: Now we can write the code that will be executed after calling our function\n",
    "    - __<font color=\"#df03fc\">return</font>__: This one is __optional__ and only needed if we want the function to return a value\n",
    "\n",
    "<pre>\n",
    "<font color=\"#fc0362\">def</font> function_name<font color=\"#fc5e03\">(arg1, arg2, ...)</font>:\n",
    "    <font color=\"#fcd703\">code</font>\n",
    "    <font color=\"#fcd703\">...</font>\n",
    "    <font color=\"#df03fc\">return value/var</font>\n",
    "<pre>"
   ]
  },
  {
   "cell_type": "markdown",
   "id": "90dd9a14-ee05-4723-9faf-51470457551e",
   "metadata": {},
   "source": [
    "For example, we can define a function that takes a string argument and prints it in reverse:\n",
    "- It will take one argument only of type string\n",
    "- Statement Return is not needed here"
   ]
  },
  {
   "cell_type": "code",
   "execution_count": 3,
   "id": "7bd13b08-4980-4e5c-a337-166ac1578ea3",
   "metadata": {
    "tags": []
   },
   "outputs": [
    {
     "name": "stdout",
     "output_type": "stream",
     "text": [
      "!!!!dlroW olleH\n"
     ]
    }
   ],
   "source": [
    "def print_reverse(message):\n",
    "    print(message[::-1])\n",
    "    \n",
    "print_reverse(\"Hello World!!!!\")"
   ]
  },
  {
   "cell_type": "markdown",
   "id": "4ccbc468-ab94-4330-80f2-47b36d4a89ab",
   "metadata": {},
   "source": [
    "For example, the following one won't receive any arguments, but will return a random char string"
   ]
  },
  {
   "cell_type": "code",
   "execution_count": 4,
   "id": "57f5fa8f-02cd-4fd7-a382-3034594bcc7b",
   "metadata": {
    "tags": []
   },
   "outputs": [
    {
     "data": {
      "text/plain": [
       "'o\\x08fMMr\\x00'"
      ]
     },
     "execution_count": 4,
     "metadata": {},
     "output_type": "execute_result"
    }
   ],
   "source": [
    "import random\n",
    "\n",
    "def random_char_string():  # As it does not receive any parameters, () is empty in the signature/header of the function\n",
    "    random_string = \"\"\n",
    "    length = random.randint(1, 10)  # We get a random number between 1 and 10 to become the length of the new random string\n",
    "    for _ in range(length):\n",
    "        unicode_num = random.randint(0, 128)  # We get a random number between 0 and 128, which are codes of characters in unicode\n",
    "        unicode_char = chr(unicode_num)  # We convert the code into the character\n",
    "        random_string += unicode_char  # We add the character to the string\n",
    "    return random_string  # We use return to return our random string\n",
    "\n",
    "random_char_string()"
   ]
  },
  {
   "cell_type": "markdown",
   "id": "721731cf-84ac-4be9-9666-ef0d3bbdf8c1",
   "metadata": {},
   "source": [
    "Finally, the following is an example that includes both"
   ]
  },
  {
   "cell_type": "code",
   "execution_count": 5,
   "id": "d14a05b8-021b-4882-8962-e3d3f3c3c796",
   "metadata": {
    "tags": []
   },
   "outputs": [
    {
     "data": {
      "text/plain": [
       "'\\x1c _\\x13\\x15\\x0c.\\rH\\x1a'"
      ]
     },
     "execution_count": 5,
     "metadata": {},
     "output_type": "execute_result"
    }
   ],
   "source": [
    "def random_char_string(length):\n",
    "    random_string = \"\"\n",
    "    for _ in range(length):\n",
    "        unicode_num = random.randint(0, 128)  # We get a random number between 0 and 128, which are codes of characters in unicode\n",
    "        unicode_char = chr(unicode_num)  # We convert the code into the character\n",
    "        random_string += unicode_char  # We add the character to the string\n",
    "    return random_string  # We use return to return our random string\n",
    "\n",
    "random_char_string(10)"
   ]
  },
  {
   "cell_type": "markdown",
   "id": "6ec0fa4f-bad4-48e8-9d6d-e388f7beed6b",
   "metadata": {},
   "source": [
    "__NOTE__: When a __variable is passed__ as an argument and is updated in the function -> the __update won't affect the collection outside__ the function  "
   ]
  },
  {
   "cell_type": "code",
   "execution_count": 6,
   "id": "a5e0d7bf-15e0-49ae-959e-02cf71488657",
   "metadata": {
    "tags": []
   },
   "outputs": [
    {
     "name": "stdout",
     "output_type": "stream",
     "text": [
      "['Sixth', 'Fifth', 'Fourth', 'Third', 'Second', 'First']\n",
      "['First', 'Second', 'Third']\n",
      "['Fourth', 'Fifth', 'Sixth']\n"
     ]
    }
   ],
   "source": [
    "v_list1 = [\"First\", \"Second\", \"Third\"]\n",
    "v_list2 = [\"Fourth\", \"Fifth\", \"Sixth\"]\n",
    "\n",
    "def add_and_reverse_lists(list1, list2):\n",
    "    list1 = list1[::-1]\n",
    "    list2 = list2[::-1]\n",
    "    list2.extend(list1)\n",
    "    return list2\n",
    "\n",
    "print(add_and_reverse_lists(v_list1, v_list2))\n",
    "print(v_list1)\n",
    "print(v_list2)"
   ]
  },
  {
   "cell_type": "code",
   "execution_count": 7,
   "id": "b3ec04e9-1f14-4d1d-b113-f259b3fd374f",
   "metadata": {
    "tags": []
   },
   "outputs": [
    {
     "name": "stdout",
     "output_type": "stream",
     "text": [
      "13\n",
      "2\n",
      "3\n"
     ]
    }
   ],
   "source": [
    "a = 2\n",
    "b = 3\n",
    "\n",
    "def add_square(value1, value2):\n",
    "    value1 = value1**2\n",
    "    value2 = value2**2\n",
    "    return value1 + value2\n",
    "\n",
    "print(add_square(a, b))\n",
    "print(a)\n",
    "print(b)"
   ]
  },
  {
   "cell_type": "markdown",
   "id": "dc33e658-6721-49f9-97ae-9d9b4ea0afec",
   "metadata": {},
   "source": [
    "### Scope\n",
    "A __scope__ is a section of the code in which certain variables are or not visible or are shadowed by other ones (meaning both have the same name so you will use and update the one in your scope).\n",
    "\n",
    "__Functions__ define their own scope. The __parameters defined in the signature of the function and the variables created in the function are only accessible/visible inside it__. If we try to access them outside of the function an exception will be raised _NameError_"
   ]
  },
  {
   "cell_type": "code",
   "execution_count": 8,
   "id": "c57319ee-4b66-48ae-b817-14a07b11c633",
   "metadata": {
    "tags": []
   },
   "outputs": [
    {
     "ename": "NameError",
     "evalue": "name 'random_string' is not defined",
     "output_type": "error",
     "traceback": [
      "\u001b[1;31m---------------------------------------------------------------------------\u001b[0m",
      "\u001b[1;31mNameError\u001b[0m                                 Traceback (most recent call last)",
      "Cell \u001b[1;32mIn[8], line 10\u001b[0m\n\u001b[0;32m      7\u001b[0m     \u001b[38;5;28;01mreturn\u001b[39;00m random_string  \u001b[38;5;66;03m# We use return to return our random string\u001b[39;00m\n\u001b[0;32m      9\u001b[0m random_char_string(\u001b[38;5;241m10\u001b[39m)\n\u001b[1;32m---> 10\u001b[0m random_string\n",
      "\u001b[1;31mNameError\u001b[0m: name 'random_string' is not defined"
     ]
    }
   ],
   "source": [
    "def random_char_string(length):\n",
    "    random_string = \"\"\n",
    "    for _ in range(length):\n",
    "        unicode_num = random.randint(0, 128)  # We get a random number between 0 and 128, which are codes of characters in unicode\n",
    "        unicode_char = chr(unicode_num)  # We convert the code into the character\n",
    "        random_string += unicode_char  # We add the character to the string\n",
    "    return random_string  # We use return to return our random string\n",
    "\n",
    "random_char_string(10)\n",
    "random_string"
   ]
  },
  {
   "cell_type": "markdown",
   "id": "3dbe561d-8b3e-4d2d-982b-97d85fdcb55c",
   "metadata": {},
   "source": [
    "Same for the input parameters:"
   ]
  },
  {
   "cell_type": "code",
   "execution_count": 9,
   "id": "ad7d9007-42ea-47c1-8801-7d7cb5712350",
   "metadata": {
    "tags": []
   },
   "outputs": [
    {
     "ename": "NameError",
     "evalue": "name 'length' is not defined",
     "output_type": "error",
     "traceback": [
      "\u001b[1;31m---------------------------------------------------------------------------\u001b[0m",
      "\u001b[1;31mNameError\u001b[0m                                 Traceback (most recent call last)",
      "Cell \u001b[1;32mIn[9], line 1\u001b[0m\n\u001b[1;32m----> 1\u001b[0m length\n",
      "\u001b[1;31mNameError\u001b[0m: name 'length' is not defined"
     ]
    }
   ],
   "source": [
    "length"
   ]
  },
  {
   "cell_type": "markdown",
   "id": "ee9c3233-c634-4492-a431-34cc361de9db",
   "metadata": {},
   "source": [
    "Also this is one of the reasons why as we explained previously: When a __variable is passed__ as an argument and is updated in the function -> the __update won't affect the collection outside__ the function. The update is done __in the scope of the function__"
   ]
  },
  {
   "cell_type": "markdown",
   "id": "4408d9b9-3eb3-4900-8cde-dac43158baad",
   "metadata": {},
   "source": [
    "__Shadowing__: To put it simply, it is when a variable inside a function has the same name as a variable in the main scope:\n",
    "    - In this case, when we perform operations in such variable -> The updates will only affect the variable inside the function\n",
    "    - The variable outside the function will remain the same"
   ]
  },
  {
   "cell_type": "code",
   "execution_count": 10,
   "id": "cd316dfa-346a-45d6-9bf5-db3449332111",
   "metadata": {
    "tags": []
   },
   "outputs": [
    {
     "name": "stdout",
     "output_type": "stream",
     "text": [
      "Gh&~(\u0010uaW \n",
      "I am not going to change\n"
     ]
    }
   ],
   "source": [
    "random_string = \"I am not going to change\"\n",
    "\n",
    "def random_char_string(length):\n",
    "    random_string = \"\"\n",
    "    for _ in range(length):\n",
    "        unicode_num = random.randint(0, 128)  # We get a random number between 0 and 128, which are codes of characters in unicode\n",
    "        unicode_char = chr(unicode_num)  # We convert the code into the character\n",
    "        random_string += unicode_char  # We add the character to the string\n",
    "    return random_string  # We use return to return our random string\n",
    "\n",
    "print(random_char_string(10))\n",
    "print(random_string)"
   ]
  },
  {
   "cell_type": "markdown",
   "id": "07908983-10d3-449d-b53b-9d096e6c64f7",
   "metadata": {},
   "source": [
    "__Global variables__: Global variables __are variables defined in the main scope__. These are visible everywhere, __they can be accessed everywhere__. However, changes or __updates made to them inside a function will not be applied outside__ that function"
   ]
  },
  {
   "cell_type": "code",
   "execution_count": 11,
   "id": "733ff26d-b0ca-444b-aba7-42372fbcee6c",
   "metadata": {
    "tags": []
   },
   "outputs": [
    {
     "name": "stdout",
     "output_type": "stream",
     "text": [
      "5\n"
     ]
    },
    {
     "data": {
      "text/plain": [
       "[]"
      ]
     },
     "execution_count": 11,
     "metadata": {},
     "output_type": "execute_result"
    }
   ],
   "source": [
    "words = []\n",
    "\n",
    "def count_words(text):\n",
    "    words = text.split(\" \")\n",
    "    return len(words)\n",
    "\n",
    "print(count_words(\"Hello World here we go\"))\n",
    "words"
   ]
  },
  {
   "cell_type": "markdown",
   "id": "377cca82-e213-4f8b-b98d-f37cef6d97d0",
   "metadata": {},
   "source": [
    "__Global__: The keyword _global_ allows us to do a number of things:\n",
    "- To refer to a variable in the main scope inside a function so when we update it, the update is also visible outside the function"
   ]
  },
  {
   "cell_type": "code",
   "execution_count": 12,
   "id": "fc18fa54-4cc3-4646-b364-a164ad74dff5",
   "metadata": {
    "tags": []
   },
   "outputs": [
    {
     "name": "stdout",
     "output_type": "stream",
     "text": [
      "5\n"
     ]
    },
    {
     "data": {
      "text/plain": [
       "['Hello', 'World', 'here', 'we', 'go']"
      ]
     },
     "execution_count": 12,
     "metadata": {},
     "output_type": "execute_result"
    }
   ],
   "source": [
    "words = []\n",
    "\n",
    "def count_words(text):\n",
    "    global words\n",
    "    words = text.split(\" \")\n",
    "    return len(words)\n",
    "\n",
    "print(count_words(\"Hello World here we go\"))\n",
    "words"
   ]
  },
  {
   "cell_type": "markdown",
   "id": "ea52b5bb-ed35-4563-98c7-d6f62895e5d4",
   "metadata": {},
   "source": [
    "- To create a global variable, a variable whose scope is the main scope outside a function inside it"
   ]
  },
  {
   "cell_type": "code",
   "execution_count": 13,
   "id": "30ad239d-319c-4346-b845-ee5ae1ac931d",
   "metadata": {
    "tags": []
   },
   "outputs": [
    {
     "name": "stdout",
     "output_type": "stream",
     "text": [
      "5\n"
     ]
    },
    {
     "data": {
      "text/plain": [
       "['Hello', 'World', 'here', 'we', 'go']"
      ]
     },
     "execution_count": 13,
     "metadata": {},
     "output_type": "execute_result"
    }
   ],
   "source": [
    "def count_words(text):\n",
    "    global words\n",
    "    words = text.split(\" \")\n",
    "    return len(words)\n",
    "\n",
    "print(count_words(\"Hello World here we go\"))\n",
    "words"
   ]
  },
  {
   "cell_type": "markdown",
   "id": "9bc0836e-3e50-48d7-bcfe-20e6592d05f4",
   "metadata": {},
   "source": [
    "### Arguments\n",
    "- __Default arguments__: Python allows developers to assign default values to input parameters in their functions:\n",
    "    - We can modify the value of the parameter\n",
    "    - We can skip that argument and it will get the value defined as default"
   ]
  },
  {
   "cell_type": "code",
   "execution_count": 14,
   "id": "717ccf9a-1564-4cc2-bad2-f442fed4260f",
   "metadata": {
    "tags": []
   },
   "outputs": [
    {
     "name": "stdout",
     "output_type": "stream",
     "text": [
      "10\n"
     ]
    }
   ],
   "source": [
    "def random_char_string(length=10):  # To set a default value to a variable we just give it the value like this\n",
    "    random_string = \"\"\n",
    "    for _ in range(length):\n",
    "        unicode_num = random.randint(0, 128)  # We get a random number between 0 and 128, which are codes of characters in unicode\n",
    "        unicode_char = chr(unicode_num)  # We convert the code into the character\n",
    "        random_string += unicode_char  # We add the character to the string\n",
    "    return random_string  # We use return to return our random string\n",
    "\n",
    "print(len(random_char_string()))"
   ]
  },
  {
   "cell_type": "markdown",
   "id": "927b49cc-7de5-4999-97c6-8f43a837c18e",
   "metadata": {},
   "source": [
    "The value of length was 10 because it used the default value"
   ]
  },
  {
   "cell_type": "code",
   "execution_count": 15,
   "id": "765bc73c-fee9-4bce-98ac-1b522d747600",
   "metadata": {
    "tags": []
   },
   "outputs": [
    {
     "name": "stdout",
     "output_type": "stream",
     "text": [
      "12\n"
     ]
    }
   ],
   "source": [
    "print(len(random_char_string(12)))"
   ]
  },
  {
   "cell_type": "markdown",
   "id": "01f88261-4799-4628-95fe-0e8dedf4dff7",
   "metadata": {},
   "source": [
    "We overwrote the value of length to 12"
   ]
  },
  {
   "cell_type": "markdown",
   "id": "97537560-f9cb-4c7d-921a-965004dafa7e",
   "metadata": {},
   "source": [
    "__NOTE__: All default arguments must follow non-default arguments. Otherwise, we will get a __SyntaxError__"
   ]
  },
  {
   "cell_type": "code",
   "execution_count": 16,
   "id": "5ddb7525-ebd2-412b-b05b-cb219c7ebbee",
   "metadata": {
    "tags": []
   },
   "outputs": [
    {
     "ename": "SyntaxError",
     "evalue": "non-default argument follows default argument (1029792050.py, line 1)",
     "output_type": "error",
     "traceback": [
      "\u001b[1;36m  Cell \u001b[1;32mIn[16], line 1\u001b[1;36m\u001b[0m\n\u001b[1;33m    def get_character_move_to_final(text=\"Hello World!\", index):\u001b[0m\n\u001b[1;37m                                                         ^\u001b[0m\n\u001b[1;31mSyntaxError\u001b[0m\u001b[1;31m:\u001b[0m non-default argument follows default argument\n"
     ]
    }
   ],
   "source": [
    "def get_character_move_to_final(text=\"Hello World!\", index):\n",
    "    character_var = text[index]\n",
    "    first_half = text[: index]\n",
    "    second_half = text[index + 1: len(text)]\n",
    "    return first_half + second_half + character_var\n",
    "\n",
    "get_character_move_to_final(3)"
   ]
  },
  {
   "cell_type": "code",
   "execution_count": 17,
   "id": "d148cec7-0354-4024-b3ea-e462735c0342",
   "metadata": {
    "tags": []
   },
   "outputs": [
    {
     "data": {
      "text/plain": [
       "'Hllo World!!!!e'"
      ]
     },
     "execution_count": 17,
     "metadata": {},
     "output_type": "execute_result"
    }
   ],
   "source": [
    "def get_character_move_to_final(text, index=1):\n",
    "    character_var = text[index]\n",
    "    first_half = text[: index]\n",
    "    second_half = text[index + 1: len(text)]\n",
    "    return first_half + second_half + character_var\n",
    "\n",
    "get_character_move_to_final(\"Hello World!!!!\")"
   ]
  },
  {
   "cell_type": "markdown",
   "id": "7483fa6a-c3e0-46e3-98e1-913673060098",
   "metadata": {},
   "source": [
    "- __Positional arguments__: When we provide the arguments by order of their declaration in the function signature (we have sent the variables values to the function and the function takes it in order)"
   ]
  },
  {
   "cell_type": "code",
   "execution_count": 18,
   "id": "3b63a7c7-95f7-44b9-979a-b5a5226e92f8",
   "metadata": {
    "tags": []
   },
   "outputs": [
    {
     "data": {
      "text/plain": [
       "'Helo World!!!!l'"
      ]
     },
     "execution_count": 18,
     "metadata": {},
     "output_type": "execute_result"
    }
   ],
   "source": [
    "def get_character_move_to_final(text, index):\n",
    "    character_var = text[index]\n",
    "    first_half = text[: index]\n",
    "    second_half = text[index + 1: len(text)]\n",
    "    return first_half + second_half + character_var\n",
    "\n",
    "get_character_move_to_final(\"Hello World!!!!\", 3)"
   ]
  },
  {
   "cell_type": "markdown",
   "id": "40b38b45-841b-4ba9-b538-dfbc66669206",
   "metadata": {},
   "source": [
    "The above was an example of __positional arguments__, the values were taken by the function and assigned to the input parameters of the function by order"
   ]
  },
  {
   "cell_type": "markdown",
   "id": "c83968ed-de66-4e6b-aac6-5bc759ddca68",
   "metadata": {},
   "source": [
    "- __Keyword arguments__: When we use the name of the input parameter to give it the value. Therefore, we can switch the order of the arguments"
   ]
  },
  {
   "cell_type": "code",
   "execution_count": 19,
   "id": "70d408a5-74b2-491b-b8f1-277ed6ec2596",
   "metadata": {
    "tags": []
   },
   "outputs": [
    {
     "data": {
      "text/plain": [
       "'Helo World!!!!l'"
      ]
     },
     "execution_count": 19,
     "metadata": {},
     "output_type": "execute_result"
    }
   ],
   "source": [
    "get_character_move_to_final(index=3, text=\"Hello World!!!!\")"
   ]
  },
  {
   "cell_type": "markdown",
   "id": "056a501a-833d-4eb2-a3f1-3cd885804f7b",
   "metadata": {},
   "source": [
    "In the above example we switched the order of the arguments, but the function worked correctly because we were using the input parameters as keyword arguments"
   ]
  },
  {
   "cell_type": "markdown",
   "id": "cece9a2f-a676-4325-ae47-10d80262cacb",
   "metadata": {},
   "source": [
    "- __Packing arguments__: Python allows us to define a function with an undetermined number of parameters:\n",
    "    - __Positional arguments__: In order to define an undetermined number of positional arguments we use __*args__: That parameter will contain all values passed as undetermined arguments in a list"
   ]
  },
  {
   "cell_type": "code",
   "execution_count": 20,
   "id": "521dd7b3-becc-4cbb-9e62-a2c39a168114",
   "metadata": {
    "tags": []
   },
   "outputs": [
    {
     "data": {
      "text/plain": [
       "['a', 2, 'z', 'b', 3, 'c']"
      ]
     },
     "execution_count": 20,
     "metadata": {},
     "output_type": "execute_result"
    }
   ],
   "source": [
    "def add_elements_to_list(list_var, *args):  # We have defined one argument and then an undetermined number of arguments\n",
    "    for element in args:\n",
    "        list_var.append(element)\n",
    "        \n",
    "    return list_var\n",
    "\n",
    "\n",
    "v_list = [\"a\", 2, \"z\"]\n",
    "add_elements_to_list(v_list, \"b\", 3, \"c\")"
   ]
  },
  {
   "cell_type": "markdown",
   "id": "dd154384-a377-411f-93c8-33f0851572b1",
   "metadata": {},
   "source": [
    "We could have not added any more positional arguments than the one we defined"
   ]
  },
  {
   "cell_type": "code",
   "execution_count": 21,
   "id": "0a1a3aee-24c4-47e4-b85d-e3ced7088258",
   "metadata": {
    "tags": []
   },
   "outputs": [
    {
     "data": {
      "text/plain": [
       "[1, 2, 3]"
      ]
     },
     "execution_count": 21,
     "metadata": {},
     "output_type": "execute_result"
    }
   ],
   "source": [
    "v_list_2 = [1, 2, 3]\n",
    "add_elements_to_list(v_list_2)"
   ]
  },
  {
   "cell_type": "markdown",
   "id": "5f0fd5b1-078f-447e-aa4c-4a24be2312c5",
   "metadata": {},
   "source": [
    "- Continuation:\n",
    "    - __Keyword arguments__: We can define and unlimited number of keyword parameters using __**kwargs__. This means, we can add as many tuples or var = value, as we want. The parameter _kwargs_ will contain all these parameters in a dictionary with key the name of the variable and value the value given to that variable"
   ]
  },
  {
   "cell_type": "code",
   "execution_count": 22,
   "id": "648e75c8-84b7-4b86-bed7-ebd960361417",
   "metadata": {
    "tags": []
   },
   "outputs": [
    {
     "data": {
      "text/plain": [
       "['a', 2, 'z', 'Malta', 3, 'c']"
      ]
     },
     "execution_count": 22,
     "metadata": {},
     "output_type": "execute_result"
    }
   ],
   "source": [
    "def add_elements_to_list(list_var, **kwargs):  # We have defined one argument and then an undetermined number of arguments\n",
    "    for key_element in kwargs:\n",
    "        list_var.append(kwargs[key_element])\n",
    "        \n",
    "    return list_var\n",
    "\n",
    "\n",
    "v_list = [\"a\", 2, \"z\"]\n",
    "add_elements_to_list(v_list, destination=\"Malta\", plane=3,  door=\"c\")"
   ]
  },
  {
   "cell_type": "markdown",
   "id": "8a56c446-db02-43c1-b7ad-ca49ba7b47ab",
   "metadata": {},
   "source": [
    "__NOTE__: Keyword parameter must follow positional parameters"
   ]
  },
  {
   "cell_type": "code",
   "execution_count": 23,
   "id": "69f33589-d054-4824-ba32-f54b408bd9a8",
   "metadata": {
    "tags": []
   },
   "outputs": [],
   "source": [
    "def travel_organizer(kms, country=\"Scotland\", seat_class=\"Tourist\", *args, **kwargs):  \n",
    "    print(\"We are traveling to {0} which will be a {1} km trip in {2}\".format(country, kms, seat_class))\n",
    "    if len(args) > 0:\n",
    "        print(\"We are stopping in: \")\n",
    "        for stop in args:\n",
    "            print(\"- {0}\".format(stop))\n",
    "    \n",
    "    if len(kwargs.keys()) > 0:\n",
    "        print(\"Additional information\")\n",
    "        for v_key in kwargs.keys():\n",
    "            print(\"- {0}: {1}\".format(v_key, kwargs[v_key]))\n"
   ]
  },
  {
   "cell_type": "code",
   "execution_count": 24,
   "id": "38079ca8-3cdf-4342-9791-ede96b4d7e56",
   "metadata": {
    "tags": []
   },
   "outputs": [
    {
     "name": "stdout",
     "output_type": "stream",
     "text": [
      "We are traveling to Scotland which will be a 100 km trip in Tourist\n"
     ]
    }
   ],
   "source": [
    "travel_organizer(100)"
   ]
  },
  {
   "cell_type": "code",
   "execution_count": 25,
   "id": "822b6b5f-b96f-4bfe-9848-5289eeb884da",
   "metadata": {
    "tags": []
   },
   "outputs": [
    {
     "name": "stdout",
     "output_type": "stream",
     "text": [
      "We are traveling to France which will be a 200 km trip in Tourist\n"
     ]
    }
   ],
   "source": [
    "travel_organizer(200, \"France\")"
   ]
  },
  {
   "cell_type": "code",
   "execution_count": 26,
   "id": "4b1241a3-d881-49fe-885e-2c7b6989dd3c",
   "metadata": {
    "tags": []
   },
   "outputs": [
    {
     "name": "stdout",
     "output_type": "stream",
     "text": [
      "We are traveling to Norway which will be a 300 km trip in First\n",
      "We are stopping in: \n",
      "- France\n",
      "- Switzerland\n",
      "- Germany\n"
     ]
    }
   ],
   "source": [
    "travel_organizer(300, \"Norway\", \"First\", \"France\", \"Switzerland\", \"Germany\")"
   ]
  },
  {
   "cell_type": "code",
   "execution_count": 27,
   "id": "ceea8266-cb83-4b83-9eea-0b9221370dde",
   "metadata": {
    "tags": []
   },
   "outputs": [
    {
     "name": "stdout",
     "output_type": "stream",
     "text": [
      "We are traveling to Norway which will be a 300 km trip in First\n",
      "Additional information\n",
      "- company: RyanAir\n"
     ]
    }
   ],
   "source": [
    "travel_organizer(300, \"Norway\", \"First\", company=\"RyanAir\")"
   ]
  },
  {
   "cell_type": "code",
   "execution_count": 28,
   "id": "5c6dee98-2b97-43ac-8774-1e8c693be0c2",
   "metadata": {
    "tags": []
   },
   "outputs": [
    {
     "name": "stdout",
     "output_type": "stream",
     "text": [
      "We are traveling to Norway which will be a 300 km trip in First\n",
      "We are stopping in: \n",
      "- Denmark\n",
      "- Sweden\n",
      "Additional information\n",
      "- company: RyanAir\n",
      "- sale: True\n"
     ]
    }
   ],
   "source": [
    "travel_organizer(300, \"Norway\", \"First\", \"Denmark\", \"Sweden\", company=\"RyanAir\", sale=True)"
   ]
  },
  {
   "cell_type": "code",
   "execution_count": 29,
   "id": "ca22cccf-f1ce-4bc5-b79a-eb60dde3c3bb",
   "metadata": {
    "tags": []
   },
   "outputs": [
    {
     "ename": "SyntaxError",
     "evalue": "positional argument follows keyword argument (2699856563.py, line 1)",
     "output_type": "error",
     "traceback": [
      "\u001b[1;36m  Cell \u001b[1;32mIn[29], line 1\u001b[1;36m\u001b[0m\n\u001b[1;33m    travel_organizer(300, \"Norway\", \"First\", company=\"RyanAir\", sale=True, \"Denmark\", \"Sweden\")\u001b[0m\n\u001b[1;37m                                                                                              ^\u001b[0m\n\u001b[1;31mSyntaxError\u001b[0m\u001b[1;31m:\u001b[0m positional argument follows keyword argument\n"
     ]
    }
   ],
   "source": [
    "travel_organizer(300, \"Norway\", \"First\", company=\"RyanAir\", sale=True, \"Denmark\", \"Sweden\")"
   ]
  },
  {
   "cell_type": "markdown",
   "id": "0a9babb9-a4c5-4179-a59f-3b0ca733a313",
   "metadata": {},
   "source": [
    "__Remember__: Positional arguments must be declared before keyword parameters"
   ]
  },
  {
   "cell_type": "markdown",
   "id": "227e3bea-79f5-4b6e-8a0c-efa6c32d871f",
   "metadata": {},
   "source": [
    "__Return__: We can return more than one parameter and __unpack them__"
   ]
  },
  {
   "cell_type": "code",
   "execution_count": 30,
   "id": "d9df4a4a-d2e4-4074-a5cc-c420615460cd",
   "metadata": {
    "tags": []
   },
   "outputs": [],
   "source": [
    "def get_first_and_last_element(collection):\n",
    "    return collection[0], collection[len(collection) - 1]"
   ]
  },
  {
   "cell_type": "code",
   "execution_count": 31,
   "id": "4275de47-817c-430e-9417-a1c7b5789279",
   "metadata": {
    "tags": []
   },
   "outputs": [
    {
     "name": "stdout",
     "output_type": "stream",
     "text": [
      "H\n",
      "d\n"
     ]
    }
   ],
   "source": [
    "first_el, second_el = get_first_and_last_element(\"Hello World\")\n",
    "print(first_el)\n",
    "print(second_el)"
   ]
  },
  {
   "cell_type": "markdown",
   "id": "96aa05d7-92f7-4f47-9c9d-68f379933ac2",
   "metadata": {},
   "source": [
    "In the example above, we have __unpacked__ the return into two different variables"
   ]
  },
  {
   "cell_type": "code",
   "execution_count": 32,
   "id": "80c0ae0f-bef9-4c9b-8ce4-0fd2f78e29ff",
   "metadata": {
    "tags": []
   },
   "outputs": [],
   "source": [
    "elements = get_first_and_last_element(\"Hello World\")"
   ]
  },
  {
   "cell_type": "code",
   "execution_count": 33,
   "id": "faa490d2-7817-4994-a73d-32eeed11b4f6",
   "metadata": {
    "tags": []
   },
   "outputs": [
    {
     "name": "stdout",
     "output_type": "stream",
     "text": [
      "('H', 'd')\n"
     ]
    }
   ],
   "source": [
    "print(elements)"
   ]
  },
  {
   "cell_type": "markdown",
   "id": "5c43c5be-cd20-4d7e-ba58-9f9715a792f8",
   "metadata": {},
   "source": [
    "Here, both variables were __packed__ in the same variable (a tuple)"
   ]
  },
  {
   "cell_type": "code",
   "execution_count": null,
   "id": "f3df671c-7e7f-40ab-a9f9-fed389a84b5b",
   "metadata": {},
   "outputs": [],
   "source": []
  }
 ],
 "metadata": {
  "kernelspec": {
   "display_name": "Python 3 (ipykernel)",
   "language": "python",
   "name": "python3"
  },
  "language_info": {
   "codemirror_mode": {
    "name": "ipython",
    "version": 3
   },
   "file_extension": ".py",
   "mimetype": "text/x-python",
   "name": "python",
   "nbconvert_exporter": "python",
   "pygments_lexer": "ipython3",
   "version": "3.11.4"
  }
 },
 "nbformat": 4,
 "nbformat_minor": 5
}
