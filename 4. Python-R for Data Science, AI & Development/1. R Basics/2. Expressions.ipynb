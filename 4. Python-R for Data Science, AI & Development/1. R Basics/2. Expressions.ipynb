{
 "cells": [
  {
   "cell_type": "markdown",
   "id": "b35e1e54-fcd0-4bc6-8b02-a90b4d7a4b41",
   "metadata": {},
   "source": [
    "### Expressions"
   ]
  },
  {
   "cell_type": "markdown",
   "id": "3bc902b1-f6d6-4fbd-81d9-875981e417e3",
   "metadata": {},
   "source": [
    "Some mathematical expressions"
   ]
  },
  {
   "cell_type": "markdown",
   "id": "def4e70b-a012-4f1e-b204-5e0aa6ff35eb",
   "metadata": {},
   "source": [
    "- __Addition__"
   ]
  },
  {
   "cell_type": "code",
   "execution_count": 1,
   "id": "49d95ae6-e7b3-4222-b59e-3897dec9f77e",
   "metadata": {
    "tags": []
   },
   "outputs": [],
   "source": [
    "var_add <- 1 + 2"
   ]
  },
  {
   "cell_type": "code",
   "execution_count": 2,
   "id": "38246446-dd99-4b98-8707-a2ff4668a0d6",
   "metadata": {
    "tags": []
   },
   "outputs": [
    {
     "name": "stdout",
     "output_type": "stream",
     "text": [
      "[1] 3\n"
     ]
    }
   ],
   "source": [
    "print(var_add)"
   ]
  },
  {
   "cell_type": "code",
   "execution_count": 3,
   "id": "6402a28c-569e-41df-95a2-285d47943553",
   "metadata": {
    "tags": []
   },
   "outputs": [],
   "source": [
    "var_add2 <- var_add + 1"
   ]
  },
  {
   "cell_type": "code",
   "execution_count": 4,
   "id": "f24251a9-c5fe-4be9-85c5-759c0362cf5e",
   "metadata": {
    "tags": []
   },
   "outputs": [
    {
     "name": "stdout",
     "output_type": "stream",
     "text": [
      "[1] 4\n"
     ]
    }
   ],
   "source": [
    "print(var_add2)"
   ]
  },
  {
   "cell_type": "code",
   "execution_count": 5,
   "id": "b55678a7-7ba7-4834-afab-73a608ad20fd",
   "metadata": {
    "tags": []
   },
   "outputs": [],
   "source": [
    "var_add3 <- var_add + var_add2"
   ]
  },
  {
   "cell_type": "code",
   "execution_count": 6,
   "id": "715f0c38-9b34-4ec5-afb7-8c644a7bba25",
   "metadata": {
    "tags": []
   },
   "outputs": [
    {
     "name": "stdout",
     "output_type": "stream",
     "text": [
      "[1] 7\n"
     ]
    }
   ],
   "source": [
    "print(var_add3)"
   ]
  },
  {
   "cell_type": "markdown",
   "id": "5e114bbb-ab31-4dd8-88d7-37c67c9ca592",
   "metadata": {},
   "source": [
    "- __Subtraction__"
   ]
  },
  {
   "cell_type": "code",
   "execution_count": 7,
   "id": "98fb51d9-9e63-49ae-a9c1-0f311808a6fc",
   "metadata": {
    "tags": []
   },
   "outputs": [],
   "source": [
    "var_sub <- 5 - 1"
   ]
  },
  {
   "cell_type": "code",
   "execution_count": 8,
   "id": "4a541392-acca-448c-bd66-c7486d171139",
   "metadata": {
    "tags": []
   },
   "outputs": [
    {
     "name": "stdout",
     "output_type": "stream",
     "text": [
      "[1] 4\n"
     ]
    }
   ],
   "source": [
    "print(var_sub)"
   ]
  },
  {
   "cell_type": "code",
   "execution_count": 9,
   "id": "cad21ebb-6005-477a-b7da-3534cf44d065",
   "metadata": {
    "tags": []
   },
   "outputs": [],
   "source": [
    "var_sub2 <- var_sub - 2"
   ]
  },
  {
   "cell_type": "code",
   "execution_count": 10,
   "id": "28b82991-711c-465d-bffb-dd51bba9b679",
   "metadata": {
    "tags": []
   },
   "outputs": [
    {
     "name": "stdout",
     "output_type": "stream",
     "text": [
      "[1] 2\n"
     ]
    }
   ],
   "source": [
    "print(var_sub2)"
   ]
  },
  {
   "cell_type": "code",
   "execution_count": 11,
   "id": "2fd00eb2-8391-4059-b2d6-de7708143ad5",
   "metadata": {
    "tags": []
   },
   "outputs": [],
   "source": [
    "var_sub3 <- var_sub - var_sub2"
   ]
  },
  {
   "cell_type": "code",
   "execution_count": 12,
   "id": "4a2611c6-bfcd-4955-966e-5e07d36e5a94",
   "metadata": {
    "tags": []
   },
   "outputs": [
    {
     "name": "stdout",
     "output_type": "stream",
     "text": [
      "[1] 2\n"
     ]
    }
   ],
   "source": [
    "print(var_sub3)"
   ]
  },
  {
   "cell_type": "markdown",
   "id": "1a15aabd-014b-484f-9aa1-19ca575b987a",
   "metadata": {},
   "source": [
    "- __Multiplication__"
   ]
  },
  {
   "cell_type": "code",
   "execution_count": 13,
   "id": "fc933442-8c05-4552-bcf9-3a4287314b49",
   "metadata": {
    "tags": []
   },
   "outputs": [],
   "source": [
    "var_mul <- 2 * 3"
   ]
  },
  {
   "cell_type": "code",
   "execution_count": 14,
   "id": "64ef9636-dfda-448d-856d-259769380ead",
   "metadata": {
    "tags": []
   },
   "outputs": [
    {
     "name": "stdout",
     "output_type": "stream",
     "text": [
      "[1] 6\n"
     ]
    }
   ],
   "source": [
    "print(var_mul)"
   ]
  },
  {
   "cell_type": "code",
   "execution_count": 15,
   "id": "c2f637af-a3dd-42a1-8ec6-d965734af838",
   "metadata": {
    "tags": []
   },
   "outputs": [],
   "source": [
    "var_mul2 <- var_mul * 2"
   ]
  },
  {
   "cell_type": "code",
   "execution_count": 16,
   "id": "91ba7d73-8f3a-4877-b762-afc093fa542d",
   "metadata": {
    "tags": []
   },
   "outputs": [
    {
     "name": "stdout",
     "output_type": "stream",
     "text": [
      "[1] 12\n"
     ]
    }
   ],
   "source": [
    "print(var_mul2)"
   ]
  },
  {
   "cell_type": "code",
   "execution_count": 17,
   "id": "654ca986-f9a5-40a4-90b7-8762c1203acb",
   "metadata": {
    "tags": []
   },
   "outputs": [],
   "source": [
    "var_mul3 <- var_mul * var_mul2"
   ]
  },
  {
   "cell_type": "code",
   "execution_count": 18,
   "id": "94f7c5f9-ff31-462d-aeff-78bd9919533d",
   "metadata": {
    "tags": []
   },
   "outputs": [
    {
     "name": "stdout",
     "output_type": "stream",
     "text": [
      "[1] 72\n"
     ]
    }
   ],
   "source": [
    "print(var_mul3)"
   ]
  },
  {
   "cell_type": "markdown",
   "id": "621b3015-66a3-4dcf-a67f-89e1f86b89fe",
   "metadata": {},
   "source": [
    "- __Division__"
   ]
  },
  {
   "cell_type": "code",
   "execution_count": 21,
   "id": "4439b911-670f-4570-811c-7965a279df22",
   "metadata": {
    "tags": []
   },
   "outputs": [],
   "source": [
    "var_div <- 24 / 2"
   ]
  },
  {
   "cell_type": "code",
   "execution_count": 22,
   "id": "01a4bdb2-68af-4a28-b3fc-7f20120cf761",
   "metadata": {
    "tags": []
   },
   "outputs": [
    {
     "name": "stdout",
     "output_type": "stream",
     "text": [
      "[1] 12\n"
     ]
    }
   ],
   "source": [
    "print(var_div)"
   ]
  },
  {
   "cell_type": "markdown",
   "id": "26f4ceb3-2d56-4b3b-b4e4-d48a75841cea",
   "metadata": {},
   "source": [
    "__NOTE__: Unlike in Python, here the result of a division is not float by default"
   ]
  },
  {
   "cell_type": "code",
   "execution_count": 26,
   "id": "055f3bdc-f692-4ea7-93e2-43f146d7f13e",
   "metadata": {
    "tags": []
   },
   "outputs": [
    {
     "data": {
      "text/html": [
       "'double'"
      ],
      "text/latex": [
       "'double'"
      ],
      "text/markdown": [
       "'double'"
      ],
      "text/plain": [
       "[1] \"double\""
      ]
     },
     "metadata": {},
     "output_type": "display_data"
    }
   ],
   "source": [
    "typeof(var_div)"
   ]
  },
  {
   "cell_type": "code",
   "execution_count": 24,
   "id": "feafa3b7-2fe3-4de5-b895-2d051fad629c",
   "metadata": {
    "tags": []
   },
   "outputs": [],
   "source": [
    "var_div2 <- 240 / var_div"
   ]
  },
  {
   "cell_type": "code",
   "execution_count": 25,
   "id": "7c176de9-1383-49fc-bea5-9ae154e1347d",
   "metadata": {
    "tags": []
   },
   "outputs": [
    {
     "name": "stdout",
     "output_type": "stream",
     "text": [
      "[1] 20\n"
     ]
    }
   ],
   "source": [
    "print(var_div2)"
   ]
  },
  {
   "cell_type": "code",
   "execution_count": 27,
   "id": "c9db7db4-4d67-4339-b225-912d89109bb6",
   "metadata": {
    "tags": []
   },
   "outputs": [],
   "source": [
    "var_div3 <- var_div2 / var_div"
   ]
  },
  {
   "cell_type": "code",
   "execution_count": 28,
   "id": "2a320ab0-56eb-4e55-b904-00a44993a8fb",
   "metadata": {
    "tags": []
   },
   "outputs": [
    {
     "name": "stdout",
     "output_type": "stream",
     "text": [
      "[1] 1.666667\n"
     ]
    }
   ],
   "source": [
    "print(var_div3)"
   ]
  },
  {
   "cell_type": "code",
   "execution_count": 29,
   "id": "31d675ce-9068-4c63-b205-f90579d7ae79",
   "metadata": {
    "tags": []
   },
   "outputs": [
    {
     "data": {
      "text/html": [
       "'double'"
      ],
      "text/latex": [
       "'double'"
      ],
      "text/markdown": [
       "'double'"
      ],
      "text/plain": [
       "[1] \"double\""
      ]
     },
     "metadata": {},
     "output_type": "display_data"
    }
   ],
   "source": [
    "typeof(var_div3)"
   ]
  },
  {
   "cell_type": "markdown",
   "id": "1dde512e-fc40-4ab3-9495-4dcc285c7e53",
   "metadata": {},
   "source": [
    "- __Integer division__"
   ]
  },
  {
   "cell_type": "code",
   "execution_count": 37,
   "id": "97d73d17-6701-4ecb-8e83-655b796aefd8",
   "metadata": {
    "tags": []
   },
   "outputs": [],
   "source": [
    "var_idiv <- 40 %/% 3"
   ]
  },
  {
   "cell_type": "code",
   "execution_count": 39,
   "id": "4acbffe2-8cd3-4d28-ac46-78c3cd83c6e4",
   "metadata": {
    "tags": []
   },
   "outputs": [
    {
     "name": "stdout",
     "output_type": "stream",
     "text": [
      "[1] 13\n"
     ]
    }
   ],
   "source": [
    "print(var_idiv)"
   ]
  },
  {
   "cell_type": "code",
   "execution_count": 40,
   "id": "9daaf769-a9ff-45c6-be7c-aab8aa4acb40",
   "metadata": {
    "tags": []
   },
   "outputs": [],
   "source": [
    "var_idiv2 <- 100 %/% var_idiv"
   ]
  },
  {
   "cell_type": "code",
   "execution_count": 41,
   "id": "d7238424-2906-4784-8db2-803dd0bbe13a",
   "metadata": {
    "tags": []
   },
   "outputs": [
    {
     "name": "stdout",
     "output_type": "stream",
     "text": [
      "[1] 7\n"
     ]
    }
   ],
   "source": [
    "print(var_idiv2)"
   ]
  },
  {
   "cell_type": "code",
   "execution_count": 42,
   "id": "d3731462-7f46-4773-a2ff-659c80b0cb94",
   "metadata": {
    "tags": []
   },
   "outputs": [],
   "source": [
    "var_idiv3 <- var_idiv %/% var_idiv2"
   ]
  },
  {
   "cell_type": "code",
   "execution_count": 43,
   "id": "937afceb-121d-4210-98c9-b6cee98d1606",
   "metadata": {
    "tags": []
   },
   "outputs": [
    {
     "name": "stdout",
     "output_type": "stream",
     "text": [
      "[1] 1\n"
     ]
    }
   ],
   "source": [
    "print(var_idiv3)"
   ]
  },
  {
   "cell_type": "markdown",
   "id": "9274a1c3-36da-46ee-aba4-cc1f7084f885",
   "metadata": {},
   "source": [
    "- __Module/Floor division__"
   ]
  },
  {
   "cell_type": "code",
   "execution_count": 57,
   "id": "0a2ca938-80b2-4a80-af84-c14472058ea4",
   "metadata": {
    "tags": []
   },
   "outputs": [],
   "source": [
    "var_mod <- 221%%8"
   ]
  },
  {
   "cell_type": "code",
   "execution_count": 58,
   "id": "15309170-0ca6-4d9e-b140-cb4c44c960e0",
   "metadata": {
    "tags": []
   },
   "outputs": [
    {
     "name": "stdout",
     "output_type": "stream",
     "text": [
      "[1] 5\n"
     ]
    }
   ],
   "source": [
    "print(var_mod)"
   ]
  },
  {
   "cell_type": "code",
   "execution_count": 59,
   "id": "f3d27028-516a-4de7-9a2b-8c29692bd2ae",
   "metadata": {
    "tags": []
   },
   "outputs": [],
   "source": [
    "var_mod2 <- 123 %% var_mod"
   ]
  },
  {
   "cell_type": "code",
   "execution_count": 60,
   "id": "87370cd0-52fa-4fc1-8293-a88d3dffe246",
   "metadata": {
    "tags": []
   },
   "outputs": [
    {
     "name": "stdout",
     "output_type": "stream",
     "text": [
      "[1] 3\n"
     ]
    }
   ],
   "source": [
    "print(var_mod2)"
   ]
  },
  {
   "cell_type": "code",
   "execution_count": 61,
   "id": "baef0a8d-d6a0-4203-830d-608e9686003f",
   "metadata": {
    "tags": []
   },
   "outputs": [],
   "source": [
    "var_mod3 <- var_mod %% var_mod2"
   ]
  },
  {
   "cell_type": "code",
   "execution_count": 62,
   "id": "534f4ee7-5a5b-4207-9770-26111dc69098",
   "metadata": {
    "tags": []
   },
   "outputs": [
    {
     "name": "stdout",
     "output_type": "stream",
     "text": [
      "[1] 2\n"
     ]
    }
   ],
   "source": [
    "print(var_mod3)"
   ]
  },
  {
   "cell_type": "markdown",
   "id": "2eabc311-77f8-4859-a01d-773f96f3c81e",
   "metadata": {},
   "source": [
    "- __Power__:"
   ]
  },
  {
   "cell_type": "code",
   "execution_count": 1,
   "id": "7613a7d2-2e0d-49a1-9fb5-51c61c2ddf7e",
   "metadata": {
    "tags": []
   },
   "outputs": [],
   "source": [
    "var_pow <- 2^3"
   ]
  },
  {
   "cell_type": "code",
   "execution_count": 2,
   "id": "fa29da73-eee0-42ed-a6f9-e052094b7f52",
   "metadata": {
    "tags": []
   },
   "outputs": [
    {
     "name": "stdout",
     "output_type": "stream",
     "text": [
      "[1] 8\n"
     ]
    }
   ],
   "source": [
    "print(var_pow)"
   ]
  },
  {
   "cell_type": "code",
   "execution_count": 3,
   "id": "2b7fc79b-bd1d-4f09-a18d-0133a3064e5c",
   "metadata": {
    "tags": []
   },
   "outputs": [],
   "source": [
    "var_pow2 <- var_pow ^ 2"
   ]
  },
  {
   "cell_type": "code",
   "execution_count": 4,
   "id": "bcfc87e2-1786-4291-bb31-8fe04d1acae6",
   "metadata": {
    "tags": []
   },
   "outputs": [
    {
     "name": "stdout",
     "output_type": "stream",
     "text": [
      "[1] 64\n"
     ]
    }
   ],
   "source": [
    "print(var_pow2)"
   ]
  },
  {
   "cell_type": "code",
   "execution_count": 5,
   "id": "02ad6494-2be8-47d4-8c45-6c9930d87913",
   "metadata": {
    "tags": []
   },
   "outputs": [],
   "source": [
    "var_pow3 <- var_pow ^ var_pow2"
   ]
  },
  {
   "cell_type": "code",
   "execution_count": 6,
   "id": "7a222ab6-3d00-48e9-a337-89e74b46a278",
   "metadata": {
    "tags": []
   },
   "outputs": [
    {
     "name": "stdout",
     "output_type": "stream",
     "text": [
      "[1] 6.277102e+57\n"
     ]
    }
   ],
   "source": [
    "print(var_pow3)"
   ]
  },
  {
   "cell_type": "markdown",
   "id": "6fdcde83-d4c1-477a-b902-afdc5b210d13",
   "metadata": {},
   "source": [
    "- __Range__:"
   ]
  },
  {
   "cell_type": "markdown",
   "id": "6c5e8915-5f05-445b-90ca-3c44439a411f",
   "metadata": {},
   "source": [
    "We use (i:j) where we start in i and finish in j"
   ]
  },
  {
   "cell_type": "code",
   "execution_count": 7,
   "id": "6129f2c3-6044-493a-837b-4336bae6a0e6",
   "metadata": {
    "tags": []
   },
   "outputs": [],
   "source": [
    "var <- 0:3"
   ]
  },
  {
   "cell_type": "code",
   "execution_count": 8,
   "id": "60c3eb10-08d4-43a1-9fa1-f0c2d9ff5804",
   "metadata": {
    "tags": []
   },
   "outputs": [
    {
     "name": "stdout",
     "output_type": "stream",
     "text": [
      "[1] 0 1 2 3\n"
     ]
    }
   ],
   "source": [
    "print(var)"
   ]
  },
  {
   "cell_type": "markdown",
   "id": "687a4375-8035-4dc3-bdfc-c967a219d946",
   "metadata": {},
   "source": [
    "We can use this to make operations too"
   ]
  },
  {
   "cell_type": "code",
   "execution_count": 9,
   "id": "f01249e0-e880-4f53-8f97-eca4213912de",
   "metadata": {
    "tags": []
   },
   "outputs": [],
   "source": [
    "var_ran_add <- 1 + (1:4)"
   ]
  },
  {
   "cell_type": "code",
   "execution_count": 10,
   "id": "35b6d7be-3e59-46ee-90d7-98b183c5210d",
   "metadata": {
    "tags": []
   },
   "outputs": [
    {
     "name": "stdout",
     "output_type": "stream",
     "text": [
      "[1] 2 3 4 5\n"
     ]
    }
   ],
   "source": [
    "print(var_ran_add)"
   ]
  },
  {
   "cell_type": "code",
   "execution_count": 11,
   "id": "b44776fc-bc98-451a-88d2-c3ea3c1894a0",
   "metadata": {
    "tags": []
   },
   "outputs": [],
   "source": [
    "var_ran_pow <- 2 ^ (0:2)"
   ]
  },
  {
   "cell_type": "code",
   "execution_count": 12,
   "id": "8d4f6282-5c72-4746-bfb0-4d732e7c982d",
   "metadata": {
    "tags": []
   },
   "outputs": [
    {
     "name": "stdout",
     "output_type": "stream",
     "text": [
      "[1] 1 2 4\n"
     ]
    }
   ],
   "source": [
    "print(var_ran_pow)"
   ]
  },
  {
   "cell_type": "markdown",
   "id": "dad81bf6-e0a5-4a46-9bbf-3e52a67df3db",
   "metadata": {},
   "source": [
    "- __Comparisons__:"
   ]
  },
  {
   "cell_type": "markdown",
   "id": "7daac773-f85b-4972-8644-116a796ebcb2",
   "metadata": {},
   "source": [
    "- Equal: =="
   ]
  },
  {
   "cell_type": "code",
   "execution_count": 14,
   "id": "7a70c96f-b0e3-4aeb-b50f-9f67854eb2a9",
   "metadata": {
    "tags": []
   },
   "outputs": [
    {
     "data": {
      "text/html": [
       "FALSE"
      ],
      "text/latex": [
       "FALSE"
      ],
      "text/markdown": [
       "FALSE"
      ],
      "text/plain": [
       "[1] FALSE"
      ]
     },
     "metadata": {},
     "output_type": "display_data"
    }
   ],
   "source": [
    "1 == 2"
   ]
  },
  {
   "cell_type": "markdown",
   "id": "813bef5e-1e48-474c-9ba6-c7ae21a2945e",
   "metadata": {},
   "source": [
    "- Not equal:"
   ]
  },
  {
   "cell_type": "code",
   "execution_count": 15,
   "id": "54e1a3bc-7f81-440a-a6e4-a4a93be5b905",
   "metadata": {
    "tags": []
   },
   "outputs": [
    {
     "data": {
      "text/html": [
       "TRUE"
      ],
      "text/latex": [
       "TRUE"
      ],
      "text/markdown": [
       "TRUE"
      ],
      "text/plain": [
       "[1] TRUE"
      ]
     },
     "metadata": {},
     "output_type": "display_data"
    }
   ],
   "source": [
    "1 != 2"
   ]
  },
  {
   "cell_type": "code",
   "execution_count": null,
   "id": "a9384b84-6cb4-466a-9cf5-cf1a9e052a4b",
   "metadata": {},
   "outputs": [],
   "source": [
    "\n"
   ]
  }
 ],
 "metadata": {
  "kernelspec": {
   "display_name": "R",
   "language": "R",
   "name": "ir"
  },
  "language_info": {
   "codemirror_mode": "r",
   "file_extension": ".r",
   "mimetype": "text/x-r-source",
   "name": "R",
   "pygments_lexer": "r",
   "version": "4.3.1"
  }
 },
 "nbformat": 4,
 "nbformat_minor": 5
}
