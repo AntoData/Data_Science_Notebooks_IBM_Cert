{
 "cells": [
  {
   "cell_type": "markdown",
   "id": "883eb069-7753-4911-a690-96dddb92075f",
   "metadata": {},
   "source": [
    "### Strings"
   ]
  },
  {
   "cell_type": "markdown",
   "id": "ad1c0870-9a8f-494d-9b31-a43e4d6daefd",
   "metadata": {},
   "source": [
    "- Get a part of a string (similar to slicing)"
   ]
  },
  {
   "cell_type": "code",
   "execution_count": 57,
   "id": "ea5c3d9c-fa74-4430-b5b7-bb17a0dbcbf9",
   "metadata": {
    "tags": []
   },
   "outputs": [],
   "source": [
    "var_text <- \"Mike Oldfield\""
   ]
  },
  {
   "cell_type": "code",
   "execution_count": 58,
   "id": "795af281-2fad-4b74-97e7-1855da677df7",
   "metadata": {
    "tags": []
   },
   "outputs": [],
   "source": [
    "sub_var <- substring(var_text, 1, 4)"
   ]
  },
  {
   "cell_type": "code",
   "execution_count": 59,
   "id": "47ca2c99-9b97-4811-8116-3f794e20a033",
   "metadata": {
    "tags": []
   },
   "outputs": [
    {
     "name": "stdout",
     "output_type": "stream",
     "text": [
      "[1] \"Mike\"\n"
     ]
    }
   ],
   "source": [
    "print(sub_var)"
   ]
  },
  {
   "cell_type": "markdown",
   "id": "5d61fe20-3363-4521-a0c9-98bb62bab378",
   "metadata": {},
   "source": [
    "It can be used to select one character only"
   ]
  },
  {
   "cell_type": "code",
   "execution_count": 60,
   "id": "aa9a99dc-a33e-4ed6-870b-3a63413cc2f8",
   "metadata": {
    "tags": []
   },
   "outputs": [],
   "source": [
    "sub_var2 <- substring(var_text, 1, 1)"
   ]
  },
  {
   "cell_type": "code",
   "execution_count": 61,
   "id": "fe43e168-5487-4f2a-84f3-0143e884b960",
   "metadata": {
    "tags": []
   },
   "outputs": [
    {
     "name": "stdout",
     "output_type": "stream",
     "text": [
      "[1] \"M\"\n"
     ]
    }
   ],
   "source": [
    "print(sub_var2)"
   ]
  },
  {
   "cell_type": "markdown",
   "id": "e4f268f7-4f0c-46cc-828b-5b0e69d122a6",
   "metadata": {},
   "source": [
    "- We can use this to replace part of a string"
   ]
  },
  {
   "cell_type": "code",
   "execution_count": 62,
   "id": "88d6c3e8-c78e-4903-8375-3bd0fb2a1efb",
   "metadata": {
    "tags": []
   },
   "outputs": [],
   "source": [
    "substring(var_text, 1, 1) <- \"L\""
   ]
  },
  {
   "cell_type": "code",
   "execution_count": 63,
   "id": "9c774df9-3612-4829-9aee-ed98c1b08bea",
   "metadata": {
    "tags": []
   },
   "outputs": [
    {
     "name": "stdout",
     "output_type": "stream",
     "text": [
      "[1] \"Like Oldfield\"\n"
     ]
    }
   ],
   "source": [
    "print(var_text)"
   ]
  },
  {
   "cell_type": "code",
   "execution_count": 64,
   "id": "3898bc07-22df-4095-8d45-37e3e5ffb4a1",
   "metadata": {
    "tags": []
   },
   "outputs": [],
   "source": [
    "substring(var_text, 2, 4) <- \"ars\""
   ]
  },
  {
   "cell_type": "code",
   "execution_count": 65,
   "id": "50c5bb45-5f9d-4503-a448-72d0e10bcefa",
   "metadata": {
    "tags": []
   },
   "outputs": [
    {
     "name": "stdout",
     "output_type": "stream",
     "text": [
      "[1] \"Lars Oldfield\"\n"
     ]
    }
   ],
   "source": [
    "print(var_text)"
   ]
  },
  {
   "cell_type": "markdown",
   "id": "2a17e815-1de1-4245-9c38-87e3cea94a6e",
   "metadata": {},
   "source": [
    "- We can't slice and stride like in Python"
   ]
  },
  {
   "cell_type": "markdown",
   "id": "7f16b03e-7875-4622-b431-4f60facb58c8",
   "metadata": {},
   "source": [
    "To do slices, we use the function __substring__ described above"
   ]
  },
  {
   "cell_type": "markdown",
   "id": "e57de1d2-7bb0-4cf7-b32c-d5c109a052e6",
   "metadata": {},
   "source": [
    "To do __striding__, we have to use the following functions from the library __seqinr__ (you need to install it):\n",
    "- __s2c__ to convert the string to array of chars\n",
    "- __c2s__ to convert to array of chars to string (oposite process)"
   ]
  },
  {
   "cell_type": "markdown",
   "id": "aa8f627f-df74-4e54-9cf9-ee83294d3b5c",
   "metadata": {
    "tags": []
   },
   "source": [
    "- __s2c__:"
   ]
  },
  {
   "cell_type": "code",
   "execution_count": 89,
   "id": "f3df5f0e-699d-4f11-8f39-5996f26a9aa2",
   "metadata": {
    "tags": []
   },
   "outputs": [],
   "source": [
    "var_vec <- s2c(var_text)"
   ]
  },
  {
   "cell_type": "code",
   "execution_count": 90,
   "id": "33b03b18-6e2a-4c0d-966f-daf5b1955190",
   "metadata": {
    "tags": []
   },
   "outputs": [
    {
     "name": "stdout",
     "output_type": "stream",
     "text": [
      " [1] \"L\" \"a\" \"r\" \"s\" \" \" \"O\" \"l\" \"d\" \"f\" \"i\" \"e\" \"l\" \"d\"\n"
     ]
    }
   ],
   "source": [
    "print(var_vec)"
   ]
  },
  {
   "cell_type": "markdown",
   "id": "65b25323-e6f7-4c57-b5e1-ee07417f37fb",
   "metadata": {
    "tags": []
   },
   "source": [
    "- __c2s__:"
   ]
  },
  {
   "cell_type": "code",
   "execution_count": 91,
   "id": "f80d4362-4ecb-4206-8082-3cae3186e21b",
   "metadata": {
    "tags": []
   },
   "outputs": [],
   "source": [
    "var_str <- c2s(var_vec)"
   ]
  },
  {
   "cell_type": "code",
   "execution_count": 92,
   "id": "239e6ed8-6edb-4205-bc93-4237afbde777",
   "metadata": {
    "tags": []
   },
   "outputs": [
    {
     "name": "stdout",
     "output_type": "stream",
     "text": [
      "[1] \"Lars Oldfield\"\n"
     ]
    }
   ],
   "source": [
    "print(var_str)"
   ]
  },
  {
   "cell_type": "code",
   "execution_count": 86,
   "id": "8e8fb888-77eb-429d-9ee5-a8fef39393a1",
   "metadata": {
    "tags": []
   },
   "outputs": [
    {
     "data": {
      "text/html": [
       "'Lr lfed'"
      ],
      "text/latex": [
       "'Lr lfed'"
      ],
      "text/markdown": [
       "'Lr lfed'"
      ],
      "text/plain": [
       "[1] \"Lr lfed\""
      ]
     },
     "metadata": {},
     "output_type": "display_data"
    }
   ],
   "source": [
    "c2s(s2c(var_text)[seq(to=length(s2c(var_text)),by=2)])"
   ]
  },
  {
   "cell_type": "markdown",
   "id": "8356c3d9-6782-44b5-9626-a199985f2cb1",
   "metadata": {},
   "source": [
    "- __seq__: Given a length of array and a step (by) returns a sequence of numbers __stepping__ by x"
   ]
  },
  {
   "cell_type": "code",
   "execution_count": 93,
   "id": "dcacfcd2-151c-4938-a9e7-17279db2c4df",
   "metadata": {
    "tags": []
   },
   "outputs": [
    {
     "data": {
      "text/html": [
       "<style>\n",
       ".list-inline {list-style: none; margin:0; padding: 0}\n",
       ".list-inline>li {display: inline-block}\n",
       ".list-inline>li:not(:last-child)::after {content: \"\\00b7\"; padding: 0 .5ex}\n",
       "</style>\n",
       "<ol class=list-inline><li>1</li><li>4</li><li>7</li><li>10</li><li>13</li></ol>\n"
      ],
      "text/latex": [
       "\\begin{enumerate*}\n",
       "\\item 1\n",
       "\\item 4\n",
       "\\item 7\n",
       "\\item 10\n",
       "\\item 13\n",
       "\\end{enumerate*}\n"
      ],
      "text/markdown": [
       "1. 1\n",
       "2. 4\n",
       "3. 7\n",
       "4. 10\n",
       "5. 13\n",
       "\n",
       "\n"
      ],
      "text/plain": [
       "[1]  1  4  7 10 13"
      ]
     },
     "metadata": {},
     "output_type": "display_data"
    }
   ],
   "source": [
    "seq(to=length(s2c(var_text)),by=3)"
   ]
  },
  {
   "cell_type": "code",
   "execution_count": 96,
   "id": "2cb50b21-0bc3-4eeb-aed7-a19bceb645bc",
   "metadata": {
    "tags": []
   },
   "outputs": [
    {
     "data": {
      "text/html": [
       "13"
      ],
      "text/latex": [
       "13"
      ],
      "text/markdown": [
       "13"
      ],
      "text/plain": [
       "[1] 13"
      ]
     },
     "metadata": {},
     "output_type": "display_data"
    }
   ],
   "source": [
    "length(s2c(var_text))"
   ]
  },
  {
   "cell_type": "markdown",
   "id": "efc9b698-81a3-40b9-8bcf-624e43a8ca4a",
   "metadata": {},
   "source": [
    "The length of the string turned into vector is 13. We start in 1 and move by 3 positions each iteration so 1 + 3 => 4 + 3 = 7 ..."
   ]
  },
  {
   "cell_type": "markdown",
   "id": "75fe6ac0-64af-4b69-b6ef-1dce838dc048",
   "metadata": {},
   "source": [
    "So we only have to put the pieces together:"
   ]
  },
  {
   "cell_type": "code",
   "execution_count": 145,
   "id": "a2b461a9-d591-4794-85f7-bce9e46ecec8",
   "metadata": {
    "tags": []
   },
   "outputs": [
    {
     "data": {
      "text/html": [
       "'Lr lfed'"
      ],
      "text/latex": [
       "'Lr lfed'"
      ],
      "text/markdown": [
       "'Lr lfed'"
      ],
      "text/plain": [
       "[1] \"Lr lfed\""
      ]
     },
     "metadata": {},
     "output_type": "display_data"
    }
   ],
   "source": [
    "c2s(s2c(var_text)[seq(to=length(s2c(var_text)),by=2)])"
   ]
  },
  {
   "cell_type": "markdown",
   "id": "ceda3b4b-0e36-4590-ae4d-1e8f61785eb7",
   "metadata": {},
   "source": [
    "We can convert it into a function (functions will be explained later)"
   ]
  },
  {
   "cell_type": "code",
   "execution_count": 149,
   "id": "1cc661ab-40c6-4821-9fcc-749f926c8f78",
   "metadata": {
    "tags": []
   },
   "outputs": [],
   "source": [
    "striding_string <- function(str_var, start, end, step){\n",
    "    seq_str <- c2s(s2c(str_var)[seq(from=start, to=end,by=step)])\n",
    "    return(seq_str)\n",
    "}"
   ]
  },
  {
   "cell_type": "code",
   "execution_count": 150,
   "id": "72cb1ece-7fdc-44b0-9a25-50d99a96f5ed",
   "metadata": {
    "tags": []
   },
   "outputs": [],
   "source": [
    "var_res_striding <- striding_string(var_text, 3, 12, 2)"
   ]
  },
  {
   "cell_type": "code",
   "execution_count": 151,
   "id": "df4523a7-0d4c-46ad-8271-e88a8929578f",
   "metadata": {
    "tags": []
   },
   "outputs": [
    {
     "name": "stdout",
     "output_type": "stream",
     "text": [
      "[1] \"r lfe\"\n"
     ]
    }
   ],
   "source": [
    "print(var_res_striding)"
   ]
  },
  {
   "cell_type": "markdown",
   "id": "8baf2236-1928-4929-9fe2-0a10ade94daf",
   "metadata": {},
   "source": [
    "- Concatenate: Function __paste__"
   ]
  },
  {
   "cell_type": "markdown",
   "id": "7ad76240-bc5f-4c57-a02f-bad2c78d4abc",
   "metadata": {
    "tags": []
   },
   "source": [
    "new_str <- __paste__(var1, var2, var3, ...)"
   ]
  },
  {
   "cell_type": "code",
   "execution_count": 155,
   "id": "bb3d970a-0714-490f-9a5b-e836d30e05bc",
   "metadata": {
    "tags": []
   },
   "outputs": [],
   "source": [
    "var_concat <- paste(var_text, \"is\", \"a great \")"
   ]
  },
  {
   "cell_type": "code",
   "execution_count": 156,
   "id": "6cfbd826-24e9-4e49-a9ef-e78a2e50c1f5",
   "metadata": {
    "tags": []
   },
   "outputs": [
    {
     "name": "stdout",
     "output_type": "stream",
     "text": [
      "[1] \"Lars Oldfield is a great \"\n"
     ]
    }
   ],
   "source": [
    "print(var_concat)"
   ]
  },
  {
   "cell_type": "markdown",
   "id": "7b0efe0b-4456-4891-8a29-6245e072ccab",
   "metadata": {},
   "source": [
    "_NOTE_: By default paste adds white space between variables. This is because parameter __sep__ is \" \" by default"
   ]
  },
  {
   "cell_type": "code",
   "execution_count": 158,
   "id": "1b834016-82e7-4d6d-a638-5d8d592946f3",
   "metadata": {
    "tags": []
   },
   "outputs": [],
   "source": [
    "var_concat2 <- paste(var_text, \"is\", \"a great\", sep=\"\")"
   ]
  },
  {
   "cell_type": "code",
   "execution_count": 159,
   "id": "ad1eb4b8-741e-49c6-bf45-53074f6f40a1",
   "metadata": {
    "tags": []
   },
   "outputs": [
    {
     "name": "stdout",
     "output_type": "stream",
     "text": [
      "[1] \"Lars Oldfieldisa great\"\n"
     ]
    }
   ],
   "source": [
    "print(var_concat2)"
   ]
  },
  {
   "cell_type": "markdown",
   "id": "d02e6e8b-2c7e-4be5-a380-10d083843d4d",
   "metadata": {},
   "source": [
    "It can be modified"
   ]
  },
  {
   "cell_type": "markdown",
   "id": "473c3ae8-d35b-4075-be8e-8fd65278b0c3",
   "metadata": {},
   "source": [
    "- Some operations"
   ]
  },
  {
   "cell_type": "markdown",
   "id": "0466e228-2b06-4c06-a8c1-94e765f9549a",
   "metadata": {
    "tags": []
   },
   "source": [
    "1. __toupper__: To switch all lower letters to capital/upper letters"
   ]
  },
  {
   "cell_type": "code",
   "execution_count": 161,
   "id": "c689a020-a1f1-4e94-8a9e-d2f5d70f0d22",
   "metadata": {
    "tags": []
   },
   "outputs": [],
   "source": [
    "var_text <- \"This Is An Example\""
   ]
  },
  {
   "cell_type": "code",
   "execution_count": 162,
   "id": "c8e27fae-ed9e-4e3c-ba80-d87225d6b467",
   "metadata": {
    "tags": []
   },
   "outputs": [],
   "source": [
    "var_upper <- toupper(var_text)"
   ]
  },
  {
   "cell_type": "code",
   "execution_count": 163,
   "id": "50295fec-3ea9-49e2-b34c-bf0819b4aafa",
   "metadata": {
    "tags": []
   },
   "outputs": [
    {
     "name": "stdout",
     "output_type": "stream",
     "text": [
      "[1] \"THIS IS AN EXAMPLE\"\n"
     ]
    }
   ],
   "source": [
    "print(var_upper)"
   ]
  },
  {
   "cell_type": "markdown",
   "id": "abed7102-b095-49e2-87c5-e74f0fdb08a7",
   "metadata": {},
   "source": [
    "2. __tolower__: To switch all upper letters to lower letters"
   ]
  },
  {
   "cell_type": "code",
   "execution_count": 165,
   "id": "25d1e335-5c8f-4c19-9a82-e1689f664c5a",
   "metadata": {
    "tags": []
   },
   "outputs": [],
   "source": [
    "var_lower <- tolower(var_text)"
   ]
  },
  {
   "cell_type": "code",
   "execution_count": 166,
   "id": "66c8d8a6-4c1b-46ad-a92f-7f9954b7045a",
   "metadata": {
    "tags": []
   },
   "outputs": [
    {
     "name": "stdout",
     "output_type": "stream",
     "text": [
      "[1] \"this is an example\"\n"
     ]
    }
   ],
   "source": [
    "print(var_lower)"
   ]
  },
  {
   "cell_type": "markdown",
   "id": "9d722480-fedb-4686-b8d8-65b415de8149",
   "metadata": {},
   "source": [
    "3. __str_replace__: Needs the library stringr and replaces only the first ocurrence"
   ]
  },
  {
   "cell_type": "code",
   "execution_count": 169,
   "id": "6aba5cd4-823b-4610-8e2b-5768e0dc5079",
   "metadata": {
    "tags": []
   },
   "outputs": [],
   "source": [
    "var_replace <- stringr::str_replace(var_lower, \"i\", \"a\")"
   ]
  },
  {
   "cell_type": "code",
   "execution_count": 170,
   "id": "60d5eb39-b890-41b0-84b4-cb0d85edd34c",
   "metadata": {
    "tags": []
   },
   "outputs": [
    {
     "name": "stdout",
     "output_type": "stream",
     "text": [
      "[1] \"thas is an example\"\n"
     ]
    }
   ],
   "source": [
    "print(var_replace)"
   ]
  },
  {
   "cell_type": "markdown",
   "id": "6bdd2ee0-8377-43f9-b6e7-ccf563a1e85d",
   "metadata": {},
   "source": [
    "4. __str_replace_all__: Also needs the library stringr and replaces all ocurrences:"
   ]
  },
  {
   "cell_type": "code",
   "execution_count": 173,
   "id": "a0d022bd-175a-4b34-82e9-07ff60987c94",
   "metadata": {
    "tags": []
   },
   "outputs": [],
   "source": [
    "var_replace_all <- stringr::str_replace_all(var_lower, \"i\", \"a\")"
   ]
  },
  {
   "cell_type": "code",
   "execution_count": 174,
   "id": "c0c84ef4-37e5-483f-b9e3-7a4c32ed4e5f",
   "metadata": {
    "tags": []
   },
   "outputs": [
    {
     "name": "stdout",
     "output_type": "stream",
     "text": [
      "[1] \"thas as an example\"\n"
     ]
    }
   ],
   "source": [
    "print(var_replace_all)"
   ]
  },
  {
   "cell_type": "markdown",
   "id": "d9e91cf8-3f6b-48f1-bd06-645cec4d67bd",
   "metadata": {},
   "source": [
    "5. __grepexp__: If used like below, it can find the index of where a substring starts (in a string)"
   ]
  },
  {
   "cell_type": "code",
   "execution_count": 176,
   "id": "8961c8f7-f78d-4a46-b9be-c686a0cc5488",
   "metadata": {
    "tags": []
   },
   "outputs": [
    {
     "data": {
      "text/html": [
       "11"
      ],
      "text/latex": [
       "11"
      ],
      "text/markdown": [
       "11"
      ],
      "text/plain": [
       "[1] 11"
      ]
     },
     "metadata": {},
     "output_type": "display_data"
    }
   ],
   "source": [
    "unlist(gregexpr('sub', \"This is a substring\"))"
   ]
  },
  {
   "cell_type": "markdown",
   "id": "9f1bc749-7487-47a0-b5f9-6ebcbf1ca178",
   "metadata": {},
   "source": [
    "6. __str_locate_all__: From __stringr__, returns the start index of all ocurrences of a substring in a string"
   ]
  },
  {
   "cell_type": "code",
   "execution_count": 2,
   "id": "bd01c517-9e64-4119-9fe0-7a99c7eab104",
   "metadata": {
    "tags": []
   },
   "outputs": [
    {
     "data": {
      "text/html": [
       "<ol>\n",
       "\t<li><table class=\"dataframe\">\n",
       "<caption>A matrix: 3 × 2 of type int</caption>\n",
       "<thead>\n",
       "\t<tr><th scope=col>start</th><th scope=col>end</th></tr>\n",
       "</thead>\n",
       "<tbody>\n",
       "\t<tr><td>22</td><td>23</td></tr>\n",
       "\t<tr><td>34</td><td>35</td></tr>\n",
       "\t<tr><td>48</td><td>49</td></tr>\n",
       "</tbody>\n",
       "</table>\n",
       "</li>\n",
       "</ol>\n"
      ],
      "text/latex": [
       "\\begin{enumerate}\n",
       "\\item A matrix: 3 × 2 of type int\n",
       "\\begin{tabular}{ll}\n",
       " start & end\\\\\n",
       "\\hline\n",
       "\t 22 & 23\\\\\n",
       "\t 34 & 35\\\\\n",
       "\t 48 & 49\\\\\n",
       "\\end{tabular}\n",
       "\n",
       "\\end{enumerate}\n"
      ],
      "text/markdown": [
       "1. \n",
       "A matrix: 3 × 2 of type int\n",
       "\n",
       "| start | end |\n",
       "|---|---|\n",
       "| 22 | 23 |\n",
       "| 34 | 35 |\n",
       "| 48 | 49 |\n",
       "\n",
       "\n",
       "\n",
       "\n"
      ],
      "text/plain": [
       "[[1]]\n",
       "     start end\n",
       "[1,]    22  23\n",
       "[2,]    34  35\n",
       "[3,]    48  49\n"
      ]
     },
     "metadata": {},
     "output_type": "display_data"
    }
   ],
   "source": [
    "stringr::str_locate_all(pattern = \"re\", \"This is something to remember to remind him to read it\")"
   ]
  },
  {
   "cell_type": "code",
   "execution_count": null,
   "id": "bc0777c6-ca20-4cb5-a71e-c7ea524bd2c7",
   "metadata": {},
   "outputs": [],
   "source": []
  }
 ],
 "metadata": {
  "kernelspec": {
   "display_name": "R",
   "language": "R",
   "name": "ir"
  },
  "language_info": {
   "codemirror_mode": "r",
   "file_extension": ".r",
   "mimetype": "text/x-r-source",
   "name": "R",
   "pygments_lexer": "r",
   "version": "4.1.3"
  }
 },
 "nbformat": 4,
 "nbformat_minor": 5
}
