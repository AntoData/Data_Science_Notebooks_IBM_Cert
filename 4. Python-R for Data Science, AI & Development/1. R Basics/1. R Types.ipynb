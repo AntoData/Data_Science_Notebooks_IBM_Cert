{
 "cells": [
  {
   "cell_type": "markdown",
   "id": "c53dfe2c-4de9-4180-bad8-ba689d290d31",
   "metadata": {},
   "source": [
    "### Types"
   ]
  },
  {
   "cell_type": "markdown",
   "id": "83b03b32-2bf3-4347-a1be-ab1bf064d36a",
   "metadata": {},
   "source": [
    "To know which type variables are we use __typeof(x)__"
   ]
  },
  {
   "cell_type": "markdown",
   "id": "ad585de5-4b21-4e36-b947-7e6005ef38f8",
   "metadata": {},
   "source": [
    "Primitive types that variables in _R_ can have are:"
   ]
  },
  {
   "cell_type": "markdown",
   "id": "b5e7698f-9364-4917-948d-518364916d76",
   "metadata": {},
   "source": [
    "- __Numeric/Double__:"
   ]
  },
  {
   "cell_type": "code",
   "execution_count": 10,
   "id": "325542e1-467e-43f6-b12e-4d4be6e24df7",
   "metadata": {
    "tags": []
   },
   "outputs": [],
   "source": [
    "var_num <- 1"
   ]
  },
  {
   "cell_type": "code",
   "execution_count": 11,
   "id": "5627113e-6e6e-4537-8c1d-8a7b026759b2",
   "metadata": {
    "tags": []
   },
   "outputs": [
    {
     "data": {
      "text/html": [
       "'double'"
      ],
      "text/latex": [
       "'double'"
      ],
      "text/markdown": [
       "'double'"
      ],
      "text/plain": [
       "[1] \"double\""
      ]
     },
     "metadata": {},
     "output_type": "display_data"
    }
   ],
   "source": [
    "typeof(var_num)"
   ]
  },
  {
   "cell_type": "markdown",
   "id": "227fb01c-79c5-4d52-b404-ffcbf8a67fb1",
   "metadata": {},
   "source": [
    "- __Integer__:"
   ]
  },
  {
   "cell_type": "code",
   "execution_count": 12,
   "id": "2a596b11-d340-475c-9d40-9f0c24bea17c",
   "metadata": {
    "tags": []
   },
   "outputs": [],
   "source": [
    "var_int <- 2L"
   ]
  },
  {
   "cell_type": "code",
   "execution_count": 13,
   "id": "df09d2cd-f4fe-4cb7-82a6-c7849f82b3ec",
   "metadata": {
    "tags": []
   },
   "outputs": [
    {
     "data": {
      "text/html": [
       "'integer'"
      ],
      "text/latex": [
       "'integer'"
      ],
      "text/markdown": [
       "'integer'"
      ],
      "text/plain": [
       "[1] \"integer\""
      ]
     },
     "metadata": {},
     "output_type": "display_data"
    }
   ],
   "source": [
    "typeof(var_int)"
   ]
  },
  {
   "cell_type": "markdown",
   "id": "ac79d7ab-c6c3-4c42-81e8-a4f6b34fd50a",
   "metadata": {},
   "source": [
    "- __Float__:"
   ]
  },
  {
   "cell_type": "code",
   "execution_count": 16,
   "id": "a4d3dc92-16dc-4c78-805a-455450a102be",
   "metadata": {
    "tags": []
   },
   "outputs": [],
   "source": [
    "var_float <- 3.3"
   ]
  },
  {
   "cell_type": "code",
   "execution_count": 17,
   "id": "bd98bf32-87c5-49bc-b2cc-8459b329acf2",
   "metadata": {
    "tags": []
   },
   "outputs": [
    {
     "data": {
      "text/html": [
       "'double'"
      ],
      "text/latex": [
       "'double'"
      ],
      "text/markdown": [
       "'double'"
      ],
      "text/plain": [
       "[1] \"double\""
      ]
     },
     "metadata": {},
     "output_type": "display_data"
    }
   ],
   "source": [
    "typeof(var_float)"
   ]
  },
  {
   "cell_type": "markdown",
   "id": "3f835ef2-7162-41c4-ac8d-d6996b47b7be",
   "metadata": {},
   "source": [
    "- __Complex__:"
   ]
  },
  {
   "cell_type": "code",
   "execution_count": 18,
   "id": "6f844b29-54a1-4c12-8143-3decc539b7db",
   "metadata": {
    "tags": []
   },
   "outputs": [],
   "source": [
    "var_complex <- 3 + 4i"
   ]
  },
  {
   "cell_type": "code",
   "execution_count": 20,
   "id": "9ff64ed2-036e-4257-9905-660ec232cc97",
   "metadata": {
    "tags": []
   },
   "outputs": [
    {
     "data": {
      "text/html": [
       "'complex'"
      ],
      "text/latex": [
       "'complex'"
      ],
      "text/markdown": [
       "'complex'"
      ],
      "text/plain": [
       "[1] \"complex\""
      ]
     },
     "metadata": {},
     "output_type": "display_data"
    }
   ],
   "source": [
    "typeof(var_complex)"
   ]
  },
  {
   "cell_type": "markdown",
   "id": "8b95bc6a-a1f5-4b76-a9e9-99f62f78f8bf",
   "metadata": {},
   "source": [
    "- __Logical__:"
   ]
  },
  {
   "cell_type": "code",
   "execution_count": 21,
   "id": "0662d4a8-8071-4f4d-8c0d-bbc445872d17",
   "metadata": {
    "tags": []
   },
   "outputs": [],
   "source": [
    "var_true <- TRUE\n",
    "var_false <- FALSE"
   ]
  },
  {
   "cell_type": "code",
   "execution_count": 22,
   "id": "d8f9e332-ba33-4e6a-acd9-be98c1371d12",
   "metadata": {
    "tags": []
   },
   "outputs": [
    {
     "data": {
      "text/html": [
       "'logical'"
      ],
      "text/latex": [
       "'logical'"
      ],
      "text/markdown": [
       "'logical'"
      ],
      "text/plain": [
       "[1] \"logical\""
      ]
     },
     "metadata": {},
     "output_type": "display_data"
    }
   ],
   "source": [
    "typeof(var_true)"
   ]
  },
  {
   "cell_type": "code",
   "execution_count": 23,
   "id": "aa8471c3-8d13-4e65-a342-e530edb4c75a",
   "metadata": {
    "tags": []
   },
   "outputs": [
    {
     "data": {
      "text/html": [
       "'logical'"
      ],
      "text/latex": [
       "'logical'"
      ],
      "text/markdown": [
       "'logical'"
      ],
      "text/plain": [
       "[1] \"logical\""
      ]
     },
     "metadata": {},
     "output_type": "display_data"
    }
   ],
   "source": [
    "typeof(var_false)"
   ]
  },
  {
   "cell_type": "markdown",
   "id": "44ff912d-9af6-4b14-bd7c-b0ae0531c71a",
   "metadata": {},
   "source": [
    "- __Char__"
   ]
  },
  {
   "cell_type": "code",
   "execution_count": 24,
   "id": "c5b32cd6-5418-40e8-a046-679a8f5b42bc",
   "metadata": {
    "tags": []
   },
   "outputs": [],
   "source": [
    "var_char <- \"aeiou\""
   ]
  },
  {
   "cell_type": "code",
   "execution_count": 25,
   "id": "cdee6f14-4eac-4287-be13-2af2d2ce5c77",
   "metadata": {
    "tags": []
   },
   "outputs": [
    {
     "data": {
      "text/html": [
       "'character'"
      ],
      "text/latex": [
       "'character'"
      ],
      "text/markdown": [
       "'character'"
      ],
      "text/plain": [
       "[1] \"character\""
      ]
     },
     "metadata": {},
     "output_type": "display_data"
    }
   ],
   "source": [
    "typeof(var_char)"
   ]
  },
  {
   "cell_type": "markdown",
   "id": "720b84aa-f553-425f-b802-76e7906c44a4",
   "metadata": {},
   "source": [
    "- __Raw__"
   ]
  },
  {
   "cell_type": "code",
   "execution_count": 26,
   "id": "65cb23fd-5ca5-4221-b005-4f16f08bc945",
   "metadata": {
    "tags": []
   },
   "outputs": [],
   "source": [
    "var_raw <- charToRaw(var_char)"
   ]
  },
  {
   "cell_type": "code",
   "execution_count": 27,
   "id": "5460eda0-2f2f-4170-8003-cbf342b70145",
   "metadata": {
    "tags": []
   },
   "outputs": [
    {
     "data": {
      "text/html": [
       "'raw'"
      ],
      "text/latex": [
       "'raw'"
      ],
      "text/markdown": [
       "'raw'"
      ],
      "text/plain": [
       "[1] \"raw\""
      ]
     },
     "metadata": {},
     "output_type": "display_data"
    }
   ],
   "source": [
    "typeof(var_raw)"
   ]
  },
  {
   "cell_type": "code",
   "execution_count": 28,
   "id": "8bb3f4a5-b96c-4528-ab03-af6aa5441d1e",
   "metadata": {
    "tags": []
   },
   "outputs": [
    {
     "name": "stdout",
     "output_type": "stream",
     "text": [
      "function (length = 0L) \n",
      ".Internal(vector(\"raw\", length))\n",
      "<bytecode: 0x00000179a5e8b640>\n",
      "<environment: namespace:base>\n"
     ]
    }
   ],
   "source": [
    "print(raw)"
   ]
  },
  {
   "cell_type": "markdown",
   "id": "d6d786a9-c7cc-412d-a89b-529b51993da3",
   "metadata": {},
   "source": [
    "#### Type Conversion"
   ]
  },
  {
   "cell_type": "markdown",
   "id": "a67d73be-23c1-4cf3-8a09-5e156c4abef3",
   "metadata": {},
   "source": [
    "- __To numeric__:"
   ]
  },
  {
   "cell_type": "markdown",
   "id": "25022e38-f7a5-4b29-af53-9d679d1ec64e",
   "metadata": {},
   "source": [
    "We can convert from string (char) to numeric"
   ]
  },
  {
   "cell_type": "code",
   "execution_count": 30,
   "id": "353e9f03-adeb-4d38-950a-eb1202761628",
   "metadata": {
    "tags": []
   },
   "outputs": [],
   "source": [
    "var_num <- as.numeric(\"1\")"
   ]
  },
  {
   "cell_type": "code",
   "execution_count": 31,
   "id": "01bc72d2-16da-4094-a6ea-b0c4884e1d5d",
   "metadata": {
    "tags": []
   },
   "outputs": [
    {
     "name": "stdout",
     "output_type": "stream",
     "text": [
      "[1] 1\n"
     ]
    }
   ],
   "source": [
    "print(var_num)"
   ]
  },
  {
   "cell_type": "code",
   "execution_count": 32,
   "id": "efd6a21f-9af8-43ca-b965-900d0f0c6017",
   "metadata": {
    "tags": []
   },
   "outputs": [
    {
     "data": {
      "text/html": [
       "'double'"
      ],
      "text/latex": [
       "'double'"
      ],
      "text/markdown": [
       "'double'"
      ],
      "text/plain": [
       "[1] \"double\""
      ]
     },
     "metadata": {},
     "output_type": "display_data"
    }
   ],
   "source": [
    "typeof(var_num)"
   ]
  },
  {
   "cell_type": "markdown",
   "id": "b724117f-1768-4cf1-aabf-b9704f79b4ba",
   "metadata": {
    "tags": []
   },
   "source": [
    "We can convert from logical to numeric:\n",
    "- TRUE will become 1\n",
    "- FALSE will become 0"
   ]
  },
  {
   "cell_type": "code",
   "execution_count": 34,
   "id": "fac2f52a-e014-4210-a964-0d5368a26c8c",
   "metadata": {
    "tags": []
   },
   "outputs": [],
   "source": [
    "var_logical <- TRUE"
   ]
  },
  {
   "cell_type": "code",
   "execution_count": 38,
   "id": "d7afd664-1dc3-4c88-8377-8bbd4ebd891c",
   "metadata": {
    "tags": []
   },
   "outputs": [],
   "source": [
    "var_num <- as.numeric(var_logical)"
   ]
  },
  {
   "cell_type": "code",
   "execution_count": 39,
   "id": "10a41cb5-a5f7-400c-bcb6-9f6d828d013c",
   "metadata": {
    "tags": []
   },
   "outputs": [
    {
     "name": "stdout",
     "output_type": "stream",
     "text": [
      "[1] 1\n"
     ]
    }
   ],
   "source": [
    "print(var_num)"
   ]
  },
  {
   "cell_type": "code",
   "execution_count": 40,
   "id": "9bf313eb-949e-446d-a7d3-a84ba3c4e282",
   "metadata": {
    "tags": []
   },
   "outputs": [
    {
     "data": {
      "text/html": [
       "'double'"
      ],
      "text/latex": [
       "'double'"
      ],
      "text/markdown": [
       "'double'"
      ],
      "text/plain": [
       "[1] \"double\""
      ]
     },
     "metadata": {},
     "output_type": "display_data"
    }
   ],
   "source": [
    "typeof(var_num)"
   ]
  },
  {
   "cell_type": "code",
   "execution_count": 42,
   "id": "a15f2bbf-ecf8-43c6-8592-89b8cf67ff1b",
   "metadata": {
    "tags": []
   },
   "outputs": [],
   "source": [
    "var_logical <- FALSE"
   ]
  },
  {
   "cell_type": "code",
   "execution_count": 43,
   "id": "7df5aac7-8db9-41e3-adf6-c5514bce3461",
   "metadata": {
    "tags": []
   },
   "outputs": [],
   "source": [
    "var_num <- as.numeric(var_logical)"
   ]
  },
  {
   "cell_type": "code",
   "execution_count": 44,
   "id": "1b6e8eac-bf3e-45a1-817d-71f535e330f3",
   "metadata": {
    "tags": []
   },
   "outputs": [
    {
     "name": "stdout",
     "output_type": "stream",
     "text": [
      "[1] 0\n"
     ]
    }
   ],
   "source": [
    "print(var_num)"
   ]
  },
  {
   "cell_type": "code",
   "execution_count": 45,
   "id": "b9e87d51-0af7-4bbf-a21d-c6f8b2e6cf4a",
   "metadata": {
    "tags": []
   },
   "outputs": [
    {
     "data": {
      "text/html": [
       "'double'"
      ],
      "text/latex": [
       "'double'"
      ],
      "text/markdown": [
       "'double'"
      ],
      "text/plain": [
       "[1] \"double\""
      ]
     },
     "metadata": {},
     "output_type": "display_data"
    }
   ],
   "source": [
    "typeof(var_num)"
   ]
  },
  {
   "cell_type": "markdown",
   "id": "9f2fee6b-0ec8-4054-bef2-ac274e758b5a",
   "metadata": {},
   "source": [
    "- __To integer__:"
   ]
  },
  {
   "cell_type": "markdown",
   "id": "16853b31-e8b7-4c20-80cc-0a35a68140dc",
   "metadata": {},
   "source": [
    "We can convert from string (char) to integer"
   ]
  },
  {
   "cell_type": "code",
   "execution_count": 1,
   "id": "96c3ae96-d983-4fc8-aeda-442676ec305b",
   "metadata": {
    "tags": []
   },
   "outputs": [],
   "source": [
    "var_char <- \"1\""
   ]
  },
  {
   "cell_type": "code",
   "execution_count": 2,
   "id": "26f8aea0-6b54-414d-b086-a7f29e2d8709",
   "metadata": {
    "tags": []
   },
   "outputs": [],
   "source": [
    "var_int <- as.integer(var_char)"
   ]
  },
  {
   "cell_type": "code",
   "execution_count": 3,
   "id": "779ddbf8-6e6b-4cc5-a331-47c11e6d677f",
   "metadata": {
    "tags": []
   },
   "outputs": [
    {
     "name": "stdout",
     "output_type": "stream",
     "text": [
      "[1] 1\n"
     ]
    }
   ],
   "source": [
    "print(var_int)"
   ]
  },
  {
   "cell_type": "code",
   "execution_count": 4,
   "id": "bd67d2b9-29e1-4705-a3b1-edcb0bc85e14",
   "metadata": {
    "tags": []
   },
   "outputs": [
    {
     "data": {
      "text/html": [
       "'integer'"
      ],
      "text/latex": [
       "'integer'"
      ],
      "text/markdown": [
       "'integer'"
      ],
      "text/plain": [
       "[1] \"integer\""
      ]
     },
     "metadata": {},
     "output_type": "display_data"
    }
   ],
   "source": [
    "typeof(var_int)"
   ]
  },
  {
   "cell_type": "markdown",
   "id": "72cd0aee-9997-4392-b195-6c1a2e1df161",
   "metadata": {},
   "source": [
    "We can convert from float to integer (but we lose the decimal part)"
   ]
  },
  {
   "cell_type": "code",
   "execution_count": 5,
   "id": "4d2e94a1-d5ac-4332-bc0c-fda312736b03",
   "metadata": {
    "tags": []
   },
   "outputs": [],
   "source": [
    "var_float <- 1.0"
   ]
  },
  {
   "cell_type": "code",
   "execution_count": 6,
   "id": "b8a4f364-66df-4add-bfb8-33e60866bb12",
   "metadata": {
    "tags": []
   },
   "outputs": [],
   "source": [
    "var_int <- as.integer(var_float)"
   ]
  },
  {
   "cell_type": "code",
   "execution_count": 7,
   "id": "5a0540d8-4eee-4ad1-b206-86df8d4c7727",
   "metadata": {
    "tags": []
   },
   "outputs": [
    {
     "name": "stdout",
     "output_type": "stream",
     "text": [
      "[1] 1\n"
     ]
    }
   ],
   "source": [
    "print(var_int)"
   ]
  },
  {
   "cell_type": "code",
   "execution_count": 8,
   "id": "bbd20194-8567-4f03-8002-f61bcfdd5a2d",
   "metadata": {
    "tags": []
   },
   "outputs": [
    {
     "data": {
      "text/html": [
       "'integer'"
      ],
      "text/latex": [
       "'integer'"
      ],
      "text/markdown": [
       "'integer'"
      ],
      "text/plain": [
       "[1] \"integer\""
      ]
     },
     "metadata": {},
     "output_type": "display_data"
    }
   ],
   "source": [
    "typeof(var_int)"
   ]
  },
  {
   "cell_type": "markdown",
   "id": "0269a5ab-eb79-4a27-baa1-939c757fcea4",
   "metadata": {},
   "source": [
    "We can convert from logical to int too"
   ]
  },
  {
   "cell_type": "code",
   "execution_count": 9,
   "id": "bdd1fa3b-8501-4d10-93bc-8461148b33eb",
   "metadata": {
    "tags": []
   },
   "outputs": [],
   "source": [
    "var_logical <- TRUE"
   ]
  },
  {
   "cell_type": "code",
   "execution_count": 10,
   "id": "c04ea47b-7271-46a4-b5b2-ec1d972f799e",
   "metadata": {
    "tags": []
   },
   "outputs": [],
   "source": [
    "var_int <- as.integer(var_logical)"
   ]
  },
  {
   "cell_type": "code",
   "execution_count": 11,
   "id": "87f2c299-f148-4c37-b6f3-f3b82008c0d6",
   "metadata": {
    "tags": []
   },
   "outputs": [
    {
     "name": "stdout",
     "output_type": "stream",
     "text": [
      "[1] 1\n"
     ]
    }
   ],
   "source": [
    "print(var_int)"
   ]
  },
  {
   "cell_type": "code",
   "execution_count": 12,
   "id": "036b3fe8-9de4-4d09-9168-fdb1a83b80e8",
   "metadata": {
    "tags": []
   },
   "outputs": [
    {
     "data": {
      "text/html": [
       "'integer'"
      ],
      "text/latex": [
       "'integer'"
      ],
      "text/markdown": [
       "'integer'"
      ],
      "text/plain": [
       "[1] \"integer\""
      ]
     },
     "metadata": {},
     "output_type": "display_data"
    }
   ],
   "source": [
    "typeof(var_int)"
   ]
  },
  {
   "cell_type": "markdown",
   "id": "6b301a76-36db-4dc1-9f1a-6977481ff19e",
   "metadata": {
    "tags": []
   },
   "source": [
    "- __To character__"
   ]
  },
  {
   "cell_type": "markdown",
   "id": "a7b5a040-ca8f-4334-a7f5-c9c9d7f6c4d1",
   "metadata": {
    "tags": []
   },
   "source": [
    "We can convert from float to character"
   ]
  },
  {
   "cell_type": "code",
   "execution_count": 16,
   "id": "594e2b27-e12b-4865-b924-38447738f1e2",
   "metadata": {
    "tags": []
   },
   "outputs": [],
   "source": [
    "var_float <- 1.0"
   ]
  },
  {
   "cell_type": "code",
   "execution_count": 17,
   "id": "13180c7c-461e-431d-96c2-61760ef46acf",
   "metadata": {
    "tags": []
   },
   "outputs": [],
   "source": [
    "var_char <- as.character(var_float)"
   ]
  },
  {
   "cell_type": "code",
   "execution_count": 18,
   "id": "91839723-c870-4737-b7a1-c38698c9d471",
   "metadata": {
    "tags": []
   },
   "outputs": [
    {
     "name": "stdout",
     "output_type": "stream",
     "text": [
      "[1] \"1\"\n"
     ]
    }
   ],
   "source": [
    "print(var_char)"
   ]
  },
  {
   "cell_type": "code",
   "execution_count": 19,
   "id": "2ae0eaef-0cff-4fac-8c53-4b1602ae1f67",
   "metadata": {
    "tags": []
   },
   "outputs": [
    {
     "data": {
      "text/html": [
       "'character'"
      ],
      "text/latex": [
       "'character'"
      ],
      "text/markdown": [
       "'character'"
      ],
      "text/plain": [
       "[1] \"character\""
      ]
     },
     "metadata": {},
     "output_type": "display_data"
    }
   ],
   "source": [
    "typeof(var_char)"
   ]
  },
  {
   "cell_type": "markdown",
   "id": "04fd8cde-b2bf-4eca-88b9-d465bc82ffc6",
   "metadata": {},
   "source": [
    "We can convert from integer to character"
   ]
  },
  {
   "cell_type": "code",
   "execution_count": 20,
   "id": "eec87fd3-a351-4826-9687-cd57e41dd591",
   "metadata": {
    "tags": []
   },
   "outputs": [],
   "source": [
    "var_int <- 2L"
   ]
  },
  {
   "cell_type": "code",
   "execution_count": 21,
   "id": "9dd97d06-ccd8-4445-8330-06c1682baac4",
   "metadata": {
    "tags": []
   },
   "outputs": [],
   "source": [
    "var_char <- as.character(var_int)"
   ]
  },
  {
   "cell_type": "code",
   "execution_count": 22,
   "id": "7e0bf7c0-410b-4cf3-b8b9-be8487040174",
   "metadata": {
    "tags": []
   },
   "outputs": [
    {
     "name": "stdout",
     "output_type": "stream",
     "text": [
      "[1] \"2\"\n"
     ]
    }
   ],
   "source": [
    "print(var_char)"
   ]
  },
  {
   "cell_type": "code",
   "execution_count": 23,
   "id": "24ae5582-a468-49d0-b3df-bcafe07ea094",
   "metadata": {
    "tags": []
   },
   "outputs": [
    {
     "data": {
      "text/html": [
       "'character'"
      ],
      "text/latex": [
       "'character'"
      ],
      "text/markdown": [
       "'character'"
      ],
      "text/plain": [
       "[1] \"character\""
      ]
     },
     "metadata": {},
     "output_type": "display_data"
    }
   ],
   "source": [
    "typeof(var_char)"
   ]
  },
  {
   "cell_type": "markdown",
   "id": "59ef04fb-b53e-4c06-9a9a-3d34baa2a778",
   "metadata": {},
   "source": [
    "We can convert from logical to character"
   ]
  },
  {
   "cell_type": "code",
   "execution_count": 24,
   "id": "211e05d4-d93e-4baa-89e3-30d190a21de0",
   "metadata": {
    "tags": []
   },
   "outputs": [],
   "source": [
    "var_logical <- TRUE"
   ]
  },
  {
   "cell_type": "code",
   "execution_count": 25,
   "id": "2eb326d5-e576-4b0f-8119-143479cce922",
   "metadata": {
    "tags": []
   },
   "outputs": [],
   "source": [
    "var_char <- as.character(var_logical)"
   ]
  },
  {
   "cell_type": "code",
   "execution_count": 26,
   "id": "92f8e4dd-9a3b-42d5-8a97-db5f57c265a0",
   "metadata": {
    "tags": []
   },
   "outputs": [
    {
     "name": "stdout",
     "output_type": "stream",
     "text": [
      "[1] \"TRUE\"\n"
     ]
    }
   ],
   "source": [
    "print(var_char)"
   ]
  },
  {
   "cell_type": "code",
   "execution_count": 27,
   "id": "bd62aea6-f3e5-478f-a88d-bcb86b9ba016",
   "metadata": {
    "tags": []
   },
   "outputs": [
    {
     "data": {
      "text/html": [
       "'character'"
      ],
      "text/latex": [
       "'character'"
      ],
      "text/markdown": [
       "'character'"
      ],
      "text/plain": [
       "[1] \"character\""
      ]
     },
     "metadata": {},
     "output_type": "display_data"
    }
   ],
   "source": [
    "typeof(var_char)"
   ]
  },
  {
   "cell_type": "markdown",
   "id": "9e8330a0-20f3-4366-862e-effef4f1cad6",
   "metadata": {},
   "source": [
    "- __To logical__:"
   ]
  },
  {
   "cell_type": "markdown",
   "id": "fb26269f-a99e-416b-a832-1f331ee2f01f",
   "metadata": {},
   "source": [
    "We can convert from float to logical"
   ]
  },
  {
   "cell_type": "markdown",
   "id": "87c530cd-eef1-4e06-8736-3b9807d291fa",
   "metadata": {
    "tags": []
   },
   "source": [
    "- var > 0 or var < 0 -> TRUE\n",
    "- var == 0 -> FALSE"
   ]
  },
  {
   "cell_type": "code",
   "execution_count": 29,
   "id": "affd8f69-b02d-426d-aa3a-15120ff5bf2f",
   "metadata": {
    "tags": []
   },
   "outputs": [],
   "source": [
    "var_float <- 2.0"
   ]
  },
  {
   "cell_type": "code",
   "execution_count": 30,
   "id": "5518713f-da3a-4e96-aa00-552a2dd484ea",
   "metadata": {
    "tags": []
   },
   "outputs": [],
   "source": [
    "var_logical <- as.logical(var_float)"
   ]
  },
  {
   "cell_type": "code",
   "execution_count": 31,
   "id": "a1f9b1ed-ccf0-4a18-97b1-247d018932d3",
   "metadata": {
    "tags": []
   },
   "outputs": [
    {
     "name": "stdout",
     "output_type": "stream",
     "text": [
      "[1] TRUE\n"
     ]
    }
   ],
   "source": [
    "print(var_logical)"
   ]
  },
  {
   "cell_type": "code",
   "execution_count": 32,
   "id": "b1443710-3511-4f0e-b796-768df93e6232",
   "metadata": {
    "tags": []
   },
   "outputs": [
    {
     "data": {
      "text/html": [
       "'logical'"
      ],
      "text/latex": [
       "'logical'"
      ],
      "text/markdown": [
       "'logical'"
      ],
      "text/plain": [
       "[1] \"logical\""
      ]
     },
     "metadata": {},
     "output_type": "display_data"
    }
   ],
   "source": [
    "typeof(var_logical)"
   ]
  },
  {
   "cell_type": "code",
   "execution_count": 33,
   "id": "2a0ef9f3-664b-42d2-9516-ff82b6f83791",
   "metadata": {
    "tags": []
   },
   "outputs": [],
   "source": [
    "var_float <- -1.0"
   ]
  },
  {
   "cell_type": "code",
   "execution_count": 34,
   "id": "3c73872d-07f4-44cd-9bf5-de7708eb70b7",
   "metadata": {
    "tags": []
   },
   "outputs": [],
   "source": [
    "var_logical <- as.logical(var_float)"
   ]
  },
  {
   "cell_type": "code",
   "execution_count": 67,
   "id": "3a662b00-aa65-40bc-8d84-c50018b7f03d",
   "metadata": {
    "tags": []
   },
   "outputs": [
    {
     "name": "stdout",
     "output_type": "stream",
     "text": [
      "[1] FALSE\n"
     ]
    }
   ],
   "source": [
    "print(var_logical)"
   ]
  },
  {
   "cell_type": "code",
   "execution_count": 68,
   "id": "657ae06d-63a6-4cfc-a413-aeb1b34f3282",
   "metadata": {
    "tags": []
   },
   "outputs": [
    {
     "data": {
      "text/html": [
       "'logical'"
      ],
      "text/latex": [
       "'logical'"
      ],
      "text/markdown": [
       "'logical'"
      ],
      "text/plain": [
       "[1] \"logical\""
      ]
     },
     "metadata": {},
     "output_type": "display_data"
    }
   ],
   "source": [
    "typeof(var_logical)"
   ]
  },
  {
   "cell_type": "markdown",
   "id": "7ae2bf8d-b0de-4935-ac29-f7d16f2c363a",
   "metadata": {},
   "source": [
    "We can convert from integer to logical"
   ]
  },
  {
   "cell_type": "markdown",
   "id": "21504791-1d5e-4872-9885-b44971c2cec1",
   "metadata": {
    "tags": []
   },
   "source": [
    "- var > 0 or var < 0 -> TRUE\n",
    "- var == 0 -> FALSE"
   ]
  },
  {
   "cell_type": "code",
   "execution_count": 54,
   "id": "b6d75ebf-f7a0-4869-9c92-a1e11ca76359",
   "metadata": {
    "tags": []
   },
   "outputs": [],
   "source": [
    "var_int <- 2L"
   ]
  },
  {
   "cell_type": "code",
   "execution_count": 55,
   "id": "07c53449-e953-4798-bc0b-5ad6077432c7",
   "metadata": {
    "tags": []
   },
   "outputs": [],
   "source": [
    "var_logical <- as.logical(var_int)"
   ]
  },
  {
   "cell_type": "code",
   "execution_count": 56,
   "id": "de16596a-b36d-446e-848a-097657215070",
   "metadata": {
    "tags": []
   },
   "outputs": [
    {
     "name": "stdout",
     "output_type": "stream",
     "text": [
      "[1] TRUE\n"
     ]
    }
   ],
   "source": [
    "print(var_logical)"
   ]
  },
  {
   "cell_type": "code",
   "execution_count": 57,
   "id": "fe174cde-20be-4a8a-95ea-e5a2eaeebe20",
   "metadata": {
    "tags": []
   },
   "outputs": [
    {
     "data": {
      "text/html": [
       "'logical'"
      ],
      "text/latex": [
       "'logical'"
      ],
      "text/markdown": [
       "'logical'"
      ],
      "text/plain": [
       "[1] \"logical\""
      ]
     },
     "metadata": {},
     "output_type": "display_data"
    }
   ],
   "source": [
    "typeof(var_logical)"
   ]
  },
  {
   "cell_type": "code",
   "execution_count": 58,
   "id": "9038bbae-7f98-4ed3-9c16-12e162169fd6",
   "metadata": {
    "tags": []
   },
   "outputs": [],
   "source": [
    "var_int <- -2L"
   ]
  },
  {
   "cell_type": "code",
   "execution_count": 59,
   "id": "a7d2db45-19b6-40be-9474-28362881e4ef",
   "metadata": {
    "tags": []
   },
   "outputs": [],
   "source": [
    "var_logical <- as.logical(var_int)"
   ]
  },
  {
   "cell_type": "code",
   "execution_count": 60,
   "id": "ffe8f6ad-5e63-49f5-93dc-69b5bfbf0817",
   "metadata": {
    "tags": []
   },
   "outputs": [
    {
     "name": "stdout",
     "output_type": "stream",
     "text": [
      "[1] TRUE\n"
     ]
    }
   ],
   "source": [
    "print(var_logical)"
   ]
  },
  {
   "cell_type": "code",
   "execution_count": 61,
   "id": "14e9bc30-2767-433d-8039-ee9d2be3f34e",
   "metadata": {
    "tags": []
   },
   "outputs": [
    {
     "data": {
      "text/html": [
       "'logical'"
      ],
      "text/latex": [
       "'logical'"
      ],
      "text/markdown": [
       "'logical'"
      ],
      "text/plain": [
       "[1] \"logical\""
      ]
     },
     "metadata": {},
     "output_type": "display_data"
    }
   ],
   "source": [
    "typeof(var_logical)"
   ]
  },
  {
   "cell_type": "code",
   "execution_count": 62,
   "id": "7a669683-bf4d-4b25-80c8-28f60c3cc9b6",
   "metadata": {
    "tags": []
   },
   "outputs": [],
   "source": [
    "var_int <- 0L"
   ]
  },
  {
   "cell_type": "code",
   "execution_count": 63,
   "id": "c3a5c783-353b-4197-b16c-d87f1ac4aa5b",
   "metadata": {
    "tags": []
   },
   "outputs": [],
   "source": [
    "var_logical <- as.logical(var_int)"
   ]
  },
  {
   "cell_type": "code",
   "execution_count": 64,
   "id": "7406de4c-8010-4c29-a14a-33bad277cc66",
   "metadata": {
    "tags": []
   },
   "outputs": [
    {
     "name": "stdout",
     "output_type": "stream",
     "text": [
      "[1] FALSE\n"
     ]
    }
   ],
   "source": [
    "print(var_logical)"
   ]
  },
  {
   "cell_type": "code",
   "execution_count": 65,
   "id": "86372311-1ffd-4c65-8aa9-72862df6dfd7",
   "metadata": {
    "tags": []
   },
   "outputs": [
    {
     "data": {
      "text/html": [
       "'logical'"
      ],
      "text/latex": [
       "'logical'"
      ],
      "text/markdown": [
       "'logical'"
      ],
      "text/plain": [
       "[1] \"logical\""
      ]
     },
     "metadata": {},
     "output_type": "display_data"
    }
   ],
   "source": [
    "typeof(var_logical)"
   ]
  },
  {
   "cell_type": "code",
   "execution_count": 36,
   "id": "c2855ab2-e80b-4e68-b704-78d78b308908",
   "metadata": {
    "tags": []
   },
   "outputs": [],
   "source": [
    "var_float <- 0.0"
   ]
  },
  {
   "cell_type": "code",
   "execution_count": 37,
   "id": "6ea63ffc-174f-4f9c-a832-466739d9fdc9",
   "metadata": {
    "tags": []
   },
   "outputs": [],
   "source": [
    "var_logical <- as.logical(var_float)"
   ]
  },
  {
   "cell_type": "code",
   "execution_count": 38,
   "id": "98fe33b7-bad5-46ef-b724-bea96c6c3875",
   "metadata": {
    "tags": []
   },
   "outputs": [
    {
     "name": "stdout",
     "output_type": "stream",
     "text": [
      "[1] FALSE\n"
     ]
    }
   ],
   "source": [
    "print(var_logical)"
   ]
  },
  {
   "cell_type": "code",
   "execution_count": 39,
   "id": "98cfc926-5197-493d-ac61-8464678fc769",
   "metadata": {
    "tags": []
   },
   "outputs": [
    {
     "data": {
      "text/html": [
       "'logical'"
      ],
      "text/latex": [
       "'logical'"
      ],
      "text/markdown": [
       "'logical'"
      ],
      "text/plain": [
       "[1] \"logical\""
      ]
     },
     "metadata": {},
     "output_type": "display_data"
    }
   ],
   "source": [
    "typeof(var_logical)"
   ]
  },
  {
   "cell_type": "markdown",
   "id": "7758e822-85b8-422a-9e23-453a898f18e4",
   "metadata": {},
   "source": [
    "We can convert from string/character to logical"
   ]
  },
  {
   "cell_type": "markdown",
   "id": "ef4d17aa-32f8-4c42-9a5c-40a440a34761",
   "metadata": {},
   "source": [
    "- \"FALSE\" -> FALSE\n",
    "- \"TRUE\" -> TRUE\n",
    "- Otherwise -> NA"
   ]
  },
  {
   "cell_type": "code",
   "execution_count": 69,
   "id": "e006287f-c4ec-4fbe-abf0-ed717231c9c8",
   "metadata": {
    "tags": []
   },
   "outputs": [],
   "source": [
    "var_char <- \"FALSE\""
   ]
  },
  {
   "cell_type": "code",
   "execution_count": 70,
   "id": "f86ccfb8-e4aa-451e-a305-2480fb52bf98",
   "metadata": {
    "tags": []
   },
   "outputs": [],
   "source": [
    "var_logical <- as.logical(var_char)"
   ]
  },
  {
   "cell_type": "code",
   "execution_count": 71,
   "id": "090b0d07-9942-4587-8cc7-9dad5395a39f",
   "metadata": {
    "tags": []
   },
   "outputs": [
    {
     "name": "stdout",
     "output_type": "stream",
     "text": [
      "[1] FALSE\n"
     ]
    }
   ],
   "source": [
    "print(var_logical)"
   ]
  },
  {
   "cell_type": "code",
   "execution_count": 72,
   "id": "15eb340c-9d0b-4b2c-b1c4-b7b7aaceaa84",
   "metadata": {
    "tags": []
   },
   "outputs": [
    {
     "data": {
      "text/html": [
       "'logical'"
      ],
      "text/latex": [
       "'logical'"
      ],
      "text/markdown": [
       "'logical'"
      ],
      "text/plain": [
       "[1] \"logical\""
      ]
     },
     "metadata": {},
     "output_type": "display_data"
    }
   ],
   "source": [
    "typeof(var_logical)"
   ]
  },
  {
   "cell_type": "code",
   "execution_count": 73,
   "id": "3a4a0fb1-a640-4b81-8092-2121bad350f0",
   "metadata": {
    "tags": []
   },
   "outputs": [],
   "source": [
    "var_char <- \"TRUE\""
   ]
  },
  {
   "cell_type": "code",
   "execution_count": 74,
   "id": "99f5351c-021f-43aa-904f-5299ab0b51fc",
   "metadata": {
    "tags": []
   },
   "outputs": [],
   "source": [
    "var_logical <- as.logical(var_char)"
   ]
  },
  {
   "cell_type": "code",
   "execution_count": 75,
   "id": "dd95ae62-8741-4352-91c7-1e2c313c6cb2",
   "metadata": {
    "tags": []
   },
   "outputs": [
    {
     "name": "stdout",
     "output_type": "stream",
     "text": [
      "[1] TRUE\n"
     ]
    }
   ],
   "source": [
    "print(var_logical)"
   ]
  },
  {
   "cell_type": "code",
   "execution_count": 76,
   "id": "18aa0d4a-18a2-4286-9756-36865f0397dd",
   "metadata": {
    "tags": []
   },
   "outputs": [
    {
     "data": {
      "text/html": [
       "'logical'"
      ],
      "text/latex": [
       "'logical'"
      ],
      "text/markdown": [
       "'logical'"
      ],
      "text/plain": [
       "[1] \"logical\""
      ]
     },
     "metadata": {},
     "output_type": "display_data"
    }
   ],
   "source": [
    "typeof(var_logical)"
   ]
  },
  {
   "cell_type": "code",
   "execution_count": 77,
   "id": "9f9dcf7c-da89-499f-b3bb-47c2a3f8faa5",
   "metadata": {
    "tags": []
   },
   "outputs": [],
   "source": [
    "var_char <- \"1\""
   ]
  },
  {
   "cell_type": "code",
   "execution_count": 78,
   "id": "4b89ff3e-9fff-4cff-b8ba-984772fdf33c",
   "metadata": {
    "tags": []
   },
   "outputs": [],
   "source": [
    "var_logical <- as.logical(var_char)"
   ]
  },
  {
   "cell_type": "code",
   "execution_count": 48,
   "id": "7fea5de5-93fb-4909-9f66-151984abf00d",
   "metadata": {
    "tags": []
   },
   "outputs": [
    {
     "name": "stdout",
     "output_type": "stream",
     "text": [
      "[1] NA\n"
     ]
    }
   ],
   "source": [
    "print(var_logical)"
   ]
  },
  {
   "cell_type": "code",
   "execution_count": 79,
   "id": "a2a07c01-e9ba-4c3b-9150-ab989699075e",
   "metadata": {
    "tags": []
   },
   "outputs": [
    {
     "data": {
      "text/html": [
       "'logical'"
      ],
      "text/latex": [
       "'logical'"
      ],
      "text/markdown": [
       "'logical'"
      ],
      "text/plain": [
       "[1] \"logical\""
      ]
     },
     "metadata": {},
     "output_type": "display_data"
    }
   ],
   "source": [
    "typeof(var_logical)"
   ]
  },
  {
   "cell_type": "markdown",
   "id": "d7483c7a-f3a2-4062-8848-104af04e8645",
   "metadata": {},
   "source": [
    "- __To Raw__:"
   ]
  },
  {
   "cell_type": "code",
   "execution_count": 80,
   "id": "1a7a75f3-e6ba-4c90-b8a6-4e7999312c33",
   "metadata": {
    "tags": []
   },
   "outputs": [],
   "source": [
    "var_char <- \"a\""
   ]
  },
  {
   "cell_type": "code",
   "execution_count": 81,
   "id": "70e6f570-812b-4864-bd65-e042b9173712",
   "metadata": {
    "tags": []
   },
   "outputs": [],
   "source": [
    "var_raw <- charToRaw(var_char)"
   ]
  },
  {
   "cell_type": "code",
   "execution_count": 82,
   "id": "16396e51-4524-4575-b85d-248a59bf62d9",
   "metadata": {
    "tags": []
   },
   "outputs": [
    {
     "name": "stdout",
     "output_type": "stream",
     "text": [
      "[1] 61\n"
     ]
    }
   ],
   "source": [
    "print(var_raw)"
   ]
  },
  {
   "cell_type": "code",
   "execution_count": 83,
   "id": "6c8fef59-e541-4308-bacd-73a6bba94fbe",
   "metadata": {
    "tags": []
   },
   "outputs": [
    {
     "data": {
      "text/html": [
       "'raw'"
      ],
      "text/latex": [
       "'raw'"
      ],
      "text/markdown": [
       "'raw'"
      ],
      "text/plain": [
       "[1] \"raw\""
      ]
     },
     "metadata": {},
     "output_type": "display_data"
    }
   ],
   "source": [
    "typeof(var_raw)"
   ]
  },
  {
   "cell_type": "code",
   "execution_count": 84,
   "id": "0528b105-527d-422d-914c-1cda4492c42e",
   "metadata": {
    "tags": []
   },
   "outputs": [],
   "source": [
    "var_char2 <- rawToChar(var_raw)"
   ]
  },
  {
   "cell_type": "code",
   "execution_count": 85,
   "id": "3d652f54-70b0-4b88-b909-ec9e86f1cba1",
   "metadata": {
    "tags": []
   },
   "outputs": [
    {
     "name": "stdout",
     "output_type": "stream",
     "text": [
      "[1] \"a\"\n"
     ]
    }
   ],
   "source": [
    "print(var_char2)"
   ]
  },
  {
   "cell_type": "code",
   "execution_count": 86,
   "id": "be1a9ac3-8b06-4d65-9495-fda1718e21dd",
   "metadata": {
    "tags": []
   },
   "outputs": [
    {
     "data": {
      "text/html": [
       "'character'"
      ],
      "text/latex": [
       "'character'"
      ],
      "text/markdown": [
       "'character'"
      ],
      "text/plain": [
       "[1] \"character\""
      ]
     },
     "metadata": {},
     "output_type": "display_data"
    }
   ],
   "source": [
    "typeof(var_char2)"
   ]
  },
  {
   "cell_type": "code",
   "execution_count": null,
   "id": "d4263724-8899-4251-997f-e8476f55583a",
   "metadata": {},
   "outputs": [],
   "source": []
  }
 ],
 "metadata": {
  "kernelspec": {
   "display_name": "R",
   "language": "R",
   "name": "ir"
  },
  "language_info": {
   "codemirror_mode": "r",
   "file_extension": ".r",
   "mimetype": "text/x-r-source",
   "name": "R",
   "pygments_lexer": "r",
   "version": "4.1.3"
  }
 },
 "nbformat": 4,
 "nbformat_minor": 5
}
