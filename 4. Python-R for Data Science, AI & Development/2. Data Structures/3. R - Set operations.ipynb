{
 "cells": [
  {
   "cell_type": "markdown",
   "id": "3dfcc33d-6d0c-4f6e-8f21-dce7d14c8282",
   "metadata": {},
   "source": [
    "### Set Operations"
   ]
  },
  {
   "cell_type": "markdown",
   "id": "1e602844-80f0-4660-a62f-e056e9bdbefc",
   "metadata": {},
   "source": [
    "__R does not provide a data structure similar to what other languages define as a set__:\n",
    "1. Data structure that is unordered\n",
    "2. Data structure that only contains unique elements"
   ]
  },
  {
   "cell_type": "markdown",
   "id": "f4f6e814-4c72-4344-87a4-12a0873a68b5",
   "metadata": {},
   "source": [
    "- __unique()__: Returns the elements of a data structure without repetitions"
   ]
  },
  {
   "cell_type": "code",
   "execution_count": 1,
   "id": "44c56fb6-32b0-443b-94d3-f1c3211893c7",
   "metadata": {
    "tags": []
   },
   "outputs": [],
   "source": [
    "list_var <- list(1,2,3,1,3,4,2)"
   ]
  },
  {
   "cell_type": "code",
   "execution_count": 2,
   "id": "3ac6cc40-a981-43e5-b89f-50d442019185",
   "metadata": {
    "tags": []
   },
   "outputs": [
    {
     "name": "stdout",
     "output_type": "stream",
     "text": [
      "[[1]]\n",
      "[1] 1\n",
      "\n",
      "[[2]]\n",
      "[1] 2\n",
      "\n",
      "[[3]]\n",
      "[1] 3\n",
      "\n",
      "[[4]]\n",
      "[1] 1\n",
      "\n",
      "[[5]]\n",
      "[1] 3\n",
      "\n",
      "[[6]]\n",
      "[1] 4\n",
      "\n",
      "[[7]]\n",
      "[1] 2\n",
      "\n"
     ]
    }
   ],
   "source": [
    "print(list_var)"
   ]
  },
  {
   "cell_type": "code",
   "execution_count": 3,
   "id": "4914edbc-2b88-41a4-a282-610613fb683a",
   "metadata": {
    "tags": []
   },
   "outputs": [
    {
     "data": {
      "text/html": [
       "<ol>\n",
       "\t<li>1</li>\n",
       "\t<li>2</li>\n",
       "\t<li>3</li>\n",
       "\t<li>4</li>\n",
       "</ol>\n"
      ],
      "text/latex": [
       "\\begin{enumerate}\n",
       "\\item 1\n",
       "\\item 2\n",
       "\\item 3\n",
       "\\item 4\n",
       "\\end{enumerate}\n"
      ],
      "text/markdown": [
       "1. 1\n",
       "2. 2\n",
       "3. 3\n",
       "4. 4\n",
       "\n",
       "\n"
      ],
      "text/plain": [
       "[[1]]\n",
       "[1] 1\n",
       "\n",
       "[[2]]\n",
       "[1] 2\n",
       "\n",
       "[[3]]\n",
       "[1] 3\n",
       "\n",
       "[[4]]\n",
       "[1] 4\n"
      ]
     },
     "metadata": {},
     "output_type": "display_data"
    }
   ],
   "source": [
    "unique(list_var)"
   ]
  },
  {
   "cell_type": "markdown",
   "id": "44fbfb63-6882-4f86-92d3-b505456b0c12",
   "metadata": {},
   "source": [
    "- __Intersection__:"
   ]
  },
  {
   "cell_type": "code",
   "execution_count": 6,
   "id": "01d2fa02-f711-4972-87dc-5a07174b34ad",
   "metadata": {
    "tags": []
   },
   "outputs": [
    {
     "data": {
      "text/html": [
       "<style>\n",
       ".list-inline {list-style: none; margin:0; padding: 0}\n",
       ".list-inline>li {display: inline-block}\n",
       ".list-inline>li:not(:last-child)::after {content: \"\\00b7\"; padding: 0 .5ex}\n",
       "</style>\n",
       "<ol class=list-inline><li>'Pop'</li><li>'Jazz'</li></ol>\n"
      ],
      "text/latex": [
       "\\begin{enumerate*}\n",
       "\\item 'Pop'\n",
       "\\item 'Jazz'\n",
       "\\end{enumerate*}\n"
      ],
      "text/markdown": [
       "1. 'Pop'\n",
       "2. 'Jazz'\n",
       "\n",
       "\n"
      ],
      "text/plain": [
       "[1] \"Pop\"  \"Jazz\""
      ]
     },
     "metadata": {},
     "output_type": "display_data"
    }
   ],
   "source": [
    "genres1 <- c(\"New Age\", \"Rock\", \"Pop\", \"Jazz\", \"Country\")\n",
    "genres2 <- c(\"Dance\", \"R&B\", \"Pop\", \"Folk\", \"Jazz\")\n",
    "intersect(genres1, genres2)"
   ]
  },
  {
   "cell_type": "markdown",
   "id": "37753079-1475-4de7-9443-f06d482481ac",
   "metadata": {},
   "source": [
    "- __Difference__:"
   ]
  },
  {
   "cell_type": "code",
   "execution_count": 8,
   "id": "7a1bb462-65c7-48b4-816e-ebc151ba2580",
   "metadata": {
    "tags": []
   },
   "outputs": [
    {
     "data": {
      "text/html": [
       "<style>\n",
       ".list-inline {list-style: none; margin:0; padding: 0}\n",
       ".list-inline>li {display: inline-block}\n",
       ".list-inline>li:not(:last-child)::after {content: \"\\00b7\"; padding: 0 .5ex}\n",
       "</style>\n",
       "<ol class=list-inline><li>'New Age'</li><li>'Rock'</li><li>'Country'</li></ol>\n"
      ],
      "text/latex": [
       "\\begin{enumerate*}\n",
       "\\item 'New Age'\n",
       "\\item 'Rock'\n",
       "\\item 'Country'\n",
       "\\end{enumerate*}\n"
      ],
      "text/markdown": [
       "1. 'New Age'\n",
       "2. 'Rock'\n",
       "3. 'Country'\n",
       "\n",
       "\n"
      ],
      "text/plain": [
       "[1] \"New Age\" \"Rock\"    \"Country\""
      ]
     },
     "metadata": {},
     "output_type": "display_data"
    }
   ],
   "source": [
    "setdiff(genres1, genres2)"
   ]
  },
  {
   "cell_type": "markdown",
   "id": "102344d4-4998-4fd7-9b64-defc67f7ef8c",
   "metadata": {},
   "source": [
    "- __Union__:"
   ]
  },
  {
   "cell_type": "code",
   "execution_count": 9,
   "id": "e4f82408-477a-4ad9-af0e-a5638b71f638",
   "metadata": {
    "tags": []
   },
   "outputs": [
    {
     "data": {
      "text/html": [
       "<style>\n",
       ".list-inline {list-style: none; margin:0; padding: 0}\n",
       ".list-inline>li {display: inline-block}\n",
       ".list-inline>li:not(:last-child)::after {content: \"\\00b7\"; padding: 0 .5ex}\n",
       "</style>\n",
       "<ol class=list-inline><li>'New Age'</li><li>'Rock'</li><li>'Pop'</li><li>'Jazz'</li><li>'Country'</li><li>'Dance'</li><li>'R&amp;B'</li><li>'Folk'</li></ol>\n"
      ],
      "text/latex": [
       "\\begin{enumerate*}\n",
       "\\item 'New Age'\n",
       "\\item 'Rock'\n",
       "\\item 'Pop'\n",
       "\\item 'Jazz'\n",
       "\\item 'Country'\n",
       "\\item 'Dance'\n",
       "\\item 'R\\&B'\n",
       "\\item 'Folk'\n",
       "\\end{enumerate*}\n"
      ],
      "text/markdown": [
       "1. 'New Age'\n",
       "2. 'Rock'\n",
       "3. 'Pop'\n",
       "4. 'Jazz'\n",
       "5. 'Country'\n",
       "6. 'Dance'\n",
       "7. 'R&amp;B'\n",
       "8. 'Folk'\n",
       "\n",
       "\n"
      ],
      "text/plain": [
       "[1] \"New Age\" \"Rock\"    \"Pop\"     \"Jazz\"    \"Country\" \"Dance\"   \"R&B\"    \n",
       "[8] \"Folk\"   "
      ]
     },
     "metadata": {},
     "output_type": "display_data"
    }
   ],
   "source": [
    "union(genres1, genres2)"
   ]
  },
  {
   "cell_type": "code",
   "execution_count": null,
   "id": "71698e71-0830-4d2f-92c5-356969c64514",
   "metadata": {},
   "outputs": [],
   "source": []
  }
 ],
 "metadata": {
  "kernelspec": {
   "display_name": "R",
   "language": "R",
   "name": "ir"
  },
  "language_info": {
   "codemirror_mode": "r",
   "file_extension": ".r",
   "mimetype": "text/x-r-source",
   "name": "R",
   "pygments_lexer": "r",
   "version": "4.3.1"
  }
 },
 "nbformat": 4,
 "nbformat_minor": 5
}
