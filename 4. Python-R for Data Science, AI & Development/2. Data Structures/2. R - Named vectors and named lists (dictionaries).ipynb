{
 "cells": [
  {
   "cell_type": "markdown",
   "id": "5f8e38f8-0a11-4f14-9698-7ca32293beda",
   "metadata": {},
   "source": [
    "### Named vectors"
   ]
  },
  {
   "cell_type": "markdown",
   "id": "cb6747b5-c67c-487b-91d8-3df58b285718",
   "metadata": {},
   "source": [
    "- R does not have a data structure completely equal to dictionaries in Python\n",
    "- However, R provides the posibility to create __named vectors__\n",
    "- __Named vectors__: Vectors whose elements are assigned names and can be retrieved using those names (similar to keys in dictionaries)"
   ]
  },
  {
   "cell_type": "markdown",
   "id": "3f76d88d-f7c1-4521-917b-79c7d90ac2dc",
   "metadata": {},
   "source": [
    "- __Creation__: c(var = value, ....)"
   ]
  },
  {
   "cell_type": "code",
   "execution_count": 1,
   "id": "5243cc14-4471-4329-9baf-afbb83a39b88",
   "metadata": {
    "tags": []
   },
   "outputs": [],
   "source": [
    "named_vector = c(name = \"John\", surname = \"Doe\", address = \"New Street\")"
   ]
  },
  {
   "cell_type": "code",
   "execution_count": 10,
   "id": "4076da83-1b0b-4eca-b633-fd19887a6b1c",
   "metadata": {
    "tags": []
   },
   "outputs": [
    {
     "name": "stdout",
     "output_type": "stream",
     "text": [
      "        name      surname      address \n",
      "      \"John\"        \"Doe\" \"New Street\" \n"
     ]
    }
   ],
   "source": [
    "print(named_vector)"
   ]
  },
  {
   "cell_type": "markdown",
   "id": "d52532fc-474b-4fb2-bc50-b462a7a84663",
   "metadata": {},
   "source": [
    "- __Names__ as keys:"
   ]
  },
  {
   "cell_type": "code",
   "execution_count": 6,
   "id": "0b68a48d-43e5-44b4-9cde-d93da226570f",
   "metadata": {
    "tags": []
   },
   "outputs": [
    {
     "data": {
      "text/html": [
       "<strong>name:</strong> 'John'"
      ],
      "text/latex": [
       "\\textbf{name:} 'John'"
      ],
      "text/markdown": [
       "**name:** 'John'"
      ],
      "text/plain": [
       "  name \n",
       "\"John\" "
      ]
     },
     "metadata": {},
     "output_type": "display_data"
    }
   ],
   "source": [
    "named_vector[\"name\"]"
   ]
  },
  {
   "cell_type": "code",
   "execution_count": 7,
   "id": "d6edb74c-4337-45a8-b20a-d69efc96d09e",
   "metadata": {
    "tags": []
   },
   "outputs": [
    {
     "data": {
      "text/html": [
       "<strong>address:</strong> 'New Street'"
      ],
      "text/latex": [
       "\\textbf{address:} 'New Street'"
      ],
      "text/markdown": [
       "**address:** 'New Street'"
      ],
      "text/plain": [
       "     address \n",
       "\"New Street\" "
      ]
     },
     "metadata": {},
     "output_type": "display_data"
    }
   ],
   "source": [
    "named_vector[\"address\"]"
   ]
  },
  {
   "cell_type": "markdown",
   "id": "20a3fd31-fb87-4a7d-8941-48c7f2450254",
   "metadata": {},
   "source": [
    "- __Iteration using indexes__:"
   ]
  },
  {
   "cell_type": "code",
   "execution_count": 8,
   "id": "f71531d6-d8a2-4973-8e83-a260c3ab01f5",
   "metadata": {
    "tags": []
   },
   "outputs": [
    {
     "data": {
      "text/html": [
       "<strong>name:</strong> 'John'"
      ],
      "text/latex": [
       "\\textbf{name:} 'John'"
      ],
      "text/markdown": [
       "**name:** 'John'"
      ],
      "text/plain": [
       "  name \n",
       "\"John\" "
      ]
     },
     "metadata": {},
     "output_type": "display_data"
    }
   ],
   "source": [
    "named_vector[1]"
   ]
  },
  {
   "cell_type": "code",
   "execution_count": 9,
   "id": "ef8bff08-4efc-49fc-88b4-ba2edf15656f",
   "metadata": {
    "tags": []
   },
   "outputs": [
    {
     "data": {
      "text/html": [
       "<strong>address:</strong> 'New Street'"
      ],
      "text/latex": [
       "\\textbf{address:} 'New Street'"
      ],
      "text/markdown": [
       "**address:** 'New Street'"
      ],
      "text/plain": [
       "     address \n",
       "\"New Street\" "
      ]
     },
     "metadata": {},
     "output_type": "display_data"
    }
   ],
   "source": [
    "named_vector[3]"
   ]
  },
  {
   "cell_type": "markdown",
   "id": "12fb6920-d6d7-48b2-a5ce-1b6844bd5683",
   "metadata": {},
   "source": [
    "- __str__: Structure of the object, how the object is stored"
   ]
  },
  {
   "cell_type": "code",
   "execution_count": 11,
   "id": "c493a6d6-501a-4fed-b5f0-a39e84036388",
   "metadata": {
    "tags": []
   },
   "outputs": [
    {
     "name": "stdout",
     "output_type": "stream",
     "text": [
      " Named chr [1:3] \"John\" \"Doe\" \"New Street\"\n",
      " - attr(*, \"names\")= chr [1:3] \"name\" \"surname\" \"address\"\n"
     ]
    }
   ],
   "source": [
    "str(named_vector)"
   ]
  },
  {
   "cell_type": "markdown",
   "id": "6d5430a0-39e1-42bd-bb2d-dfb645f5ffd1",
   "metadata": {
    "tags": []
   },
   "source": [
    "- __Getting several elements__: We can also use this to alter the order in which the elements are returned"
   ]
  },
  {
   "cell_type": "markdown",
   "id": "b7102c75-18c9-4c8b-a551-4cce67510296",
   "metadata": {},
   "source": [
    "1. Based on _indexes_:"
   ]
  },
  {
   "cell_type": "code",
   "execution_count": 13,
   "id": "a62d488f-535d-43bd-aed2-7d8373479038",
   "metadata": {
    "tags": []
   },
   "outputs": [
    {
     "data": {
      "text/html": [
       "<style>\n",
       ".dl-inline {width: auto; margin:0; padding: 0}\n",
       ".dl-inline>dt, .dl-inline>dd {float: none; width: auto; display: inline-block}\n",
       ".dl-inline>dt::after {content: \":\\0020\"; padding-right: .5ex}\n",
       ".dl-inline>dt:not(:first-of-type) {padding-left: .5ex}\n",
       "</style><dl class=dl-inline><dt>name</dt><dd>'John'</dd><dt>address</dt><dd>'New Street'</dd></dl>\n"
      ],
      "text/latex": [
       "\\begin{description*}\n",
       "\\item[name] 'John'\n",
       "\\item[address] 'New Street'\n",
       "\\end{description*}\n"
      ],
      "text/markdown": [
       "name\n",
       ":   'John'address\n",
       ":   'New Street'\n",
       "\n"
      ],
      "text/plain": [
       "        name      address \n",
       "      \"John\" \"New Street\" "
      ]
     },
     "metadata": {},
     "output_type": "display_data"
    }
   ],
   "source": [
    "named_vector[c(1, 3)]"
   ]
  },
  {
   "cell_type": "code",
   "execution_count": 16,
   "id": "c3e2c07c-f2c0-47b4-8953-43880a845fc7",
   "metadata": {
    "tags": []
   },
   "outputs": [
    {
     "data": {
      "text/html": [
       "<style>\n",
       ".dl-inline {width: auto; margin:0; padding: 0}\n",
       ".dl-inline>dt, .dl-inline>dd {float: none; width: auto; display: inline-block}\n",
       ".dl-inline>dt::after {content: \":\\0020\"; padding-right: .5ex}\n",
       ".dl-inline>dt:not(:first-of-type) {padding-left: .5ex}\n",
       "</style><dl class=dl-inline><dt>name</dt><dd>'John'</dd><dt>surname</dt><dd>'Doe'</dd></dl>\n"
      ],
      "text/latex": [
       "\\begin{description*}\n",
       "\\item[name] 'John'\n",
       "\\item[surname] 'Doe'\n",
       "\\end{description*}\n"
      ],
      "text/markdown": [
       "name\n",
       ":   'John'surname\n",
       ":   'Doe'\n",
       "\n"
      ],
      "text/plain": [
       "   name surname \n",
       " \"John\"   \"Doe\" "
      ]
     },
     "metadata": {},
     "output_type": "display_data"
    }
   ],
   "source": [
    "named_vector[1:2]"
   ]
  },
  {
   "cell_type": "markdown",
   "id": "345b2c68-6b21-4315-ae90-0b72d8017c02",
   "metadata": {},
   "source": [
    "2. Based on _names_:"
   ]
  },
  {
   "cell_type": "code",
   "execution_count": 17,
   "id": "91e0c5f8-03fb-4edc-93f5-63c7e8184404",
   "metadata": {
    "tags": []
   },
   "outputs": [
    {
     "data": {
      "text/html": [
       "<style>\n",
       ".dl-inline {width: auto; margin:0; padding: 0}\n",
       ".dl-inline>dt, .dl-inline>dd {float: none; width: auto; display: inline-block}\n",
       ".dl-inline>dt::after {content: \":\\0020\"; padding-right: .5ex}\n",
       ".dl-inline>dt:not(:first-of-type) {padding-left: .5ex}\n",
       "</style><dl class=dl-inline><dt>surname</dt><dd>'Doe'</dd><dt>name</dt><dd>'John'</dd></dl>\n"
      ],
      "text/latex": [
       "\\begin{description*}\n",
       "\\item[surname] 'Doe'\n",
       "\\item[name] 'John'\n",
       "\\end{description*}\n"
      ],
      "text/markdown": [
       "surname\n",
       ":   'Doe'name\n",
       ":   'John'\n",
       "\n"
      ],
      "text/plain": [
       "surname    name \n",
       "  \"Doe\"  \"John\" "
      ]
     },
     "metadata": {},
     "output_type": "display_data"
    }
   ],
   "source": [
    "named_vector[c(\"surname\", \"name\")]"
   ]
  },
  {
   "cell_type": "markdown",
   "id": "f50b26fe-ef3e-4365-beb9-c496ce814f19",
   "metadata": {},
   "source": [
    "- Get __names__/_keys_: __names()__"
   ]
  },
  {
   "cell_type": "code",
   "execution_count": 18,
   "id": "4427ad16-43bf-4864-83e8-72caaa164731",
   "metadata": {
    "tags": []
   },
   "outputs": [
    {
     "data": {
      "text/html": [
       "<style>\n",
       ".list-inline {list-style: none; margin:0; padding: 0}\n",
       ".list-inline>li {display: inline-block}\n",
       ".list-inline>li:not(:last-child)::after {content: \"\\00b7\"; padding: 0 .5ex}\n",
       "</style>\n",
       "<ol class=list-inline><li>'name'</li><li>'surname'</li><li>'address'</li></ol>\n"
      ],
      "text/latex": [
       "\\begin{enumerate*}\n",
       "\\item 'name'\n",
       "\\item 'surname'\n",
       "\\item 'address'\n",
       "\\end{enumerate*}\n"
      ],
      "text/markdown": [
       "1. 'name'\n",
       "2. 'surname'\n",
       "3. 'address'\n",
       "\n",
       "\n"
      ],
      "text/plain": [
       "[1] \"name\"    \"surname\" \"address\""
      ]
     },
     "metadata": {},
     "output_type": "display_data"
    }
   ],
   "source": [
    "names(named_vector)"
   ]
  },
  {
   "cell_type": "markdown",
   "id": "c47ea345-bb1c-41ae-bddd-224d218e1bf9",
   "metadata": {},
   "source": [
    "- Get __values__: __unname()__"
   ]
  },
  {
   "cell_type": "code",
   "execution_count": 20,
   "id": "e73ea720-bbf3-4d76-b190-e83616f33de0",
   "metadata": {
    "tags": []
   },
   "outputs": [
    {
     "data": {
      "text/html": [
       "<style>\n",
       ".list-inline {list-style: none; margin:0; padding: 0}\n",
       ".list-inline>li {display: inline-block}\n",
       ".list-inline>li:not(:last-child)::after {content: \"\\00b7\"; padding: 0 .5ex}\n",
       "</style>\n",
       "<ol class=list-inline><li>'John'</li><li>'Doe'</li><li>'New Street'</li></ol>\n"
      ],
      "text/latex": [
       "\\begin{enumerate*}\n",
       "\\item 'John'\n",
       "\\item 'Doe'\n",
       "\\item 'New Street'\n",
       "\\end{enumerate*}\n"
      ],
      "text/markdown": [
       "1. 'John'\n",
       "2. 'Doe'\n",
       "3. 'New Street'\n",
       "\n",
       "\n"
      ],
      "text/plain": [
       "[1] \"John\"       \"Doe\"        \"New Street\""
      ]
     },
     "metadata": {},
     "output_type": "display_data"
    }
   ],
   "source": [
    "unname(named_vector)"
   ]
  },
  {
   "cell_type": "markdown",
   "id": "54399a7e-7b1c-47f2-814f-90c0770dd26e",
   "metadata": {},
   "source": [
    "- __Update__:"
   ]
  },
  {
   "cell_type": "markdown",
   "id": "cbb9e321-bcd5-4a9b-88d9-2600890571ed",
   "metadata": {},
   "source": [
    "1. _Values_"
   ]
  },
  {
   "cell_type": "code",
   "execution_count": 21,
   "id": "6ccd3efa-69ad-43e3-83fc-3cb68691b642",
   "metadata": {
    "tags": []
   },
   "outputs": [],
   "source": [
    "named_vector[1] <- \"James\""
   ]
  },
  {
   "cell_type": "code",
   "execution_count": 22,
   "id": "16f8d67b-6503-4482-a2fc-3db210c30494",
   "metadata": {
    "tags": []
   },
   "outputs": [
    {
     "name": "stdout",
     "output_type": "stream",
     "text": [
      "        name      surname      address \n",
      "     \"James\"        \"Doe\" \"New Street\" \n"
     ]
    }
   ],
   "source": [
    "print(named_vector)"
   ]
  },
  {
   "cell_type": "code",
   "execution_count": 23,
   "id": "be891b98-abf5-4f53-9711-0bb843080bb0",
   "metadata": {
    "tags": []
   },
   "outputs": [],
   "source": [
    "named_vector[\"surname\"] <- \"Ditto\""
   ]
  },
  {
   "cell_type": "code",
   "execution_count": 24,
   "id": "7692f021-514e-4b56-9d39-b7e33888e5fa",
   "metadata": {
    "tags": []
   },
   "outputs": [
    {
     "name": "stdout",
     "output_type": "stream",
     "text": [
      "        name      surname      address \n",
      "     \"James\"      \"Ditto\" \"New Street\" \n"
     ]
    }
   ],
   "source": [
    "print(named_vector)"
   ]
  },
  {
   "cell_type": "code",
   "execution_count": 25,
   "id": "587f1489-10b9-4a93-bc20-9ba585552e10",
   "metadata": {
    "tags": []
   },
   "outputs": [],
   "source": [
    "named_vector[c(\"name\", \"surname\")] <- c(\"Jim\", \"Dod\")"
   ]
  },
  {
   "cell_type": "code",
   "execution_count": 26,
   "id": "b5f2574e-9693-4c65-a62f-319b6faf7362",
   "metadata": {
    "tags": []
   },
   "outputs": [
    {
     "name": "stdout",
     "output_type": "stream",
     "text": [
      "        name      surname      address \n",
      "       \"Jim\"        \"Dod\" \"New Street\" \n"
     ]
    }
   ],
   "source": [
    "print(named_vector)"
   ]
  },
  {
   "cell_type": "markdown",
   "id": "b72a993e-25e6-4a9f-b8c2-4cb67779288a",
   "metadata": {},
   "source": [
    "2. _Names/Keys_:"
   ]
  },
  {
   "cell_type": "code",
   "execution_count": 28,
   "id": "274b6ca1-99e2-4d41-9c85-9c3619ff7546",
   "metadata": {
    "tags": []
   },
   "outputs": [],
   "source": [
    "names(named_vector)[1] <- \"Fist Name\""
   ]
  },
  {
   "cell_type": "code",
   "execution_count": 29,
   "id": "e35bc9f9-bd31-4648-a7cc-cf4098afe3ea",
   "metadata": {
    "tags": []
   },
   "outputs": [
    {
     "name": "stdout",
     "output_type": "stream",
     "text": [
      "   Fist Name      surname      address \n",
      "       \"Jim\"        \"Dod\" \"New Street\" \n"
     ]
    }
   ],
   "source": [
    "print(named_vector)"
   ]
  },
  {
   "cell_type": "code",
   "execution_count": 31,
   "id": "4066199b-0bbc-42b5-98a1-26c2b0d2ed62",
   "metadata": {
    "tags": []
   },
   "outputs": [],
   "source": [
    "names(named_vector)[2:3] <- c(\"Last Name\", \"Location\")"
   ]
  },
  {
   "cell_type": "code",
   "execution_count": 32,
   "id": "deaa8c5d-ae0a-41d9-895e-6eaf0b52c862",
   "metadata": {
    "tags": []
   },
   "outputs": [
    {
     "name": "stdout",
     "output_type": "stream",
     "text": [
      "   Fist Name    Last Name     Location \n",
      "       \"Jim\"        \"Dod\" \"New Street\" \n"
     ]
    }
   ],
   "source": [
    "print(named_vector)"
   ]
  },
  {
   "cell_type": "markdown",
   "id": "92b97ecc-02e2-40d4-ab73-75b0863c87a2",
   "metadata": {},
   "source": [
    "- __Sort__:"
   ]
  },
  {
   "cell_type": "markdown",
   "id": "373ff58a-d9ed-4b92-a9fc-449e00d35b74",
   "metadata": {},
   "source": [
    "1. By _value_:"
   ]
  },
  {
   "cell_type": "code",
   "execution_count": 34,
   "id": "4c732bbe-830c-4fa3-93df-bea06c2ebdb4",
   "metadata": {
    "tags": []
   },
   "outputs": [
    {
     "data": {
      "text/html": [
       "<style>\n",
       ".dl-inline {width: auto; margin:0; padding: 0}\n",
       ".dl-inline>dt, .dl-inline>dd {float: none; width: auto; display: inline-block}\n",
       ".dl-inline>dt::after {content: \":\\0020\"; padding-right: .5ex}\n",
       ".dl-inline>dt:not(:first-of-type) {padding-left: .5ex}\n",
       "</style><dl class=dl-inline><dt>Last Name</dt><dd>'Dod'</dd><dt>Fist Name</dt><dd>'Jim'</dd><dt>Location</dt><dd>'New Street'</dd></dl>\n"
      ],
      "text/latex": [
       "\\begin{description*}\n",
       "\\item[Last Name] 'Dod'\n",
       "\\item[Fist Name] 'Jim'\n",
       "\\item[Location] 'New Street'\n",
       "\\end{description*}\n"
      ],
      "text/markdown": [
       "Last Name\n",
       ":   'Dod'Fist Name\n",
       ":   'Jim'Location\n",
       ":   'New Street'\n",
       "\n"
      ],
      "text/plain": [
       "   Last Name    Fist Name     Location \n",
       "       \"Dod\"        \"Jim\" \"New Street\" "
      ]
     },
     "metadata": {},
     "output_type": "display_data"
    }
   ],
   "source": [
    "named_vector[order(named_vector)]"
   ]
  },
  {
   "cell_type": "markdown",
   "id": "938bf107-2f2e-473b-9d42-731b6bd9d77d",
   "metadata": {
    "tags": []
   },
   "source": [
    "2. By _names/keys_:"
   ]
  },
  {
   "cell_type": "code",
   "execution_count": 37,
   "id": "74b84b10-7c37-4a21-b782-8bda1161bcff",
   "metadata": {
    "tags": []
   },
   "outputs": [
    {
     "data": {
      "text/html": [
       "<style>\n",
       ".dl-inline {width: auto; margin:0; padding: 0}\n",
       ".dl-inline>dt, .dl-inline>dd {float: none; width: auto; display: inline-block}\n",
       ".dl-inline>dt::after {content: \":\\0020\"; padding-right: .5ex}\n",
       ".dl-inline>dt:not(:first-of-type) {padding-left: .5ex}\n",
       "</style><dl class=dl-inline><dt>Fist Name</dt><dd>'Jim'</dd><dt>Last Name</dt><dd>'Dod'</dd><dt>Location</dt><dd>'New Street'</dd></dl>\n"
      ],
      "text/latex": [
       "\\begin{description*}\n",
       "\\item[Fist Name] 'Jim'\n",
       "\\item[Last Name] 'Dod'\n",
       "\\item[Location] 'New Street'\n",
       "\\end{description*}\n"
      ],
      "text/markdown": [
       "Fist Name\n",
       ":   'Jim'Last Name\n",
       ":   'Dod'Location\n",
       ":   'New Street'\n",
       "\n"
      ],
      "text/plain": [
       "   Fist Name    Last Name     Location \n",
       "       \"Jim\"        \"Dod\" \"New Street\" "
      ]
     },
     "metadata": {},
     "output_type": "display_data"
    }
   ],
   "source": [
    "named_vector[sort(names(named_vector))]"
   ]
  },
  {
   "cell_type": "markdown",
   "id": "d85ba730-47ef-46c9-866c-22d41b1c9668",
   "metadata": {},
   "source": [
    "### Named lists"
   ]
  },
  {
   "cell_type": "markdown",
   "id": "3b3c7869-3377-44d9-8236-8ecf0bea7730",
   "metadata": {},
   "source": [
    "Similar to named vectors (but elements can have different types)"
   ]
  },
  {
   "cell_type": "markdown",
   "id": "060ee7b1-53d3-4ed8-8e0b-33d1a642f8b7",
   "metadata": {},
   "source": [
    "- __Creation__:"
   ]
  },
  {
   "cell_type": "code",
   "execution_count": 40,
   "id": "3137ce66-c67d-4398-a413-8113b4ea1577",
   "metadata": {
    "tags": []
   },
   "outputs": [],
   "source": [
    "named_list <- list(name = \"John\", surname = \"Doe\", age = 34, location = c(\"New Street\", \"Old Town\", \"Caledonia\"))"
   ]
  },
  {
   "cell_type": "code",
   "execution_count": 41,
   "id": "6d5ec3d7-3c57-49fa-bceb-6e9bcb1306fc",
   "metadata": {
    "tags": []
   },
   "outputs": [
    {
     "name": "stdout",
     "output_type": "stream",
     "text": [
      "$name\n",
      "[1] \"John\"\n",
      "\n",
      "$surname\n",
      "[1] \"Doe\"\n",
      "\n",
      "$age\n",
      "[1] 34\n",
      "\n",
      "$location\n",
      "[1] \"New Street\" \"Old Town\"   \"Caledonia\" \n",
      "\n"
     ]
    }
   ],
   "source": [
    "print(named_list)"
   ]
  },
  {
   "cell_type": "markdown",
   "id": "57e1bfc8-1dda-4813-80e6-67b025454719",
   "metadata": {},
   "source": [
    "- __Names__ as keys:"
   ]
  },
  {
   "cell_type": "markdown",
   "id": "406a01c9-de04-4106-aa2f-a075990d16d3",
   "metadata": {},
   "source": [
    "1. Using _$_"
   ]
  },
  {
   "cell_type": "code",
   "execution_count": 43,
   "id": "ba8a73aa-6ab7-42d8-947c-549f3d849019",
   "metadata": {
    "tags": []
   },
   "outputs": [
    {
     "data": {
      "text/html": [
       "'John'"
      ],
      "text/latex": [
       "'John'"
      ],
      "text/markdown": [
       "'John'"
      ],
      "text/plain": [
       "[1] \"John\""
      ]
     },
     "metadata": {},
     "output_type": "display_data"
    }
   ],
   "source": [
    "named_list$name"
   ]
  },
  {
   "cell_type": "markdown",
   "id": "d58dd7a8-0d06-4051-95e2-734892e8e5aa",
   "metadata": {},
   "source": [
    "2. var[\"name\"]"
   ]
  },
  {
   "cell_type": "code",
   "execution_count": 44,
   "id": "6509ac0c-8ed8-46f8-808a-1f41b649b359",
   "metadata": {
    "tags": []
   },
   "outputs": [
    {
     "data": {
      "text/html": [
       "<strong>$surname</strong> = 'Doe'"
      ],
      "text/latex": [
       "\\textbf{\\$surname} = 'Doe'"
      ],
      "text/markdown": [
       "**$surname** = 'Doe'"
      ],
      "text/plain": [
       "$surname\n",
       "[1] \"Doe\"\n"
      ]
     },
     "metadata": {},
     "output_type": "display_data"
    }
   ],
   "source": [
    "named_list[\"surname\"]"
   ]
  },
  {
   "cell_type": "code",
   "execution_count": 47,
   "id": "c4b86573-86a9-402e-8a48-d9bb139c8cbd",
   "metadata": {
    "tags": []
   },
   "outputs": [
    {
     "data": {
      "text/html": [
       "<dl>\n",
       "\t<dt>$surname</dt>\n",
       "\t\t<dd>'Doe'</dd>\n",
       "\t<dt>$location</dt>\n",
       "\t\t<dd><style>\n",
       ".list-inline {list-style: none; margin:0; padding: 0}\n",
       ".list-inline>li {display: inline-block}\n",
       ".list-inline>li:not(:last-child)::after {content: \"\\00b7\"; padding: 0 .5ex}\n",
       "</style>\n",
       "<ol class=list-inline><li>'New Street'</li><li>'Old Town'</li><li>'Caledonia'</li></ol>\n",
       "</dd>\n",
       "</dl>\n"
      ],
      "text/latex": [
       "\\begin{description}\n",
       "\\item[\\$surname] 'Doe'\n",
       "\\item[\\$location] \\begin{enumerate*}\n",
       "\\item 'New Street'\n",
       "\\item 'Old Town'\n",
       "\\item 'Caledonia'\n",
       "\\end{enumerate*}\n",
       "\n",
       "\\end{description}\n"
      ],
      "text/markdown": [
       "$surname\n",
       ":   'Doe'\n",
       "$location\n",
       ":   1. 'New Street'\n",
       "2. 'Old Town'\n",
       "3. 'Caledonia'\n",
       "\n",
       "\n",
       "\n",
       "\n",
       "\n"
      ],
      "text/plain": [
       "$surname\n",
       "[1] \"Doe\"\n",
       "\n",
       "$location\n",
       "[1] \"New Street\" \"Old Town\"   \"Caledonia\" \n"
      ]
     },
     "metadata": {},
     "output_type": "display_data"
    }
   ],
   "source": [
    "named_list[c(\"surname\", \"location\")]"
   ]
  },
  {
   "cell_type": "markdown",
   "id": "b260c88c-6d78-45e9-bc5e-1e247e74051a",
   "metadata": {},
   "source": [
    "- __Indexes__:"
   ]
  },
  {
   "cell_type": "code",
   "execution_count": 46,
   "id": "cb726480-4dd1-4ab0-a12b-54c117921904",
   "metadata": {
    "tags": []
   },
   "outputs": [
    {
     "data": {
      "text/html": [
       "<strong>$name</strong> = 'John'"
      ],
      "text/latex": [
       "\\textbf{\\$name} = 'John'"
      ],
      "text/markdown": [
       "**$name** = 'John'"
      ],
      "text/plain": [
       "$name\n",
       "[1] \"John\"\n"
      ]
     },
     "metadata": {},
     "output_type": "display_data"
    }
   ],
   "source": [
    "named_list[1]"
   ]
  },
  {
   "cell_type": "code",
   "execution_count": 48,
   "id": "bf36cceb-8eb7-4572-8206-9d73d5077267",
   "metadata": {
    "tags": []
   },
   "outputs": [
    {
     "data": {
      "text/html": [
       "<dl>\n",
       "\t<dt>$surname</dt>\n",
       "\t\t<dd>'Doe'</dd>\n",
       "\t<dt>$location</dt>\n",
       "\t\t<dd><style>\n",
       ".list-inline {list-style: none; margin:0; padding: 0}\n",
       ".list-inline>li {display: inline-block}\n",
       ".list-inline>li:not(:last-child)::after {content: \"\\00b7\"; padding: 0 .5ex}\n",
       "</style>\n",
       "<ol class=list-inline><li>'New Street'</li><li>'Old Town'</li><li>'Caledonia'</li></ol>\n",
       "</dd>\n",
       "</dl>\n"
      ],
      "text/latex": [
       "\\begin{description}\n",
       "\\item[\\$surname] 'Doe'\n",
       "\\item[\\$location] \\begin{enumerate*}\n",
       "\\item 'New Street'\n",
       "\\item 'Old Town'\n",
       "\\item 'Caledonia'\n",
       "\\end{enumerate*}\n",
       "\n",
       "\\end{description}\n"
      ],
      "text/markdown": [
       "$surname\n",
       ":   'Doe'\n",
       "$location\n",
       ":   1. 'New Street'\n",
       "2. 'Old Town'\n",
       "3. 'Caledonia'\n",
       "\n",
       "\n",
       "\n",
       "\n",
       "\n"
      ],
      "text/plain": [
       "$surname\n",
       "[1] \"Doe\"\n",
       "\n",
       "$location\n",
       "[1] \"New Street\" \"Old Town\"   \"Caledonia\" \n"
      ]
     },
     "metadata": {},
     "output_type": "display_data"
    }
   ],
   "source": [
    "named_list[c(2,4)]"
   ]
  },
  {
   "cell_type": "code",
   "execution_count": 49,
   "id": "86ed9428-cd05-4a1d-bacf-f26064c042fc",
   "metadata": {
    "tags": []
   },
   "outputs": [
    {
     "data": {
      "text/html": [
       "<dl>\n",
       "\t<dt>$surname</dt>\n",
       "\t\t<dd>'Doe'</dd>\n",
       "\t<dt>$age</dt>\n",
       "\t\t<dd>34</dd>\n",
       "</dl>\n"
      ],
      "text/latex": [
       "\\begin{description}\n",
       "\\item[\\$surname] 'Doe'\n",
       "\\item[\\$age] 34\n",
       "\\end{description}\n"
      ],
      "text/markdown": [
       "$surname\n",
       ":   'Doe'\n",
       "$age\n",
       ":   34\n",
       "\n",
       "\n"
      ],
      "text/plain": [
       "$surname\n",
       "[1] \"Doe\"\n",
       "\n",
       "$age\n",
       "[1] 34\n"
      ]
     },
     "metadata": {},
     "output_type": "display_data"
    }
   ],
   "source": [
    "named_list[2:3]"
   ]
  },
  {
   "cell_type": "markdown",
   "id": "67edf6e2-3daf-4424-ae7a-1df2c777c392",
   "metadata": {},
   "source": [
    "- Get __names/keys__:"
   ]
  },
  {
   "cell_type": "code",
   "execution_count": 50,
   "id": "17177fce-ff23-4b06-9b72-ba1b9327827e",
   "metadata": {
    "tags": []
   },
   "outputs": [
    {
     "data": {
      "text/html": [
       "<style>\n",
       ".list-inline {list-style: none; margin:0; padding: 0}\n",
       ".list-inline>li {display: inline-block}\n",
       ".list-inline>li:not(:last-child)::after {content: \"\\00b7\"; padding: 0 .5ex}\n",
       "</style>\n",
       "<ol class=list-inline><li>'name'</li><li>'surname'</li><li>'age'</li><li>'location'</li></ol>\n"
      ],
      "text/latex": [
       "\\begin{enumerate*}\n",
       "\\item 'name'\n",
       "\\item 'surname'\n",
       "\\item 'age'\n",
       "\\item 'location'\n",
       "\\end{enumerate*}\n"
      ],
      "text/markdown": [
       "1. 'name'\n",
       "2. 'surname'\n",
       "3. 'age'\n",
       "4. 'location'\n",
       "\n",
       "\n"
      ],
      "text/plain": [
       "[1] \"name\"     \"surname\"  \"age\"      \"location\""
      ]
     },
     "metadata": {},
     "output_type": "display_data"
    }
   ],
   "source": [
    "names(named_list)"
   ]
  },
  {
   "cell_type": "markdown",
   "id": "58dc5ff4-4a8c-4fc4-b281-ea06d710fe70",
   "metadata": {},
   "source": [
    "- Get __values__;"
   ]
  },
  {
   "cell_type": "code",
   "execution_count": 51,
   "id": "c5d72f40-9cd5-4fa5-ada2-15e76217a710",
   "metadata": {
    "tags": []
   },
   "outputs": [
    {
     "data": {
      "text/html": [
       "<ol>\n",
       "\t<li>'John'</li>\n",
       "\t<li>'Doe'</li>\n",
       "\t<li>34</li>\n",
       "\t<li><style>\n",
       ".list-inline {list-style: none; margin:0; padding: 0}\n",
       ".list-inline>li {display: inline-block}\n",
       ".list-inline>li:not(:last-child)::after {content: \"\\00b7\"; padding: 0 .5ex}\n",
       "</style>\n",
       "<ol class=list-inline><li>'New Street'</li><li>'Old Town'</li><li>'Caledonia'</li></ol>\n",
       "</li>\n",
       "</ol>\n"
      ],
      "text/latex": [
       "\\begin{enumerate}\n",
       "\\item 'John'\n",
       "\\item 'Doe'\n",
       "\\item 34\n",
       "\\item \\begin{enumerate*}\n",
       "\\item 'New Street'\n",
       "\\item 'Old Town'\n",
       "\\item 'Caledonia'\n",
       "\\end{enumerate*}\n",
       "\n",
       "\\end{enumerate}\n"
      ],
      "text/markdown": [
       "1. 'John'\n",
       "2. 'Doe'\n",
       "3. 34\n",
       "4. 1. 'New Street'\n",
       "2. 'Old Town'\n",
       "3. 'Caledonia'\n",
       "\n",
       "\n",
       "\n",
       "\n",
       "\n"
      ],
      "text/plain": [
       "[[1]]\n",
       "[1] \"John\"\n",
       "\n",
       "[[2]]\n",
       "[1] \"Doe\"\n",
       "\n",
       "[[3]]\n",
       "[1] 34\n",
       "\n",
       "[[4]]\n",
       "[1] \"New Street\" \"Old Town\"   \"Caledonia\" \n"
      ]
     },
     "metadata": {},
     "output_type": "display_data"
    }
   ],
   "source": [
    "unname(named_list)"
   ]
  },
  {
   "cell_type": "markdown",
   "id": "e08bf979-7742-42c8-a136-e2473074327e",
   "metadata": {},
   "source": [
    "- __Update__:"
   ]
  },
  {
   "cell_type": "markdown",
   "id": "a268415f-35db-4009-b8e0-4d97fd3fcdf2",
   "metadata": {},
   "source": [
    "1. Values:"
   ]
  },
  {
   "cell_type": "code",
   "execution_count": 52,
   "id": "c3cd373e-e412-44e0-aa3c-bb1e4d3ed8c7",
   "metadata": {
    "tags": []
   },
   "outputs": [],
   "source": [
    "named_list[1] <- \"James\""
   ]
  },
  {
   "cell_type": "code",
   "execution_count": 53,
   "id": "c37ae452-8095-4555-8ca7-533c9f91ff45",
   "metadata": {
    "tags": []
   },
   "outputs": [
    {
     "name": "stdout",
     "output_type": "stream",
     "text": [
      "$name\n",
      "[1] \"James\"\n",
      "\n",
      "$surname\n",
      "[1] \"Doe\"\n",
      "\n",
      "$age\n",
      "[1] 34\n",
      "\n",
      "$location\n",
      "[1] \"New Street\" \"Old Town\"   \"Caledonia\" \n",
      "\n"
     ]
    }
   ],
   "source": [
    "print(named_list)"
   ]
  },
  {
   "cell_type": "code",
   "execution_count": 55,
   "id": "0b125476-ca91-4a3b-8b76-ee76f8ddb81a",
   "metadata": {
    "tags": []
   },
   "outputs": [],
   "source": [
    "named_list[2:3] <- list(\"Did\", 32)"
   ]
  },
  {
   "cell_type": "code",
   "execution_count": 57,
   "id": "f6db5d56-9687-4e5b-bc9d-a2c7045f1b2d",
   "metadata": {
    "tags": []
   },
   "outputs": [
    {
     "name": "stdout",
     "output_type": "stream",
     "text": [
      "$name\n",
      "[1] \"James\"\n",
      "\n",
      "$surname\n",
      "[1] \"Did\"\n",
      "\n",
      "$age\n",
      "[1] 32\n",
      "\n",
      "$location\n",
      "[1] \"New Street\" \"Old Town\"   \"Caledonia\" \n",
      "\n"
     ]
    }
   ],
   "source": [
    "print(named_list)"
   ]
  },
  {
   "cell_type": "markdown",
   "id": "868ea406-f542-46b0-949a-680b8f5b5d3d",
   "metadata": {},
   "source": [
    "2. Keys: Notice type changes to str"
   ]
  },
  {
   "cell_type": "code",
   "execution_count": 61,
   "id": "1be2e369-142d-4925-94b7-3c0c6c7cdd11",
   "metadata": {
    "tags": []
   },
   "outputs": [],
   "source": [
    "names(named_list)[1] <- \"First Name\""
   ]
  },
  {
   "cell_type": "code",
   "execution_count": 59,
   "id": "3c8777ff-4813-49c2-ba32-a58e76c9a8e4",
   "metadata": {
    "tags": []
   },
   "outputs": [
    {
     "name": "stdout",
     "output_type": "stream",
     "text": [
      "$`First Name`\n",
      "[1] \"James\"\n",
      "\n",
      "$surname\n",
      "[1] \"Did\"\n",
      "\n",
      "$age\n",
      "[1] 32\n",
      "\n",
      "$location\n",
      "[1] \"New Street\" \"Old Town\"   \"Caledonia\" \n",
      "\n"
     ]
    }
   ],
   "source": [
    "print(named_list)"
   ]
  },
  {
   "cell_type": "code",
   "execution_count": 62,
   "id": "78eda5c7-bff9-4ef8-b92a-ad6c3e07e874",
   "metadata": {
    "tags": []
   },
   "outputs": [
    {
     "data": {
      "text/html": [
       "'James'"
      ],
      "text/latex": [
       "'James'"
      ],
      "text/markdown": [
       "'James'"
      ],
      "text/plain": [
       "[1] \"James\""
      ]
     },
     "metadata": {},
     "output_type": "display_data"
    }
   ],
   "source": [
    "named_list$\"First Name\""
   ]
  }
 ],
 "metadata": {
  "kernelspec": {
   "display_name": "R",
   "language": "R",
   "name": "ir"
  },
  "language_info": {
   "codemirror_mode": "r",
   "file_extension": ".r",
   "mimetype": "text/x-r-source",
   "name": "R",
   "pygments_lexer": "r",
   "version": "4.3.1"
  }
 },
 "nbformat": 4,
 "nbformat_minor": 5
}
