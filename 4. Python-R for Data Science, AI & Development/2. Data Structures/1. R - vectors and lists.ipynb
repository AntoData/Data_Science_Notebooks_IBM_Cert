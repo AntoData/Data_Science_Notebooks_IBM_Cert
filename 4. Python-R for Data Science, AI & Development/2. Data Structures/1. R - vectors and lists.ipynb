{
 "cells": [
  {
   "cell_type": "markdown",
   "id": "6d2e7823-7ec6-4663-93e0-d43e2546b5cd",
   "metadata": {
    "tags": []
   },
   "source": [
    "### Data Structures in R 1:"
   ]
  },
  {
   "cell_type": "markdown",
   "id": "cabc72e5-a017-444e-a770-246137cab7ee",
   "metadata": {
    "tags": []
   },
   "source": [
    "__Immutability__: By default, all objects are immutable in R. What happens when we modify and object is:\n",
    "1. R makes a copy of the object with the modification we have done\n",
    "2. Rebind the variable to the new object new created (to the copy with the modification) -> The original object is not accesible anymore, but has not been modified"
   ]
  },
  {
   "cell_type": "markdown",
   "id": "6456e5de-0e61-4523-8ed5-2dccbd5ab475",
   "metadata": {
    "tags": []
   },
   "source": [
    "### Vectors:\n",
    "Vector is a basic data structure in R. It contains __elements of the same type__. The data types can be logical, integer, double, character, complex or raw."
   ]
  },
  {
   "cell_type": "markdown",
   "id": "cc996fa5-35bc-41a5-8bfa-1815092e6366",
   "metadata": {
    "tags": []
   },
   "source": [
    "__All elements will have the same type__ even if we add elements of different types R will change the type:"
   ]
  },
  {
   "cell_type": "code",
   "execution_count": 1,
   "id": "ee5251d0-cb68-4982-9d87-7d8371e30e71",
   "metadata": {
    "tags": []
   },
   "outputs": [],
   "source": [
    "vector1 <- c(1, \"a\")"
   ]
  },
  {
   "cell_type": "code",
   "execution_count": 2,
   "id": "632f6253-9af3-43bb-b387-5e83eaa3c44f",
   "metadata": {
    "tags": []
   },
   "outputs": [
    {
     "name": "stdout",
     "output_type": "stream",
     "text": [
      "[1] \"1\" \"a\"\n"
     ]
    }
   ],
   "source": [
    "print(vector1)"
   ]
  },
  {
   "cell_type": "code",
   "execution_count": 3,
   "id": "54536897-ff52-413c-b8ad-08a124d10d30",
   "metadata": {
    "tags": []
   },
   "outputs": [
    {
     "data": {
      "text/html": [
       "'character'"
      ],
      "text/latex": [
       "'character'"
      ],
      "text/markdown": [
       "'character'"
      ],
      "text/plain": [
       "[1] \"character\""
      ]
     },
     "metadata": {},
     "output_type": "display_data"
    }
   ],
   "source": [
    "typeof(vector1)"
   ]
  },
  {
   "cell_type": "markdown",
   "id": "6cba0fa5-e887-4c1c-bc9a-978eff6b5d3d",
   "metadata": {},
   "source": [
    "- __Creation__: We usually create a vector using __c__():"
   ]
  },
  {
   "cell_type": "code",
   "execution_count": 4,
   "id": "918cab14-5786-4b75-8eae-cb469b2824f3",
   "metadata": {
    "tags": []
   },
   "outputs": [],
   "source": [
    "vector2 <- c(6, 7, 1, 0, 5)"
   ]
  },
  {
   "cell_type": "markdown",
   "id": "cf7b258a-8a0f-4778-a14d-ae49789b2e43",
   "metadata": {},
   "source": [
    "To create a vector of a sequence of integer we can do:"
   ]
  },
  {
   "cell_type": "code",
   "execution_count": 5,
   "id": "4255f8c0-f218-4a46-89a4-cf3538d01f3b",
   "metadata": {
    "tags": []
   },
   "outputs": [
    {
     "name": "stdout",
     "output_type": "stream",
     "text": [
      "[1] 1 2 3 4 5 6 7\n"
     ]
    }
   ],
   "source": [
    "vector_int <- 1:7\n",
    "print(vector_int)"
   ]
  },
  {
   "cell_type": "markdown",
   "id": "9f55a946-a1e8-4370-89a5-a714bd306d56",
   "metadata": {},
   "source": [
    "We can also use __seq__ to create a range of numbers with a certain step (like __striding__)"
   ]
  },
  {
   "cell_type": "code",
   "execution_count": 6,
   "id": "0d4b2c87-3afb-47a4-9e5a-ab8e4fa1e675",
   "metadata": {
    "tags": []
   },
   "outputs": [
    {
     "name": "stdout",
     "output_type": "stream",
     "text": [
      "[1]  1  4  7 10\n"
     ]
    }
   ],
   "source": [
    "vector_seq <- seq(1, 12, by=3)\n",
    "print(vector_seq)"
   ]
  },
  {
   "cell_type": "markdown",
   "id": "bff42228-bf6d-4346-bd7c-fc8f871cbca6",
   "metadata": {},
   "source": [
    "- __Ordered__: Elements are accessed in the order they were stored in the vector. __Index__ starts with __1__"
   ]
  },
  {
   "cell_type": "code",
   "execution_count": 7,
   "id": "a260070e-0840-4cf5-adaf-621451cb0cbc",
   "metadata": {
    "tags": []
   },
   "outputs": [
    {
     "data": {
      "text/html": [
       "6"
      ],
      "text/latex": [
       "6"
      ],
      "text/markdown": [
       "6"
      ],
      "text/plain": [
       "[1] 6"
      ]
     },
     "metadata": {},
     "output_type": "display_data"
    }
   ],
   "source": [
    "vector2[1]"
   ]
  },
  {
   "cell_type": "markdown",
   "id": "f160e114-0bca-4068-8bee-a765a7d4fa77",
   "metadata": {},
   "source": [
    "We can access several elements at the same time:"
   ]
  },
  {
   "cell_type": "code",
   "execution_count": 8,
   "id": "e49e31d3-f939-4b44-b05d-4f143eceb383",
   "metadata": {
    "tags": []
   },
   "outputs": [
    {
     "data": {
      "text/html": [
       "<style>\n",
       ".list-inline {list-style: none; margin:0; padding: 0}\n",
       ".list-inline>li {display: inline-block}\n",
       ".list-inline>li:not(:last-child)::after {content: \"\\00b7\"; padding: 0 .5ex}\n",
       "</style>\n",
       "<ol class=list-inline><li>7</li><li>0</li></ol>\n"
      ],
      "text/latex": [
       "\\begin{enumerate*}\n",
       "\\item 7\n",
       "\\item 0\n",
       "\\end{enumerate*}\n"
      ],
      "text/markdown": [
       "1. 7\n",
       "2. 0\n",
       "\n",
       "\n"
      ],
      "text/plain": [
       "[1] 7 0"
      ]
     },
     "metadata": {},
     "output_type": "display_data"
    }
   ],
   "source": [
    "vector2[c(2,4)]"
   ]
  },
  {
   "cell_type": "markdown",
   "id": "c7afb359-4728-49af-bd19-2ff3fc734eac",
   "metadata": {},
   "source": [
    "- __Mutable__: We can modify it (apparently, but the real process of this was described at the beginning of the notebook)"
   ]
  },
  {
   "cell_type": "code",
   "execution_count": 9,
   "id": "b78afacc-2080-498a-b2db-88bec73a4d3b",
   "metadata": {
    "tags": []
   },
   "outputs": [],
   "source": [
    "vector2[3] <- 2"
   ]
  },
  {
   "cell_type": "code",
   "execution_count": 10,
   "id": "4fe1f509-e4db-4462-9e59-c2ef7801503d",
   "metadata": {
    "tags": []
   },
   "outputs": [
    {
     "name": "stdout",
     "output_type": "stream",
     "text": [
      "[1] 6 7 2 0 5\n"
     ]
    }
   ],
   "source": [
    "print(vector2)"
   ]
  },
  {
   "cell_type": "markdown",
   "id": "815322f1-8eed-4e11-b2d1-3dbe1764577a",
   "metadata": {},
   "source": [
    "- __Slicing__: We need to use the function __seq__ like this:"
   ]
  },
  {
   "cell_type": "code",
   "execution_count": 11,
   "id": "fa3407c1-56e3-4155-828d-6c03ea656efe",
   "metadata": {
    "tags": []
   },
   "outputs": [
    {
     "data": {
      "text/html": [
       "<style>\n",
       ".list-inline {list-style: none; margin:0; padding: 0}\n",
       ".list-inline>li {display: inline-block}\n",
       ".list-inline>li:not(:last-child)::after {content: \"\\00b7\"; padding: 0 .5ex}\n",
       "</style>\n",
       "<ol class=list-inline><li>6</li><li>7</li><li>2</li><li>0</li></ol>\n"
      ],
      "text/latex": [
       "\\begin{enumerate*}\n",
       "\\item 6\n",
       "\\item 7\n",
       "\\item 2\n",
       "\\item 0\n",
       "\\end{enumerate*}\n"
      ],
      "text/markdown": [
       "1. 6\n",
       "2. 7\n",
       "3. 2\n",
       "4. 0\n",
       "\n",
       "\n"
      ],
      "text/plain": [
       "[1] 6 7 2 0"
      ]
     },
     "metadata": {},
     "output_type": "display_data"
    }
   ],
   "source": [
    "vector2[seq(1, 4)]"
   ]
  },
  {
   "cell_type": "markdown",
   "id": "ebba4a8b-012e-40f4-9bab-55eb0398bbe4",
   "metadata": {},
   "source": [
    "Or"
   ]
  },
  {
   "cell_type": "code",
   "execution_count": 12,
   "id": "68cc2d11-8bda-458f-89cb-30b1624de7fb",
   "metadata": {
    "tags": []
   },
   "outputs": [
    {
     "data": {
      "text/html": [
       "<style>\n",
       ".list-inline {list-style: none; margin:0; padding: 0}\n",
       ".list-inline>li {display: inline-block}\n",
       ".list-inline>li:not(:last-child)::after {content: \"\\00b7\"; padding: 0 .5ex}\n",
       "</style>\n",
       "<ol class=list-inline><li>6</li><li>7</li><li>2</li><li>0</li></ol>\n"
      ],
      "text/latex": [
       "\\begin{enumerate*}\n",
       "\\item 6\n",
       "\\item 7\n",
       "\\item 2\n",
       "\\item 0\n",
       "\\end{enumerate*}\n"
      ],
      "text/markdown": [
       "1. 6\n",
       "2. 7\n",
       "3. 2\n",
       "4. 0\n",
       "\n",
       "\n"
      ],
      "text/plain": [
       "[1] 6 7 2 0"
      ]
     },
     "metadata": {},
     "output_type": "display_data"
    }
   ],
   "source": [
    "vector2[1:4]"
   ]
  },
  {
   "cell_type": "markdown",
   "id": "cd08b116-c2da-4c83-a3ab-876b059d23f8",
   "metadata": {
    "tags": []
   },
   "source": [
    "- __Striding__: We need to use the function __seq__ using the parameter by:"
   ]
  },
  {
   "cell_type": "code",
   "execution_count": 13,
   "id": "2db5af85-825c-43b3-b33c-0d6713f0bf77",
   "metadata": {
    "tags": []
   },
   "outputs": [
    {
     "data": {
      "text/html": [
       "<style>\n",
       ".list-inline {list-style: none; margin:0; padding: 0}\n",
       ".list-inline>li {display: inline-block}\n",
       ".list-inline>li:not(:last-child)::after {content: \"\\00b7\"; padding: 0 .5ex}\n",
       "</style>\n",
       "<ol class=list-inline><li>6</li><li>2</li></ol>\n"
      ],
      "text/latex": [
       "\\begin{enumerate*}\n",
       "\\item 6\n",
       "\\item 2\n",
       "\\end{enumerate*}\n"
      ],
      "text/markdown": [
       "1. 6\n",
       "2. 2\n",
       "\n",
       "\n"
      ],
      "text/plain": [
       "[1] 6 2"
      ]
     },
     "metadata": {},
     "output_type": "display_data"
    }
   ],
   "source": [
    "vector2[seq(1, 4, by=2)]"
   ]
  },
  {
   "cell_type": "markdown",
   "id": "916844cf-e373-46be-a1a9-963e9766bbdf",
   "metadata": {},
   "source": [
    "- __Sort__: We can use the parameter __decreasing__ to set the order"
   ]
  },
  {
   "cell_type": "code",
   "execution_count": 14,
   "id": "f37ea5fd-1324-4ed1-8f03-37e4796b424f",
   "metadata": {
    "tags": []
   },
   "outputs": [
    {
     "data": {
      "text/html": [
       "<style>\n",
       ".list-inline {list-style: none; margin:0; padding: 0}\n",
       ".list-inline>li {display: inline-block}\n",
       ".list-inline>li:not(:last-child)::after {content: \"\\00b7\"; padding: 0 .5ex}\n",
       "</style>\n",
       "<ol class=list-inline><li>0</li><li>2</li><li>5</li><li>6</li><li>7</li></ol>\n"
      ],
      "text/latex": [
       "\\begin{enumerate*}\n",
       "\\item 0\n",
       "\\item 2\n",
       "\\item 5\n",
       "\\item 6\n",
       "\\item 7\n",
       "\\end{enumerate*}\n"
      ],
      "text/markdown": [
       "1. 0\n",
       "2. 2\n",
       "3. 5\n",
       "4. 6\n",
       "5. 7\n",
       "\n",
       "\n"
      ],
      "text/plain": [
       "[1] 0 2 5 6 7"
      ]
     },
     "metadata": {},
     "output_type": "display_data"
    }
   ],
   "source": [
    "sort(vector2)"
   ]
  },
  {
   "cell_type": "code",
   "execution_count": 15,
   "id": "56619f4c-3924-4943-ad97-8c9a563d596d",
   "metadata": {
    "tags": []
   },
   "outputs": [
    {
     "data": {
      "text/html": [
       "<style>\n",
       ".list-inline {list-style: none; margin:0; padding: 0}\n",
       ".list-inline>li {display: inline-block}\n",
       ".list-inline>li:not(:last-child)::after {content: \"\\00b7\"; padding: 0 .5ex}\n",
       "</style>\n",
       "<ol class=list-inline><li>7</li><li>6</li><li>5</li><li>2</li><li>0</li></ol>\n"
      ],
      "text/latex": [
       "\\begin{enumerate*}\n",
       "\\item 7\n",
       "\\item 6\n",
       "\\item 5\n",
       "\\item 2\n",
       "\\item 0\n",
       "\\end{enumerate*}\n"
      ],
      "text/markdown": [
       "1. 7\n",
       "2. 6\n",
       "3. 5\n",
       "4. 2\n",
       "5. 0\n",
       "\n",
       "\n"
      ],
      "text/plain": [
       "[1] 7 6 5 2 0"
      ]
     },
     "metadata": {},
     "output_type": "display_data"
    }
   ],
   "source": [
    "sort(vector2, decreasing=TRUE)"
   ]
  },
  {
   "cell_type": "markdown",
   "id": "84b305cd-d7e5-4874-a2e1-6db18a441a89",
   "metadata": {},
   "source": [
    "- __Which__: Returns all the indexes of the elements that are equal to the parameter"
   ]
  },
  {
   "cell_type": "code",
   "execution_count": 16,
   "id": "98d54d56-eebd-4fff-b857-f36815c7a33e",
   "metadata": {
    "tags": []
   },
   "outputs": [],
   "source": [
    "vector3 <- c(0,1,0,2,0,3,4,0)"
   ]
  },
  {
   "cell_type": "code",
   "execution_count": 17,
   "id": "66f6e0e8-496c-48ff-8a53-e79094203ffc",
   "metadata": {
    "tags": []
   },
   "outputs": [
    {
     "data": {
      "text/html": [
       "<style>\n",
       ".list-inline {list-style: none; margin:0; padding: 0}\n",
       ".list-inline>li {display: inline-block}\n",
       ".list-inline>li:not(:last-child)::after {content: \"\\00b7\"; padding: 0 .5ex}\n",
       "</style>\n",
       "<ol class=list-inline><li>1</li><li>3</li><li>5</li><li>8</li></ol>\n"
      ],
      "text/latex": [
       "\\begin{enumerate*}\n",
       "\\item 1\n",
       "\\item 3\n",
       "\\item 5\n",
       "\\item 8\n",
       "\\end{enumerate*}\n"
      ],
      "text/markdown": [
       "1. 1\n",
       "2. 3\n",
       "3. 5\n",
       "4. 8\n",
       "\n",
       "\n"
      ],
      "text/plain": [
       "[1] 1 3 5 8"
      ]
     },
     "metadata": {},
     "output_type": "display_data"
    }
   ],
   "source": [
    "which(vector3 == 0)"
   ]
  },
  {
   "cell_type": "markdown",
   "id": "f7b823ba-2612-441d-bd78-a4ee4ea139fd",
   "metadata": {},
   "source": [
    "- __Filtering__:"
   ]
  },
  {
   "cell_type": "code",
   "execution_count": 18,
   "id": "a95db2c7-36e1-40dc-ab5c-9058a3b8852f",
   "metadata": {
    "tags": []
   },
   "outputs": [
    {
     "data": {
      "text/html": [
       "<style>\n",
       ".list-inline {list-style: none; margin:0; padding: 0}\n",
       ".list-inline>li {display: inline-block}\n",
       ".list-inline>li:not(:last-child)::after {content: \"\\00b7\"; padding: 0 .5ex}\n",
       "</style>\n",
       "<ol class=list-inline><li>1</li><li>2</li><li>3</li><li>4</li></ol>\n"
      ],
      "text/latex": [
       "\\begin{enumerate*}\n",
       "\\item 1\n",
       "\\item 2\n",
       "\\item 3\n",
       "\\item 4\n",
       "\\end{enumerate*}\n"
      ],
      "text/markdown": [
       "1. 1\n",
       "2. 2\n",
       "3. 3\n",
       "4. 4\n",
       "\n",
       "\n"
      ],
      "text/plain": [
       "[1] 1 2 3 4"
      ]
     },
     "metadata": {},
     "output_type": "display_data"
    }
   ],
   "source": [
    "vector3[vector3 > 0]"
   ]
  },
  {
   "cell_type": "code",
   "execution_count": 19,
   "id": "a3399f1e-02c7-4b0f-b57f-850908cb445c",
   "metadata": {
    "tags": []
   },
   "outputs": [
    {
     "data": {
      "text/html": [
       "<style>\n",
       ".list-inline {list-style: none; margin:0; padding: 0}\n",
       ".list-inline>li {display: inline-block}\n",
       ".list-inline>li:not(:last-child)::after {content: \"\\00b7\"; padding: 0 .5ex}\n",
       "</style>\n",
       "<ol class=list-inline><li>0</li><li>0</li><li>0</li><li>0</li></ol>\n"
      ],
      "text/latex": [
       "\\begin{enumerate*}\n",
       "\\item 0\n",
       "\\item 0\n",
       "\\item 0\n",
       "\\item 0\n",
       "\\end{enumerate*}\n"
      ],
      "text/markdown": [
       "1. 0\n",
       "2. 0\n",
       "3. 0\n",
       "4. 0\n",
       "\n",
       "\n"
      ],
      "text/plain": [
       "[1] 0 0 0 0"
      ]
     },
     "metadata": {},
     "output_type": "display_data"
    }
   ],
   "source": [
    "vector3[vector3 < 1]"
   ]
  },
  {
   "cell_type": "code",
   "execution_count": 20,
   "id": "bfe7b6cb-d752-40a9-8d4c-db2405b5ca35",
   "metadata": {
    "tags": []
   },
   "outputs": [
    {
     "data": {
      "text/html": [],
      "text/latex": [],
      "text/markdown": [],
      "text/plain": [
       "numeric(0)"
      ]
     },
     "metadata": {},
     "output_type": "display_data"
    }
   ],
   "source": [
    "vector3[vector3 < 0]"
   ]
  },
  {
   "cell_type": "markdown",
   "id": "cb20394b-2691-4775-899d-7b57bc93e434",
   "metadata": {},
   "source": [
    "We can modify elements that have been filtered"
   ]
  },
  {
   "cell_type": "code",
   "execution_count": 21,
   "id": "338a2c4c-f027-41a1-8b2e-fe01ec8a84dc",
   "metadata": {
    "tags": []
   },
   "outputs": [],
   "source": [
    "vector3[vector3 < 1] <- 7"
   ]
  },
  {
   "cell_type": "code",
   "execution_count": 22,
   "id": "70632d73-fd50-45ee-a989-11ecc580a1bd",
   "metadata": {
    "tags": []
   },
   "outputs": [
    {
     "name": "stdout",
     "output_type": "stream",
     "text": [
      "[1] 7 1 7 2 7 3 4 7\n"
     ]
    }
   ],
   "source": [
    "print(vector3)"
   ]
  },
  {
   "cell_type": "markdown",
   "id": "a3938861-2908-4af7-a617-77edad80b744",
   "metadata": {},
   "source": [
    "- __Truncate__:"
   ]
  },
  {
   "cell_type": "code",
   "execution_count": 23,
   "id": "a77d33d4-0bc8-4bc6-af97-dbda1ef55705",
   "metadata": {
    "tags": []
   },
   "outputs": [],
   "source": [
    "vector4 <- vector3[2:4]"
   ]
  },
  {
   "cell_type": "code",
   "execution_count": 24,
   "id": "3af18e27-70f7-41df-9ac4-cd0cabed645a",
   "metadata": {
    "tags": []
   },
   "outputs": [
    {
     "name": "stdout",
     "output_type": "stream",
     "text": [
      "[1] 1 7 2\n"
     ]
    }
   ],
   "source": [
    "print(vector4)"
   ]
  },
  {
   "cell_type": "markdown",
   "id": "a0d1eaf4-4c28-4182-8305-b0b7353b4263",
   "metadata": {},
   "source": [
    "- __Delete element__: If you use a negative index, we will return a copy of the vector without the element in that index (we return all values but the one in that index) but the element is still in the original variable"
   ]
  },
  {
   "cell_type": "code",
   "execution_count": 25,
   "id": "001df336-6639-43ce-8dac-60ebf16ccdaa",
   "metadata": {
    "tags": []
   },
   "outputs": [
    {
     "data": {
      "text/html": [
       "<style>\n",
       ".list-inline {list-style: none; margin:0; padding: 0}\n",
       ".list-inline>li {display: inline-block}\n",
       ".list-inline>li:not(:last-child)::after {content: \"\\00b7\"; padding: 0 .5ex}\n",
       "</style>\n",
       "<ol class=list-inline><li>7</li><li>2</li></ol>\n"
      ],
      "text/latex": [
       "\\begin{enumerate*}\n",
       "\\item 7\n",
       "\\item 2\n",
       "\\end{enumerate*}\n"
      ],
      "text/markdown": [
       "1. 7\n",
       "2. 2\n",
       "\n",
       "\n"
      ],
      "text/plain": [
       "[1] 7 2"
      ]
     },
     "metadata": {},
     "output_type": "display_data"
    }
   ],
   "source": [
    "vector4[-1]"
   ]
  },
  {
   "cell_type": "code",
   "execution_count": 26,
   "id": "0122abad-d98e-4702-bbb8-bd5ed3775377",
   "metadata": {
    "tags": []
   },
   "outputs": [
    {
     "data": {
      "text/html": [
       "<style>\n",
       ".list-inline {list-style: none; margin:0; padding: 0}\n",
       ".list-inline>li {display: inline-block}\n",
       ".list-inline>li:not(:last-child)::after {content: \"\\00b7\"; padding: 0 .5ex}\n",
       "</style>\n",
       "<ol class=list-inline><li>1</li><li>2</li></ol>\n"
      ],
      "text/latex": [
       "\\begin{enumerate*}\n",
       "\\item 1\n",
       "\\item 2\n",
       "\\end{enumerate*}\n"
      ],
      "text/markdown": [
       "1. 1\n",
       "2. 2\n",
       "\n",
       "\n"
      ],
      "text/plain": [
       "[1] 1 2"
      ]
     },
     "metadata": {},
     "output_type": "display_data"
    }
   ],
   "source": [
    "vector4[-2]"
   ]
  },
  {
   "cell_type": "markdown",
   "id": "ed1a56ed-0f0b-42fb-8e2d-f372aeb0159b",
   "metadata": {},
   "source": [
    "- __Delete vector__: Assign __NULL__ to that vector"
   ]
  },
  {
   "cell_type": "code",
   "execution_count": 27,
   "id": "2920eab3-0070-4d17-8d2c-39ff51a80b80",
   "metadata": {
    "tags": []
   },
   "outputs": [],
   "source": [
    "vector4 <- NULL"
   ]
  },
  {
   "cell_type": "code",
   "execution_count": 28,
   "id": "726b4f26-b710-4535-8f86-57b1796f8e0a",
   "metadata": {
    "tags": []
   },
   "outputs": [
    {
     "name": "stdout",
     "output_type": "stream",
     "text": [
      "NULL\n"
     ]
    }
   ],
   "source": [
    "print(vector4)"
   ]
  },
  {
   "cell_type": "markdown",
   "id": "d51e4bb4-a312-4247-954a-ed1265c6df04",
   "metadata": {},
   "source": [
    "- __Length__: __length()__ returns the size of the vector"
   ]
  },
  {
   "cell_type": "code",
   "execution_count": 54,
   "id": "d3353f1d-0cbe-45b2-b603-53dfe2862cf7",
   "metadata": {
    "tags": []
   },
   "outputs": [
    {
     "data": {
      "text/html": [
       "8"
      ],
      "text/latex": [
       "8"
      ],
      "text/markdown": [
       "8"
      ],
      "text/plain": [
       "[1] 8"
      ]
     },
     "metadata": {},
     "output_type": "display_data"
    }
   ],
   "source": [
    "length(vector3)"
   ]
  },
  {
   "cell_type": "markdown",
   "id": "e6da752e-ea18-4dd4-8327-751686380f73",
   "metadata": {},
   "source": [
    "- __Add__ element: We just assigned a var/value to the position in which we want to add the element"
   ]
  },
  {
   "cell_type": "code",
   "execution_count": 30,
   "id": "6d2cb3bf-b389-4f69-9004-c26213b0afcb",
   "metadata": {
    "tags": []
   },
   "outputs": [],
   "source": [
    "vector5 <- c(\"a\", \"b\", \"c\")"
   ]
  },
  {
   "cell_type": "code",
   "execution_count": 31,
   "id": "463b3313-0ded-4617-b957-0b3adc94cbfd",
   "metadata": {
    "tags": []
   },
   "outputs": [],
   "source": [
    "vector5[4] <- \"d\""
   ]
  },
  {
   "cell_type": "code",
   "execution_count": 32,
   "id": "62795d1b-d09e-4400-9084-4029820d2916",
   "metadata": {
    "tags": []
   },
   "outputs": [
    {
     "name": "stdout",
     "output_type": "stream",
     "text": [
      "[1] \"a\" \"b\" \"c\" \"d\"\n"
     ]
    }
   ],
   "source": [
    "print(vector5)"
   ]
  },
  {
   "cell_type": "markdown",
   "id": "773c8748-f295-4d08-b1c8-e406d94cf9cd",
   "metadata": {},
   "source": [
    "- We can also use the function __append()__"
   ]
  },
  {
   "cell_type": "code",
   "execution_count": 33,
   "id": "4c00987e-2808-4f4a-be7c-888c720854ad",
   "metadata": {
    "tags": []
   },
   "outputs": [],
   "source": [
    "vector5 <- append(vector5, \"e\")"
   ]
  },
  {
   "cell_type": "code",
   "execution_count": 34,
   "id": "b76bf273-fd1c-4685-ac1d-62c622c10215",
   "metadata": {
    "tags": []
   },
   "outputs": [
    {
     "name": "stdout",
     "output_type": "stream",
     "text": [
      "[1] \"a\" \"b\" \"c\" \"d\" \"e\"\n"
     ]
    }
   ],
   "source": [
    "print(vector5)"
   ]
  },
  {
   "cell_type": "markdown",
   "id": "e1d4931f-f706-4988-b813-4f918e3de272",
   "metadata": {},
   "source": [
    "### Lists:\n",
    "List is a basic data structure in R. It can contain __elements of different types__."
   ]
  },
  {
   "cell_type": "markdown",
   "id": "fb447c93-e309-457f-bbb9-c8b75e0f6126",
   "metadata": {},
   "source": [
    "- __Creation__: We use the function __list__ to create a list"
   ]
  },
  {
   "cell_type": "code",
   "execution_count": 35,
   "id": "4f5a3013-a07c-4d57-9095-18e57223104f",
   "metadata": {
    "tags": []
   },
   "outputs": [],
   "source": [
    "var_list <- list(1, \"a\", 3, \"b\", 5, \"d\")"
   ]
  },
  {
   "cell_type": "code",
   "execution_count": 36,
   "id": "a5476a56-2461-466a-9b71-c8d7849f2a29",
   "metadata": {
    "tags": []
   },
   "outputs": [
    {
     "name": "stdout",
     "output_type": "stream",
     "text": [
      "[[1]]\n",
      "[1] 1\n",
      "\n",
      "[[2]]\n",
      "[1] \"a\"\n",
      "\n",
      "[[3]]\n",
      "[1] 3\n",
      "\n",
      "[[4]]\n",
      "[1] \"b\"\n",
      "\n",
      "[[5]]\n",
      "[1] 5\n",
      "\n",
      "[[6]]\n",
      "[1] \"d\"\n",
      "\n"
     ]
    }
   ],
   "source": [
    "print(var_list)"
   ]
  },
  {
   "cell_type": "code",
   "execution_count": 37,
   "id": "6e03ebb5-4eac-4066-a0b1-8a580088e44f",
   "metadata": {
    "tags": []
   },
   "outputs": [
    {
     "data": {
      "text/html": [
       "'list'"
      ],
      "text/latex": [
       "'list'"
      ],
      "text/markdown": [
       "'list'"
      ],
      "text/plain": [
       "[1] \"list\""
      ]
     },
     "metadata": {},
     "output_type": "display_data"
    }
   ],
   "source": [
    "typeof(var_list)"
   ]
  },
  {
   "cell_type": "markdown",
   "id": "c8acf934-fb75-44ea-8610-cc357c81c1ae",
   "metadata": {},
   "source": [
    "- __Ordered__: Elements are accessed in the order in which they were stored"
   ]
  },
  {
   "cell_type": "code",
   "execution_count": 38,
   "id": "60ac3ee2-d456-40bb-8b43-c4dfdd0367af",
   "metadata": {
    "tags": []
   },
   "outputs": [
    {
     "data": {
      "text/html": [
       "<ol>\n",
       "\t<li>'a'</li>\n",
       "</ol>\n"
      ],
      "text/latex": [
       "\\begin{enumerate}\n",
       "\\item 'a'\n",
       "\\end{enumerate}\n"
      ],
      "text/markdown": [
       "1. 'a'\n",
       "\n",
       "\n"
      ],
      "text/plain": [
       "[[1]]\n",
       "[1] \"a\"\n"
      ]
     },
     "metadata": {},
     "output_type": "display_data"
    }
   ],
   "source": [
    "var_list[2]"
   ]
  },
  {
   "cell_type": "markdown",
   "id": "bc70ffd3-e360-490b-b4c1-b98d988d102d",
   "metadata": {},
   "source": [
    "- __Mutable__:"
   ]
  },
  {
   "cell_type": "code",
   "execution_count": 39,
   "id": "df0ac171-aeb4-44ff-ad77-5a0e2acde8a0",
   "metadata": {
    "tags": []
   },
   "outputs": [],
   "source": [
    "var_list[2] <- \"e\""
   ]
  },
  {
   "cell_type": "code",
   "execution_count": 40,
   "id": "de363612-5bd7-4ec6-8d57-25e4fa2350a1",
   "metadata": {
    "tags": []
   },
   "outputs": [
    {
     "name": "stdout",
     "output_type": "stream",
     "text": [
      "[[1]]\n",
      "[1] 1\n",
      "\n",
      "[[2]]\n",
      "[1] \"e\"\n",
      "\n",
      "[[3]]\n",
      "[1] 3\n",
      "\n",
      "[[4]]\n",
      "[1] \"b\"\n",
      "\n",
      "[[5]]\n",
      "[1] 5\n",
      "\n",
      "[[6]]\n",
      "[1] \"d\"\n",
      "\n"
     ]
    }
   ],
   "source": [
    "print(var_list)"
   ]
  },
  {
   "cell_type": "markdown",
   "id": "911fef8f-a354-4d7d-81b0-7c6086b48cf8",
   "metadata": {
    "tags": []
   },
   "source": [
    "- __Slicing__:"
   ]
  },
  {
   "cell_type": "code",
   "execution_count": 41,
   "id": "2012034d-5856-4ced-9fbf-bbb39909ffd1",
   "metadata": {
    "tags": []
   },
   "outputs": [
    {
     "data": {
      "text/html": [
       "<ol>\n",
       "\t<li>'e'</li>\n",
       "\t<li>3</li>\n",
       "\t<li>'b'</li>\n",
       "</ol>\n"
      ],
      "text/latex": [
       "\\begin{enumerate}\n",
       "\\item 'e'\n",
       "\\item 3\n",
       "\\item 'b'\n",
       "\\end{enumerate}\n"
      ],
      "text/markdown": [
       "1. 'e'\n",
       "2. 3\n",
       "3. 'b'\n",
       "\n",
       "\n"
      ],
      "text/plain": [
       "[[1]]\n",
       "[1] \"e\"\n",
       "\n",
       "[[2]]\n",
       "[1] 3\n",
       "\n",
       "[[3]]\n",
       "[1] \"b\"\n"
      ]
     },
     "metadata": {},
     "output_type": "display_data"
    }
   ],
   "source": [
    "var_list[2:4]"
   ]
  },
  {
   "cell_type": "markdown",
   "id": "cd21297b-8b9e-4fdf-b73b-54fd6a87d393",
   "metadata": {
    "tags": []
   },
   "source": [
    "- __Striding__: We need to use the function __seq__ using the parameter by:"
   ]
  },
  {
   "cell_type": "code",
   "execution_count": 42,
   "id": "1d0a6e55-0def-459b-8b1e-1550d92fcd94",
   "metadata": {
    "tags": []
   },
   "outputs": [
    {
     "data": {
      "text/html": [
       "<ol>\n",
       "\t<li>1</li>\n",
       "\t<li>3</li>\n",
       "</ol>\n"
      ],
      "text/latex": [
       "\\begin{enumerate}\n",
       "\\item 1\n",
       "\\item 3\n",
       "\\end{enumerate}\n"
      ],
      "text/markdown": [
       "1. 1\n",
       "2. 3\n",
       "\n",
       "\n"
      ],
      "text/plain": [
       "[[1]]\n",
       "[1] 1\n",
       "\n",
       "[[2]]\n",
       "[1] 3\n"
      ]
     },
     "metadata": {},
     "output_type": "display_data"
    }
   ],
   "source": [
    "var_list[seq(1, 4, by=2)]"
   ]
  },
  {
   "cell_type": "markdown",
   "id": "ceb9ab07-e386-41c7-a15a-eb37d9e2f407",
   "metadata": {
    "tags": []
   },
   "source": [
    "- __Sort__: We have to use the function __unlist__ and apply the function __order__ to the result of that like this:"
   ]
  },
  {
   "cell_type": "code",
   "execution_count": 43,
   "id": "b7b8fd16-5c57-46ca-9ff2-6203c9bcd9e8",
   "metadata": {
    "tags": []
   },
   "outputs": [],
   "source": [
    "var_list2 <- list(5,1,3,0,2)"
   ]
  },
  {
   "cell_type": "code",
   "execution_count": 44,
   "id": "16fde085-03f3-4e32-9462-dbaa40ec8db4",
   "metadata": {
    "tags": []
   },
   "outputs": [],
   "source": [
    "sorted_li <- var_list2[order(unlist(var_list2))]"
   ]
  },
  {
   "cell_type": "code",
   "execution_count": 45,
   "id": "f0097bdb-f4e6-49fb-86ca-09e4f3d50832",
   "metadata": {
    "tags": []
   },
   "outputs": [
    {
     "name": "stdout",
     "output_type": "stream",
     "text": [
      "[[1]]\n",
      "[1] 0\n",
      "\n",
      "[[2]]\n",
      "[1] 1\n",
      "\n",
      "[[3]]\n",
      "[1] 2\n",
      "\n",
      "[[4]]\n",
      "[1] 3\n",
      "\n",
      "[[5]]\n",
      "[1] 5\n",
      "\n"
     ]
    }
   ],
   "source": [
    "print(sorted_li)"
   ]
  },
  {
   "cell_type": "code",
   "execution_count": 46,
   "id": "3811f3bc-9e20-4c99-b182-0b2e7fcff4be",
   "metadata": {
    "tags": []
   },
   "outputs": [],
   "source": [
    "sorted_li_rev <- var_list2[order(unlist(var_list2), decreasing=TRUE)]"
   ]
  },
  {
   "cell_type": "code",
   "execution_count": 47,
   "id": "65becb4c-6b44-414e-94ca-e0d7464848af",
   "metadata": {
    "tags": []
   },
   "outputs": [
    {
     "name": "stdout",
     "output_type": "stream",
     "text": [
      "[[1]]\n",
      "[1] 5\n",
      "\n",
      "[[2]]\n",
      "[1] 3\n",
      "\n",
      "[[3]]\n",
      "[1] 2\n",
      "\n",
      "[[4]]\n",
      "[1] 1\n",
      "\n",
      "[[5]]\n",
      "[1] 0\n",
      "\n"
     ]
    }
   ],
   "source": [
    "print(sorted_li_rev)"
   ]
  },
  {
   "cell_type": "markdown",
   "id": "78a101d7-7117-412f-9709-e22e6fbc1fbe",
   "metadata": {},
   "source": [
    "- __Filtering__:"
   ]
  },
  {
   "cell_type": "code",
   "execution_count": 48,
   "id": "8d10a9bd-6f0b-4fc2-8da4-eeadc69aedaf",
   "metadata": {
    "tags": []
   },
   "outputs": [
    {
     "data": {
      "text/html": [
       "<ol>\n",
       "\t<li>5</li>\n",
       "\t<li>3</li>\n",
       "\t<li>2</li>\n",
       "</ol>\n"
      ],
      "text/latex": [
       "\\begin{enumerate}\n",
       "\\item 5\n",
       "\\item 3\n",
       "\\item 2\n",
       "\\end{enumerate}\n"
      ],
      "text/markdown": [
       "1. 5\n",
       "2. 3\n",
       "3. 2\n",
       "\n",
       "\n"
      ],
      "text/plain": [
       "[[1]]\n",
       "[1] 5\n",
       "\n",
       "[[2]]\n",
       "[1] 3\n",
       "\n",
       "[[3]]\n",
       "[1] 2\n"
      ]
     },
     "metadata": {},
     "output_type": "display_data"
    }
   ],
   "source": [
    "sorted_li_rev[sorted_li_rev > 1]"
   ]
  },
  {
   "cell_type": "markdown",
   "id": "9e24ea78-abb8-4309-b390-cc27b54206eb",
   "metadata": {},
   "source": [
    "- __Truncate__:"
   ]
  },
  {
   "cell_type": "code",
   "execution_count": 49,
   "id": "eb90e902-26b0-4fea-a77e-979571e1e0a4",
   "metadata": {
    "tags": []
   },
   "outputs": [
    {
     "data": {
      "text/html": [
       "<ol>\n",
       "\t<li>5</li>\n",
       "\t<li>3</li>\n",
       "\t<li>2</li>\n",
       "</ol>\n"
      ],
      "text/latex": [
       "\\begin{enumerate}\n",
       "\\item 5\n",
       "\\item 3\n",
       "\\item 2\n",
       "\\end{enumerate}\n"
      ],
      "text/markdown": [
       "1. 5\n",
       "2. 3\n",
       "3. 2\n",
       "\n",
       "\n"
      ],
      "text/plain": [
       "[[1]]\n",
       "[1] 5\n",
       "\n",
       "[[2]]\n",
       "[1] 3\n",
       "\n",
       "[[3]]\n",
       "[1] 2\n"
      ]
     },
     "metadata": {},
     "output_type": "display_data"
    }
   ],
   "source": [
    "sorted_li_rev[1:3]"
   ]
  },
  {
   "cell_type": "markdown",
   "id": "ecb56160-3a6c-46e7-8d46-3324cb871621",
   "metadata": {},
   "source": [
    "- __Delete element__: If you use a negative index, we will return a copy of the vector without the element in that index"
   ]
  },
  {
   "cell_type": "code",
   "execution_count": 50,
   "id": "80349119-4d5c-41c2-93cf-02865554eee0",
   "metadata": {
    "tags": []
   },
   "outputs": [
    {
     "name": "stdout",
     "output_type": "stream",
     "text": [
      "[[1]]\n",
      "[1] 5\n",
      "\n",
      "[[2]]\n",
      "[1] 3\n",
      "\n",
      "[[3]]\n",
      "[1] 2\n",
      "\n",
      "[[4]]\n",
      "[1] 1\n",
      "\n",
      "[[5]]\n",
      "[1] 0\n",
      "\n"
     ]
    }
   ],
   "source": [
    "print(sorted_li_rev)"
   ]
  },
  {
   "cell_type": "code",
   "execution_count": 51,
   "id": "d9d65f08-6458-4e0d-ab0d-461cba8a24fd",
   "metadata": {
    "tags": []
   },
   "outputs": [],
   "source": [
    "sorted_li_rev2 <- sorted_li_rev[-2]"
   ]
  },
  {
   "cell_type": "code",
   "execution_count": 52,
   "id": "c20c7a13-b712-4164-a517-5f1db22d6d18",
   "metadata": {
    "tags": []
   },
   "outputs": [
    {
     "name": "stdout",
     "output_type": "stream",
     "text": [
      "[[1]]\n",
      "[1] 5\n",
      "\n",
      "[[2]]\n",
      "[1] 2\n",
      "\n",
      "[[3]]\n",
      "[1] 1\n",
      "\n",
      "[[4]]\n",
      "[1] 0\n",
      "\n"
     ]
    }
   ],
   "source": [
    "print(sorted_li_rev2)"
   ]
  },
  {
   "cell_type": "markdown",
   "id": "26c0108c-d42c-48da-b9e2-a7528ec64505",
   "metadata": {},
   "source": [
    "- __Delete vector__: Assign __NULL__ to that vector"
   ]
  },
  {
   "cell_type": "code",
   "execution_count": 53,
   "id": "7f404299-cb5e-4f7a-b27c-86a4795c975a",
   "metadata": {
    "tags": []
   },
   "outputs": [],
   "source": [
    "sorted_li_rev2 <- NULL"
   ]
  },
  {
   "cell_type": "markdown",
   "id": "0e121224-8b0a-42c5-b1c3-a69da32fdf0c",
   "metadata": {},
   "source": [
    "- __Add__ element: We can just assign a variable/value to the position"
   ]
  },
  {
   "cell_type": "code",
   "execution_count": 55,
   "id": "c480cc8a-f220-4312-9480-953f48a68fe2",
   "metadata": {
    "tags": []
   },
   "outputs": [],
   "source": [
    "var_list3 <- list(\"a\", 2, \"c\", 1, \"e\")"
   ]
  },
  {
   "cell_type": "code",
   "execution_count": 56,
   "id": "aae8099a-c996-4b67-b925-9aed92ff60b5",
   "metadata": {
    "tags": []
   },
   "outputs": [],
   "source": [
    "var_list3[6] <- 7"
   ]
  },
  {
   "cell_type": "code",
   "execution_count": 57,
   "id": "4d28cfb6-b6db-46a5-a458-2e624390a6da",
   "metadata": {
    "tags": []
   },
   "outputs": [
    {
     "name": "stdout",
     "output_type": "stream",
     "text": [
      "[[1]]\n",
      "[1] \"a\"\n",
      "\n",
      "[[2]]\n",
      "[1] 2\n",
      "\n",
      "[[3]]\n",
      "[1] \"c\"\n",
      "\n",
      "[[4]]\n",
      "[1] 1\n",
      "\n",
      "[[5]]\n",
      "[1] \"e\"\n",
      "\n",
      "[[6]]\n",
      "[1] 7\n",
      "\n"
     ]
    }
   ],
   "source": [
    "print(var_list3)"
   ]
  },
  {
   "cell_type": "markdown",
   "id": "284167cf-fab9-4da4-9518-3ca7f01489d6",
   "metadata": {},
   "source": [
    "- We can also use the function __append()__"
   ]
  },
  {
   "cell_type": "code",
   "execution_count": 58,
   "id": "b33a9ab9-7797-448e-90b8-882e099ffeb2",
   "metadata": {
    "tags": []
   },
   "outputs": [],
   "source": [
    "var_list3 <- append(var_list3, \"f\")"
   ]
  },
  {
   "cell_type": "code",
   "execution_count": 59,
   "id": "4de40892-9ead-4bc3-a980-7eafdbcb95a6",
   "metadata": {
    "tags": []
   },
   "outputs": [
    {
     "name": "stdout",
     "output_type": "stream",
     "text": [
      "[[1]]\n",
      "[1] \"a\"\n",
      "\n",
      "[[2]]\n",
      "[1] 2\n",
      "\n",
      "[[3]]\n",
      "[1] \"c\"\n",
      "\n",
      "[[4]]\n",
      "[1] 1\n",
      "\n",
      "[[5]]\n",
      "[1] \"e\"\n",
      "\n",
      "[[6]]\n",
      "[1] 7\n",
      "\n",
      "[[7]]\n",
      "[1] \"f\"\n",
      "\n"
     ]
    }
   ],
   "source": [
    "print(var_list3)"
   ]
  },
  {
   "cell_type": "markdown",
   "id": "5afad0d7-47bd-4db7-9b5b-1c4ae923b63f",
   "metadata": {},
   "source": [
    "- __Length__: __length()__ returns the size of the list"
   ]
  },
  {
   "cell_type": "code",
   "execution_count": 60,
   "id": "76cdf9a8-9a31-45ed-9307-b508ec57fa6c",
   "metadata": {
    "tags": []
   },
   "outputs": [
    {
     "data": {
      "text/html": [
       "7"
      ],
      "text/latex": [
       "7"
      ],
      "text/markdown": [
       "7"
      ],
      "text/plain": [
       "[1] 7"
      ]
     },
     "metadata": {},
     "output_type": "display_data"
    }
   ],
   "source": [
    "length(var_list3)"
   ]
  },
  {
   "cell_type": "code",
   "execution_count": null,
   "id": "ca95cb76-9156-4e86-bf46-9512a3b70ec1",
   "metadata": {},
   "outputs": [],
   "source": []
  }
 ],
 "metadata": {
  "kernelspec": {
   "display_name": "R",
   "language": "R",
   "name": "ir"
  },
  "language_info": {
   "codemirror_mode": "r",
   "file_extension": ".r",
   "mimetype": "text/x-r-source",
   "name": "R",
   "pygments_lexer": "r",
   "version": "4.3.1"
  }
 },
 "nbformat": 4,
 "nbformat_minor": 5
}
