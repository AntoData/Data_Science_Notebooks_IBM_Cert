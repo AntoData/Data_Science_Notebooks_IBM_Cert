{
 "cells": [
  {
   "cell_type": "markdown",
   "id": "0fa8cb82-794b-4e4f-9e9e-55938b7beff0",
   "metadata": {},
   "source": [
    "# Practice Exercise"
   ]
  },
  {
   "cell_type": "markdown",
   "id": "830d00e4-359e-4aea-b945-4df2297ee0f2",
   "metadata": {
    "tags": []
   },
   "source": [
    "__<font color='red'>NOTE</font>__: This is just an exercise to practise data structures in Python. It is not a real problem. We will apply the previously defined __data science methodology__ to tackle the proposed problem. But both solution and problem are just a excuse to use basics and data structures of Python"
   ]
  },
  {
   "cell_type": "markdown",
   "id": "10e5d891-10f4-4fba-bece-591a5c66d045",
   "metadata": {},
   "source": [
    "### 1. Business Understanding"
   ]
  },
  {
   "cell_type": "markdown",
   "id": "e23abfbf-8124-4489-9bfc-822520f1a6df",
   "metadata": {},
   "source": [
    "As a university, we need to compare texts to identify keywords and topics. Especially in the case of ancient texts, we need a tool that analyses different texts and compares them to get statistics about topics of the texts, genders..."
   ]
  },
  {
   "cell_type": "markdown",
   "id": "7bdaff53-8df5-4874-b9a4-3e2f9bc6ef59",
   "metadata": {},
   "source": [
    "### 2. Analytical Approach"
   ]
  },
  {
   "cell_type": "markdown",
   "id": "5a226b74-3a09-49b1-af11-2303804f3ac8",
   "metadata": {},
   "source": [
    "We can build a tool where we analyse texts and provide statistics that can be saved for studies. Those statistics can be used to make changes in the texts, books, ... that are taught and identify possible biases"
   ]
  },
  {
   "cell_type": "markdown",
   "id": "ba441e50-59e5-4a9a-b7be-01ea33767de2",
   "metadata": {},
   "source": [
    "### 3. Data requirements"
   ]
  },
  {
   "cell_type": "markdown",
   "id": "2b919c56-8b1d-442d-9269-db601409f47b",
   "metadata": {},
   "source": [
    "We need a collection of public domain texts to test the application and start the statistics.\n",
    "We need pdfs of these texts to analyse them and get statistics\n",
    "We need to install the package: __pdfquery__"
   ]
  },
  {
   "cell_type": "code",
   "execution_count": 1,
   "id": "10aa455c-18a1-46a9-b4f0-1f9cd0a2be82",
   "metadata": {
    "tags": []
   },
   "outputs": [
    {
     "name": "stdout",
     "output_type": "stream",
     "text": [
      "Requirement already satisfied: pdfquery in c:\\users\\ingov\\anaconda3\\envs\\py3114\\lib\\site-packages (0.4.3)\n",
      "Requirement already satisfied: cssselect>=0.7.1 in c:\\users\\ingov\\anaconda3\\envs\\py3114\\lib\\site-packages (from pdfquery) (1.2.0)\n",
      "Requirement already satisfied: chardet in c:\\users\\ingov\\anaconda3\\envs\\py3114\\lib\\site-packages (from pdfquery) (4.0.0)\n",
      "Requirement already satisfied: lxml>=3.0 in c:\\users\\ingov\\anaconda3\\envs\\py3114\\lib\\site-packages (from pdfquery) (4.9.2)\n",
      "Requirement already satisfied: pdfminer.six in c:\\users\\ingov\\anaconda3\\envs\\py3114\\lib\\site-packages (from pdfquery) (20221105)\n",
      "Requirement already satisfied: pyquery>=1.2.2 in c:\\users\\ingov\\anaconda3\\envs\\py3114\\lib\\site-packages (from pdfquery) (2.0.0)\n",
      "Requirement already satisfied: roman>=1.4.0 in c:\\users\\ingov\\anaconda3\\envs\\py3114\\lib\\site-packages (from pdfquery) (4.1)\n",
      "Requirement already satisfied: charset-normalizer>=2.0.0 in c:\\users\\ingov\\anaconda3\\envs\\py3114\\lib\\site-packages (from pdfminer.six->pdfquery) (2.0.4)\n",
      "Requirement already satisfied: cryptography>=36.0.0 in c:\\users\\ingov\\anaconda3\\envs\\py3114\\lib\\site-packages (from pdfminer.six->pdfquery) (41.0.2)\n",
      "Requirement already satisfied: cffi>=1.12 in c:\\users\\ingov\\anaconda3\\envs\\py3114\\lib\\site-packages (from cryptography>=36.0.0->pdfminer.six->pdfquery) (1.15.1)\n",
      "Requirement already satisfied: pycparser in c:\\users\\ingov\\anaconda3\\envs\\py3114\\lib\\site-packages (from cffi>=1.12->cryptography>=36.0.0->pdfminer.six->pdfquery) (2.21)\n",
      "Note: you may need to restart the kernel to use updated packages.\n"
     ]
    }
   ],
   "source": [
    "pip install pdfquery"
   ]
  },
  {
   "cell_type": "markdown",
   "id": "45a005df-688f-491c-bb08-d896920f129e",
   "metadata": {},
   "source": [
    "### 4. Data collection"
   ]
  },
  {
   "cell_type": "markdown",
   "id": "22459a0a-1641-42a3-8f78-93560331e49f",
   "metadata": {},
   "source": [
    "We can get those public domain texts and books from the library of the university.\n",
    "<font color='red'>For learning purposes </font> we will pretend that the url of the library of university is [wikisource](https://en.wikisource.org/wiki/Main_Page)"
   ]
  },
  {
   "cell_type": "markdown",
   "id": "7cc0efa9-fb0a-4b4b-8170-c8ac13e02e49",
   "metadata": {},
   "source": [
    "Those pdf files are located in the folder _books_"
   ]
  },
  {
   "cell_type": "markdown",
   "id": "65f0b8ba-6c68-4522-acee-345d94cf3afc",
   "metadata": {},
   "source": [
    "### 5. Data Understanding"
   ]
  },
  {
   "cell_type": "markdown",
   "id": "58444ce0-d09f-461b-85e2-4b8a446233e8",
   "metadata": {},
   "source": [
    "The pdf files contain texts from which we can extract information about the topics using most common words. We can extract the following information:\n",
    "- We can extract all the words contained in each text fragment\n",
    "- We would have to remove common words like \"of\", \"the\"...\n",
    "- We can get the frequency of each word in the text\n",
    "- We can compare two texts getting the words that are contained in both\n",
    "- Later, we can compare the frequency of the words in the two texts\n",
    "- We can get a set of all words contained in all our texts and count the number of different words (to check how rich vocabulary is)"
   ]
  },
  {
   "cell_type": "markdown",
   "id": "34af25a2-a645-4667-a506-50ec61505863",
   "metadata": {},
   "source": [
    "### 6. Data Preparation"
   ]
  },
  {
   "cell_type": "markdown",
   "id": "c0d3b90b-b7ad-4b6f-a8d1-57970f651528",
   "metadata": {},
   "source": [
    "We need to get the text from the pdf file to string"
   ]
  },
  {
   "cell_type": "code",
   "execution_count": null,
   "id": "422a52a1-18cb-4d5f-8ed0-65a87e7cd70b",
   "metadata": {
    "tags": []
   },
   "outputs": [],
   "source": [
    "from pdfquery import PDFQuery\n",
    "\n",
    "pdf = PDFQuery('./books/An_Account_of_the_Battle_of_Megiddo.pdf')\n",
    "pdf.load()\n",
    "\n",
    "# Use CSS-like selectors to locate the elements\n",
    "text_elements = pdf.pq('LTTextLineHorizontal')\n",
    "\n",
    "# Extract the text from the elements\n",
    "text = [t.text for t in text_elements]\n",
    "\n",
    "print(text)"
   ]
  },
  {
   "cell_type": "markdown",
   "id": "60f15af0-2768-4026-83c4-92275461d0f8",
   "metadata": {},
   "source": [
    "As you can see, _we have to extract the text page by page_ so we have to define a __function to join all the\n",
    "pages to the same string variable__"
   ]
  },
  {
   "cell_type": "code",
   "execution_count": null,
   "id": "7235a63b-5463-4a2a-b122-ef114396cb57",
   "metadata": {
    "tags": []
   },
   "outputs": [],
   "source": [
    "def join_pages_text_in_file(filepath: str) -> str:\n",
    "    \"\"\"\n",
    "    Returns a string variable that contains all the text contained in\n",
    "    the pdf file in the path\n",
    "\n",
    "    :param filepath: Path to the pdf file whose text we want to turn\n",
    "    into a string\n",
    "    :type filepath: str\n",
    "    :return: Text in the file in string format\n",
    "    :rtype: str\n",
    "    \"\"\"\n",
    "\n",
    "    pdf_file = PDFQuery(filepath)\n",
    "    pdf_file.load()\n",
    "\n",
    "    # Use CSS-like selectors to locate the elements\n",
    "    text_elements = pdf_file.pq('LTTextLineHorizontal')\n",
    "    # Extract the text from the elements\n",
    "    file_text: str = \"\"\n",
    "    for t in text_elements:\n",
    "        file_text += t.text\n",
    "    return file_text"
   ]
  },
  {
   "cell_type": "code",
   "execution_count": null,
   "id": "bc63d200-c38a-4bea-96b6-08b26bbe9c93",
   "metadata": {
    "tags": []
   },
   "outputs": [],
   "source": [
    "print(join_pages_text_in_file(\"./books/An_Account_of_the_Battle_of_Megiddo.pdf\"))"
   ]
  },
  {
   "cell_type": "markdown",
   "id": "b08c82e2-0299-4103-9912-f326f7447b7e",
   "metadata": {},
   "source": [
    "The strategy will be __splitting our text by \" \"__ as words are separated by spaces, that will transform our data _from text to a set where each word is an element_"
   ]
  },
  {
   "cell_type": "markdown",
   "id": "4d375d40-2678-41b6-85a2-fd6c9e8a74f4",
   "metadata": {},
   "source": [
    "In order to use that strategy successfully, we need to __clean our data__ from other possible simbols or special characters that could change the result (for instance \".\" can be appended to a word making it a new register later"
   ]
  },
  {
   "cell_type": "code",
   "execution_count": null,
   "id": "b9f5457a-c263-4fda-8a1b-8036ebed4134",
   "metadata": {
    "tags": []
   },
   "outputs": [],
   "source": [
    "def remove_spaces_returns(text_to_clean: str) -> str:\n",
    "    \"\"\"\n",
    "    Removes every possible character that might cause the same word\n",
    "    to be considered two different words (special characters,\n",
    "    commas, periods, numbers attached to a word, parenthesis...)\n",
    "\n",
    "    :param text_to_clean: Text we want to clean to be explored later\n",
    "    :type text_to_clean: str\n",
    "    :return: Text without special characters, commas, periods, ...\n",
    "    :rtype: str\n",
    "    \"\"\"\n",
    "\n",
    "    upper_text: str = text_to_clean.upper()\n",
    "    clean_text: str = upper_text.replace(\"\\n\", \" \")\n",
    "    clean_text = clean_text.replace(\"\\\\n\", \" \")\n",
    "    clean_text = clean_text.replace(\".\", \"\")\n",
    "    clean_text = clean_text.replace(\"\\\"\", \"\")\n",
    "    clean_text = clean_text.replace(\"'\", \"\")\n",
    "    clean_text = clean_text.replace(\",\", \"\")\n",
    "    clean_text = clean_text.replace(\":\", \"\")\n",
    "    clean_text = clean_text.replace(\";\", \"\")\n",
    "    clean_text = clean_text.replace(\"\\\\[[0-9]*\\\\]\", \"\")\n",
    "    clean_text = clean_text.replace(\"(\", \"\")\n",
    "    clean_text = clean_text.replace(\")\", \"\")\n",
    "    clean_text = clean_text.replace(\"'S\", \"\")\n",
    "    clean_text = clean_text.replace(\"-\", \"\")\n",
    "    clean_text = clean_text.replace(\"—\", \"\")\n",
    "    return clean_text"
   ]
  },
  {
   "cell_type": "code",
   "execution_count": null,
   "id": "83252e50-8d4c-48a0-8152-fbecfed9c4c6",
   "metadata": {
    "tags": []
   },
   "outputs": [],
   "source": [
    "text = join_pages_text_in_file(\"./books/An_Account_of_the_Battle_of_Megiddo.pdf\")\n",
    "print(remove_spaces_returns(text))"
   ]
  },
  {
   "cell_type": "markdown",
   "id": "b04e6611-dd3f-4534-b922-ec33c392d49b",
   "metadata": {
    "tags": []
   },
   "source": [
    "So now we have to go __from a filepath to a vector that contains in its elements all the words__ contained within the text. We have to:\n",
    "1. Open the file and join all paragraphs -> __join_pages_text_in_file__\n",
    "2. Clean the text of special characters and symbol, so it can be split by empty spaces to get the words <- __remove_spaces_returns__\n",
    "3. Get the words in the paragraph <- _Function that will be described below_ (will contain the other two steps too)"
   ]
  },
  {
   "cell_type": "code",
   "execution_count": null,
   "id": "ffadfec3-8cf1-4f30-8ecc-ca869b9223c5",
   "metadata": {},
   "outputs": [],
   "source": [
    "def get_words_in_text(filepath: str) -> [str]:\n",
    "    \"\"\"\n",
    "    Returns all the words in the text contained in the pdf file\n",
    "    in the form of a list\n",
    "\n",
    "    :param filepath: Path to the pdf file\n",
    "    :type filepath: str\n",
    "    :return: A list that contains all the words in the text\n",
    "    :rtype: str\n",
    "    \"\"\"\n",
    "\n",
    "    text: str = join_pages_text_in_file(filepath)\n",
    "    cleaned_text: str = remove_spaces_returns(text)\n",
    "    words_in_text: [str] = cleaned_text.split(\" \")\n",
    "    return words_in_text"
   ]
  },
  {
   "cell_type": "code",
   "execution_count": null,
   "id": "8be1a795-bf51-4247-8202-692858b0a4be",
   "metadata": {
    "tags": []
   },
   "outputs": [],
   "source": [
    "print(get_words_in_text(\"./books/An_Account_of_the_Battle_of_Megiddo.pdf\"))"
   ]
  },
  {
   "cell_type": "markdown",
   "id": "24cdf919-abc4-4145-bea9-d24bba6203a2",
   "metadata": {},
   "source": [
    "Finally, as words can be repeated, it would be useful to get a set with each word just once (not repeated)"
   ]
  },
  {
   "cell_type": "code",
   "execution_count": null,
   "id": "539fbda4-3d4f-4edd-8e04-ad4fa3560a04",
   "metadata": {
    "tags": []
   },
   "outputs": [],
   "source": [
    "def get_unique_words_in_pdf(filepath: str) -> {str}:\n",
    "    \"\"\"\n",
    "    Returns a set that only contains the words contained in the text\n",
    "    in the pdf file once (as elements in sets can only appear once)\n",
    "\n",
    "    :param filepath:\n",
    "    :return: A set that contains all the words that appear in the text\n",
    "    in the pdf file\n",
    "    :rtype: {str}\n",
    "    \"\"\"\n",
    "\n",
    "    words_in_text: [str] = get_words_in_text(filepath)\n",
    "    unique_words: {str} = set(words_in_text)\n",
    "    # We have to remove the element \"\" (empty string) in case it\n",
    "    # was added\n",
    "    try:\n",
    "        unique_words.remove(\"\")\n",
    "    except KeyError:\n",
    "        # If it was not part of the set, we move on\n",
    "        pass\n",
    "    return unique_words"
   ]
  },
  {
   "cell_type": "code",
   "execution_count": null,
   "id": "8c9bf501-b034-430b-8a82-2037c6867ac3",
   "metadata": {
    "tags": []
   },
   "outputs": [],
   "source": [
    "get_unique_words_in_pdf(\"./books/An_Account_of_the_Battle_of_Megiddo.pdf\")"
   ]
  },
  {
   "cell_type": "markdown",
   "id": "0d379afa-493a-4707-8422-634b9a4fd4e4",
   "metadata": {},
   "source": [
    "##### Now, we define several functions to get statistics on our texts"
   ]
  },
  {
   "cell_type": "markdown",
   "id": "3bd4adcf-7796-424d-bced-de3936006bb8",
   "metadata": {},
   "source": [
    "1. We define a function that returns the __frequency__ of each word in text"
   ]
  },
  {
   "cell_type": "code",
   "execution_count": null,
   "id": "c1b7619b-949e-4697-8af9-6afcaea180b0",
   "metadata": {
    "tags": []
   },
   "outputs": [],
   "source": [
    "import re\n",
    "def get_frequency_words_in_text(filepath: str) -> {str: int}:\n",
    "    \"\"\"\n",
    "    Returns a dictionary where the key is the word and the value\n",
    "    the amount of times that word appears in the text\n",
    "\n",
    "    :param filepath: Path to the pdf file with the text\n",
    "    :type filepath: str\n",
    "    :return: A dictionary with word: number of appearances\n",
    "    :rtype: {str: int}\n",
    "    \"\"\"\n",
    "\n",
    "    # We first get a set with the words in the text (so words only\n",
    "    # appear once)\n",
    "    unique_words: {str} = get_unique_words_in_pdf(filepath)\n",
    "\n",
    "    # Now we get the full text from the file and we clean it\n",
    "    full_text: str = join_pages_text_in_file(filepath)\n",
    "    cleaned_text: str = remove_spaces_returns(full_text)\n",
    "\n",
    "    # We create an empty dictionary that will contain the frequencies\n",
    "    frequencies: dict = {}\n",
    "    # We go through every word in the set (in the text)\n",
    "    for unique_word in unique_words:\n",
    "        # And search how many times it appears in the text\n",
    "        frequency: int = len([i.start() for i in re.finditer(unique_word,\n",
    "                                                             cleaned_text)])\n",
    "        if frequency > 0:\n",
    "            # And add it to the dictionary\n",
    "            frequencies[unique_word] = frequency\n",
    "\n",
    "    # We sort the dictionary by value (most frequent words first)\n",
    "    # and we return it\n",
    "    sorted_frequencies: [tuple] = sorted(frequencies.items(),\n",
    "                                         key=lambda item: item[1],\n",
    "                                         reverse=True)\n",
    "    sorted_frequencies_dict = {}\n",
    "    for key, value in sorted_frequencies:\n",
    "        sorted_frequencies_dict[key] = value\n",
    "    return sorted_frequencies_dict"
   ]
  },
  {
   "cell_type": "code",
   "execution_count": null,
   "id": "51d6fedc-e456-46ac-8dd4-83faa26727e2",
   "metadata": {
    "tags": []
   },
   "outputs": [],
   "source": [
    "get_frequency_words_in_text(\"./books/An_Account_of_the_Battle_of_Megiddo.pdf\")"
   ]
  },
  {
   "cell_type": "markdown",
   "id": "cfcf38e7-1c9e-4122-8eb1-19d67205d885",
   "metadata": {},
   "source": [
    "2. A function that return a list of words that are __contained in every text in the list__:"
   ]
  },
  {
   "cell_type": "code",
   "execution_count": null,
   "id": "aca42e24-8259-4cb8-b123-45cd6565d0a7",
   "metadata": {
    "tags": []
   },
   "outputs": [],
   "source": [
    "def get_words_in_every_text_list_of_files(list_texts: [str]) -> {str}:\n",
    "    \"\"\"\n",
    "    Returns a set that contains each word that appears in each text\n",
    "    in the list of pdf files\n",
    "    \n",
    "    :param list_texts: List of the path to the pdf file we want to \n",
    "    analyze\n",
    "    :type list_texts: [str]\n",
    "    :return: A set with each word that appears in those texts\n",
    "    :rtype: {str}\n",
    "    \"\"\"\n",
    "    \n",
    "    unique_words_in_files: {str} = set()\n",
    "    for file_text in list_texts:\n",
    "        if type(file_text) == str:\n",
    "            unique_words_text = get_unique_words_in_pdf(file_text)\n",
    "            unique_words_in_files = unique_words_in_files.union(\n",
    "                unique_words_text)\n",
    "\n",
    "    return sorted(unique_words_in_files)"
   ]
  },
  {
   "cell_type": "code",
   "execution_count": null,
   "id": "ab05566c-fa17-4f79-9e38-82aaa340c501",
   "metadata": {
    "tags": []
   },
   "outputs": [],
   "source": [
    "get_words_in_every_text_list_of_files([\"./books/An_Account_of_the_Battle_of_Megiddo.pdf\", \"./books/Le_Morte_d'Arthur_Volume_I_Book_I_Chapter_I.pdf\"])"
   ]
  },
  {
   "cell_type": "markdown",
   "id": "f5f8aecc-e34f-46fc-a944-3dbc4379c6bb",
   "metadata": {},
   "source": [
    "3. Function that will return __words that are in text 1 but not in text 2__"
   ]
  },
  {
   "cell_type": "code",
   "execution_count": null,
   "id": "f867fd05-7fc9-4e7a-b105-8e133ccb5ae5",
   "metadata": {
    "tags": []
   },
   "outputs": [],
   "source": [
    "def words_in_text_a_not_in_text_b(filepath1: str, filepath2: str) -> {str}:\n",
    "    \"\"\"\n",
    "    Returns a set that contains only the words in the first text that\n",
    "    don't appear in the second text\n",
    "    \n",
    "    :param filepath1: Path to the first pdf file\n",
    "    :param filepath2: Path to the second pdf file (the one whose words\n",
    "    we will remove from the final set)    \n",
    "    :return: A set that contains only the words in the first text that\n",
    "    don't appear in the second text\n",
    "    :rtype: {str}\n",
    "    \"\"\"\n",
    "    unique_words_text1: {str} = get_unique_words_in_pdf(filepath1)\n",
    "    unique_words_text2: {str} = get_unique_words_in_pdf(filepath2)\n",
    "\n",
    "    words_in_text1_not_in_text2: {str} = unique_words_text1.difference(\n",
    "        unique_words_text2)\n",
    "    return words_in_text1_not_in_text2"
   ]
  },
  {
   "cell_type": "code",
   "execution_count": null,
   "id": "b39262e5-42c5-4ad5-a68f-f69ed378ddb1",
   "metadata": {
    "tags": []
   },
   "outputs": [],
   "source": [
    "words_in_text_a_not_in_text_b(\"./books/An_Account_of_the_Battle_of_Megiddo.pdf\", \"./books/Le_Morte_d'Arthur_Volume_I_Book_I_Chapter_I.pdf\")"
   ]
  },
  {
   "cell_type": "markdown",
   "id": "c589acc2-3f9b-411a-a685-3ccdffc1ba20",
   "metadata": {},
   "source": [
    "4. A function to find the __frequency of a word in a text__"
   ]
  },
  {
   "cell_type": "code",
   "execution_count": null,
   "id": "0c15b470-f568-4296-a5af-53f8835de2b2",
   "metadata": {
    "tags": []
   },
   "outputs": [],
   "source": [
    "def find_frequency_of_word_in_text(filepath: str, word: str) -> int:\n",
    "    \"\"\"\n",
    "    Return the number of times a word appears in the text in the file\n",
    "    \n",
    "    :param filepath: Path to the pdf file we want to analyze\n",
    "    :type filepath: str\n",
    "    :param word: Word we are searching for\n",
    "    :type word: str\n",
    "    \n",
    "    :return: Number of times the word appears in the text\n",
    "    :rtype: int \n",
    "    \"\"\"\n",
    "    \n",
    "    text_in_file: str = join_pages_text_in_file(filepath)\n",
    "    cleaned_text: str = remove_spaces_returns(text_in_file)\n",
    "    times: int = len([i.start() for i in re.finditer(word, cleaned_text)])\n",
    "    return times"
   ]
  },
  {
   "cell_type": "code",
   "execution_count": null,
   "id": "00046716-6201-4881-960b-6861ed887477",
   "metadata": {
    "tags": []
   },
   "outputs": [],
   "source": [
    "find_frequency_of_word_in_text(\"./books/An_Account_of_the_Battle_of_Megiddo.pdf\", \"I\")"
   ]
  },
  {
   "cell_type": "markdown",
   "id": "2ff856d5-5d16-4c1c-8bb7-9a5d88b8eddd",
   "metadata": {},
   "source": [
    "5. A function to __compare the frequency of words__ between two texts:"
   ]
  },
  {
   "cell_type": "code",
   "execution_count": null,
   "id": "48c4c73b-8430-4c6b-8108-21656e307d54",
   "metadata": {
    "tags": []
   },
   "outputs": [],
   "source": [
    "def compare_frequency_of_common_words(file_path1: str, file_path2: str) -> \\\n",
    "        dict:\n",
    "    \"\"\"\n",
    "    Returns a dictionary whose keys are the words present in both texts\n",
    "    and value is True if the word appears more times in the first text\n",
    "    or False otherwise\n",
    "    \n",
    "    :param file_path1: Path to the first PDF file\n",
    "    :param file_path2: Path to the second PDF file\n",
    "    :return: Dictionary described above\n",
    "    :rtype: dict\n",
    "    \"\"\"\n",
    "\n",
    "    freq_words_text1: {str: int} = get_frequency_words_in_text(file_path1)\n",
    "    freq_words_text2: {str: int} = get_frequency_words_in_text(file_path2)\n",
    "    common_words: {str} = set(freq_words_text1.keys()) & set(\n",
    "        freq_words_text2.keys())\n",
    "    more_freq_in_1: {str: bool} = {}\n",
    "\n",
    "    for word in common_words:\n",
    "        freq_word_1: int = freq_words_text1[word]\n",
    "        freq_word_2: int = freq_words_text2[word]\n",
    "        more_freq_in_1[word] = freq_word_1 > freq_word_2\n",
    "\n",
    "    sorted_words: [tuple] = sorted(more_freq_in_1.items(),\n",
    "                                   key=lambda item: item[0])\n",
    "    sorted_words_dict = {}\n",
    "    for key, value in sorted_words:\n",
    "        sorted_words_dict[key] = value\n",
    "\n",
    "    return sorted_words_dict"
   ]
  },
  {
   "cell_type": "code",
   "execution_count": null,
   "id": "a26b1d1b-3ffe-4528-b126-275a4f5d2611",
   "metadata": {
    "tags": []
   },
   "outputs": [],
   "source": [
    "compare_frequency_of_common_words(\"./books/An_Account_of_the_Battle_of_Megiddo.pdf\", \"./books/Le_Morte_d'Arthur_Volume_I_Book_I_Chapter_I.pdf\")"
   ]
  },
  {
   "cell_type": "markdown",
   "id": "ebd65434-b444-424c-b540-062ce6c9f21e",
   "metadata": {},
   "source": [
    "6. Function to return the words that __appear more frequently than average__:"
   ]
  },
  {
   "cell_type": "code",
   "execution_count": null,
   "id": "cba9bbc9-a5de-4a21-b928-5e49110ec4d1",
   "metadata": {
    "tags": []
   },
   "outputs": [],
   "source": [
    "import statistics\n",
    "\n",
    "\n",
    "def return_words_more_common_than_mean(filepath: str) -> {str}:\n",
    "    \"\"\"\n",
    "    Return a set that contains the words that appear more times than\n",
    "    average in the text contained in the file\n",
    "\n",
    "    :param filepath: Path to the pdf file\n",
    "    :type filepath: str\n",
    "    :return: Set with the words that appear more times than average\n",
    "    :rtype: {str}\n",
    "    \"\"\"\n",
    "\n",
    "    freq_words_text: dict = get_frequency_words_in_text(filepath)\n",
    "    mean_frequency: float = statistics.mean(freq_words_text.values())\n",
    "    print(\n",
    "        \"The average/mean frequency of a word in this text is {0}\".format(\n",
    "            mean_frequency))\n",
    "    result_words: [tuple] = [item for item in sorted(freq_words_text.items(),\n",
    "                                                    key=lambda item: item[0]) \n",
    "                            if item[1] > mean_frequency]\n",
    "    return result_words"
   ]
  },
  {
   "cell_type": "code",
   "execution_count": null,
   "id": "8ca23fef-65f4-4db6-bd89-1b039773a17d",
   "metadata": {
    "tags": []
   },
   "outputs": [],
   "source": [
    "return_words_more_common_than_mean(\"./books/Le_Morte_d'Arthur_Volume_I_Book_I_Chapter_I.pdf\")"
   ]
  },
  {
   "cell_type": "markdown",
   "id": "e3cbd85a-83d1-48b2-9847-ca730921e32c",
   "metadata": {},
   "source": [
    "7. Function that returns the __most frequent and least frequent words in a text__:"
   ]
  },
  {
   "cell_type": "code",
   "execution_count": null,
   "id": "cb1466b4-ccb4-4666-ae8e-a8ffb1628d09",
   "metadata": {
    "tags": []
   },
   "outputs": [],
   "source": [
    "def get_most_and_least_frequent_word_in_text(filepath: str) -> []:\n",
    "    \"\"\"\n",
    "    Returns a list with two dictionaries that contains as key the\n",
    "    frequency of the words in value. First element contains dictionary\n",
    "    with the most frequent words and the second the one with the least\n",
    "    frequent\n",
    "    \n",
    "    :param filepath: Path to the pdf file\n",
    "    :type filepath: str\n",
    "    :return: Returns a list with two dictionaries that contains as key \n",
    "    the\n",
    "    frequency of the words in value\n",
    "    :rtype: []\n",
    "    \"\"\"\n",
    "\n",
    "    freq_words_text: dict = get_frequency_words_in_text(filepath)\n",
    "    lowest_index: int = len(freq_words_text.keys()) - 1\n",
    "    least_frequent_words: [str] = [item[0] for item in freq_words_text.items()\n",
    "                                   if item[1] == freq_words_text[\n",
    "                                       list(freq_words_text.keys())[\n",
    "                                           lowest_index]]]\n",
    "    most_frequent_words: [str] = [item[0] for item in freq_words_text.items()\n",
    "                                  if item[1] == freq_words_text[\n",
    "                                      list(freq_words_text.keys())[0]]]\n",
    "\n",
    "    print(\"Most frequent words appear {0} times and are: {1}\".format(\n",
    "        freq_words_text[list(freq_words_text.keys())[0]], most_frequent_words))\n",
    "    print(\"Lest frequent words appear {0} times and are: {1}\".format(\n",
    "        freq_words_text[list(freq_words_text.keys())[lowest_index]],\n",
    "        least_frequent_words))\n",
    "\n",
    "    return [{freq_words_text[\n",
    "                 list(freq_words_text.keys())[0]]: most_frequent_words}, {\n",
    "                freq_words_text[list(freq_words_text.keys())[\n",
    "                    lowest_index]]: least_frequent_words}]"
   ]
  },
  {
   "cell_type": "code",
   "execution_count": null,
   "id": "a7a576cc-465c-4fae-8464-8ce749cec8a6",
   "metadata": {
    "tags": []
   },
   "outputs": [],
   "source": [
    "get_most_and_least_frequent_word_in_text(\"./books/Le_Morte_d'Arthur_Volume_I_Book_I_Chapter_I.pdf\")"
   ]
  },
  {
   "cell_type": "markdown",
   "id": "614a1b68-651c-48bd-9b42-faf3f26d30b3",
   "metadata": {},
   "source": [
    "### 7. Modelling"
   ]
  },
  {
   "cell_type": "markdown",
   "id": "e00469d5-ec90-4527-8b67-2a794457afe3",
   "metadata": {},
   "source": [
    "We will design an interactive program where we will list the files in the directory __books__ that contains the pdf and then offer the different methods"
   ]
  },
  {
   "cell_type": "code",
   "execution_count": null,
   "id": "6bfca344-6746-4806-8fb0-3976ae3e21be",
   "metadata": {
    "tags": []
   },
   "outputs": [],
   "source": [
    "import os\n",
    "\n",
    "\n",
    "print(\"Welcome to BOOKS DATA:\")\n",
    "print(\"We can perform the following operations: \")\n",
    "print(\"1. Get frequency of the words a the text\")\n",
    "print(\"2. Get every word in the files in our current directory\")\n",
    "print(\"3. Get words in one text but not in another one\")\n",
    "print(\"4. Find how many times a word appears in a text\")\n",
    "print(\"5. Compare the frequency of common words in two files\")\n",
    "print(\"6. Return the words that are more common than average in a certain text\")\n",
    "print(\"7. Get the most and the least frequent word in a text\")\n",
    "function_picked: str = str(input(\"Give me the number of the function you want to perform: \"))"
   ]
  },
  {
   "cell_type": "code",
   "execution_count": null,
   "id": "13e64161-a5b0-4101-9973-2929c027ab45",
   "metadata": {
    "tags": []
   },
   "outputs": [],
   "source": [
    "print(\"Welcome to BOOKS DATA:\")\n",
    "print(\"This are the books we can analyze in our directory:\")"
   ]
  },
  {
   "cell_type": "code",
   "execution_count": null,
   "id": "31b04adf-2b5e-43eb-b5db-eca56d033513",
   "metadata": {
    "tags": []
   },
   "outputs": [],
   "source": [
    "book_files: [str] = os.listdir(os.getcwd() + '/books')\n",
    "for i, file in enumerate(book_files):\n",
    "    print(\"{0}. - {1}\".format(i, file))"
   ]
  },
  {
   "cell_type": "code",
   "execution_count": null,
   "id": "8d165714-7ab2-4c94-8e1b-795a216c820c",
   "metadata": {
    "tags": []
   },
   "outputs": [],
   "source": [
    "file_choice: int = int(input(\"Give me the index of the file you want to explore: \"))"
   ]
  },
  {
   "cell_type": "code",
   "execution_count": null,
   "id": "fd2f9beb-a3d1-4f12-9123-b0aefdc4542b",
   "metadata": {
    "tags": []
   },
   "outputs": [],
   "source": [
    "chosen_file = book_files[file_choice]\n",
    "print(\"The file chosen was {0}\".format(chosen_file))\n",
    "filepath1: str =  os.getcwd() + '/books/' + chosen_file"
   ]
  },
  {
   "cell_type": "code",
   "execution_count": null,
   "id": "6e8b5c65-0a60-4201-a2a1-1aa3301cf217",
   "metadata": {
    "tags": []
   },
   "outputs": [],
   "source": [
    "if function_picked == \"1\":\n",
    "    print(\"Frequency of words in the text\")\n",
    "    print(get_frequency_words_in_text(filepath1))\n",
    "elif function_picked == \"2\":\n",
    "    chosen_files: [str] = [filepath1]\n",
    "    file_choice: int = -2\n",
    "    while file_choice != -1:\n",
    "        file_choice: int = int(input(\"Pick another file, give me the index of the file you want to explore or select -1: \"))\n",
    "        if file_choice == -1:\n",
    "            break\n",
    "        chosen_file: str = book_files[file_choice]\n",
    "        filepath2: str =  os.getcwd() + '/books/' + chosen_file\n",
    "        chosen_files.append(filepath2)\n",
    "    print(\"Let's perform the operation them\")\n",
    "    print(\"The words in every file in the list are:\")\n",
    "    print(get_words_in_every_text_list_of_files(chosen_files))\n",
    "elif function_picked == \"3\":\n",
    "    file_choice: int = int(input(\"Pick another file, give me the index of the file you want to explore: \"))\n",
    "    chosen_file2: str =  book_files[file_choice]\n",
    "    filepath2: str = os.getcwd() + '/books/' + chosen_file2\n",
    "    print(\"The words in first file we selected but not in the second are:\")\n",
    "    print(words_in_text_a_not_in_text_b(filepath1, filepath2))\n",
    "elif function_picked == \"4\":\n",
    "    chosen_word = str(input(\"Give me a word whose frequency we can search for: \"))\n",
    "    print(\"The frequency of that word in the text is: \")\n",
    "    print(find_frequency_of_word_in_text(filepath1, chosen_word))\n",
    "elif function_picked == \"5\":\n",
    "    file_choice: int = int(input(\"Pick another file, give me the index of the file you want to explore: \"))\n",
    "    chosen_file2: str = book_files[file_choice]\n",
    "    filepath2: str = os.getcwd() + '/books/' + chosen_file2\n",
    "    print(\"The words in first file we selected that are more frequent than in the second are:\")\n",
    "    print(compare_frequency_of_common_words(filepath1, filepath2))\n",
    "elif function_picked == \"6\":\n",
    "    print(\"Returning words that appear more than the mean in the text: \")\n",
    "    print(return_words_more_common_than_mean(filepath1))\n",
    "elif function_picked == \"7\":\n",
    "    print(\"Most and least frequent words in the selected text are: \")\n",
    "    print(get_most_and_least_frequent_word_in_text(filepath1))"
   ]
  },
  {
   "cell_type": "code",
   "execution_count": null,
   "id": "2fd5a65f-3a05-4f9a-a669-8d54a9c9a1ef",
   "metadata": {},
   "outputs": [],
   "source": []
  }
 ],
 "metadata": {
  "kernelspec": {
   "display_name": "Python 3 (ipykernel)",
   "language": "python",
   "name": "python3"
  },
  "language_info": {
   "codemirror_mode": {
    "name": "ipython",
    "version": 3
   },
   "file_extension": ".py",
   "mimetype": "text/x-python",
   "name": "python",
   "nbconvert_exporter": "python",
   "pygments_lexer": "ipython3",
   "version": "3.11.4"
  }
 },
 "nbformat": 4,
 "nbformat_minor": 5
}
