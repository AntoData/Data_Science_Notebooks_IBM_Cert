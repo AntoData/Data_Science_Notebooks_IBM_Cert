{
 "cells": [
  {
   "cell_type": "markdown",
   "id": "6738773c-0f67-4089-9fc4-73b79115292e",
   "metadata": {},
   "source": [
    "### Tuples"
   ]
  },
  {
   "cell_type": "markdown",
   "id": "c990b719-aa7f-4e01-902f-abc91888c8ce",
   "metadata": {},
   "source": [
    "Tuples are ordered and immutable data structures\n",
    "- __Ordered__: Elements are accessed in the order they were store. We use an __index__ to access elements that starts with __0__\n",
    "- __Immutable__: Once created it cannot be modified. You can use one tuple to create a new one, but you can't modify a existing one"
   ]
  },
  {
   "cell_type": "code",
   "execution_count": 1,
   "id": "9513132b-a87b-4bbd-a1d0-b23ad2ea5b95",
   "metadata": {
    "tags": []
   },
   "outputs": [],
   "source": [
    "tuple_var = (1, \"a\", 2, \"b\", 3)"
   ]
  },
  {
   "cell_type": "markdown",
   "id": "3b503038-963c-418e-90c6-44ed01d34df3",
   "metadata": {},
   "source": [
    "__Ordered__:"
   ]
  },
  {
   "cell_type": "code",
   "execution_count": 3,
   "id": "819dea10-e282-4f09-8851-20956361b984",
   "metadata": {
    "tags": []
   },
   "outputs": [
    {
     "name": "stdout",
     "output_type": "stream",
     "text": [
      "1\n",
      "3\n"
     ]
    }
   ],
   "source": [
    "print(tuple_var[0])\n",
    "print(tuple_var[-1])"
   ]
  },
  {
   "cell_type": "markdown",
   "id": "e950fc47-a232-462f-b8c4-4d324b01a443",
   "metadata": {},
   "source": [
    "__Immutable__:"
   ]
  },
  {
   "cell_type": "code",
   "execution_count": 6,
   "id": "3f82ce23-1d74-49e0-922e-a734eb1defd2",
   "metadata": {
    "tags": []
   },
   "outputs": [
    {
     "name": "stdout",
     "output_type": "stream",
     "text": [
      "Tuples can't be modified\n"
     ]
    }
   ],
   "source": [
    "try:\n",
    "    tuple_var[0] = 1\n",
    "except TypeError:\n",
    "    print(\"Tuples can't be modified\")"
   ]
  },
  {
   "cell_type": "code",
   "execution_count": 9,
   "id": "d1a9859f-7f36-47f9-b238-f62f31bba29c",
   "metadata": {
    "tags": []
   },
   "outputs": [
    {
     "name": "stdout",
     "output_type": "stream",
     "text": [
      "(1, 'a', 2, 'b', 3, 7)\n"
     ]
    }
   ],
   "source": [
    "tuple_var2 = tuple_var + (7,)\n",
    "print(tuple_var2)"
   ]
  },
  {
   "cell_type": "markdown",
   "id": "beb42648-4fe0-4c41-9cd7-7f49fbee986c",
   "metadata": {},
   "source": [
    "__Slicing__:"
   ]
  },
  {
   "cell_type": "code",
   "execution_count": 10,
   "id": "3ec829df-3356-45df-a2f7-d95b6e632331",
   "metadata": {
    "tags": []
   },
   "outputs": [
    {
     "data": {
      "text/plain": [
       "('a', 2, 'b')"
      ]
     },
     "execution_count": 10,
     "metadata": {},
     "output_type": "execute_result"
    }
   ],
   "source": [
    "tuple_var2[1:4]"
   ]
  },
  {
   "cell_type": "markdown",
   "id": "6107fb8f-a901-451e-9854-98222ce44f82",
   "metadata": {},
   "source": [
    "__Striding__:"
   ]
  },
  {
   "cell_type": "code",
   "execution_count": 11,
   "id": "ba717f65-7d10-4873-ba0b-f6d1867799e8",
   "metadata": {
    "tags": []
   },
   "outputs": [
    {
     "data": {
      "text/plain": [
       "('a', 'b', 7)"
      ]
     },
     "execution_count": 11,
     "metadata": {},
     "output_type": "execute_result"
    }
   ],
   "source": [
    "tuple_var2[1:6:2]"
   ]
  },
  {
   "cell_type": "markdown",
   "id": "084605cb-718c-4086-88e8-01f6f713c131",
   "metadata": {},
   "source": [
    "__Sort__:"
   ]
  },
  {
   "cell_type": "code",
   "execution_count": 13,
   "id": "393f240f-ad7d-427d-9822-25152d7c455b",
   "metadata": {
    "tags": []
   },
   "outputs": [],
   "source": [
    "tuple_var = (2, 4, 1, 3, 0)\n",
    "tuple_var2 = sorted(tuple_var)"
   ]
  },
  {
   "cell_type": "code",
   "execution_count": 15,
   "id": "4e0ad200-db53-4407-a558-da283e532005",
   "metadata": {
    "tags": []
   },
   "outputs": [
    {
     "name": "stdout",
     "output_type": "stream",
     "text": [
      "[0, 1, 2, 3, 4]\n"
     ]
    }
   ],
   "source": [
    "print(tuple_var2)"
   ]
  },
  {
   "cell_type": "markdown",
   "id": "e7b87601-190f-4991-851d-589c80bfcb57",
   "metadata": {},
   "source": [
    "_Note_: Returns a list"
   ]
  },
  {
   "cell_type": "markdown",
   "id": "d586b84d-ec0f-473a-be8e-01ca8b0b3c06",
   "metadata": {},
   "source": [
    "__Index__:"
   ]
  },
  {
   "cell_type": "code",
   "execution_count": 17,
   "id": "97a05b4b-088e-4d25-8427-05a38c28ed1e",
   "metadata": {
    "tags": []
   },
   "outputs": [
    {
     "data": {
      "text/plain": [
       "1"
      ]
     },
     "execution_count": 17,
     "metadata": {},
     "output_type": "execute_result"
    }
   ],
   "source": [
    "tuple_var.index(4)"
   ]
  },
  {
   "cell_type": "markdown",
   "id": "a7b90270-0215-4518-8324-01edf5c5881a",
   "metadata": {},
   "source": [
    "### Lists"
   ]
  },
  {
   "cell_type": "markdown",
   "id": "e7f3305d-bf13-47d5-ad11-663f3733b946",
   "metadata": {},
   "source": [
    "Lists are ordered mutable data structures\n",
    "- __Ordered__: Elements are accessed in the order they were store. We use an __index__ to access elements that starts with __0__\n",
    "- __Mutable__: Lists can be modified"
   ]
  },
  {
   "cell_type": "code",
   "execution_count": 18,
   "id": "e5d910d2-3bfb-4ee0-9806-141ec0d372b7",
   "metadata": {
    "tags": []
   },
   "outputs": [],
   "source": [
    "list_var = [\"a\", 0, \"b\", 2, 3, \"c\"]"
   ]
  },
  {
   "cell_type": "markdown",
   "id": "106b6a28-d24b-4867-80f1-d697c83358f5",
   "metadata": {},
   "source": [
    "__Ordered__:"
   ]
  },
  {
   "cell_type": "code",
   "execution_count": 20,
   "id": "a1acab58-6020-43d1-ade2-6f033c507491",
   "metadata": {
    "tags": []
   },
   "outputs": [
    {
     "name": "stdout",
     "output_type": "stream",
     "text": [
      "a\n",
      "c\n"
     ]
    }
   ],
   "source": [
    "print(list_var[0])\n",
    "print(list_var[-1])"
   ]
  },
  {
   "cell_type": "markdown",
   "id": "0e4c209c-41df-4ba4-82b2-b7317ab0fd34",
   "metadata": {
    "tags": []
   },
   "source": [
    "__Mutable__:"
   ]
  },
  {
   "cell_type": "code",
   "execution_count": 24,
   "id": "41d11083-ab87-4b0a-9d20-c1c953b53605",
   "metadata": {
    "tags": []
   },
   "outputs": [
    {
     "name": "stdout",
     "output_type": "stream",
     "text": [
      "['a', 7, 'b', 2, 3, 'c']\n"
     ]
    }
   ],
   "source": [
    "list_var[1] = 7\n",
    "print(list_var)"
   ]
  },
  {
   "cell_type": "code",
   "execution_count": 25,
   "id": "dfc697e1-73cf-4113-a22c-dc3248e91d4b",
   "metadata": {
    "tags": []
   },
   "outputs": [
    {
     "name": "stdout",
     "output_type": "stream",
     "text": [
      "['a', 7, 'b', 2, 'd', 'c']\n"
     ]
    }
   ],
   "source": [
    "list_var[-2] = \"d\"\n",
    "print(list_var)"
   ]
  },
  {
   "cell_type": "markdown",
   "id": "c232e795-fa5e-433d-a5f3-edb018fd7872",
   "metadata": {},
   "source": [
    "__Slicing__:"
   ]
  },
  {
   "cell_type": "code",
   "execution_count": 26,
   "id": "2e814b18-8fd4-4e83-84e3-03134363656c",
   "metadata": {
    "tags": []
   },
   "outputs": [
    {
     "data": {
      "text/plain": [
       "[7, 'b', 2, 'd']"
      ]
     },
     "execution_count": 26,
     "metadata": {},
     "output_type": "execute_result"
    }
   ],
   "source": [
    "list_var[1:5]"
   ]
  },
  {
   "cell_type": "markdown",
   "id": "80f3b0bb-216e-43b7-a1c6-fdd9c0f024d1",
   "metadata": {},
   "source": [
    "__Striding__:"
   ]
  },
  {
   "cell_type": "code",
   "execution_count": 27,
   "id": "371f2656-2bf7-4c86-a955-d4b23d4e7e1b",
   "metadata": {
    "tags": []
   },
   "outputs": [
    {
     "data": {
      "text/plain": [
       "[7, 2, 'c']"
      ]
     },
     "execution_count": 27,
     "metadata": {},
     "output_type": "execute_result"
    }
   ],
   "source": [
    "list_var[1:6:2]"
   ]
  },
  {
   "cell_type": "markdown",
   "id": "cddb6c65-4806-4eae-bb25-a695cecb1d79",
   "metadata": {},
   "source": [
    "__Adding two lists to create one__"
   ]
  },
  {
   "cell_type": "code",
   "execution_count": 39,
   "id": "4ca6f3c7-b7d7-497b-81dd-6edc7be3839c",
   "metadata": {
    "tags": []
   },
   "outputs": [],
   "source": [
    "list_var0 = [1, \"a\", 2]\n",
    "list_var1 = [\"c\", 4, 5]"
   ]
  },
  {
   "cell_type": "code",
   "execution_count": 40,
   "id": "0c2fee48-dc0c-4b60-a6c4-66e419258f30",
   "metadata": {
    "tags": []
   },
   "outputs": [
    {
     "name": "stdout",
     "output_type": "stream",
     "text": [
      "[1, 'a', 2, 'c', 4, 5]\n"
     ]
    }
   ],
   "source": [
    "list_var2 = list_var0 + list_var1\n",
    "print(list_var2)"
   ]
  },
  {
   "cell_type": "markdown",
   "id": "c41d0501-9632-421a-8629-88dc31385be9",
   "metadata": {},
   "source": [
    "__append__: Adds a new elements to a list"
   ]
  },
  {
   "cell_type": "code",
   "execution_count": 41,
   "id": "e5dee129-f65b-482c-a5da-aa46779cd99d",
   "metadata": {
    "tags": []
   },
   "outputs": [
    {
     "name": "stdout",
     "output_type": "stream",
     "text": [
      "[1, 'a', 2, 'c', 4, 5, 'd']\n"
     ]
    }
   ],
   "source": [
    "list_var2.append(\"d\")\n",
    "print(list_var2)"
   ]
  },
  {
   "cell_type": "code",
   "execution_count": 42,
   "id": "f8d88c95-ab26-41b4-a934-7c322aa0f92d",
   "metadata": {
    "tags": []
   },
   "outputs": [
    {
     "name": "stdout",
     "output_type": "stream",
     "text": [
      "[1, 'a', 2, 'c', 4, 5, 'd', [7, 8, 9]]\n"
     ]
    }
   ],
   "source": [
    "list_var2.append([7,8,9])\n",
    "print(list_var2)"
   ]
  },
  {
   "cell_type": "markdown",
   "id": "1bc26cc7-a76d-4e7b-b7b1-9bcff2dff41d",
   "metadata": {},
   "source": [
    "__extend__: Adds the elements of a new list to the current list, element by element"
   ]
  },
  {
   "cell_type": "code",
   "execution_count": 43,
   "id": "757bfd5c-e9f5-47b2-9551-613a945800dc",
   "metadata": {
    "tags": []
   },
   "outputs": [
    {
     "name": "stdout",
     "output_type": "stream",
     "text": [
      "[1, 'a', 2, 'c', 4, 5]\n"
     ]
    }
   ],
   "source": [
    "list_var0.extend(list_var1)\n",
    "print(list_var0)"
   ]
  },
  {
   "cell_type": "markdown",
   "id": "f31333b3-f67b-49ed-ae4e-a746c87fbf73",
   "metadata": {},
   "source": [
    "__index__: Returns the first ocurrence of an element"
   ]
  },
  {
   "cell_type": "code",
   "execution_count": 44,
   "id": "e0466dfe-a8a7-4b05-bb2c-57d787e13a61",
   "metadata": {
    "tags": []
   },
   "outputs": [
    {
     "data": {
      "text/plain": [
       "3"
      ]
     },
     "execution_count": 44,
     "metadata": {},
     "output_type": "execute_result"
    }
   ],
   "source": [
    "list_var0.index(\"c\")"
   ]
  },
  {
   "cell_type": "markdown",
   "id": "627a7871-e7b7-41d4-b710-620c22139446",
   "metadata": {},
   "source": [
    "__split__: Separates a string into a list by a character (by default blank space)"
   ]
  },
  {
   "cell_type": "code",
   "execution_count": 45,
   "id": "7f553c3d-e3e3-4d53-9436-36af888cccba",
   "metadata": {
    "tags": []
   },
   "outputs": [
    {
     "name": "stdout",
     "output_type": "stream",
     "text": [
      "['before', 'time']\n"
     ]
    }
   ],
   "source": [
    "str_var = \"before time\"\n",
    "print(str_var.split())"
   ]
  },
  {
   "cell_type": "code",
   "execution_count": 47,
   "id": "e0a6f051-5271-47e5-b8ce-05fe5adf89a7",
   "metadata": {
    "tags": []
   },
   "outputs": [
    {
     "name": "stdout",
     "output_type": "stream",
     "text": [
      "['a', 'b', '1', '2', 'v']\n"
     ]
    }
   ],
   "source": [
    "str_var0 = \"a,b,1,2,v\"\n",
    "print(str_var0.split(\",\"))"
   ]
  },
  {
   "cell_type": "code",
   "execution_count": null,
   "id": "a31c7fbe-0757-4bb0-8b0c-357f4e49f7fd",
   "metadata": {},
   "outputs": [],
   "source": []
  }
 ],
 "metadata": {
  "kernelspec": {
   "display_name": "Python 3 (ipykernel)",
   "language": "python",
   "name": "python3"
  },
  "language_info": {
   "codemirror_mode": {
    "name": "ipython",
    "version": 3
   },
   "file_extension": ".py",
   "mimetype": "text/x-python",
   "name": "python",
   "nbconvert_exporter": "python",
   "pygments_lexer": "ipython3",
   "version": "3.11.3"
  }
 },
 "nbformat": 4,
 "nbformat_minor": 5
}
