{
 "cells": [
  {
   "cell_type": "markdown",
   "id": "74481bdf-d92b-45d0-ae49-7c5489352fac",
   "metadata": {},
   "source": [
    "### Sets"
   ]
  },
  {
   "cell_type": "markdown",
   "id": "45565b66-d80a-4209-8704-47c30ac468d4",
   "metadata": {},
   "source": [
    "Sets are a data type of __ordered__ data and can't have repeated values"
   ]
  },
  {
   "cell_type": "markdown",
   "id": "a500a155-f430-4997-9d52-b00ed79052d5",
   "metadata": {},
   "source": [
    "- __Creation__: {}"
   ]
  },
  {
   "cell_type": "code",
   "execution_count": 1,
   "id": "ecb5aef2-3205-43fd-973e-0530d35139ef",
   "metadata": {
    "tags": []
   },
   "outputs": [],
   "source": [
    "set_var = {\"Spain\", \"France\", \"Italy\", \"Greece\", \"Malta\"}"
   ]
  },
  {
   "cell_type": "code",
   "execution_count": 2,
   "id": "294fea94-ba37-4227-81f2-31fa006cf975",
   "metadata": {
    "tags": []
   },
   "outputs": [
    {
     "name": "stdout",
     "output_type": "stream",
     "text": [
      "{'Spain', 'Greece', 'Italy', 'France', 'Malta'}\n"
     ]
    }
   ],
   "source": [
    "print(set_var)"
   ]
  },
  {
   "cell_type": "markdown",
   "id": "91657c94-c168-407f-87d4-cae0e451533c",
   "metadata": {},
   "source": [
    "1. Not repeated elements"
   ]
  },
  {
   "cell_type": "code",
   "execution_count": 3,
   "id": "67b32a7d-64c8-4cae-8503-fa47bfdd1587",
   "metadata": {
    "tags": []
   },
   "outputs": [],
   "source": [
    "set_var1 = {\"Rome\", \"Madrid\", \"Paris\", \"London\", \"Rome\", \"Paris\", \"Dublin\", \"Berlin\"}"
   ]
  },
  {
   "cell_type": "code",
   "execution_count": 4,
   "id": "05910e0f-05ea-49e5-9e07-c1efa77b4142",
   "metadata": {
    "tags": []
   },
   "outputs": [
    {
     "name": "stdout",
     "output_type": "stream",
     "text": [
      "{'Madrid', 'London', 'Rome', 'Dublin', 'Paris', 'Berlin'}\n"
     ]
    }
   ],
   "source": [
    "print(set_var1)"
   ]
  },
  {
   "cell_type": "markdown",
   "id": "3314de35-8605-44f4-a80d-8b993ed06926",
   "metadata": {},
   "source": [
    "- From _list_ to _set_: __set()__"
   ]
  },
  {
   "cell_type": "code",
   "execution_count": 6,
   "id": "1f7c232f-b7c2-4202-a2e3-bd260f041b7c",
   "metadata": {
    "tags": []
   },
   "outputs": [
    {
     "name": "stdout",
     "output_type": "stream",
     "text": [
      "{1, 2, 3, 4, 5, 6, 7}\n"
     ]
    }
   ],
   "source": [
    "list_var = [1, 1, 2, 3, 2, 4, 7, 6, 5]\n",
    "set_var2 = set(list_var)\n",
    "print(set_var2)"
   ]
  },
  {
   "cell_type": "markdown",
   "id": "b5823b3c-8650-473c-9674-2477ba85274f",
   "metadata": {},
   "source": [
    "- __Add__ element: __add()__"
   ]
  },
  {
   "cell_type": "code",
   "execution_count": 8,
   "id": "353050b2-dde7-4104-adb4-c6fd56f20286",
   "metadata": {
    "tags": []
   },
   "outputs": [
    {
     "name": "stdout",
     "output_type": "stream",
     "text": [
      "{1, 2, 3, 4, 5, 6, 7, 8}\n"
     ]
    }
   ],
   "source": [
    "set_var2.add(8)\n",
    "print(set_var2)"
   ]
  },
  {
   "cell_type": "markdown",
   "id": "e09b7619-21fb-4470-ba48-bf8fba266820",
   "metadata": {},
   "source": [
    "- __Remove__ element: __remove()__"
   ]
  },
  {
   "cell_type": "code",
   "execution_count": 9,
   "id": "bcd2b071-95a2-44f9-b010-1fbd42cb15ea",
   "metadata": {
    "tags": []
   },
   "outputs": [
    {
     "name": "stdout",
     "output_type": "stream",
     "text": [
      "{2, 3, 4, 5, 6, 7, 8}\n"
     ]
    }
   ],
   "source": [
    "set_var2.remove(1)\n",
    "print(set_var2)"
   ]
  },
  {
   "cell_type": "markdown",
   "id": "9eb6d876-6395-4e29-99c6-643a057d9e53",
   "metadata": {},
   "source": [
    "- Check if element belongs to set -> __in__"
   ]
  },
  {
   "cell_type": "code",
   "execution_count": 10,
   "id": "98dbc5a7-0f0d-4f9a-bf24-f385de69e49a",
   "metadata": {
    "tags": []
   },
   "outputs": [
    {
     "data": {
      "text/plain": [
       "True"
      ]
     },
     "execution_count": 10,
     "metadata": {},
     "output_type": "execute_result"
    }
   ],
   "source": [
    "4 in set_var2"
   ]
  },
  {
   "cell_type": "code",
   "execution_count": 11,
   "id": "46d29163-ee6e-469d-9184-f8f8f6400ede",
   "metadata": {
    "tags": []
   },
   "outputs": [
    {
     "data": {
      "text/plain": [
       "False"
      ]
     },
     "execution_count": 11,
     "metadata": {},
     "output_type": "execute_result"
    }
   ],
   "source": [
    "1 in set_var2"
   ]
  },
  {
   "cell_type": "markdown",
   "id": "7ee53e4a-3761-4559-bec5-463631db5141",
   "metadata": {},
   "source": [
    "- __Intersection__: __&__"
   ]
  },
  {
   "cell_type": "code",
   "execution_count": 17,
   "id": "40227467-aadf-4242-ba87-bbf4437d4109",
   "metadata": {},
   "outputs": [
    {
     "name": "stdout",
     "output_type": "stream",
     "text": [
      "{'Spirit Of Eden', 'Sour'}\n"
     ]
    }
   ],
   "source": [
    "set_album1 = {\"Sour\", \"Guts\", \"Magic Hour\", \"Spirit Of Eden\", \"Ray Of Light\"}\n",
    "set_album2 = {\"True Blue\", \"Sour\", \"Night Work\", \"A Kiss In The Dreamhouse\", \"Spirit Of Eden\"}\n",
    "set_album3 = set_album1 & set_album2\n",
    "print(set_album3)"
   ]
  },
  {
   "cell_type": "markdown",
   "id": "a508500b-8a8d-48e6-ae39-966a0754c90f",
   "metadata": {},
   "source": [
    "- __Difference__: Elements that are in set 1 but not in set 2 -> __difference__"
   ]
  },
  {
   "cell_type": "code",
   "execution_count": 19,
   "id": "d5add5dd-6199-4270-8b2c-5e1fcc8c63ac",
   "metadata": {
    "tags": []
   },
   "outputs": [
    {
     "data": {
      "text/plain": [
       "{'Guts', 'Magic Hour', 'Ray Of Light'}"
      ]
     },
     "execution_count": 19,
     "metadata": {},
     "output_type": "execute_result"
    }
   ],
   "source": [
    "set_album1.difference(set_album2)"
   ]
  },
  {
   "cell_type": "code",
   "execution_count": 20,
   "id": "56c84a8e-0305-4e70-aa27-f54cd797e445",
   "metadata": {
    "tags": []
   },
   "outputs": [
    {
     "data": {
      "text/plain": [
       "{'A Kiss In The Dreamhouse', 'Night Work', 'True Blue'}"
      ]
     },
     "execution_count": 20,
     "metadata": {},
     "output_type": "execute_result"
    }
   ],
   "source": [
    "set_album2.difference(set_album1)"
   ]
  },
  {
   "cell_type": "markdown",
   "id": "404c981f-594d-45f6-9ecb-5fc9a7c7bbac",
   "metadata": {},
   "source": [
    "- __Union__: New set with all elements in both sets"
   ]
  },
  {
   "cell_type": "code",
   "execution_count": 21,
   "id": "94a5efb1-e63d-4495-bdaf-ce83f0f89436",
   "metadata": {
    "tags": []
   },
   "outputs": [
    {
     "data": {
      "text/plain": [
       "{'A Kiss In The Dreamhouse',\n",
       " 'Guts',\n",
       " 'Magic Hour',\n",
       " 'Night Work',\n",
       " 'Ray Of Light',\n",
       " 'Sour',\n",
       " 'Spirit Of Eden',\n",
       " 'True Blue'}"
      ]
     },
     "execution_count": 21,
     "metadata": {},
     "output_type": "execute_result"
    }
   ],
   "source": [
    "set_album1.union(set_album2)"
   ]
  },
  {
   "cell_type": "markdown",
   "id": "552bf351-019a-47b4-90fe-61f2e9b96caa",
   "metadata": {},
   "source": [
    "- __Superset__: If set 2 is contained in set1 (all elements in set 2 are in set 1)"
   ]
  },
  {
   "cell_type": "code",
   "execution_count": 22,
   "id": "1999ad34-e899-4a3f-97ec-efa98ac39e7e",
   "metadata": {
    "tags": []
   },
   "outputs": [
    {
     "data": {
      "text/plain": [
       "True"
      ]
     },
     "execution_count": 22,
     "metadata": {},
     "output_type": "execute_result"
    }
   ],
   "source": [
    "set_cities1 = {\"Florence\", \"Segovia\", \"Marseille\", \"Glasgow\"}\n",
    "set_cities2 = {\"Segovia\", \"Glasgow\"}\n",
    "set_cities1.issuperset(set_cities2)"
   ]
  },
  {
   "cell_type": "markdown",
   "id": "72bb8541-a1b5-45b0-ac01-0b4b0b9ad1e6",
   "metadata": {},
   "source": [
    "- __Subset__: The opposite, if all elements of set 1 are in set 2"
   ]
  },
  {
   "cell_type": "code",
   "execution_count": 23,
   "id": "4e3250b2-ba0b-4e23-8389-6110a6391d46",
   "metadata": {
    "tags": []
   },
   "outputs": [
    {
     "data": {
      "text/plain": [
       "True"
      ]
     },
     "execution_count": 23,
     "metadata": {},
     "output_type": "execute_result"
    }
   ],
   "source": [
    "set_cities2.issubset(set_cities1)"
   ]
  }
 ],
 "metadata": {
  "kernelspec": {
   "display_name": "Python 3 (ipykernel)",
   "language": "python",
   "name": "python3"
  },
  "language_info": {
   "codemirror_mode": {
    "name": "ipython",
    "version": 3
   },
   "file_extension": ".py",
   "mimetype": "text/x-python",
   "name": "python",
   "nbconvert_exporter": "python",
   "pygments_lexer": "ipython3",
   "version": "3.11.4"
  }
 },
 "nbformat": 4,
 "nbformat_minor": 5
}
